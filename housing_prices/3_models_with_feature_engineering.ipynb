{
 "cells": [
  {
   "cell_type": "markdown",
   "id": "ff223f15-fc12-4328-8557-8774e5bd5748",
   "metadata": {},
   "source": [
    "# Imports"
   ]
  },
  {
   "cell_type": "code",
   "execution_count": 1,
   "id": "aa048369-f5e6-4cc9-9109-8edb4cbea9d2",
   "metadata": {
    "tags": []
   },
   "outputs": [],
   "source": [
    "import pandas as pd\n",
    "import numpy as np\n",
    "\n",
    "pd.set_option('display.max_columns',100)"
   ]
  },
  {
   "cell_type": "code",
   "execution_count": 2,
   "id": "f28adcfc-b8b9-4d79-bbe1-6f1ffaaa8675",
   "metadata": {},
   "outputs": [],
   "source": [
    "from matplotlib import pyplot as plt\n",
    "import seaborn as sns"
   ]
  },
  {
   "cell_type": "code",
   "execution_count": 3,
   "id": "a3819dcf-4236-4ee0-a905-a5f697dd23c2",
   "metadata": {},
   "outputs": [],
   "source": [
    "from sklearn.model_selection import cross_validate, GridSearchCV"
   ]
  },
  {
   "cell_type": "code",
   "execution_count": 4,
   "id": "891f2292-90bd-4f31-971e-1817e94ede8a",
   "metadata": {},
   "outputs": [],
   "source": [
    "import statsmodels.api as sm"
   ]
  },
  {
   "cell_type": "code",
   "execution_count": 5,
   "id": "70b74a0e-6ed9-401a-8322-a1ad728c335f",
   "metadata": {},
   "outputs": [],
   "source": [
    "from sklearn.pipeline import make_pipeline"
   ]
  },
  {
   "cell_type": "code",
   "execution_count": 6,
   "id": "ca06460f-7dad-4fad-94f2-9400fb7f2b38",
   "metadata": {},
   "outputs": [],
   "source": [
    "from sklearn.preprocessing import StandardScaler"
   ]
  },
  {
   "cell_type": "code",
   "execution_count": 7,
   "id": "2274ed19-898d-4b49-9f7b-2fe3649d91ac",
   "metadata": {},
   "outputs": [],
   "source": [
    "df_raw = pd.read_csv('train.csv')"
   ]
  },
  {
   "cell_type": "markdown",
   "id": "adfe9726-a284-4d31-bbe9-5ca935fdd829",
   "metadata": {},
   "source": [
    "Notes:\n",
    "- Year Sold and Built not useful by itself, need to be changed into Age at Sale\n",
    "- Year Sold minus Year Remodel gives time since last remodel\n",
    "- MSSubClass will need some encoding (one-hot)\n",
    "- MSZoning will need encoding\n",
    "- Street can be one hot encoded\n",
    "- Alley will be encoded\n",
    "- LotShape encoded\n",
    "- LandContour encoded\n",
    "- Utilities encode"
   ]
  },
  {
   "cell_type": "markdown",
   "id": "189dd18f-0f67-4ef7-bff4-01f512460e33",
   "metadata": {},
   "source": [
    "## Data Transforms"
   ]
  },
  {
   "cell_type": "code",
   "execution_count": 44,
   "id": "4aedb209-edcf-42de-8c53-42c63be34db1",
   "metadata": {},
   "outputs": [],
   "source": [
    "df = df_raw.copy()"
   ]
  },
  {
   "cell_type": "code",
   "execution_count": 45,
   "id": "a211c72b-7a4d-44a2-9edb-0a640cf95dce",
   "metadata": {},
   "outputs": [],
   "source": [
    "df['AgeHouseAtSale'] = df['YrSold'] - df['YearBuilt']\n",
    "\n",
    "df['YearsLastRemodelAtSale']  = df['YrSold'] - df['YearRemodAdd']\n",
    "\n",
    "df['YearsGarageBuiltAtSale'] = df['YrSold'] - df['GarageYrBlt'] \n",
    "\n",
    "df.drop(columns=['Id'],inplace=True)\n",
    "\n",
    "df['MSSubClass'] = df['MSSubClass'].astype(str)"
   ]
  },
  {
   "cell_type": "code",
   "execution_count": 46,
   "id": "90dd74f8-0e0e-4688-8e82-1e829d056928",
   "metadata": {},
   "outputs": [],
   "source": [
    "for var in df.dtypes[df.dtypes == 'int64'].index:\n",
    "    if df[var].isnull().sum()>0:\n",
    "        df[var+'_isnull'] = df[var].isnull().astype(int)\n",
    "        df[var]=df[var].fillna(df[var].mean())\n",
    "\n",
    "for var in df.dtypes[df.dtypes == 'float64'].index:\n",
    "    if df[var].isnull().sum()>0:\n",
    "        df[var+'_isnull'] = df[var].isnull().astype(int)\n",
    "        df[var]=df[var].fillna(df[var].mean())\n",
    "\n",
    "df_dummies = pd.get_dummies(df,dummy_na=True,drop_first=False)"
   ]
  },
  {
   "cell_type": "code",
   "execution_count": 47,
   "id": "657b366e-c857-4938-8975-f43f41189abe",
   "metadata": {},
   "outputs": [],
   "source": [
    "X = df_dummies.drop(columns='SalePrice')\n",
    "\n",
    "y = np.log(df_dummies['SalePrice'])\n",
    "\n",
    "X['intercept'] = 1"
   ]
  },
  {
   "cell_type": "code",
   "execution_count": 15,
   "id": "b8fb0579-31b0-40e6-9b0a-2b7088862548",
   "metadata": {},
   "outputs": [],
   "source": [
    "standardscaler = StandardScaler()"
   ]
  },
  {
   "cell_type": "code",
   "execution_count": 16,
   "id": "63b6ad08-55dd-42f0-93f8-ec638ab97c2a",
   "metadata": {},
   "outputs": [
    {
     "data": {
      "text/plain": [
       "StandardScaler()"
      ]
     },
     "execution_count": 16,
     "metadata": {},
     "output_type": "execute_result"
    }
   ],
   "source": [
    "standardscaler.fit(X)"
   ]
  },
  {
   "cell_type": "code",
   "execution_count": 49,
   "id": "1f283bcb-44a6-4368-9bc4-99e27df5b1ef",
   "metadata": {},
   "outputs": [],
   "source": [
    "test = standardscaler.transform(X)"
   ]
  },
  {
   "cell_type": "code",
   "execution_count": 50,
   "id": "83f6b8f5-87ac-4818-a105-f8d6c76651a9",
   "metadata": {},
   "outputs": [],
   "source": [
    "test = pd.DataFrame(test,columns=X.columns)"
   ]
  },
  {
   "cell_type": "code",
   "execution_count": 51,
   "id": "562b9686-97ba-4153-8522-fd7d06d2a91e",
   "metadata": {},
   "outputs": [
    {
     "data": {
      "text/html": [
       "<div>\n",
       "<style scoped>\n",
       "    .dataframe tbody tr th:only-of-type {\n",
       "        vertical-align: middle;\n",
       "    }\n",
       "\n",
       "    .dataframe tbody tr th {\n",
       "        vertical-align: top;\n",
       "    }\n",
       "\n",
       "    .dataframe thead th {\n",
       "        text-align: right;\n",
       "    }\n",
       "</style>\n",
       "<table border=\"1\" class=\"dataframe\">\n",
       "  <thead>\n",
       "    <tr style=\"text-align: right;\">\n",
       "      <th></th>\n",
       "      <th>LotFrontage</th>\n",
       "      <th>LotArea</th>\n",
       "      <th>OverallQual</th>\n",
       "      <th>OverallCond</th>\n",
       "      <th>YearBuilt</th>\n",
       "      <th>YearRemodAdd</th>\n",
       "      <th>MasVnrArea</th>\n",
       "      <th>BsmtFinSF1</th>\n",
       "      <th>BsmtFinSF2</th>\n",
       "      <th>BsmtUnfSF</th>\n",
       "      <th>TotalBsmtSF</th>\n",
       "      <th>1stFlrSF</th>\n",
       "      <th>2ndFlrSF</th>\n",
       "      <th>LowQualFinSF</th>\n",
       "      <th>GrLivArea</th>\n",
       "      <th>BsmtFullBath</th>\n",
       "      <th>BsmtHalfBath</th>\n",
       "      <th>FullBath</th>\n",
       "      <th>HalfBath</th>\n",
       "      <th>BedroomAbvGr</th>\n",
       "      <th>KitchenAbvGr</th>\n",
       "      <th>TotRmsAbvGrd</th>\n",
       "      <th>Fireplaces</th>\n",
       "      <th>GarageYrBlt</th>\n",
       "      <th>GarageCars</th>\n",
       "      <th>GarageArea</th>\n",
       "      <th>WoodDeckSF</th>\n",
       "      <th>OpenPorchSF</th>\n",
       "      <th>EnclosedPorch</th>\n",
       "      <th>3SsnPorch</th>\n",
       "      <th>ScreenPorch</th>\n",
       "      <th>PoolArea</th>\n",
       "      <th>MiscVal</th>\n",
       "      <th>MoSold</th>\n",
       "      <th>YrSold</th>\n",
       "      <th>AgeHouseAtSale</th>\n",
       "      <th>YearsLastRemodelAtSale</th>\n",
       "      <th>YearsGarageBuiltAtSale</th>\n",
       "      <th>LotFrontage_isnull</th>\n",
       "      <th>MasVnrArea_isnull</th>\n",
       "      <th>GarageYrBlt_isnull</th>\n",
       "      <th>YearsGarageBuiltAtSale_isnull</th>\n",
       "      <th>MSSubClass_120</th>\n",
       "      <th>MSSubClass_160</th>\n",
       "      <th>MSSubClass_180</th>\n",
       "      <th>MSSubClass_190</th>\n",
       "      <th>MSSubClass_20</th>\n",
       "      <th>MSSubClass_30</th>\n",
       "      <th>MSSubClass_40</th>\n",
       "      <th>MSSubClass_45</th>\n",
       "      <th>...</th>\n",
       "      <th>GarageFinish_Unf</th>\n",
       "      <th>GarageFinish_nan</th>\n",
       "      <th>GarageQual_Ex</th>\n",
       "      <th>GarageQual_Fa</th>\n",
       "      <th>GarageQual_Gd</th>\n",
       "      <th>GarageQual_Po</th>\n",
       "      <th>GarageQual_TA</th>\n",
       "      <th>GarageQual_nan</th>\n",
       "      <th>GarageCond_Ex</th>\n",
       "      <th>GarageCond_Fa</th>\n",
       "      <th>GarageCond_Gd</th>\n",
       "      <th>GarageCond_Po</th>\n",
       "      <th>GarageCond_TA</th>\n",
       "      <th>GarageCond_nan</th>\n",
       "      <th>PavedDrive_N</th>\n",
       "      <th>PavedDrive_P</th>\n",
       "      <th>PavedDrive_Y</th>\n",
       "      <th>PavedDrive_nan</th>\n",
       "      <th>PoolQC_Ex</th>\n",
       "      <th>PoolQC_Fa</th>\n",
       "      <th>PoolQC_Gd</th>\n",
       "      <th>PoolQC_nan</th>\n",
       "      <th>Fence_GdPrv</th>\n",
       "      <th>Fence_GdWo</th>\n",
       "      <th>Fence_MnPrv</th>\n",
       "      <th>Fence_MnWw</th>\n",
       "      <th>Fence_nan</th>\n",
       "      <th>MiscFeature_Gar2</th>\n",
       "      <th>MiscFeature_Othr</th>\n",
       "      <th>MiscFeature_Shed</th>\n",
       "      <th>MiscFeature_TenC</th>\n",
       "      <th>MiscFeature_nan</th>\n",
       "      <th>SaleType_COD</th>\n",
       "      <th>SaleType_CWD</th>\n",
       "      <th>SaleType_Con</th>\n",
       "      <th>SaleType_ConLD</th>\n",
       "      <th>SaleType_ConLI</th>\n",
       "      <th>SaleType_ConLw</th>\n",
       "      <th>SaleType_New</th>\n",
       "      <th>SaleType_Oth</th>\n",
       "      <th>SaleType_WD</th>\n",
       "      <th>SaleType_nan</th>\n",
       "      <th>SaleCondition_Abnorml</th>\n",
       "      <th>SaleCondition_AdjLand</th>\n",
       "      <th>SaleCondition_Alloca</th>\n",
       "      <th>SaleCondition_Family</th>\n",
       "      <th>SaleCondition_Normal</th>\n",
       "      <th>SaleCondition_Partial</th>\n",
       "      <th>SaleCondition_nan</th>\n",
       "      <th>intercept</th>\n",
       "    </tr>\n",
       "  </thead>\n",
       "  <tbody>\n",
       "    <tr>\n",
       "      <th>count</th>\n",
       "      <td>1.460000e+03</td>\n",
       "      <td>1.460000e+03</td>\n",
       "      <td>1.460000e+03</td>\n",
       "      <td>1.460000e+03</td>\n",
       "      <td>1.460000e+03</td>\n",
       "      <td>1.460000e+03</td>\n",
       "      <td>1.460000e+03</td>\n",
       "      <td>1.460000e+03</td>\n",
       "      <td>1.460000e+03</td>\n",
       "      <td>1.460000e+03</td>\n",
       "      <td>1.460000e+03</td>\n",
       "      <td>1.460000e+03</td>\n",
       "      <td>1.460000e+03</td>\n",
       "      <td>1.460000e+03</td>\n",
       "      <td>1.460000e+03</td>\n",
       "      <td>1.460000e+03</td>\n",
       "      <td>1.460000e+03</td>\n",
       "      <td>1.460000e+03</td>\n",
       "      <td>1.460000e+03</td>\n",
       "      <td>1.460000e+03</td>\n",
       "      <td>1.460000e+03</td>\n",
       "      <td>1.460000e+03</td>\n",
       "      <td>1.460000e+03</td>\n",
       "      <td>1.460000e+03</td>\n",
       "      <td>1.460000e+03</td>\n",
       "      <td>1.460000e+03</td>\n",
       "      <td>1.460000e+03</td>\n",
       "      <td>1.460000e+03</td>\n",
       "      <td>1.460000e+03</td>\n",
       "      <td>1.460000e+03</td>\n",
       "      <td>1.460000e+03</td>\n",
       "      <td>1.460000e+03</td>\n",
       "      <td>1.460000e+03</td>\n",
       "      <td>1.460000e+03</td>\n",
       "      <td>1.460000e+03</td>\n",
       "      <td>1.460000e+03</td>\n",
       "      <td>1.460000e+03</td>\n",
       "      <td>1.460000e+03</td>\n",
       "      <td>1.460000e+03</td>\n",
       "      <td>1.460000e+03</td>\n",
       "      <td>1.460000e+03</td>\n",
       "      <td>1.460000e+03</td>\n",
       "      <td>1.460000e+03</td>\n",
       "      <td>1.460000e+03</td>\n",
       "      <td>1.460000e+03</td>\n",
       "      <td>1.460000e+03</td>\n",
       "      <td>1.460000e+03</td>\n",
       "      <td>1.460000e+03</td>\n",
       "      <td>1.460000e+03</td>\n",
       "      <td>1.460000e+03</td>\n",
       "      <td>...</td>\n",
       "      <td>1.460000e+03</td>\n",
       "      <td>1.460000e+03</td>\n",
       "      <td>1.460000e+03</td>\n",
       "      <td>1.460000e+03</td>\n",
       "      <td>1.460000e+03</td>\n",
       "      <td>1.460000e+03</td>\n",
       "      <td>1.460000e+03</td>\n",
       "      <td>1.460000e+03</td>\n",
       "      <td>1.460000e+03</td>\n",
       "      <td>1.460000e+03</td>\n",
       "      <td>1.460000e+03</td>\n",
       "      <td>1.460000e+03</td>\n",
       "      <td>1.460000e+03</td>\n",
       "      <td>1.460000e+03</td>\n",
       "      <td>1.460000e+03</td>\n",
       "      <td>1.460000e+03</td>\n",
       "      <td>1.460000e+03</td>\n",
       "      <td>1460.0</td>\n",
       "      <td>1.460000e+03</td>\n",
       "      <td>1.460000e+03</td>\n",
       "      <td>1.460000e+03</td>\n",
       "      <td>1.460000e+03</td>\n",
       "      <td>1.460000e+03</td>\n",
       "      <td>1.460000e+03</td>\n",
       "      <td>1.460000e+03</td>\n",
       "      <td>1.460000e+03</td>\n",
       "      <td>1.460000e+03</td>\n",
       "      <td>1.460000e+03</td>\n",
       "      <td>1.460000e+03</td>\n",
       "      <td>1.460000e+03</td>\n",
       "      <td>1.460000e+03</td>\n",
       "      <td>1.460000e+03</td>\n",
       "      <td>1.460000e+03</td>\n",
       "      <td>1.460000e+03</td>\n",
       "      <td>1.460000e+03</td>\n",
       "      <td>1.460000e+03</td>\n",
       "      <td>1.460000e+03</td>\n",
       "      <td>1.460000e+03</td>\n",
       "      <td>1.460000e+03</td>\n",
       "      <td>1.460000e+03</td>\n",
       "      <td>1.460000e+03</td>\n",
       "      <td>1460.0</td>\n",
       "      <td>1.460000e+03</td>\n",
       "      <td>1.460000e+03</td>\n",
       "      <td>1.460000e+03</td>\n",
       "      <td>1.460000e+03</td>\n",
       "      <td>1.460000e+03</td>\n",
       "      <td>1.460000e+03</td>\n",
       "      <td>1460.0</td>\n",
       "      <td>1460.0</td>\n",
       "    </tr>\n",
       "    <tr>\n",
       "      <th>mean</th>\n",
       "      <td>3.410514e-16</td>\n",
       "      <td>-4.202783e-17</td>\n",
       "      <td>-7.680310e-17</td>\n",
       "      <td>3.692632e-16</td>\n",
       "      <td>1.032983e-15</td>\n",
       "      <td>4.518912e-15</td>\n",
       "      <td>1.630355e-16</td>\n",
       "      <td>1.505645e-17</td>\n",
       "      <td>1.653168e-16</td>\n",
       "      <td>-7.376139e-17</td>\n",
       "      <td>2.063038e-16</td>\n",
       "      <td>7.686013e-17</td>\n",
       "      <td>-3.269835e-17</td>\n",
       "      <td>1.920268e-16</td>\n",
       "      <td>-1.446332e-16</td>\n",
       "      <td>4.106304e-17</td>\n",
       "      <td>9.999611e-18</td>\n",
       "      <td>2.770995e-16</td>\n",
       "      <td>-3.011290e-17</td>\n",
       "      <td>-1.108892e-16</td>\n",
       "      <td>2.237936e-16</td>\n",
       "      <td>4.387662e-17</td>\n",
       "      <td>2.701036e-16</td>\n",
       "      <td>3.937033e-15</td>\n",
       "      <td>2.585451e-17</td>\n",
       "      <td>-2.022735e-17</td>\n",
       "      <td>2.190029e-16</td>\n",
       "      <td>3.357284e-17</td>\n",
       "      <td>1.379034e-16</td>\n",
       "      <td>-4.005738e-16</td>\n",
       "      <td>1.199193e-16</td>\n",
       "      <td>-7.945889e-16</td>\n",
       "      <td>2.409602e-16</td>\n",
       "      <td>-6.395189e-17</td>\n",
       "      <td>3.566101e-14</td>\n",
       "      <td>6.522560e-17</td>\n",
       "      <td>-1.414394e-17</td>\n",
       "      <td>-1.352039e-16</td>\n",
       "      <td>-6.668942e-17</td>\n",
       "      <td>-5.003608e-17</td>\n",
       "      <td>2.045548e-17</td>\n",
       "      <td>2.045548e-17</td>\n",
       "      <td>2.399907e-16</td>\n",
       "      <td>-2.522335e-16</td>\n",
       "      <td>-1.216683e-17</td>\n",
       "      <td>-6.163259e-17</td>\n",
       "      <td>4.258390e-17</td>\n",
       "      <td>-1.880155e-16</td>\n",
       "      <td>-4.769777e-17</td>\n",
       "      <td>1.258905e-15</td>\n",
       "      <td>...</td>\n",
       "      <td>1.003763e-17</td>\n",
       "      <td>2.045548e-17</td>\n",
       "      <td>5.714702e-16</td>\n",
       "      <td>-3.699856e-16</td>\n",
       "      <td>9.223976e-17</td>\n",
       "      <td>-7.814335e-17</td>\n",
       "      <td>1.152046e-16</td>\n",
       "      <td>2.045548e-17</td>\n",
       "      <td>-2.562638e-17</td>\n",
       "      <td>-1.065358e-16</td>\n",
       "      <td>1.809816e-16</td>\n",
       "      <td>2.898557e-16</td>\n",
       "      <td>-1.964943e-16</td>\n",
       "      <td>2.045548e-17</td>\n",
       "      <td>-1.073723e-16</td>\n",
       "      <td>-1.667236e-16</td>\n",
       "      <td>-1.974068e-16</td>\n",
       "      <td>0.0</td>\n",
       "      <td>9.163142e-17</td>\n",
       "      <td>-2.543627e-16</td>\n",
       "      <td>-7.384219e-16</td>\n",
       "      <td>-1.345955e-15</td>\n",
       "      <td>1.808675e-16</td>\n",
       "      <td>5.486479e-17</td>\n",
       "      <td>1.329986e-16</td>\n",
       "      <td>1.505645e-16</td>\n",
       "      <td>-1.863045e-16</td>\n",
       "      <td>1.427321e-16</td>\n",
       "      <td>-1.375612e-16</td>\n",
       "      <td>5.308159e-16</td>\n",
       "      <td>6.705538e-17</td>\n",
       "      <td>3.954219e-16</td>\n",
       "      <td>-1.968365e-16</td>\n",
       "      <td>-3.634269e-16</td>\n",
       "      <td>1.133036e-17</td>\n",
       "      <td>1.858483e-16</td>\n",
       "      <td>-1.156162e-15</td>\n",
       "      <td>-4.346694e-16</td>\n",
       "      <td>-3.406712e-16</td>\n",
       "      <td>-2.103530e-17</td>\n",
       "      <td>6.522180e-16</td>\n",
       "      <td>0.0</td>\n",
       "      <td>-4.227973e-17</td>\n",
       "      <td>-5.270708e-16</td>\n",
       "      <td>4.404772e-17</td>\n",
       "      <td>-1.320291e-16</td>\n",
       "      <td>-5.969350e-17</td>\n",
       "      <td>2.098778e-17</td>\n",
       "      <td>0.0</td>\n",
       "      <td>0.0</td>\n",
       "    </tr>\n",
       "    <tr>\n",
       "      <th>std</th>\n",
       "      <td>1.000343e+00</td>\n",
       "      <td>1.000343e+00</td>\n",
       "      <td>1.000343e+00</td>\n",
       "      <td>1.000343e+00</td>\n",
       "      <td>1.000343e+00</td>\n",
       "      <td>1.000343e+00</td>\n",
       "      <td>1.000343e+00</td>\n",
       "      <td>1.000343e+00</td>\n",
       "      <td>1.000343e+00</td>\n",
       "      <td>1.000343e+00</td>\n",
       "      <td>1.000343e+00</td>\n",
       "      <td>1.000343e+00</td>\n",
       "      <td>1.000343e+00</td>\n",
       "      <td>1.000343e+00</td>\n",
       "      <td>1.000343e+00</td>\n",
       "      <td>1.000343e+00</td>\n",
       "      <td>1.000343e+00</td>\n",
       "      <td>1.000343e+00</td>\n",
       "      <td>1.000343e+00</td>\n",
       "      <td>1.000343e+00</td>\n",
       "      <td>1.000343e+00</td>\n",
       "      <td>1.000343e+00</td>\n",
       "      <td>1.000343e+00</td>\n",
       "      <td>1.000343e+00</td>\n",
       "      <td>1.000343e+00</td>\n",
       "      <td>1.000343e+00</td>\n",
       "      <td>1.000343e+00</td>\n",
       "      <td>1.000343e+00</td>\n",
       "      <td>1.000343e+00</td>\n",
       "      <td>1.000343e+00</td>\n",
       "      <td>1.000343e+00</td>\n",
       "      <td>1.000343e+00</td>\n",
       "      <td>1.000343e+00</td>\n",
       "      <td>1.000343e+00</td>\n",
       "      <td>1.000343e+00</td>\n",
       "      <td>1.000343e+00</td>\n",
       "      <td>1.000343e+00</td>\n",
       "      <td>1.000343e+00</td>\n",
       "      <td>1.000343e+00</td>\n",
       "      <td>1.000343e+00</td>\n",
       "      <td>1.000343e+00</td>\n",
       "      <td>1.000343e+00</td>\n",
       "      <td>1.000343e+00</td>\n",
       "      <td>1.000343e+00</td>\n",
       "      <td>1.000343e+00</td>\n",
       "      <td>1.000343e+00</td>\n",
       "      <td>1.000343e+00</td>\n",
       "      <td>1.000343e+00</td>\n",
       "      <td>1.000343e+00</td>\n",
       "      <td>1.000343e+00</td>\n",
       "      <td>...</td>\n",
       "      <td>1.000343e+00</td>\n",
       "      <td>1.000343e+00</td>\n",
       "      <td>1.000343e+00</td>\n",
       "      <td>1.000343e+00</td>\n",
       "      <td>1.000343e+00</td>\n",
       "      <td>1.000343e+00</td>\n",
       "      <td>1.000343e+00</td>\n",
       "      <td>1.000343e+00</td>\n",
       "      <td>1.000343e+00</td>\n",
       "      <td>1.000343e+00</td>\n",
       "      <td>1.000343e+00</td>\n",
       "      <td>1.000343e+00</td>\n",
       "      <td>1.000343e+00</td>\n",
       "      <td>1.000343e+00</td>\n",
       "      <td>1.000343e+00</td>\n",
       "      <td>1.000343e+00</td>\n",
       "      <td>1.000343e+00</td>\n",
       "      <td>0.0</td>\n",
       "      <td>1.000343e+00</td>\n",
       "      <td>1.000343e+00</td>\n",
       "      <td>1.000343e+00</td>\n",
       "      <td>1.000343e+00</td>\n",
       "      <td>1.000343e+00</td>\n",
       "      <td>1.000343e+00</td>\n",
       "      <td>1.000343e+00</td>\n",
       "      <td>1.000343e+00</td>\n",
       "      <td>1.000343e+00</td>\n",
       "      <td>1.000343e+00</td>\n",
       "      <td>1.000343e+00</td>\n",
       "      <td>1.000343e+00</td>\n",
       "      <td>1.000343e+00</td>\n",
       "      <td>1.000343e+00</td>\n",
       "      <td>1.000343e+00</td>\n",
       "      <td>1.000343e+00</td>\n",
       "      <td>1.000343e+00</td>\n",
       "      <td>1.000343e+00</td>\n",
       "      <td>1.000343e+00</td>\n",
       "      <td>1.000343e+00</td>\n",
       "      <td>1.000343e+00</td>\n",
       "      <td>1.000343e+00</td>\n",
       "      <td>1.000343e+00</td>\n",
       "      <td>0.0</td>\n",
       "      <td>1.000343e+00</td>\n",
       "      <td>1.000343e+00</td>\n",
       "      <td>1.000343e+00</td>\n",
       "      <td>1.000343e+00</td>\n",
       "      <td>1.000343e+00</td>\n",
       "      <td>1.000343e+00</td>\n",
       "      <td>0.0</td>\n",
       "      <td>0.0</td>\n",
       "    </tr>\n",
       "    <tr>\n",
       "      <th>min</th>\n",
       "      <td>-2.227875e+00</td>\n",
       "      <td>-9.237292e-01</td>\n",
       "      <td>-3.688413e+00</td>\n",
       "      <td>-4.112970e+00</td>\n",
       "      <td>-3.287824e+00</td>\n",
       "      <td>-1.689368e+00</td>\n",
       "      <td>-5.744105e-01</td>\n",
       "      <td>-9.730182e-01</td>\n",
       "      <td>-2.886528e-01</td>\n",
       "      <td>-1.284176e+00</td>\n",
       "      <td>-2.411167e+00</td>\n",
       "      <td>-2.144172e+00</td>\n",
       "      <td>-7.951632e-01</td>\n",
       "      <td>-1.202417e-01</td>\n",
       "      <td>-2.249120e+00</td>\n",
       "      <td>-8.199644e-01</td>\n",
       "      <td>-2.410610e-01</td>\n",
       "      <td>-2.841822e+00</td>\n",
       "      <td>-7.616207e-01</td>\n",
       "      <td>-3.514952e+00</td>\n",
       "      <td>-4.751486e+00</td>\n",
       "      <td>-2.780469e+00</td>\n",
       "      <td>-9.512265e-01</td>\n",
       "      <td>-3.272950e+00</td>\n",
       "      <td>-2.365440e+00</td>\n",
       "      <td>-2.212963e+00</td>\n",
       "      <td>-7.521758e-01</td>\n",
       "      <td>-7.044833e-01</td>\n",
       "      <td>-3.593249e-01</td>\n",
       "      <td>-1.163393e-01</td>\n",
       "      <td>-2.702084e-01</td>\n",
       "      <td>-6.869175e-02</td>\n",
       "      <td>-8.768781e-02</td>\n",
       "      <td>-1.969111e+00</td>\n",
       "      <td>-1.367655e+00</td>\n",
       "      <td>-1.208604e+00</td>\n",
       "      <td>-1.160729e+00</td>\n",
       "      <td>-1.219942e+00</td>\n",
       "      <td>-4.643852e-01</td>\n",
       "      <td>-7.422696e-02</td>\n",
       "      <td>-2.423597e-01</td>\n",
       "      <td>-2.423597e-01</td>\n",
       "      <td>-2.517238e-01</td>\n",
       "      <td>-2.123597e-01</td>\n",
       "      <td>-8.304548e-02</td>\n",
       "      <td>-1.448414e-01</td>\n",
       "      <td>-7.616342e-01</td>\n",
       "      <td>-2.227209e-01</td>\n",
       "      <td>-5.241424e-02</td>\n",
       "      <td>-9.103457e-02</td>\n",
       "      <td>...</td>\n",
       "      <td>-8.411910e-01</td>\n",
       "      <td>-2.423597e-01</td>\n",
       "      <td>-4.537649e-02</td>\n",
       "      <td>-1.843755e-01</td>\n",
       "      <td>-9.839655e-02</td>\n",
       "      <td>-4.537649e-02</td>\n",
       "      <td>-2.966253e+00</td>\n",
       "      <td>-2.423597e-01</td>\n",
       "      <td>-3.703704e-02</td>\n",
       "      <td>-1.567208e-01</td>\n",
       "      <td>-7.875671e-02</td>\n",
       "      <td>-6.940907e-02</td>\n",
       "      <td>-3.145715e+00</td>\n",
       "      <td>-2.423597e-01</td>\n",
       "      <td>-2.563073e-01</td>\n",
       "      <td>-1.448414e-01</td>\n",
       "      <td>-3.341656e+00</td>\n",
       "      <td>0.0</td>\n",
       "      <td>-3.703704e-02</td>\n",
       "      <td>-3.703704e-02</td>\n",
       "      <td>-4.537649e-02</td>\n",
       "      <td>-1.440734e+01</td>\n",
       "      <td>-2.052140e-01</td>\n",
       "      <td>-1.959766e-01</td>\n",
       "      <td>-3.471184e-01</td>\n",
       "      <td>-8.712888e-02</td>\n",
       "      <td>-2.048348e+00</td>\n",
       "      <td>-3.703704e-02</td>\n",
       "      <td>-3.703704e-02</td>\n",
       "      <td>-1.863522e-01</td>\n",
       "      <td>-2.618016e-02</td>\n",
       "      <td>-5.102650e+00</td>\n",
       "      <td>-1.742005e-01</td>\n",
       "      <td>-5.241424e-02</td>\n",
       "      <td>-3.703704e-02</td>\n",
       "      <td>-7.875671e-02</td>\n",
       "      <td>-5.862104e-02</td>\n",
       "      <td>-5.862104e-02</td>\n",
       "      <td>-3.019617e-01</td>\n",
       "      <td>-4.537649e-02</td>\n",
       "      <td>-2.562180e+00</td>\n",
       "      <td>0.0</td>\n",
       "      <td>-2.726158e-01</td>\n",
       "      <td>-5.241424e-02</td>\n",
       "      <td>-9.103457e-02</td>\n",
       "      <td>-1.178511e-01</td>\n",
       "      <td>-2.138345e+00</td>\n",
       "      <td>-3.059950e-01</td>\n",
       "      <td>0.0</td>\n",
       "      <td>0.0</td>\n",
       "    </tr>\n",
       "    <tr>\n",
       "      <th>25%</th>\n",
       "      <td>-4.564744e-01</td>\n",
       "      <td>-2.969908e-01</td>\n",
       "      <td>-7.951515e-01</td>\n",
       "      <td>-5.171998e-01</td>\n",
       "      <td>-5.719226e-01</td>\n",
       "      <td>-8.656586e-01</td>\n",
       "      <td>-5.744105e-01</td>\n",
       "      <td>-9.730182e-01</td>\n",
       "      <td>-2.886528e-01</td>\n",
       "      <td>-7.793259e-01</td>\n",
       "      <td>-5.966855e-01</td>\n",
       "      <td>-7.261556e-01</td>\n",
       "      <td>-7.951632e-01</td>\n",
       "      <td>-1.202417e-01</td>\n",
       "      <td>-7.347485e-01</td>\n",
       "      <td>-8.199644e-01</td>\n",
       "      <td>-2.410610e-01</td>\n",
       "      <td>-1.026041e+00</td>\n",
       "      <td>-7.616207e-01</td>\n",
       "      <td>-1.062465e+00</td>\n",
       "      <td>-2.114536e-01</td>\n",
       "      <td>-9.341298e-01</td>\n",
       "      <td>-9.512265e-01</td>\n",
       "      <td>-6.881478e-01</td>\n",
       "      <td>-1.026858e+00</td>\n",
       "      <td>-6.479160e-01</td>\n",
       "      <td>-7.521758e-01</td>\n",
       "      <td>-7.044833e-01</td>\n",
       "      <td>-3.593249e-01</td>\n",
       "      <td>-1.163393e-01</td>\n",
       "      <td>-2.702084e-01</td>\n",
       "      <td>-6.869175e-02</td>\n",
       "      <td>-8.768781e-02</td>\n",
       "      <td>-4.891101e-01</td>\n",
       "      <td>-6.144386e-01</td>\n",
       "      <td>-9.440523e-01</td>\n",
       "      <td>-9.184057e-01</td>\n",
       "      <td>-9.285484e-01</td>\n",
       "      <td>-4.643852e-01</td>\n",
       "      <td>-7.422696e-02</td>\n",
       "      <td>-2.423597e-01</td>\n",
       "      <td>-2.423597e-01</td>\n",
       "      <td>-2.517238e-01</td>\n",
       "      <td>-2.123597e-01</td>\n",
       "      <td>-8.304548e-02</td>\n",
       "      <td>-1.448414e-01</td>\n",
       "      <td>-7.616342e-01</td>\n",
       "      <td>-2.227209e-01</td>\n",
       "      <td>-5.241424e-02</td>\n",
       "      <td>-9.103457e-02</td>\n",
       "      <td>...</td>\n",
       "      <td>-8.411910e-01</td>\n",
       "      <td>-2.423597e-01</td>\n",
       "      <td>-4.537649e-02</td>\n",
       "      <td>-1.843755e-01</td>\n",
       "      <td>-9.839655e-02</td>\n",
       "      <td>-4.537649e-02</td>\n",
       "      <td>3.371256e-01</td>\n",
       "      <td>-2.423597e-01</td>\n",
       "      <td>-3.703704e-02</td>\n",
       "      <td>-1.567208e-01</td>\n",
       "      <td>-7.875671e-02</td>\n",
       "      <td>-6.940907e-02</td>\n",
       "      <td>3.178928e-01</td>\n",
       "      <td>-2.423597e-01</td>\n",
       "      <td>-2.563073e-01</td>\n",
       "      <td>-1.448414e-01</td>\n",
       "      <td>2.992528e-01</td>\n",
       "      <td>0.0</td>\n",
       "      <td>-3.703704e-02</td>\n",
       "      <td>-3.703704e-02</td>\n",
       "      <td>-4.537649e-02</td>\n",
       "      <td>6.940907e-02</td>\n",
       "      <td>-2.052140e-01</td>\n",
       "      <td>-1.959766e-01</td>\n",
       "      <td>-3.471184e-01</td>\n",
       "      <td>-8.712888e-02</td>\n",
       "      <td>4.881983e-01</td>\n",
       "      <td>-3.703704e-02</td>\n",
       "      <td>-3.703704e-02</td>\n",
       "      <td>-1.863522e-01</td>\n",
       "      <td>-2.618016e-02</td>\n",
       "      <td>1.959766e-01</td>\n",
       "      <td>-1.742005e-01</td>\n",
       "      <td>-5.241424e-02</td>\n",
       "      <td>-3.703704e-02</td>\n",
       "      <td>-7.875671e-02</td>\n",
       "      <td>-5.862104e-02</td>\n",
       "      <td>-5.862104e-02</td>\n",
       "      <td>-3.019617e-01</td>\n",
       "      <td>-4.537649e-02</td>\n",
       "      <td>3.902926e-01</td>\n",
       "      <td>0.0</td>\n",
       "      <td>-2.726158e-01</td>\n",
       "      <td>-5.241424e-02</td>\n",
       "      <td>-9.103457e-02</td>\n",
       "      <td>-1.178511e-01</td>\n",
       "      <td>4.676514e-01</td>\n",
       "      <td>-3.059950e-01</td>\n",
       "      <td>0.0</td>\n",
       "      <td>0.0</td>\n",
       "    </tr>\n",
       "    <tr>\n",
       "      <th>50%</th>\n",
       "      <td>6.454645e-16</td>\n",
       "      <td>-1.040633e-01</td>\n",
       "      <td>-7.183611e-02</td>\n",
       "      <td>-5.171998e-01</td>\n",
       "      <td>5.737148e-02</td>\n",
       "      <td>4.425864e-01</td>\n",
       "      <td>-5.744105e-01</td>\n",
       "      <td>-1.319022e-01</td>\n",
       "      <td>-2.886528e-01</td>\n",
       "      <td>-2.031633e-01</td>\n",
       "      <td>-1.503334e-01</td>\n",
       "      <td>-1.956933e-01</td>\n",
       "      <td>-7.951632e-01</td>\n",
       "      <td>-1.202417e-01</td>\n",
       "      <td>-9.797004e-02</td>\n",
       "      <td>-8.199644e-01</td>\n",
       "      <td>-2.410610e-01</td>\n",
       "      <td>7.897405e-01</td>\n",
       "      <td>-7.616207e-01</td>\n",
       "      <td>1.637791e-01</td>\n",
       "      <td>-2.114536e-01</td>\n",
       "      <td>-3.186833e-01</td>\n",
       "      <td>6.004949e-01</td>\n",
       "      <td>0.000000e+00</td>\n",
       "      <td>3.117246e-01</td>\n",
       "      <td>3.284429e-02</td>\n",
       "      <td>-7.521758e-01</td>\n",
       "      <td>-3.270298e-01</td>\n",
       "      <td>-3.593249e-01</td>\n",
       "      <td>-1.163393e-01</td>\n",
       "      <td>-2.702084e-01</td>\n",
       "      <td>-6.869175e-02</td>\n",
       "      <td>-8.768781e-02</td>\n",
       "      <td>-1.191097e-01</td>\n",
       "      <td>1.387775e-01</td>\n",
       "      <td>-5.118902e-02</td>\n",
       "      <td>-4.337589e-01</td>\n",
       "      <td>-1.478913e-16</td>\n",
       "      <td>-4.643852e-01</td>\n",
       "      <td>-7.422696e-02</td>\n",
       "      <td>-2.423597e-01</td>\n",
       "      <td>-2.423597e-01</td>\n",
       "      <td>-2.517238e-01</td>\n",
       "      <td>-2.123597e-01</td>\n",
       "      <td>-8.304548e-02</td>\n",
       "      <td>-1.448414e-01</td>\n",
       "      <td>-7.616342e-01</td>\n",
       "      <td>-2.227209e-01</td>\n",
       "      <td>-5.241424e-02</td>\n",
       "      <td>-9.103457e-02</td>\n",
       "      <td>...</td>\n",
       "      <td>-8.411910e-01</td>\n",
       "      <td>-2.423597e-01</td>\n",
       "      <td>-4.537649e-02</td>\n",
       "      <td>-1.843755e-01</td>\n",
       "      <td>-9.839655e-02</td>\n",
       "      <td>-4.537649e-02</td>\n",
       "      <td>3.371256e-01</td>\n",
       "      <td>-2.423597e-01</td>\n",
       "      <td>-3.703704e-02</td>\n",
       "      <td>-1.567208e-01</td>\n",
       "      <td>-7.875671e-02</td>\n",
       "      <td>-6.940907e-02</td>\n",
       "      <td>3.178928e-01</td>\n",
       "      <td>-2.423597e-01</td>\n",
       "      <td>-2.563073e-01</td>\n",
       "      <td>-1.448414e-01</td>\n",
       "      <td>2.992528e-01</td>\n",
       "      <td>0.0</td>\n",
       "      <td>-3.703704e-02</td>\n",
       "      <td>-3.703704e-02</td>\n",
       "      <td>-4.537649e-02</td>\n",
       "      <td>6.940907e-02</td>\n",
       "      <td>-2.052140e-01</td>\n",
       "      <td>-1.959766e-01</td>\n",
       "      <td>-3.471184e-01</td>\n",
       "      <td>-8.712888e-02</td>\n",
       "      <td>4.881983e-01</td>\n",
       "      <td>-3.703704e-02</td>\n",
       "      <td>-3.703704e-02</td>\n",
       "      <td>-1.863522e-01</td>\n",
       "      <td>-2.618016e-02</td>\n",
       "      <td>1.959766e-01</td>\n",
       "      <td>-1.742005e-01</td>\n",
       "      <td>-5.241424e-02</td>\n",
       "      <td>-3.703704e-02</td>\n",
       "      <td>-7.875671e-02</td>\n",
       "      <td>-5.862104e-02</td>\n",
       "      <td>-5.862104e-02</td>\n",
       "      <td>-3.019617e-01</td>\n",
       "      <td>-4.537649e-02</td>\n",
       "      <td>3.902926e-01</td>\n",
       "      <td>0.0</td>\n",
       "      <td>-2.726158e-01</td>\n",
       "      <td>-5.241424e-02</td>\n",
       "      <td>-9.103457e-02</td>\n",
       "      <td>-1.178511e-01</td>\n",
       "      <td>4.676514e-01</td>\n",
       "      <td>-3.059950e-01</td>\n",
       "      <td>0.0</td>\n",
       "      <td>0.0</td>\n",
       "    </tr>\n",
       "    <tr>\n",
       "      <th>75%</th>\n",
       "      <td>4.065156e-01</td>\n",
       "      <td>1.087080e-01</td>\n",
       "      <td>6.514792e-01</td>\n",
       "      <td>3.817427e-01</td>\n",
       "      <td>9.516316e-01</td>\n",
       "      <td>9.271216e-01</td>\n",
       "      <td>3.355252e-01</td>\n",
       "      <td>5.891327e-01</td>\n",
       "      <td>-2.886528e-01</td>\n",
       "      <td>5.450557e-01</td>\n",
       "      <td>5.491227e-01</td>\n",
       "      <td>5.915905e-01</td>\n",
       "      <td>8.731117e-01</td>\n",
       "      <td>-1.202417e-01</td>\n",
       "      <td>4.974036e-01</td>\n",
       "      <td>1.107810e+00</td>\n",
       "      <td>-2.410610e-01</td>\n",
       "      <td>7.897405e-01</td>\n",
       "      <td>1.227585e+00</td>\n",
       "      <td>1.637791e-01</td>\n",
       "      <td>-2.114536e-01</td>\n",
       "      <td>2.967633e-01</td>\n",
       "      <td>6.004949e-01</td>\n",
       "      <td>9.377760e-01</td>\n",
       "      <td>3.117246e-01</td>\n",
       "      <td>4.820057e-01</td>\n",
       "      <td>5.886506e-01</td>\n",
       "      <td>3.221901e-01</td>\n",
       "      <td>-3.593249e-01</td>\n",
       "      <td>-1.163393e-01</td>\n",
       "      <td>-2.702084e-01</td>\n",
       "      <td>-6.869175e-02</td>\n",
       "      <td>-8.768781e-02</td>\n",
       "      <td>6.208910e-01</td>\n",
       "      <td>8.919936e-01</td>\n",
       "      <td>5.771222e-01</td>\n",
       "      <td>8.747875e-01</td>\n",
       "      <td>6.949322e-01</td>\n",
       "      <td>-4.643852e-01</td>\n",
       "      <td>-7.422696e-02</td>\n",
       "      <td>-2.423597e-01</td>\n",
       "      <td>-2.423597e-01</td>\n",
       "      <td>-2.517238e-01</td>\n",
       "      <td>-2.123597e-01</td>\n",
       "      <td>-8.304548e-02</td>\n",
       "      <td>-1.448414e-01</td>\n",
       "      <td>1.312966e+00</td>\n",
       "      <td>-2.227209e-01</td>\n",
       "      <td>-5.241424e-02</td>\n",
       "      <td>-9.103457e-02</td>\n",
       "      <td>...</td>\n",
       "      <td>1.188791e+00</td>\n",
       "      <td>-2.423597e-01</td>\n",
       "      <td>-4.537649e-02</td>\n",
       "      <td>-1.843755e-01</td>\n",
       "      <td>-9.839655e-02</td>\n",
       "      <td>-4.537649e-02</td>\n",
       "      <td>3.371256e-01</td>\n",
       "      <td>-2.423597e-01</td>\n",
       "      <td>-3.703704e-02</td>\n",
       "      <td>-1.567208e-01</td>\n",
       "      <td>-7.875671e-02</td>\n",
       "      <td>-6.940907e-02</td>\n",
       "      <td>3.178928e-01</td>\n",
       "      <td>-2.423597e-01</td>\n",
       "      <td>-2.563073e-01</td>\n",
       "      <td>-1.448414e-01</td>\n",
       "      <td>2.992528e-01</td>\n",
       "      <td>0.0</td>\n",
       "      <td>-3.703704e-02</td>\n",
       "      <td>-3.703704e-02</td>\n",
       "      <td>-4.537649e-02</td>\n",
       "      <td>6.940907e-02</td>\n",
       "      <td>-2.052140e-01</td>\n",
       "      <td>-1.959766e-01</td>\n",
       "      <td>-3.471184e-01</td>\n",
       "      <td>-8.712888e-02</td>\n",
       "      <td>4.881983e-01</td>\n",
       "      <td>-3.703704e-02</td>\n",
       "      <td>-3.703704e-02</td>\n",
       "      <td>-1.863522e-01</td>\n",
       "      <td>-2.618016e-02</td>\n",
       "      <td>1.959766e-01</td>\n",
       "      <td>-1.742005e-01</td>\n",
       "      <td>-5.241424e-02</td>\n",
       "      <td>-3.703704e-02</td>\n",
       "      <td>-7.875671e-02</td>\n",
       "      <td>-5.862104e-02</td>\n",
       "      <td>-5.862104e-02</td>\n",
       "      <td>-3.019617e-01</td>\n",
       "      <td>-4.537649e-02</td>\n",
       "      <td>3.902926e-01</td>\n",
       "      <td>0.0</td>\n",
       "      <td>-2.726158e-01</td>\n",
       "      <td>-5.241424e-02</td>\n",
       "      <td>-9.103457e-02</td>\n",
       "      <td>-1.178511e-01</td>\n",
       "      <td>4.676514e-01</td>\n",
       "      <td>-3.059950e-01</td>\n",
       "      <td>0.0</td>\n",
       "      <td>0.0</td>\n",
       "    </tr>\n",
       "    <tr>\n",
       "      <th>max</th>\n",
       "      <td>1.103492e+01</td>\n",
       "      <td>2.051827e+01</td>\n",
       "      <td>2.821425e+00</td>\n",
       "      <td>3.078570e+00</td>\n",
       "      <td>1.282839e+00</td>\n",
       "      <td>1.217843e+00</td>\n",
       "      <td>8.289499e+00</td>\n",
       "      <td>1.140575e+01</td>\n",
       "      <td>8.851638e+00</td>\n",
       "      <td>4.004295e+00</td>\n",
       "      <td>1.152095e+01</td>\n",
       "      <td>9.132681e+00</td>\n",
       "      <td>3.936963e+00</td>\n",
       "      <td>1.164775e+01</td>\n",
       "      <td>7.855574e+00</td>\n",
       "      <td>4.963359e+00</td>\n",
       "      <td>8.138680e+00</td>\n",
       "      <td>2.605522e+00</td>\n",
       "      <td>3.216791e+00</td>\n",
       "      <td>6.294997e+00</td>\n",
       "      <td>8.868612e+00</td>\n",
       "      <td>4.604889e+00</td>\n",
       "      <td>3.703938e+00</td>\n",
       "      <td>1.312989e+00</td>\n",
       "      <td>2.988889e+00</td>\n",
       "      <td>4.421526e+00</td>\n",
       "      <td>6.087635e+00</td>\n",
       "      <td>7.554198e+00</td>\n",
       "      <td>8.675309e+00</td>\n",
       "      <td>1.721723e+01</td>\n",
       "      <td>8.341462e+00</td>\n",
       "      <td>1.830618e+01</td>\n",
       "      <td>3.116527e+01</td>\n",
       "      <td>2.100892e+00</td>\n",
       "      <td>1.645210e+00</td>\n",
       "      <td>3.288781e+00</td>\n",
       "      <td>1.795616e+00</td>\n",
       "      <td>3.234222e+00</td>\n",
       "      <td>2.153385e+00</td>\n",
       "      <td>1.347219e+01</td>\n",
       "      <td>4.126099e+00</td>\n",
       "      <td>4.126099e+00</td>\n",
       "      <td>3.972607e+00</td>\n",
       "      <td>4.708992e+00</td>\n",
       "      <td>1.204159e+01</td>\n",
       "      <td>6.904105e+00</td>\n",
       "      <td>1.312966e+00</td>\n",
       "      <td>4.489924e+00</td>\n",
       "      <td>1.907878e+01</td>\n",
       "      <td>1.098484e+01</td>\n",
       "      <td>...</td>\n",
       "      <td>1.188791e+00</td>\n",
       "      <td>4.126099e+00</td>\n",
       "      <td>2.203785e+01</td>\n",
       "      <td>5.423713e+00</td>\n",
       "      <td>1.016296e+01</td>\n",
       "      <td>2.203785e+01</td>\n",
       "      <td>3.371256e-01</td>\n",
       "      <td>4.126099e+00</td>\n",
       "      <td>2.700000e+01</td>\n",
       "      <td>6.380775e+00</td>\n",
       "      <td>1.269733e+01</td>\n",
       "      <td>1.440734e+01</td>\n",
       "      <td>3.178928e-01</td>\n",
       "      <td>4.126099e+00</td>\n",
       "      <td>3.901567e+00</td>\n",
       "      <td>6.904105e+00</td>\n",
       "      <td>2.992528e-01</td>\n",
       "      <td>0.0</td>\n",
       "      <td>2.700000e+01</td>\n",
       "      <td>2.700000e+01</td>\n",
       "      <td>2.203785e+01</td>\n",
       "      <td>6.940907e-02</td>\n",
       "      <td>4.872962e+00</td>\n",
       "      <td>5.102650e+00</td>\n",
       "      <td>2.880862e+00</td>\n",
       "      <td>1.147725e+01</td>\n",
       "      <td>4.881983e-01</td>\n",
       "      <td>2.700000e+01</td>\n",
       "      <td>2.700000e+01</td>\n",
       "      <td>5.366183e+00</td>\n",
       "      <td>3.819686e+01</td>\n",
       "      <td>1.959766e-01</td>\n",
       "      <td>5.740513e+00</td>\n",
       "      <td>1.907878e+01</td>\n",
       "      <td>2.700000e+01</td>\n",
       "      <td>1.269733e+01</td>\n",
       "      <td>1.705872e+01</td>\n",
       "      <td>1.705872e+01</td>\n",
       "      <td>3.311678e+00</td>\n",
       "      <td>2.203785e+01</td>\n",
       "      <td>3.902926e-01</td>\n",
       "      <td>0.0</td>\n",
       "      <td>3.668167e+00</td>\n",
       "      <td>1.907878e+01</td>\n",
       "      <td>1.098484e+01</td>\n",
       "      <td>8.485281e+00</td>\n",
       "      <td>4.676514e-01</td>\n",
       "      <td>3.268027e+00</td>\n",
       "      <td>0.0</td>\n",
       "      <td>0.0</td>\n",
       "    </tr>\n",
       "  </tbody>\n",
       "</table>\n",
       "<p>8 rows × 354 columns</p>\n",
       "</div>"
      ],
      "text/plain": [
       "        LotFrontage       LotArea   OverallQual   OverallCond     YearBuilt  \\\n",
       "count  1.460000e+03  1.460000e+03  1.460000e+03  1.460000e+03  1.460000e+03   \n",
       "mean   3.410514e-16 -4.202783e-17 -7.680310e-17  3.692632e-16  1.032983e-15   \n",
       "std    1.000343e+00  1.000343e+00  1.000343e+00  1.000343e+00  1.000343e+00   \n",
       "min   -2.227875e+00 -9.237292e-01 -3.688413e+00 -4.112970e+00 -3.287824e+00   \n",
       "25%   -4.564744e-01 -2.969908e-01 -7.951515e-01 -5.171998e-01 -5.719226e-01   \n",
       "50%    6.454645e-16 -1.040633e-01 -7.183611e-02 -5.171998e-01  5.737148e-02   \n",
       "75%    4.065156e-01  1.087080e-01  6.514792e-01  3.817427e-01  9.516316e-01   \n",
       "max    1.103492e+01  2.051827e+01  2.821425e+00  3.078570e+00  1.282839e+00   \n",
       "\n",
       "       YearRemodAdd    MasVnrArea    BsmtFinSF1    BsmtFinSF2     BsmtUnfSF  \\\n",
       "count  1.460000e+03  1.460000e+03  1.460000e+03  1.460000e+03  1.460000e+03   \n",
       "mean   4.518912e-15  1.630355e-16  1.505645e-17  1.653168e-16 -7.376139e-17   \n",
       "std    1.000343e+00  1.000343e+00  1.000343e+00  1.000343e+00  1.000343e+00   \n",
       "min   -1.689368e+00 -5.744105e-01 -9.730182e-01 -2.886528e-01 -1.284176e+00   \n",
       "25%   -8.656586e-01 -5.744105e-01 -9.730182e-01 -2.886528e-01 -7.793259e-01   \n",
       "50%    4.425864e-01 -5.744105e-01 -1.319022e-01 -2.886528e-01 -2.031633e-01   \n",
       "75%    9.271216e-01  3.355252e-01  5.891327e-01 -2.886528e-01  5.450557e-01   \n",
       "max    1.217843e+00  8.289499e+00  1.140575e+01  8.851638e+00  4.004295e+00   \n",
       "\n",
       "        TotalBsmtSF      1stFlrSF      2ndFlrSF  LowQualFinSF     GrLivArea  \\\n",
       "count  1.460000e+03  1.460000e+03  1.460000e+03  1.460000e+03  1.460000e+03   \n",
       "mean   2.063038e-16  7.686013e-17 -3.269835e-17  1.920268e-16 -1.446332e-16   \n",
       "std    1.000343e+00  1.000343e+00  1.000343e+00  1.000343e+00  1.000343e+00   \n",
       "min   -2.411167e+00 -2.144172e+00 -7.951632e-01 -1.202417e-01 -2.249120e+00   \n",
       "25%   -5.966855e-01 -7.261556e-01 -7.951632e-01 -1.202417e-01 -7.347485e-01   \n",
       "50%   -1.503334e-01 -1.956933e-01 -7.951632e-01 -1.202417e-01 -9.797004e-02   \n",
       "75%    5.491227e-01  5.915905e-01  8.731117e-01 -1.202417e-01  4.974036e-01   \n",
       "max    1.152095e+01  9.132681e+00  3.936963e+00  1.164775e+01  7.855574e+00   \n",
       "\n",
       "       BsmtFullBath  BsmtHalfBath      FullBath      HalfBath  BedroomAbvGr  \\\n",
       "count  1.460000e+03  1.460000e+03  1.460000e+03  1.460000e+03  1.460000e+03   \n",
       "mean   4.106304e-17  9.999611e-18  2.770995e-16 -3.011290e-17 -1.108892e-16   \n",
       "std    1.000343e+00  1.000343e+00  1.000343e+00  1.000343e+00  1.000343e+00   \n",
       "min   -8.199644e-01 -2.410610e-01 -2.841822e+00 -7.616207e-01 -3.514952e+00   \n",
       "25%   -8.199644e-01 -2.410610e-01 -1.026041e+00 -7.616207e-01 -1.062465e+00   \n",
       "50%   -8.199644e-01 -2.410610e-01  7.897405e-01 -7.616207e-01  1.637791e-01   \n",
       "75%    1.107810e+00 -2.410610e-01  7.897405e-01  1.227585e+00  1.637791e-01   \n",
       "max    4.963359e+00  8.138680e+00  2.605522e+00  3.216791e+00  6.294997e+00   \n",
       "\n",
       "       KitchenAbvGr  TotRmsAbvGrd    Fireplaces   GarageYrBlt    GarageCars  \\\n",
       "count  1.460000e+03  1.460000e+03  1.460000e+03  1.460000e+03  1.460000e+03   \n",
       "mean   2.237936e-16  4.387662e-17  2.701036e-16  3.937033e-15  2.585451e-17   \n",
       "std    1.000343e+00  1.000343e+00  1.000343e+00  1.000343e+00  1.000343e+00   \n",
       "min   -4.751486e+00 -2.780469e+00 -9.512265e-01 -3.272950e+00 -2.365440e+00   \n",
       "25%   -2.114536e-01 -9.341298e-01 -9.512265e-01 -6.881478e-01 -1.026858e+00   \n",
       "50%   -2.114536e-01 -3.186833e-01  6.004949e-01  0.000000e+00  3.117246e-01   \n",
       "75%   -2.114536e-01  2.967633e-01  6.004949e-01  9.377760e-01  3.117246e-01   \n",
       "max    8.868612e+00  4.604889e+00  3.703938e+00  1.312989e+00  2.988889e+00   \n",
       "\n",
       "         GarageArea    WoodDeckSF   OpenPorchSF  EnclosedPorch     3SsnPorch  \\\n",
       "count  1.460000e+03  1.460000e+03  1.460000e+03   1.460000e+03  1.460000e+03   \n",
       "mean  -2.022735e-17  2.190029e-16  3.357284e-17   1.379034e-16 -4.005738e-16   \n",
       "std    1.000343e+00  1.000343e+00  1.000343e+00   1.000343e+00  1.000343e+00   \n",
       "min   -2.212963e+00 -7.521758e-01 -7.044833e-01  -3.593249e-01 -1.163393e-01   \n",
       "25%   -6.479160e-01 -7.521758e-01 -7.044833e-01  -3.593249e-01 -1.163393e-01   \n",
       "50%    3.284429e-02 -7.521758e-01 -3.270298e-01  -3.593249e-01 -1.163393e-01   \n",
       "75%    4.820057e-01  5.886506e-01  3.221901e-01  -3.593249e-01 -1.163393e-01   \n",
       "max    4.421526e+00  6.087635e+00  7.554198e+00   8.675309e+00  1.721723e+01   \n",
       "\n",
       "        ScreenPorch      PoolArea       MiscVal        MoSold        YrSold  \\\n",
       "count  1.460000e+03  1.460000e+03  1.460000e+03  1.460000e+03  1.460000e+03   \n",
       "mean   1.199193e-16 -7.945889e-16  2.409602e-16 -6.395189e-17  3.566101e-14   \n",
       "std    1.000343e+00  1.000343e+00  1.000343e+00  1.000343e+00  1.000343e+00   \n",
       "min   -2.702084e-01 -6.869175e-02 -8.768781e-02 -1.969111e+00 -1.367655e+00   \n",
       "25%   -2.702084e-01 -6.869175e-02 -8.768781e-02 -4.891101e-01 -6.144386e-01   \n",
       "50%   -2.702084e-01 -6.869175e-02 -8.768781e-02 -1.191097e-01  1.387775e-01   \n",
       "75%   -2.702084e-01 -6.869175e-02 -8.768781e-02  6.208910e-01  8.919936e-01   \n",
       "max    8.341462e+00  1.830618e+01  3.116527e+01  2.100892e+00  1.645210e+00   \n",
       "\n",
       "       AgeHouseAtSale  YearsLastRemodelAtSale  YearsGarageBuiltAtSale  \\\n",
       "count    1.460000e+03            1.460000e+03            1.460000e+03   \n",
       "mean     6.522560e-17           -1.414394e-17           -1.352039e-16   \n",
       "std      1.000343e+00            1.000343e+00            1.000343e+00   \n",
       "min     -1.208604e+00           -1.160729e+00           -1.219942e+00   \n",
       "25%     -9.440523e-01           -9.184057e-01           -9.285484e-01   \n",
       "50%     -5.118902e-02           -4.337589e-01           -1.478913e-16   \n",
       "75%      5.771222e-01            8.747875e-01            6.949322e-01   \n",
       "max      3.288781e+00            1.795616e+00            3.234222e+00   \n",
       "\n",
       "       LotFrontage_isnull  MasVnrArea_isnull  GarageYrBlt_isnull  \\\n",
       "count        1.460000e+03       1.460000e+03        1.460000e+03   \n",
       "mean        -6.668942e-17      -5.003608e-17        2.045548e-17   \n",
       "std          1.000343e+00       1.000343e+00        1.000343e+00   \n",
       "min         -4.643852e-01      -7.422696e-02       -2.423597e-01   \n",
       "25%         -4.643852e-01      -7.422696e-02       -2.423597e-01   \n",
       "50%         -4.643852e-01      -7.422696e-02       -2.423597e-01   \n",
       "75%         -4.643852e-01      -7.422696e-02       -2.423597e-01   \n",
       "max          2.153385e+00       1.347219e+01        4.126099e+00   \n",
       "\n",
       "       YearsGarageBuiltAtSale_isnull  MSSubClass_120  MSSubClass_160  \\\n",
       "count                   1.460000e+03    1.460000e+03    1.460000e+03   \n",
       "mean                    2.045548e-17    2.399907e-16   -2.522335e-16   \n",
       "std                     1.000343e+00    1.000343e+00    1.000343e+00   \n",
       "min                    -2.423597e-01   -2.517238e-01   -2.123597e-01   \n",
       "25%                    -2.423597e-01   -2.517238e-01   -2.123597e-01   \n",
       "50%                    -2.423597e-01   -2.517238e-01   -2.123597e-01   \n",
       "75%                    -2.423597e-01   -2.517238e-01   -2.123597e-01   \n",
       "max                     4.126099e+00    3.972607e+00    4.708992e+00   \n",
       "\n",
       "       MSSubClass_180  MSSubClass_190  MSSubClass_20  MSSubClass_30  \\\n",
       "count    1.460000e+03    1.460000e+03   1.460000e+03   1.460000e+03   \n",
       "mean    -1.216683e-17   -6.163259e-17   4.258390e-17  -1.880155e-16   \n",
       "std      1.000343e+00    1.000343e+00   1.000343e+00   1.000343e+00   \n",
       "min     -8.304548e-02   -1.448414e-01  -7.616342e-01  -2.227209e-01   \n",
       "25%     -8.304548e-02   -1.448414e-01  -7.616342e-01  -2.227209e-01   \n",
       "50%     -8.304548e-02   -1.448414e-01  -7.616342e-01  -2.227209e-01   \n",
       "75%     -8.304548e-02   -1.448414e-01   1.312966e+00  -2.227209e-01   \n",
       "max      1.204159e+01    6.904105e+00   1.312966e+00   4.489924e+00   \n",
       "\n",
       "       MSSubClass_40  MSSubClass_45  ...  GarageFinish_Unf  GarageFinish_nan  \\\n",
       "count   1.460000e+03   1.460000e+03  ...      1.460000e+03      1.460000e+03   \n",
       "mean   -4.769777e-17   1.258905e-15  ...      1.003763e-17      2.045548e-17   \n",
       "std     1.000343e+00   1.000343e+00  ...      1.000343e+00      1.000343e+00   \n",
       "min    -5.241424e-02  -9.103457e-02  ...     -8.411910e-01     -2.423597e-01   \n",
       "25%    -5.241424e-02  -9.103457e-02  ...     -8.411910e-01     -2.423597e-01   \n",
       "50%    -5.241424e-02  -9.103457e-02  ...     -8.411910e-01     -2.423597e-01   \n",
       "75%    -5.241424e-02  -9.103457e-02  ...      1.188791e+00     -2.423597e-01   \n",
       "max     1.907878e+01   1.098484e+01  ...      1.188791e+00      4.126099e+00   \n",
       "\n",
       "       GarageQual_Ex  GarageQual_Fa  GarageQual_Gd  GarageQual_Po  \\\n",
       "count   1.460000e+03   1.460000e+03   1.460000e+03   1.460000e+03   \n",
       "mean    5.714702e-16  -3.699856e-16   9.223976e-17  -7.814335e-17   \n",
       "std     1.000343e+00   1.000343e+00   1.000343e+00   1.000343e+00   \n",
       "min    -4.537649e-02  -1.843755e-01  -9.839655e-02  -4.537649e-02   \n",
       "25%    -4.537649e-02  -1.843755e-01  -9.839655e-02  -4.537649e-02   \n",
       "50%    -4.537649e-02  -1.843755e-01  -9.839655e-02  -4.537649e-02   \n",
       "75%    -4.537649e-02  -1.843755e-01  -9.839655e-02  -4.537649e-02   \n",
       "max     2.203785e+01   5.423713e+00   1.016296e+01   2.203785e+01   \n",
       "\n",
       "       GarageQual_TA  GarageQual_nan  GarageCond_Ex  GarageCond_Fa  \\\n",
       "count   1.460000e+03    1.460000e+03   1.460000e+03   1.460000e+03   \n",
       "mean    1.152046e-16    2.045548e-17  -2.562638e-17  -1.065358e-16   \n",
       "std     1.000343e+00    1.000343e+00   1.000343e+00   1.000343e+00   \n",
       "min    -2.966253e+00   -2.423597e-01  -3.703704e-02  -1.567208e-01   \n",
       "25%     3.371256e-01   -2.423597e-01  -3.703704e-02  -1.567208e-01   \n",
       "50%     3.371256e-01   -2.423597e-01  -3.703704e-02  -1.567208e-01   \n",
       "75%     3.371256e-01   -2.423597e-01  -3.703704e-02  -1.567208e-01   \n",
       "max     3.371256e-01    4.126099e+00   2.700000e+01   6.380775e+00   \n",
       "\n",
       "       GarageCond_Gd  GarageCond_Po  GarageCond_TA  GarageCond_nan  \\\n",
       "count   1.460000e+03   1.460000e+03   1.460000e+03    1.460000e+03   \n",
       "mean    1.809816e-16   2.898557e-16  -1.964943e-16    2.045548e-17   \n",
       "std     1.000343e+00   1.000343e+00   1.000343e+00    1.000343e+00   \n",
       "min    -7.875671e-02  -6.940907e-02  -3.145715e+00   -2.423597e-01   \n",
       "25%    -7.875671e-02  -6.940907e-02   3.178928e-01   -2.423597e-01   \n",
       "50%    -7.875671e-02  -6.940907e-02   3.178928e-01   -2.423597e-01   \n",
       "75%    -7.875671e-02  -6.940907e-02   3.178928e-01   -2.423597e-01   \n",
       "max     1.269733e+01   1.440734e+01   3.178928e-01    4.126099e+00   \n",
       "\n",
       "       PavedDrive_N  PavedDrive_P  PavedDrive_Y  PavedDrive_nan     PoolQC_Ex  \\\n",
       "count  1.460000e+03  1.460000e+03  1.460000e+03          1460.0  1.460000e+03   \n",
       "mean  -1.073723e-16 -1.667236e-16 -1.974068e-16             0.0  9.163142e-17   \n",
       "std    1.000343e+00  1.000343e+00  1.000343e+00             0.0  1.000343e+00   \n",
       "min   -2.563073e-01 -1.448414e-01 -3.341656e+00             0.0 -3.703704e-02   \n",
       "25%   -2.563073e-01 -1.448414e-01  2.992528e-01             0.0 -3.703704e-02   \n",
       "50%   -2.563073e-01 -1.448414e-01  2.992528e-01             0.0 -3.703704e-02   \n",
       "75%   -2.563073e-01 -1.448414e-01  2.992528e-01             0.0 -3.703704e-02   \n",
       "max    3.901567e+00  6.904105e+00  2.992528e-01             0.0  2.700000e+01   \n",
       "\n",
       "          PoolQC_Fa     PoolQC_Gd    PoolQC_nan   Fence_GdPrv    Fence_GdWo  \\\n",
       "count  1.460000e+03  1.460000e+03  1.460000e+03  1.460000e+03  1.460000e+03   \n",
       "mean  -2.543627e-16 -7.384219e-16 -1.345955e-15  1.808675e-16  5.486479e-17   \n",
       "std    1.000343e+00  1.000343e+00  1.000343e+00  1.000343e+00  1.000343e+00   \n",
       "min   -3.703704e-02 -4.537649e-02 -1.440734e+01 -2.052140e-01 -1.959766e-01   \n",
       "25%   -3.703704e-02 -4.537649e-02  6.940907e-02 -2.052140e-01 -1.959766e-01   \n",
       "50%   -3.703704e-02 -4.537649e-02  6.940907e-02 -2.052140e-01 -1.959766e-01   \n",
       "75%   -3.703704e-02 -4.537649e-02  6.940907e-02 -2.052140e-01 -1.959766e-01   \n",
       "max    2.700000e+01  2.203785e+01  6.940907e-02  4.872962e+00  5.102650e+00   \n",
       "\n",
       "        Fence_MnPrv    Fence_MnWw     Fence_nan  MiscFeature_Gar2  \\\n",
       "count  1.460000e+03  1.460000e+03  1.460000e+03      1.460000e+03   \n",
       "mean   1.329986e-16  1.505645e-16 -1.863045e-16      1.427321e-16   \n",
       "std    1.000343e+00  1.000343e+00  1.000343e+00      1.000343e+00   \n",
       "min   -3.471184e-01 -8.712888e-02 -2.048348e+00     -3.703704e-02   \n",
       "25%   -3.471184e-01 -8.712888e-02  4.881983e-01     -3.703704e-02   \n",
       "50%   -3.471184e-01 -8.712888e-02  4.881983e-01     -3.703704e-02   \n",
       "75%   -3.471184e-01 -8.712888e-02  4.881983e-01     -3.703704e-02   \n",
       "max    2.880862e+00  1.147725e+01  4.881983e-01      2.700000e+01   \n",
       "\n",
       "       MiscFeature_Othr  MiscFeature_Shed  MiscFeature_TenC  MiscFeature_nan  \\\n",
       "count      1.460000e+03      1.460000e+03      1.460000e+03     1.460000e+03   \n",
       "mean      -1.375612e-16      5.308159e-16      6.705538e-17     3.954219e-16   \n",
       "std        1.000343e+00      1.000343e+00      1.000343e+00     1.000343e+00   \n",
       "min       -3.703704e-02     -1.863522e-01     -2.618016e-02    -5.102650e+00   \n",
       "25%       -3.703704e-02     -1.863522e-01     -2.618016e-02     1.959766e-01   \n",
       "50%       -3.703704e-02     -1.863522e-01     -2.618016e-02     1.959766e-01   \n",
       "75%       -3.703704e-02     -1.863522e-01     -2.618016e-02     1.959766e-01   \n",
       "max        2.700000e+01      5.366183e+00      3.819686e+01     1.959766e-01   \n",
       "\n",
       "       SaleType_COD  SaleType_CWD  SaleType_Con  SaleType_ConLD  \\\n",
       "count  1.460000e+03  1.460000e+03  1.460000e+03    1.460000e+03   \n",
       "mean  -1.968365e-16 -3.634269e-16  1.133036e-17    1.858483e-16   \n",
       "std    1.000343e+00  1.000343e+00  1.000343e+00    1.000343e+00   \n",
       "min   -1.742005e-01 -5.241424e-02 -3.703704e-02   -7.875671e-02   \n",
       "25%   -1.742005e-01 -5.241424e-02 -3.703704e-02   -7.875671e-02   \n",
       "50%   -1.742005e-01 -5.241424e-02 -3.703704e-02   -7.875671e-02   \n",
       "75%   -1.742005e-01 -5.241424e-02 -3.703704e-02   -7.875671e-02   \n",
       "max    5.740513e+00  1.907878e+01  2.700000e+01    1.269733e+01   \n",
       "\n",
       "       SaleType_ConLI  SaleType_ConLw  SaleType_New  SaleType_Oth  \\\n",
       "count    1.460000e+03    1.460000e+03  1.460000e+03  1.460000e+03   \n",
       "mean    -1.156162e-15   -4.346694e-16 -3.406712e-16 -2.103530e-17   \n",
       "std      1.000343e+00    1.000343e+00  1.000343e+00  1.000343e+00   \n",
       "min     -5.862104e-02   -5.862104e-02 -3.019617e-01 -4.537649e-02   \n",
       "25%     -5.862104e-02   -5.862104e-02 -3.019617e-01 -4.537649e-02   \n",
       "50%     -5.862104e-02   -5.862104e-02 -3.019617e-01 -4.537649e-02   \n",
       "75%     -5.862104e-02   -5.862104e-02 -3.019617e-01 -4.537649e-02   \n",
       "max      1.705872e+01    1.705872e+01  3.311678e+00  2.203785e+01   \n",
       "\n",
       "        SaleType_WD  SaleType_nan  SaleCondition_Abnorml  \\\n",
       "count  1.460000e+03        1460.0           1.460000e+03   \n",
       "mean   6.522180e-16           0.0          -4.227973e-17   \n",
       "std    1.000343e+00           0.0           1.000343e+00   \n",
       "min   -2.562180e+00           0.0          -2.726158e-01   \n",
       "25%    3.902926e-01           0.0          -2.726158e-01   \n",
       "50%    3.902926e-01           0.0          -2.726158e-01   \n",
       "75%    3.902926e-01           0.0          -2.726158e-01   \n",
       "max    3.902926e-01           0.0           3.668167e+00   \n",
       "\n",
       "       SaleCondition_AdjLand  SaleCondition_Alloca  SaleCondition_Family  \\\n",
       "count           1.460000e+03          1.460000e+03          1.460000e+03   \n",
       "mean           -5.270708e-16          4.404772e-17         -1.320291e-16   \n",
       "std             1.000343e+00          1.000343e+00          1.000343e+00   \n",
       "min            -5.241424e-02         -9.103457e-02         -1.178511e-01   \n",
       "25%            -5.241424e-02         -9.103457e-02         -1.178511e-01   \n",
       "50%            -5.241424e-02         -9.103457e-02         -1.178511e-01   \n",
       "75%            -5.241424e-02         -9.103457e-02         -1.178511e-01   \n",
       "max             1.907878e+01          1.098484e+01          8.485281e+00   \n",
       "\n",
       "       SaleCondition_Normal  SaleCondition_Partial  SaleCondition_nan  \\\n",
       "count          1.460000e+03           1.460000e+03             1460.0   \n",
       "mean          -5.969350e-17           2.098778e-17                0.0   \n",
       "std            1.000343e+00           1.000343e+00                0.0   \n",
       "min           -2.138345e+00          -3.059950e-01                0.0   \n",
       "25%            4.676514e-01          -3.059950e-01                0.0   \n",
       "50%            4.676514e-01          -3.059950e-01                0.0   \n",
       "75%            4.676514e-01          -3.059950e-01                0.0   \n",
       "max            4.676514e-01           3.268027e+00                0.0   \n",
       "\n",
       "       intercept  \n",
       "count     1460.0  \n",
       "mean         0.0  \n",
       "std          0.0  \n",
       "min          0.0  \n",
       "25%          0.0  \n",
       "50%          0.0  \n",
       "75%          0.0  \n",
       "max          0.0  \n",
       "\n",
       "[8 rows x 354 columns]"
      ]
     },
     "execution_count": 51,
     "metadata": {},
     "output_type": "execute_result"
    }
   ],
   "source": [
    "test.describe()"
   ]
  },
  {
   "cell_type": "markdown",
   "id": "caf3e8dc-a0ac-4a9e-adb2-2f7d1d3a45b8",
   "metadata": {},
   "source": [
    "# Outliers\n",
    "\n",
    "Capping did not seem to make much of a difference. Does not seem to be egregious outliers"
   ]
  },
  {
   "cell_type": "code",
   "execution_count": 22,
   "id": "5eb85ab2-870c-4c26-8776-8249ffefa1be",
   "metadata": {},
   "outputs": [
    {
     "data": {
      "text/html": [
       "<div>\n",
       "<style scoped>\n",
       "    .dataframe tbody tr th:only-of-type {\n",
       "        vertical-align: middle;\n",
       "    }\n",
       "\n",
       "    .dataframe tbody tr th {\n",
       "        vertical-align: top;\n",
       "    }\n",
       "\n",
       "    .dataframe thead th {\n",
       "        text-align: right;\n",
       "    }\n",
       "</style>\n",
       "<table border=\"1\" class=\"dataframe\">\n",
       "  <thead>\n",
       "    <tr style=\"text-align: right;\">\n",
       "      <th></th>\n",
       "      <th>LotFrontage</th>\n",
       "      <th>LotArea</th>\n",
       "      <th>OverallQual</th>\n",
       "      <th>OverallCond</th>\n",
       "      <th>YearBuilt</th>\n",
       "      <th>YearRemodAdd</th>\n",
       "      <th>MasVnrArea</th>\n",
       "      <th>BsmtFinSF1</th>\n",
       "      <th>BsmtFinSF2</th>\n",
       "      <th>BsmtUnfSF</th>\n",
       "      <th>TotalBsmtSF</th>\n",
       "      <th>1stFlrSF</th>\n",
       "      <th>2ndFlrSF</th>\n",
       "      <th>LowQualFinSF</th>\n",
       "      <th>GrLivArea</th>\n",
       "      <th>BsmtFullBath</th>\n",
       "      <th>BsmtHalfBath</th>\n",
       "      <th>FullBath</th>\n",
       "      <th>HalfBath</th>\n",
       "      <th>BedroomAbvGr</th>\n",
       "      <th>KitchenAbvGr</th>\n",
       "      <th>TotRmsAbvGrd</th>\n",
       "      <th>Fireplaces</th>\n",
       "      <th>GarageYrBlt</th>\n",
       "      <th>GarageCars</th>\n",
       "      <th>GarageArea</th>\n",
       "      <th>WoodDeckSF</th>\n",
       "      <th>OpenPorchSF</th>\n",
       "      <th>EnclosedPorch</th>\n",
       "      <th>3SsnPorch</th>\n",
       "      <th>ScreenPorch</th>\n",
       "      <th>PoolArea</th>\n",
       "      <th>MiscVal</th>\n",
       "      <th>MoSold</th>\n",
       "      <th>YrSold</th>\n",
       "      <th>SalePrice</th>\n",
       "      <th>AgeHouseAtSale</th>\n",
       "      <th>YearsLastRemodelAtSale</th>\n",
       "      <th>YearsGarageBuiltAtSale</th>\n",
       "      <th>LotFrontage_isnull</th>\n",
       "      <th>MasVnrArea_isnull</th>\n",
       "      <th>GarageYrBlt_isnull</th>\n",
       "      <th>YearsGarageBuiltAtSale_isnull</th>\n",
       "    </tr>\n",
       "  </thead>\n",
       "  <tbody>\n",
       "    <tr>\n",
       "      <th>count</th>\n",
       "      <td>1460.000000</td>\n",
       "      <td>1460.000000</td>\n",
       "      <td>1460.000000</td>\n",
       "      <td>1460.000000</td>\n",
       "      <td>1460.000000</td>\n",
       "      <td>1460.000000</td>\n",
       "      <td>1460.000000</td>\n",
       "      <td>1460.000000</td>\n",
       "      <td>1460.000000</td>\n",
       "      <td>1460.000000</td>\n",
       "      <td>1460.000000</td>\n",
       "      <td>1460.000000</td>\n",
       "      <td>1460.000000</td>\n",
       "      <td>1460.000000</td>\n",
       "      <td>1460.000000</td>\n",
       "      <td>1460.000000</td>\n",
       "      <td>1460.000000</td>\n",
       "      <td>1460.000000</td>\n",
       "      <td>1460.000000</td>\n",
       "      <td>1460.000000</td>\n",
       "      <td>1460.000000</td>\n",
       "      <td>1460.000000</td>\n",
       "      <td>1460.000000</td>\n",
       "      <td>1460.000000</td>\n",
       "      <td>1460.000000</td>\n",
       "      <td>1460.000000</td>\n",
       "      <td>1460.000000</td>\n",
       "      <td>1460.000000</td>\n",
       "      <td>1460.000000</td>\n",
       "      <td>1460.000000</td>\n",
       "      <td>1460.000000</td>\n",
       "      <td>1460.000000</td>\n",
       "      <td>1460.000000</td>\n",
       "      <td>1460.000000</td>\n",
       "      <td>1460.000000</td>\n",
       "      <td>1460.000000</td>\n",
       "      <td>1460.000000</td>\n",
       "      <td>1460.000000</td>\n",
       "      <td>1460.000000</td>\n",
       "      <td>1460.000000</td>\n",
       "      <td>1460.000000</td>\n",
       "      <td>1460.000000</td>\n",
       "      <td>1460.000000</td>\n",
       "    </tr>\n",
       "    <tr>\n",
       "      <th>mean</th>\n",
       "      <td>70.049958</td>\n",
       "      <td>10516.828082</td>\n",
       "      <td>6.099315</td>\n",
       "      <td>5.575342</td>\n",
       "      <td>1971.267808</td>\n",
       "      <td>1984.865753</td>\n",
       "      <td>103.685262</td>\n",
       "      <td>443.639726</td>\n",
       "      <td>46.549315</td>\n",
       "      <td>567.240411</td>\n",
       "      <td>1057.429452</td>\n",
       "      <td>1162.626712</td>\n",
       "      <td>346.992466</td>\n",
       "      <td>5.844521</td>\n",
       "      <td>1515.463699</td>\n",
       "      <td>0.425342</td>\n",
       "      <td>0.057534</td>\n",
       "      <td>1.565068</td>\n",
       "      <td>0.382877</td>\n",
       "      <td>2.866438</td>\n",
       "      <td>1.046575</td>\n",
       "      <td>6.517808</td>\n",
       "      <td>0.613014</td>\n",
       "      <td>1978.506164</td>\n",
       "      <td>1.767123</td>\n",
       "      <td>472.980137</td>\n",
       "      <td>94.244521</td>\n",
       "      <td>46.660274</td>\n",
       "      <td>21.954110</td>\n",
       "      <td>3.409589</td>\n",
       "      <td>15.060959</td>\n",
       "      <td>2.758904</td>\n",
       "      <td>43.489041</td>\n",
       "      <td>6.321918</td>\n",
       "      <td>2007.815753</td>\n",
       "      <td>180921.195890</td>\n",
       "      <td>36.547945</td>\n",
       "      <td>22.950000</td>\n",
       "      <td>29.306019</td>\n",
       "      <td>0.177397</td>\n",
       "      <td>0.005479</td>\n",
       "      <td>0.055479</td>\n",
       "      <td>0.055479</td>\n",
       "    </tr>\n",
       "    <tr>\n",
       "      <th>std</th>\n",
       "      <td>22.024023</td>\n",
       "      <td>9981.264932</td>\n",
       "      <td>1.382997</td>\n",
       "      <td>1.112799</td>\n",
       "      <td>30.202904</td>\n",
       "      <td>20.645407</td>\n",
       "      <td>180.569112</td>\n",
       "      <td>456.098091</td>\n",
       "      <td>161.319273</td>\n",
       "      <td>441.866955</td>\n",
       "      <td>438.705324</td>\n",
       "      <td>386.587738</td>\n",
       "      <td>436.528436</td>\n",
       "      <td>48.623081</td>\n",
       "      <td>525.480383</td>\n",
       "      <td>0.518911</td>\n",
       "      <td>0.238753</td>\n",
       "      <td>0.550916</td>\n",
       "      <td>0.502885</td>\n",
       "      <td>0.815778</td>\n",
       "      <td>0.220338</td>\n",
       "      <td>1.625393</td>\n",
       "      <td>0.644666</td>\n",
       "      <td>23.994583</td>\n",
       "      <td>0.747315</td>\n",
       "      <td>213.804841</td>\n",
       "      <td>125.338794</td>\n",
       "      <td>66.256028</td>\n",
       "      <td>61.119149</td>\n",
       "      <td>29.317331</td>\n",
       "      <td>55.757415</td>\n",
       "      <td>40.177307</td>\n",
       "      <td>496.123024</td>\n",
       "      <td>2.703626</td>\n",
       "      <td>1.328095</td>\n",
       "      <td>79442.502883</td>\n",
       "      <td>30.250152</td>\n",
       "      <td>20.640653</td>\n",
       "      <td>24.030693</td>\n",
       "      <td>0.382135</td>\n",
       "      <td>0.073846</td>\n",
       "      <td>0.228992</td>\n",
       "      <td>0.228992</td>\n",
       "    </tr>\n",
       "    <tr>\n",
       "      <th>min</th>\n",
       "      <td>21.000000</td>\n",
       "      <td>1300.000000</td>\n",
       "      <td>1.000000</td>\n",
       "      <td>1.000000</td>\n",
       "      <td>1872.000000</td>\n",
       "      <td>1950.000000</td>\n",
       "      <td>0.000000</td>\n",
       "      <td>0.000000</td>\n",
       "      <td>0.000000</td>\n",
       "      <td>0.000000</td>\n",
       "      <td>0.000000</td>\n",
       "      <td>334.000000</td>\n",
       "      <td>0.000000</td>\n",
       "      <td>0.000000</td>\n",
       "      <td>334.000000</td>\n",
       "      <td>0.000000</td>\n",
       "      <td>0.000000</td>\n",
       "      <td>0.000000</td>\n",
       "      <td>0.000000</td>\n",
       "      <td>0.000000</td>\n",
       "      <td>0.000000</td>\n",
       "      <td>2.000000</td>\n",
       "      <td>0.000000</td>\n",
       "      <td>1900.000000</td>\n",
       "      <td>0.000000</td>\n",
       "      <td>0.000000</td>\n",
       "      <td>0.000000</td>\n",
       "      <td>0.000000</td>\n",
       "      <td>0.000000</td>\n",
       "      <td>0.000000</td>\n",
       "      <td>0.000000</td>\n",
       "      <td>0.000000</td>\n",
       "      <td>0.000000</td>\n",
       "      <td>1.000000</td>\n",
       "      <td>2006.000000</td>\n",
       "      <td>34900.000000</td>\n",
       "      <td>0.000000</td>\n",
       "      <td>-1.000000</td>\n",
       "      <td>0.000000</td>\n",
       "      <td>0.000000</td>\n",
       "      <td>0.000000</td>\n",
       "      <td>0.000000</td>\n",
       "      <td>0.000000</td>\n",
       "    </tr>\n",
       "    <tr>\n",
       "      <th>1%</th>\n",
       "      <td>21.000000</td>\n",
       "      <td>1680.000000</td>\n",
       "      <td>3.000000</td>\n",
       "      <td>3.000000</td>\n",
       "      <td>1899.180000</td>\n",
       "      <td>1950.000000</td>\n",
       "      <td>0.000000</td>\n",
       "      <td>0.000000</td>\n",
       "      <td>0.000000</td>\n",
       "      <td>0.000000</td>\n",
       "      <td>0.000000</td>\n",
       "      <td>520.000000</td>\n",
       "      <td>0.000000</td>\n",
       "      <td>0.000000</td>\n",
       "      <td>692.180000</td>\n",
       "      <td>0.000000</td>\n",
       "      <td>0.000000</td>\n",
       "      <td>1.000000</td>\n",
       "      <td>0.000000</td>\n",
       "      <td>1.000000</td>\n",
       "      <td>1.000000</td>\n",
       "      <td>3.000000</td>\n",
       "      <td>0.000000</td>\n",
       "      <td>1917.180000</td>\n",
       "      <td>0.000000</td>\n",
       "      <td>0.000000</td>\n",
       "      <td>0.000000</td>\n",
       "      <td>0.000000</td>\n",
       "      <td>0.000000</td>\n",
       "      <td>0.000000</td>\n",
       "      <td>0.000000</td>\n",
       "      <td>0.000000</td>\n",
       "      <td>0.000000</td>\n",
       "      <td>1.000000</td>\n",
       "      <td>2006.000000</td>\n",
       "      <td>61815.970000</td>\n",
       "      <td>0.000000</td>\n",
       "      <td>0.000000</td>\n",
       "      <td>0.000000</td>\n",
       "      <td>0.000000</td>\n",
       "      <td>0.000000</td>\n",
       "      <td>0.000000</td>\n",
       "      <td>0.000000</td>\n",
       "    </tr>\n",
       "    <tr>\n",
       "      <th>50%</th>\n",
       "      <td>70.049958</td>\n",
       "      <td>9478.500000</td>\n",
       "      <td>6.000000</td>\n",
       "      <td>5.000000</td>\n",
       "      <td>1973.000000</td>\n",
       "      <td>1994.000000</td>\n",
       "      <td>0.000000</td>\n",
       "      <td>383.500000</td>\n",
       "      <td>0.000000</td>\n",
       "      <td>477.500000</td>\n",
       "      <td>991.500000</td>\n",
       "      <td>1087.000000</td>\n",
       "      <td>0.000000</td>\n",
       "      <td>0.000000</td>\n",
       "      <td>1464.000000</td>\n",
       "      <td>0.000000</td>\n",
       "      <td>0.000000</td>\n",
       "      <td>2.000000</td>\n",
       "      <td>0.000000</td>\n",
       "      <td>3.000000</td>\n",
       "      <td>1.000000</td>\n",
       "      <td>6.000000</td>\n",
       "      <td>1.000000</td>\n",
       "      <td>1978.506164</td>\n",
       "      <td>2.000000</td>\n",
       "      <td>480.000000</td>\n",
       "      <td>0.000000</td>\n",
       "      <td>25.000000</td>\n",
       "      <td>0.000000</td>\n",
       "      <td>0.000000</td>\n",
       "      <td>0.000000</td>\n",
       "      <td>0.000000</td>\n",
       "      <td>0.000000</td>\n",
       "      <td>6.000000</td>\n",
       "      <td>2008.000000</td>\n",
       "      <td>163000.000000</td>\n",
       "      <td>35.000000</td>\n",
       "      <td>14.000000</td>\n",
       "      <td>29.306019</td>\n",
       "      <td>0.000000</td>\n",
       "      <td>0.000000</td>\n",
       "      <td>0.000000</td>\n",
       "      <td>0.000000</td>\n",
       "    </tr>\n",
       "    <tr>\n",
       "      <th>99%</th>\n",
       "      <td>137.410000</td>\n",
       "      <td>37567.640000</td>\n",
       "      <td>10.000000</td>\n",
       "      <td>9.000000</td>\n",
       "      <td>2009.000000</td>\n",
       "      <td>2009.000000</td>\n",
       "      <td>791.280000</td>\n",
       "      <td>1572.410000</td>\n",
       "      <td>830.380000</td>\n",
       "      <td>1797.050000</td>\n",
       "      <td>2155.050000</td>\n",
       "      <td>2219.460000</td>\n",
       "      <td>1418.920000</td>\n",
       "      <td>360.000000</td>\n",
       "      <td>3123.480000</td>\n",
       "      <td>2.000000</td>\n",
       "      <td>1.000000</td>\n",
       "      <td>3.000000</td>\n",
       "      <td>1.000000</td>\n",
       "      <td>5.000000</td>\n",
       "      <td>2.000000</td>\n",
       "      <td>11.000000</td>\n",
       "      <td>2.000000</td>\n",
       "      <td>2009.000000</td>\n",
       "      <td>3.000000</td>\n",
       "      <td>1002.790000</td>\n",
       "      <td>505.460000</td>\n",
       "      <td>285.820000</td>\n",
       "      <td>261.050000</td>\n",
       "      <td>168.000000</td>\n",
       "      <td>268.050000</td>\n",
       "      <td>0.000000</td>\n",
       "      <td>700.000000</td>\n",
       "      <td>12.000000</td>\n",
       "      <td>2010.000000</td>\n",
       "      <td>442567.010000</td>\n",
       "      <td>110.410000</td>\n",
       "      <td>60.000000</td>\n",
       "      <td>90.000000</td>\n",
       "      <td>1.000000</td>\n",
       "      <td>0.000000</td>\n",
       "      <td>1.000000</td>\n",
       "      <td>1.000000</td>\n",
       "    </tr>\n",
       "    <tr>\n",
       "      <th>max</th>\n",
       "      <td>313.000000</td>\n",
       "      <td>215245.000000</td>\n",
       "      <td>10.000000</td>\n",
       "      <td>9.000000</td>\n",
       "      <td>2010.000000</td>\n",
       "      <td>2010.000000</td>\n",
       "      <td>1600.000000</td>\n",
       "      <td>5644.000000</td>\n",
       "      <td>1474.000000</td>\n",
       "      <td>2336.000000</td>\n",
       "      <td>6110.000000</td>\n",
       "      <td>4692.000000</td>\n",
       "      <td>2065.000000</td>\n",
       "      <td>572.000000</td>\n",
       "      <td>5642.000000</td>\n",
       "      <td>3.000000</td>\n",
       "      <td>2.000000</td>\n",
       "      <td>3.000000</td>\n",
       "      <td>2.000000</td>\n",
       "      <td>8.000000</td>\n",
       "      <td>3.000000</td>\n",
       "      <td>14.000000</td>\n",
       "      <td>3.000000</td>\n",
       "      <td>2010.000000</td>\n",
       "      <td>4.000000</td>\n",
       "      <td>1418.000000</td>\n",
       "      <td>857.000000</td>\n",
       "      <td>547.000000</td>\n",
       "      <td>552.000000</td>\n",
       "      <td>508.000000</td>\n",
       "      <td>480.000000</td>\n",
       "      <td>738.000000</td>\n",
       "      <td>15500.000000</td>\n",
       "      <td>12.000000</td>\n",
       "      <td>2010.000000</td>\n",
       "      <td>755000.000000</td>\n",
       "      <td>136.000000</td>\n",
       "      <td>60.000000</td>\n",
       "      <td>107.000000</td>\n",
       "      <td>1.000000</td>\n",
       "      <td>1.000000</td>\n",
       "      <td>1.000000</td>\n",
       "      <td>1.000000</td>\n",
       "    </tr>\n",
       "  </tbody>\n",
       "</table>\n",
       "</div>"
      ],
      "text/plain": [
       "       LotFrontage        LotArea  OverallQual  OverallCond    YearBuilt  \\\n",
       "count  1460.000000    1460.000000  1460.000000  1460.000000  1460.000000   \n",
       "mean     70.049958   10516.828082     6.099315     5.575342  1971.267808   \n",
       "std      22.024023    9981.264932     1.382997     1.112799    30.202904   \n",
       "min      21.000000    1300.000000     1.000000     1.000000  1872.000000   \n",
       "1%       21.000000    1680.000000     3.000000     3.000000  1899.180000   \n",
       "50%      70.049958    9478.500000     6.000000     5.000000  1973.000000   \n",
       "99%     137.410000   37567.640000    10.000000     9.000000  2009.000000   \n",
       "max     313.000000  215245.000000    10.000000     9.000000  2010.000000   \n",
       "\n",
       "       YearRemodAdd   MasVnrArea   BsmtFinSF1   BsmtFinSF2    BsmtUnfSF  \\\n",
       "count   1460.000000  1460.000000  1460.000000  1460.000000  1460.000000   \n",
       "mean    1984.865753   103.685262   443.639726    46.549315   567.240411   \n",
       "std       20.645407   180.569112   456.098091   161.319273   441.866955   \n",
       "min     1950.000000     0.000000     0.000000     0.000000     0.000000   \n",
       "1%      1950.000000     0.000000     0.000000     0.000000     0.000000   \n",
       "50%     1994.000000     0.000000   383.500000     0.000000   477.500000   \n",
       "99%     2009.000000   791.280000  1572.410000   830.380000  1797.050000   \n",
       "max     2010.000000  1600.000000  5644.000000  1474.000000  2336.000000   \n",
       "\n",
       "       TotalBsmtSF     1stFlrSF     2ndFlrSF  LowQualFinSF    GrLivArea  \\\n",
       "count  1460.000000  1460.000000  1460.000000   1460.000000  1460.000000   \n",
       "mean   1057.429452  1162.626712   346.992466      5.844521  1515.463699   \n",
       "std     438.705324   386.587738   436.528436     48.623081   525.480383   \n",
       "min       0.000000   334.000000     0.000000      0.000000   334.000000   \n",
       "1%        0.000000   520.000000     0.000000      0.000000   692.180000   \n",
       "50%     991.500000  1087.000000     0.000000      0.000000  1464.000000   \n",
       "99%    2155.050000  2219.460000  1418.920000    360.000000  3123.480000   \n",
       "max    6110.000000  4692.000000  2065.000000    572.000000  5642.000000   \n",
       "\n",
       "       BsmtFullBath  BsmtHalfBath     FullBath     HalfBath  BedroomAbvGr  \\\n",
       "count   1460.000000   1460.000000  1460.000000  1460.000000   1460.000000   \n",
       "mean       0.425342      0.057534     1.565068     0.382877      2.866438   \n",
       "std        0.518911      0.238753     0.550916     0.502885      0.815778   \n",
       "min        0.000000      0.000000     0.000000     0.000000      0.000000   \n",
       "1%         0.000000      0.000000     1.000000     0.000000      1.000000   \n",
       "50%        0.000000      0.000000     2.000000     0.000000      3.000000   \n",
       "99%        2.000000      1.000000     3.000000     1.000000      5.000000   \n",
       "max        3.000000      2.000000     3.000000     2.000000      8.000000   \n",
       "\n",
       "       KitchenAbvGr  TotRmsAbvGrd   Fireplaces  GarageYrBlt   GarageCars  \\\n",
       "count   1460.000000   1460.000000  1460.000000  1460.000000  1460.000000   \n",
       "mean       1.046575      6.517808     0.613014  1978.506164     1.767123   \n",
       "std        0.220338      1.625393     0.644666    23.994583     0.747315   \n",
       "min        0.000000      2.000000     0.000000  1900.000000     0.000000   \n",
       "1%         1.000000      3.000000     0.000000  1917.180000     0.000000   \n",
       "50%        1.000000      6.000000     1.000000  1978.506164     2.000000   \n",
       "99%        2.000000     11.000000     2.000000  2009.000000     3.000000   \n",
       "max        3.000000     14.000000     3.000000  2010.000000     4.000000   \n",
       "\n",
       "        GarageArea   WoodDeckSF  OpenPorchSF  EnclosedPorch    3SsnPorch  \\\n",
       "count  1460.000000  1460.000000  1460.000000    1460.000000  1460.000000   \n",
       "mean    472.980137    94.244521    46.660274      21.954110     3.409589   \n",
       "std     213.804841   125.338794    66.256028      61.119149    29.317331   \n",
       "min       0.000000     0.000000     0.000000       0.000000     0.000000   \n",
       "1%        0.000000     0.000000     0.000000       0.000000     0.000000   \n",
       "50%     480.000000     0.000000    25.000000       0.000000     0.000000   \n",
       "99%    1002.790000   505.460000   285.820000     261.050000   168.000000   \n",
       "max    1418.000000   857.000000   547.000000     552.000000   508.000000   \n",
       "\n",
       "       ScreenPorch     PoolArea       MiscVal       MoSold       YrSold  \\\n",
       "count  1460.000000  1460.000000   1460.000000  1460.000000  1460.000000   \n",
       "mean     15.060959     2.758904     43.489041     6.321918  2007.815753   \n",
       "std      55.757415    40.177307    496.123024     2.703626     1.328095   \n",
       "min       0.000000     0.000000      0.000000     1.000000  2006.000000   \n",
       "1%        0.000000     0.000000      0.000000     1.000000  2006.000000   \n",
       "50%       0.000000     0.000000      0.000000     6.000000  2008.000000   \n",
       "99%     268.050000     0.000000    700.000000    12.000000  2010.000000   \n",
       "max     480.000000   738.000000  15500.000000    12.000000  2010.000000   \n",
       "\n",
       "           SalePrice  AgeHouseAtSale  YearsLastRemodelAtSale  \\\n",
       "count    1460.000000     1460.000000             1460.000000   \n",
       "mean   180921.195890       36.547945               22.950000   \n",
       "std     79442.502883       30.250152               20.640653   \n",
       "min     34900.000000        0.000000               -1.000000   \n",
       "1%      61815.970000        0.000000                0.000000   \n",
       "50%    163000.000000       35.000000               14.000000   \n",
       "99%    442567.010000      110.410000               60.000000   \n",
       "max    755000.000000      136.000000               60.000000   \n",
       "\n",
       "       YearsGarageBuiltAtSale  LotFrontage_isnull  MasVnrArea_isnull  \\\n",
       "count             1460.000000         1460.000000        1460.000000   \n",
       "mean                29.306019            0.177397           0.005479   \n",
       "std                 24.030693            0.382135           0.073846   \n",
       "min                  0.000000            0.000000           0.000000   \n",
       "1%                   0.000000            0.000000           0.000000   \n",
       "50%                 29.306019            0.000000           0.000000   \n",
       "99%                 90.000000            1.000000           0.000000   \n",
       "max                107.000000            1.000000           1.000000   \n",
       "\n",
       "       GarageYrBlt_isnull  YearsGarageBuiltAtSale_isnull  \n",
       "count         1460.000000                    1460.000000  \n",
       "mean             0.055479                       0.055479  \n",
       "std              0.228992                       0.228992  \n",
       "min              0.000000                       0.000000  \n",
       "1%               0.000000                       0.000000  \n",
       "50%              0.000000                       0.000000  \n",
       "99%              1.000000                       1.000000  \n",
       "max              1.000000                       1.000000  "
      ]
     },
     "execution_count": 22,
     "metadata": {},
     "output_type": "execute_result"
    }
   ],
   "source": [
    "df.describe([0.01,.99])"
   ]
  },
  {
   "cell_type": "raw",
   "id": "becd0e1a-0fb9-4acc-95e8-fef431388f5c",
   "metadata": {},
   "source": [
    "df['LotArea'] = [37567 if x > 37567 else x for x in df['LotArea']]"
   ]
  },
  {
   "cell_type": "raw",
   "id": "d532e605-e7d1-47c2-bd6d-36b22cb4e9bc",
   "metadata": {},
   "source": [
    "df['BsmtFinSF1'] = [1572 if x > 1572 else x for x in df['BsmtFinSF1']]"
   ]
  },
  {
   "cell_type": "raw",
   "id": "25320419-dabb-49bb-9e43-18a658e53f7b",
   "metadata": {},
   "source": [
    "df['TotalBsmtSF'] = [2155 if x > 2155 else x for x in df['TotalBsmtSF']]"
   ]
  },
  {
   "cell_type": "raw",
   "id": "15d8a356-f7f4-4f3f-a345-7d132b64a4a5",
   "metadata": {},
   "source": [
    "X = df_dummies.drop(columns='SalePrice')\n",
    "\n",
    "y = np.log(df_dummies['SalePrice'])\n",
    "\n",
    "X['intercept'] = 1"
   ]
  },
  {
   "cell_type": "markdown",
   "id": "75d912b8-0d89-4ba0-b007-c7e0231c89ad",
   "metadata": {},
   "source": [
    "# Training"
   ]
  },
  {
   "cell_type": "markdown",
   "id": "6ffde3ef-38ae-4abd-a062-8b43d45dcadf",
   "metadata": {},
   "source": [
    "## SKLEARN"
   ]
  },
  {
   "cell_type": "code",
   "execution_count": 28,
   "id": "8f4e5e0f-d3b3-40bd-8947-17460bb6ef99",
   "metadata": {},
   "outputs": [],
   "source": [
    "from sklearn.linear_model import LassoCV"
   ]
  },
  {
   "cell_type": "code",
   "execution_count": 29,
   "id": "af9efa08-b31d-4912-af11-86c3fc79f5be",
   "metadata": {},
   "outputs": [],
   "source": [
    "lasso_cv = LassoCV(cv=5, random_state=0)"
   ]
  },
  {
   "cell_type": "code",
   "execution_count": 30,
   "id": "c2f75b10-7f03-49c7-944a-693a0fab0c2f",
   "metadata": {},
   "outputs": [],
   "source": [
    "lasso_pipeline = make_pipeline(StandardScaler(),lasso_cv)"
   ]
  },
  {
   "cell_type": "code",
   "execution_count": 31,
   "id": "227c3589-e2a4-4dee-8716-74e6f257f373",
   "metadata": {},
   "outputs": [
    {
     "data": {
      "text/plain": [
       "Pipeline(steps=[('standardscaler', StandardScaler()),\n",
       "                ('lassocv', LassoCV(cv=5, random_state=0))])"
      ]
     },
     "execution_count": 31,
     "metadata": {},
     "output_type": "execute_result"
    }
   ],
   "source": [
    "lasso_pipeline.fit(X=X,y=y)"
   ]
  },
  {
   "cell_type": "code",
   "execution_count": 32,
   "id": "46c2ef18-8bd8-4bfb-bbcb-09698a2dbb47",
   "metadata": {},
   "outputs": [
    {
     "data": {
      "text/plain": [
       "0.004313679483801087"
      ]
     },
     "execution_count": 32,
     "metadata": {},
     "output_type": "execute_result"
    }
   ],
   "source": [
    "lasso_cv.alpha_"
   ]
  },
  {
   "cell_type": "raw",
   "id": "e7cb51e0-b5fe-4e0c-8527-0b868799ed5e",
   "metadata": {},
   "source": [
    "test = pd.DataFrame(lasso_pipeline.coef_,index=X.columns)\n",
    "test.loc[test[0]>0]"
   ]
  },
  {
   "cell_type": "markdown",
   "id": "d5f275f4-cdc3-41f9-a3ce-2cbe9fdbf150",
   "metadata": {},
   "source": [
    "### Elastic Net\n",
    "Looks like the optimal is just an L1 Lasso regression"
   ]
  },
  {
   "cell_type": "code",
   "execution_count": 36,
   "id": "fe11e3c5-16b9-4f04-85fe-96d7ef707992",
   "metadata": {},
   "outputs": [],
   "source": [
    "from sklearn.linear_model import ElasticNetCV"
   ]
  },
  {
   "cell_type": "code",
   "execution_count": 37,
   "id": "d06bdd62-fbd8-42b4-b09b-21e65e1a3c80",
   "metadata": {},
   "outputs": [],
   "source": [
    "# elastic_net_cv = ElasticNetCV(l1_ratio=[0,.5,1]\n",
    "#                              ,alphas=[0.1,1,10,100]\n",
    "#                              )\n",
    "elastic_net_cv = ElasticNetCV(cv=5, random_state=0, l1_ratio=[0.5,0.7,0.8,0.9,1])"
   ]
  },
  {
   "cell_type": "code",
   "execution_count": 38,
   "id": "ca8603cc-df19-4562-abe2-7b5f273f8698",
   "metadata": {},
   "outputs": [],
   "source": [
    "elastic_net_pipeline = make_pipeline(StandardScaler(),elastic_net_cv)"
   ]
  },
  {
   "cell_type": "code",
   "execution_count": 39,
   "id": "b1cd4a5f-1e26-45c0-b003-44c6416b2d0f",
   "metadata": {},
   "outputs": [
    {
     "data": {
      "text/plain": [
       "Pipeline(steps=[('standardscaler', StandardScaler()),\n",
       "                ('elasticnetcv',\n",
       "                 ElasticNetCV(cv=5, l1_ratio=[0.5, 0.7, 0.8, 0.9, 1],\n",
       "                              random_state=0))])"
      ]
     },
     "execution_count": 39,
     "metadata": {},
     "output_type": "execute_result"
    }
   ],
   "source": [
    "elastic_net_pipeline.fit(X=X,y=y)"
   ]
  },
  {
   "cell_type": "code",
   "execution_count": 40,
   "id": "6d16dafc-9320-4744-8cfa-8370f3407296",
   "metadata": {},
   "outputs": [
    {
     "data": {
      "text/plain": [
       "0.5"
      ]
     },
     "execution_count": 40,
     "metadata": {},
     "output_type": "execute_result"
    }
   ],
   "source": [
    "elastic_net_cv.l1_ratio_"
   ]
  },
  {
   "cell_type": "code",
   "execution_count": 41,
   "id": "05e7723c-faf6-4cd3-8e59-fc1f6a82ddd1",
   "metadata": {},
   "outputs": [
    {
     "data": {
      "text/plain": [
       "0.009250834233476633"
      ]
     },
     "execution_count": 41,
     "metadata": {},
     "output_type": "execute_result"
    }
   ],
   "source": [
    "elastic_net_cv.alpha_"
   ]
  },
  {
   "cell_type": "code",
   "execution_count": 42,
   "id": "a09b00ec-51bd-44a7-9042-02fbf42568b2",
   "metadata": {},
   "outputs": [],
   "source": [
    "test = pd.DataFrame(elastic_net_cv.coef_,index=X.columns)"
   ]
  },
  {
   "cell_type": "raw",
   "id": "1fcbe6f3-2496-4f43-8a83-8a264ed11703",
   "metadata": {},
   "source": [
    "from sklearn.linear_model import ElasticNet"
   ]
  },
  {
   "cell_type": "raw",
   "id": "f4adbbf0-85ed-4abb-b24a-826edd7189d4",
   "metadata": {},
   "source": [
    "elastic_net = ElasticNet(l1_ratio=0.9,alpha=1.1391563296792413)"
   ]
  },
  {
   "cell_type": "markdown",
   "id": "973aaf8d-576e-4aec-9f9a-cc08965794c0",
   "metadata": {},
   "source": [
    "### Decision Tree"
   ]
  },
  {
   "cell_type": "code",
   "execution_count": 27,
   "id": "21aed0f1-3f87-4f1d-9ab9-1e84970cfba7",
   "metadata": {},
   "outputs": [],
   "source": [
    "params_dt={'splitter':['random', 'best']\n",
    "        ,'min_samples_split':[2, 3, 4, 5, 6, 8, 10]\n",
    "        ,'min_samples_leaf':[0.01, 0.02, 0.03, 0.04]\n",
    "        ,'min_impurity_decrease':[0.0, 0.0005, 0.005, 0.05, 0.10, 0.15, 0.2]\n",
    "        ,'max_leaf_nodes':[10, 15, 20, 25, 30, 35, 40, 45, 50, None]\n",
    "        ,'max_features':[ 0.95, 0.90, 0.85, 0.80, 0.75, 0.70]\n",
    "        ,'max_depth':[None, 2,4,6,8]\n",
    "        ,'min_weight_fraction_leaf':[0.0, 0.0025, 0.005, 0.0075, 0.01, 0.05]}\n",
    "        "
   ]
  },
  {
   "cell_type": "code",
   "execution_count": 28,
   "id": "7bee036d-d24f-4bf9-8c39-caf1f708733e",
   "metadata": {},
   "outputs": [],
   "source": [
    "from sklearn.tree import DecisionTreeRegressor"
   ]
  },
  {
   "cell_type": "code",
   "execution_count": 29,
   "id": "dcfcd837-ddc0-4fa5-bdf8-d3384ce86ba4",
   "metadata": {},
   "outputs": [],
   "source": [
    "from sklearn.model_selection import RandomizedSearchCV"
   ]
  },
  {
   "cell_type": "code",
   "execution_count": 30,
   "id": "df1c20ae-c363-41c6-9fff-b06190c1a7ef",
   "metadata": {},
   "outputs": [],
   "source": [
    "from skopt import BayesSearchCV"
   ]
  },
  {
   "cell_type": "code",
   "execution_count": 31,
   "id": "9bdab67f-e980-4396-b867-c00e8543f45f",
   "metadata": {},
   "outputs": [],
   "source": [
    "decision_tree = DecisionTreeRegressor()"
   ]
  },
  {
   "cell_type": "code",
   "execution_count": 32,
   "id": "e4aa6e38-9f0a-4851-b914-01bc8669a1f6",
   "metadata": {},
   "outputs": [],
   "source": [
    "bayes_search_dt = BayesSearchCV(decision_tree,params_dt)"
   ]
  },
  {
   "cell_type": "raw",
   "id": "2ffd00ae-1852-43c8-acf7-494103d1fc39",
   "metadata": {},
   "source": [
    "grid_search_dt = RandomizedSearchCV(decision_tree,params_dt,n_jobs=-1,n_iter=100)"
   ]
  },
  {
   "cell_type": "raw",
   "id": "44f3130d-4c33-47c4-a559-6b0beb7abe12",
   "metadata": {},
   "source": [
    "bayes_search_dt.fit(X,y)"
   ]
  },
  {
   "cell_type": "raw",
   "id": "cde50c99-d45d-4656-96d1-07c8d1ca06b9",
   "metadata": {},
   "source": [
    "bayes_search_dt.best_estimator_"
   ]
  },
  {
   "cell_type": "code",
   "execution_count": 33,
   "id": "4800ca2a-23bc-4d5b-9078-8c873a270e1f",
   "metadata": {},
   "outputs": [],
   "source": [
    "decision_tree = DecisionTreeRegressor(max_depth=6, max_features=0.85, max_leaf_nodes=40,\n",
    "                      min_samples_leaf=0.02, min_samples_split=6,\n",
    "                      min_weight_fraction_leaf=0.0075)"
   ]
  },
  {
   "cell_type": "code",
   "execution_count": 34,
   "id": "4e2277fa-507b-40df-b4b2-f094d52c1f86",
   "metadata": {},
   "outputs": [],
   "source": [
    "decision_tree_pipeline = make_pipeline(StandardScaler(),decision_tree)"
   ]
  },
  {
   "cell_type": "code",
   "execution_count": 35,
   "id": "92b05f7f-10bd-471e-bae8-321c3da3799f",
   "metadata": {},
   "outputs": [
    {
     "data": {
      "text/plain": [
       "Pipeline(steps=[('standardscaler', StandardScaler()),\n",
       "                ('decisiontreeregressor',\n",
       "                 DecisionTreeRegressor(max_depth=6, max_features=0.85,\n",
       "                                       max_leaf_nodes=40, min_samples_leaf=0.02,\n",
       "                                       min_samples_split=6,\n",
       "                                       min_weight_fraction_leaf=0.0075))])"
      ]
     },
     "execution_count": 35,
     "metadata": {},
     "output_type": "execute_result"
    }
   ],
   "source": [
    "decision_tree_pipeline.fit(X,y)"
   ]
  },
  {
   "cell_type": "markdown",
   "id": "f8d29a92-63f4-42cb-9977-7b07cb99a65c",
   "metadata": {},
   "source": [
    "## XGBoost"
   ]
  },
  {
   "cell_type": "code",
   "execution_count": 36,
   "id": "d240889f-ae07-4678-8210-f661ddab006e",
   "metadata": {},
   "outputs": [],
   "source": [
    "import xgboost"
   ]
  },
  {
   "cell_type": "code",
   "execution_count": 37,
   "id": "4a19deb2-ba67-4867-8ee2-911807c0c285",
   "metadata": {},
   "outputs": [],
   "source": [
    "from importlib import reload"
   ]
  },
  {
   "cell_type": "code",
   "execution_count": 38,
   "id": "ef200c2e-a10e-4549-a69e-c0b0acd33627",
   "metadata": {},
   "outputs": [
    {
     "data": {
      "text/plain": [
       "<module 'xgboost' from 'C:\\\\ProgramData\\\\Anaconda3\\\\lib\\\\site-packages\\\\xgboost\\\\__init__.py'>"
      ]
     },
     "execution_count": 38,
     "metadata": {},
     "output_type": "execute_result"
    }
   ],
   "source": [
    "reload(xgboost)"
   ]
  },
  {
   "cell_type": "code",
   "execution_count": 39,
   "id": "023a236a-ee55-4591-bd67-2973ade2d247",
   "metadata": {},
   "outputs": [
    {
     "data": {
      "text/plain": [
       "'1.6.2'"
      ]
     },
     "execution_count": 39,
     "metadata": {},
     "output_type": "execute_result"
    }
   ],
   "source": [
    "xgboost.__version__"
   ]
  },
  {
   "cell_type": "code",
   "execution_count": 40,
   "id": "39439d59-b189-4836-b604-8c1ed6050435",
   "metadata": {},
   "outputs": [],
   "source": [
    "xg_boost = xgboost.XGBRegressor()"
   ]
  },
  {
   "cell_type": "code",
   "execution_count": 41,
   "id": "b1bef69d-9e3a-4b04-a686-abf16b2097dc",
   "metadata": {},
   "outputs": [],
   "source": [
    "xg_boost_pipeline = make_pipeline(StandardScaler(),xg_boost)"
   ]
  },
  {
   "cell_type": "code",
   "execution_count": 42,
   "id": "673fa0d8-1c62-43a8-a9d2-8bb6e7ece2bc",
   "metadata": {},
   "outputs": [
    {
     "data": {
      "text/plain": [
       "XGBRegressor(base_score=0.5, booster='gbtree', callbacks=None,\n",
       "             colsample_bylevel=1, colsample_bynode=1, colsample_bytree=1,\n",
       "             early_stopping_rounds=None, enable_categorical=False,\n",
       "             eval_metric=None, gamma=0, gpu_id=-1, grow_policy='depthwise',\n",
       "             importance_type=None, interaction_constraints='',\n",
       "             learning_rate=0.300000012, max_bin=256, max_cat_to_onehot=4,\n",
       "             max_delta_step=0, max_depth=6, max_leaves=0, min_child_weight=1,\n",
       "             missing=nan, monotone_constraints='()', n_estimators=100, n_jobs=0,\n",
       "             num_parallel_tree=1, predictor='auto', random_state=0, reg_alpha=0,\n",
       "             reg_lambda=1, ...)"
      ]
     },
     "execution_count": 42,
     "metadata": {},
     "output_type": "execute_result"
    }
   ],
   "source": [
    "xg_boost.fit(X,y)"
   ]
  },
  {
   "cell_type": "markdown",
   "id": "85035ea6-864e-409f-86a9-6d731d87d22e",
   "metadata": {},
   "source": [
    "## Random Forest"
   ]
  },
  {
   "cell_type": "code",
   "execution_count": 46,
   "id": "624d5310-6e1a-4ff6-bcfc-69e0b9ac258d",
   "metadata": {},
   "outputs": [],
   "source": [
    "from sklearn.ensemble import RandomForestRegressor"
   ]
  },
  {
   "cell_type": "code",
   "execution_count": 47,
   "id": "e8b0cee8-f211-44fe-a887-1cbcf4b3376b",
   "metadata": {},
   "outputs": [],
   "source": [
    "random_forest_initial = RandomForestRegressor(n_estimators=200,oob_score=True)"
   ]
  },
  {
   "cell_type": "code",
   "execution_count": 49,
   "id": "1e9bc913-aeff-4733-ae01-5dc51743752d",
   "metadata": {},
   "outputs": [],
   "source": [
    "random_forest_pipeline = make_pipeline(StandardScaler(),random_forest_initial)"
   ]
  },
  {
   "cell_type": "code",
   "execution_count": 50,
   "id": "6dc1aafd-6db5-458f-bace-ad6dc92f7661",
   "metadata": {},
   "outputs": [
    {
     "data": {
      "text/plain": [
       "Pipeline(steps=[('standardscaler', StandardScaler()),\n",
       "                ('randomforestregressor',\n",
       "                 RandomForestRegressor(n_estimators=200, oob_score=True))])"
      ]
     },
     "execution_count": 50,
     "metadata": {},
     "output_type": "execute_result"
    }
   ],
   "source": [
    "random_forest_pipeline.fit(X,y)"
   ]
  },
  {
   "cell_type": "raw",
   "id": "1d4e5bf1-b6cc-4ce0-851d-466390b59092",
   "metadata": {},
   "source": [
    "random_forest.oob_score_"
   ]
  },
  {
   "cell_type": "raw",
   "id": "8b4c1f8b-237f-463a-ace1-0bc69fc0a33a",
   "metadata": {},
   "source": [
    "oob_scores = {}\n",
    "rf = RandomForestRegressor(n_estimators=50, warm_start=True, oob_score=True, n_jobs=-1, random_state=2)\n",
    "rf.fit(X, y)\n",
    "oob_scores[50] = rf.oob_score_\n",
    "est = 50\n",
    "estimators=[est]\n",
    "for i in range(9):\n",
    "    est += 50\n",
    "    estimators.append(est)\n",
    "    rf.set_params(n_estimators=est)\n",
    "    rf.fit(X, y)\n",
    "    oob_scores[est] = rf.oob_score_"
   ]
  },
  {
   "cell_type": "raw",
   "id": "ab9dfcd9-f1ed-497d-9417-d5c2923f3df5",
   "metadata": {},
   "source": [
    "oob_scores"
   ]
  },
  {
   "cell_type": "raw",
   "id": "c446b924-0444-462f-8bb8-6ee4d706ee6d",
   "metadata": {},
   "source": [
    "params_rf={'min_weight_fraction_leaf':[0.0, 0.0025, 0.005, 0.0075, 0.01, 0.05]\n",
    "           ,'min_samples_split': [0.01, 0.02, 0.03, 0.04, 0.06, 0.08, 0.1]\n",
    "           ,'min_samples_leaf':[1,2,4,6,8,10,20,30]\n",
    "           ,'min_impurity_decrease':[0.0, 0.01, 0.05, 0.10, 0.15, 0.2]\n",
    "           ,'max_leaf_nodes':[10, 15, 20, 25, 30, 35, 40, 45, 50, None]\n",
    "           ,'max_features':[0.8, 0.7, 0.6, 0.5, 0.4]\n",
    "           ,'max_depth':[None,2,4,6,8,10,20]}\n",
    "        "
   ]
  },
  {
   "cell_type": "raw",
   "id": "b7c66367-f627-4e6c-98f6-21d70bda186d",
   "metadata": {},
   "source": [
    "bayes_search_rf = BayesSearchCV(random_forest,params_rf,n_jobs=-1)"
   ]
  },
  {
   "cell_type": "raw",
   "id": "e5065181-a47f-4170-9557-b2b446da60d9",
   "metadata": {},
   "source": [
    "bayes_search_rf.fit(X,y)"
   ]
  },
  {
   "cell_type": "raw",
   "id": "6eda444b-0af6-422d-88a4-4c11670902f6",
   "metadata": {},
   "source": [
    "bayes_search_rf.best_estimator_"
   ]
  },
  {
   "cell_type": "raw",
   "id": "7a84e118-824d-450c-9ab5-a80d814bc3d1",
   "metadata": {},
   "source": [
    "params_rf={'min_weight_fraction_leaf': [0.005, 0.0075, 0.01]\n",
    "           ,'min_samples_split': [1, 0.001 ,0.01, 0.02]\n",
    "           ,'min_samples_leaf':[6,7,8,9,10]\n",
    "           # ,'min_impurity_decrease':[0.0, 0.01, 0.05, 0.10, 0.15, 0.2]\n",
    "           # ,'max_leaf_nodes':[10, 15, 20, 25, 30, 35, 40, 45, 50, None]\n",
    "           ,'max_features':[0.55, 0.6, 0.65]\n",
    "           ,'max_depth':[10,20,50,100]}\n",
    "bayes_search_rf = BayesSearchCV(random_forest,params_rf,n_jobs=-1)"
   ]
  },
  {
   "cell_type": "raw",
   "id": "5613ea9b-7955-415c-a6f1-b288de734596",
   "metadata": {},
   "source": [
    "bayes_search_rf.fit(X,y)\n",
    "bayes_search_rf.best_estimator_"
   ]
  },
  {
   "cell_type": "code",
   "execution_count": 44,
   "id": "e4c68f1e-adf9-4cf0-939f-639606603df9",
   "metadata": {},
   "outputs": [
    {
     "ename": "NameError",
     "evalue": "name 'RandomForestRegressor' is not defined",
     "output_type": "error",
     "traceback": [
      "\u001b[1;31m---------------------------------------------------------------------------\u001b[0m",
      "\u001b[1;31mNameError\u001b[0m                                 Traceback (most recent call last)",
      "\u001b[1;32m~\\AppData\\Local\\Temp\\ipykernel_12704\\712683234.py\u001b[0m in \u001b[0;36m<module>\u001b[1;34m\u001b[0m\n\u001b[1;32m----> 1\u001b[1;33m random_forest = RandomForestRegressor(max_depth=20, max_features=0.55, min_samples_leaf=6,\n\u001b[0m\u001b[0;32m      2\u001b[0m                       \u001b[0mmin_samples_split\u001b[0m\u001b[1;33m=\u001b[0m\u001b[1;36m0.001\u001b[0m\u001b[1;33m,\u001b[0m \u001b[0mmin_weight_fraction_leaf\u001b[0m\u001b[1;33m=\u001b[0m\u001b[1;36m0.005\u001b[0m\u001b[1;33m,\u001b[0m\u001b[1;33m\u001b[0m\u001b[1;33m\u001b[0m\u001b[0m\n\u001b[0;32m      3\u001b[0m                       n_estimators=200, oob_score=True)\n",
      "\u001b[1;31mNameError\u001b[0m: name 'RandomForestRegressor' is not defined"
     ]
    }
   ],
   "source": [
    "random_forest = RandomForestRegressor(max_depth=20, max_features=0.55, min_samples_leaf=6,\n",
    "                      min_samples_split=0.001, min_weight_fraction_leaf=0.005,\n",
    "                      n_estimators=200, oob_score=True)"
   ]
  },
  {
   "cell_type": "raw",
   "id": "0e350575-e767-4c02-84b1-a16dd5094f45",
   "metadata": {},
   "source": [
    "random_forest_pipeline = make_pipeline(StandardScaler(),random_forest)"
   ]
  },
  {
   "cell_type": "raw",
   "id": "ec6811aa-d8c1-4c3b-8b73-d154fbce7dbf",
   "metadata": {},
   "source": [
    "random_forest.fit(X,y)"
   ]
  },
  {
   "cell_type": "markdown",
   "id": "57674ce0-b002-4a5a-a728-64d858e00f7d",
   "metadata": {},
   "source": [
    "## Adaboost"
   ]
  },
  {
   "cell_type": "code",
   "execution_count": 57,
   "id": "4e80bed0-da3d-46ef-9a5a-473c1d0226b0",
   "metadata": {},
   "outputs": [],
   "source": [
    "from sklearn.ensemble import AdaBoostRegressor"
   ]
  },
  {
   "cell_type": "code",
   "execution_count": 58,
   "id": "55978656-4fef-41cd-8696-8e6021c54e9f",
   "metadata": {},
   "outputs": [],
   "source": [
    "adaboost = AdaBoostRegressor()"
   ]
  },
  {
   "cell_type": "code",
   "execution_count": 59,
   "id": "a7832b52-73d0-43db-a12d-f5ee836400a4",
   "metadata": {},
   "outputs": [],
   "source": [
    "adaboost_pipeline = make_pipeline(StandardScaler(),adaboost)"
   ]
  },
  {
   "cell_type": "code",
   "execution_count": 60,
   "id": "db5ed4ff-1c8d-48a7-b491-34b5b4f08f01",
   "metadata": {},
   "outputs": [
    {
     "data": {
      "text/plain": [
       "Pipeline(steps=[('standardscaler', StandardScaler()),\n",
       "                ('adaboostregressor', AdaBoostRegressor())])"
      ]
     },
     "execution_count": 60,
     "metadata": {},
     "output_type": "execute_result"
    }
   ],
   "source": [
    "adaboost_pipeline.fit(X,y)"
   ]
  },
  {
   "cell_type": "markdown",
   "id": "e34d57a3-7e07-49c0-8f04-19e11dffc0d3",
   "metadata": {},
   "source": [
    "## Light GBM"
   ]
  },
  {
   "cell_type": "code",
   "execution_count": 62,
   "id": "83650658-c5c6-4ad0-92d3-0a0c4ea634bb",
   "metadata": {},
   "outputs": [],
   "source": [
    "from lightgbm import LGBMRegressor"
   ]
  },
  {
   "cell_type": "code",
   "execution_count": 63,
   "id": "048f68b5-11fe-46a8-b254-3c36f40d0d9e",
   "metadata": {},
   "outputs": [
    {
     "data": {
      "text/plain": [
       "Pipeline(steps=[('standardscaler', StandardScaler()),\n",
       "                ('lgbmregressor', LGBMRegressor())])"
      ]
     },
     "execution_count": 63,
     "metadata": {},
     "output_type": "execute_result"
    }
   ],
   "source": [
    "light_gbm = LGBMRegressor()\n",
    "\n",
    "light_gbm_pipeline = make_pipeline(StandardScaler(),light_gbm)\n",
    "\n",
    "light_gbm_pipeline.fit(X,y)"
   ]
  },
  {
   "cell_type": "markdown",
   "id": "85836337-15b1-4dd2-ad5d-30251f5559f8",
   "metadata": {},
   "source": [
    "## GradientBoostingRegressor"
   ]
  },
  {
   "cell_type": "code",
   "execution_count": 65,
   "id": "a03055c4-efc7-4813-997b-36453b1eba61",
   "metadata": {},
   "outputs": [],
   "source": [
    "from sklearn.ensemble import GradientBoostingRegressor"
   ]
  },
  {
   "cell_type": "code",
   "execution_count": 66,
   "id": "cca54f3a-82e9-40cf-9175-288e3d094c15",
   "metadata": {},
   "outputs": [
    {
     "data": {
      "text/plain": [
       "GradientBoostingRegressor()"
      ]
     },
     "execution_count": 66,
     "metadata": {},
     "output_type": "execute_result"
    }
   ],
   "source": [
    "gbr = GradientBoostingRegressor()\n",
    "\n",
    "gbr_pipeline = make_pipeline(StandardScaler(),gbr)\n",
    "\n",
    "gbr.fit(X,y)"
   ]
  },
  {
   "cell_type": "markdown",
   "id": "79cfef73-f8b4-4817-b439-64c9b8d5bff8",
   "metadata": {
    "tags": []
   },
   "source": [
    "## Stochastic Gradient Descent Regression"
   ]
  },
  {
   "cell_type": "code",
   "execution_count": 69,
   "id": "5ce78dac-5539-409b-b5e6-9c4b53a7bd7c",
   "metadata": {},
   "outputs": [],
   "source": [
    "from sklearn.linear_model import SGDRegressor"
   ]
  },
  {
   "cell_type": "code",
   "execution_count": 70,
   "id": "2d6899c9-5c24-42b9-8d6f-37050d697b36",
   "metadata": {},
   "outputs": [
    {
     "data": {
      "text/plain": [
       "Pipeline(steps=[('standardscaler', StandardScaler()),\n",
       "                ('sgdregressor', SGDRegressor())])"
      ]
     },
     "execution_count": 70,
     "metadata": {},
     "output_type": "execute_result"
    }
   ],
   "source": [
    "SGDR = SGDRegressor()\n",
    "\n",
    "SGDR_pipeline = make_pipeline(StandardScaler(),SGDR)\n",
    "\n",
    "SGDR_pipeline.fit(X,y)"
   ]
  },
  {
   "cell_type": "markdown",
   "id": "fe006443-62da-47cb-a86f-88f8afe86514",
   "metadata": {},
   "source": [
    "## from sklearn.svm import SVR\n",
    "Support Vector Machine"
   ]
  },
  {
   "cell_type": "code",
   "execution_count": 72,
   "id": "2d5f06da-5993-46f5-8bed-faefca0f4e58",
   "metadata": {},
   "outputs": [],
   "source": [
    "from sklearn.svm import SVR"
   ]
  },
  {
   "cell_type": "code",
   "execution_count": 73,
   "id": "4bfe9a4c-49dc-4f0d-92b8-f7a4b67da8c4",
   "metadata": {},
   "outputs": [
    {
     "data": {
      "text/plain": [
       "Pipeline(steps=[('standardscaler', StandardScaler()), ('svr', SVR())])"
      ]
     },
     "execution_count": 73,
     "metadata": {},
     "output_type": "execute_result"
    }
   ],
   "source": [
    "svr = SVR()\n",
    "\n",
    "svr_pipeline = make_pipeline(StandardScaler(),svr)\n",
    "\n",
    "svr_pipeline.fit(X,y)"
   ]
  },
  {
   "cell_type": "markdown",
   "id": "c709d868-ce23-4d56-96c0-8a7383d3510c",
   "metadata": {},
   "source": [
    "## from sklearn.linear_model import BayesianRidge"
   ]
  },
  {
   "cell_type": "code",
   "execution_count": 76,
   "id": "849570f6-8fd2-43fa-8276-d1cc8818cc87",
   "metadata": {},
   "outputs": [],
   "source": [
    "from sklearn.linear_model import BayesianRidge"
   ]
  },
  {
   "cell_type": "code",
   "execution_count": 77,
   "id": "643ec142-a9dd-48de-b4a5-d7ba42218f07",
   "metadata": {},
   "outputs": [
    {
     "data": {
      "text/plain": [
       "Pipeline(steps=[('standardscaler', StandardScaler()),\n",
       "                ('bayesianridge', BayesianRidge())])"
      ]
     },
     "execution_count": 77,
     "metadata": {},
     "output_type": "execute_result"
    }
   ],
   "source": [
    "bayesianr = BayesianRidge()\n",
    "\n",
    "bayesianr_pipeline = make_pipeline(StandardScaler(),bayesianr)\n",
    "\n",
    "bayesianr_pipeline.fit(X,y)"
   ]
  },
  {
   "cell_type": "markdown",
   "id": "0e748b41-cf8b-445d-bc7f-f48d3a9a53fb",
   "metadata": {},
   "source": [
    "## from sklearn.kernel_ridge import KernelRidge"
   ]
  },
  {
   "cell_type": "code",
   "execution_count": 80,
   "id": "7c087125-08f8-48b1-8f37-47ce4dc2e76e",
   "metadata": {},
   "outputs": [],
   "source": [
    "from sklearn.kernel_ridge import KernelRidge"
   ]
  },
  {
   "cell_type": "code",
   "execution_count": 81,
   "id": "7d021544-1b14-49d9-a896-2e0c0cb43c22",
   "metadata": {},
   "outputs": [
    {
     "data": {
      "text/plain": [
       "Pipeline(steps=[('standardscaler', StandardScaler()),\n",
       "                ('kernelridge', KernelRidge())])"
      ]
     },
     "execution_count": 81,
     "metadata": {},
     "output_type": "execute_result"
    }
   ],
   "source": [
    "kernelr = KernelRidge()\n",
    "\n",
    "kernelr_pipeline = make_pipeline(StandardScaler(),kernelr)\n",
    "\n",
    "kernelr_pipeline.fit(X,y)"
   ]
  },
  {
   "cell_type": "markdown",
   "id": "dd52d9d2-ad42-4f80-8b79-fa6cc5f7e815",
   "metadata": {
    "tags": []
   },
   "source": [
    "## Ensemble"
   ]
  },
  {
   "cell_type": "code",
   "execution_count": 85,
   "id": "c35760e3-327e-4967-bd17-c84d8ec5fc82",
   "metadata": {},
   "outputs": [],
   "source": [
    "from sklearn.ensemble import VotingRegressor, StackingRegressor"
   ]
  },
  {
   "cell_type": "code",
   "execution_count": 87,
   "id": "9b5fba34-36aa-42dd-a60d-a3887cf510e1",
   "metadata": {},
   "outputs": [],
   "source": [
    "voting_reg = VotingRegressor([('elastic_net',elastic_net_pipeline)\n",
    "                              ,('rf',random_forest_pipeline)\n",
    "                              ,('xg_boost',xg_boost_pipeline)\n",
    "                             # ,('adaboost',adaboost_pipeline)\n",
    "                                  ,('lightgbm',light_gbm_pipeline)\n",
    "                                  ,('gbr',gbr_pipeline)\n",
    "                                  ,('bayesianRidge',bayesianr_pipeline)\n",
    "                                  # ,('kernelRidge',kernelr)\n",
    "                             ])"
   ]
  },
  {
   "cell_type": "code",
   "execution_count": 92,
   "id": "9b75b6a1-a313-45a2-9bb5-7199b24569d9",
   "metadata": {},
   "outputs": [
    {
     "data": {
      "text/plain": [
       "VotingRegressor(estimators=[('elastic_net',\n",
       "                             Pipeline(steps=[('standardscaler',\n",
       "                                              StandardScaler()),\n",
       "                                             ('elasticnetcv',\n",
       "                                              ElasticNetCV(cv=5,\n",
       "                                                           l1_ratio=[0.5, 0.7,\n",
       "                                                                     0.8, 0.9,\n",
       "                                                                     1],\n",
       "                                                           random_state=0))])),\n",
       "                            ('rf',\n",
       "                             Pipeline(steps=[('standardscaler',\n",
       "                                              StandardScaler()),\n",
       "                                             ('randomforestregressor',\n",
       "                                              RandomForestRegressor(n_estimators=200,\n",
       "                                                                    oob_score=True))])),\n",
       "                            ('xg_boost',\n",
       "                             Pipeline(steps=[('...\n",
       "                                                           reg_lambda=1, ...))])),\n",
       "                            ('lightgbm',\n",
       "                             Pipeline(steps=[('standardscaler',\n",
       "                                              StandardScaler()),\n",
       "                                             ('lgbmregressor',\n",
       "                                              LGBMRegressor())])),\n",
       "                            ('gbr',\n",
       "                             Pipeline(steps=[('standardscaler',\n",
       "                                              StandardScaler()),\n",
       "                                             ('gradientboostingregressor',\n",
       "                                              GradientBoostingRegressor())])),\n",
       "                            ('bayesianRidge',\n",
       "                             Pipeline(steps=[('standardscaler',\n",
       "                                              StandardScaler()),\n",
       "                                             ('bayesianridge',\n",
       "                                              BayesianRidge())]))])"
      ]
     },
     "execution_count": 92,
     "metadata": {},
     "output_type": "execute_result"
    }
   ],
   "source": [
    "voting_reg.fit(X,y)"
   ]
  },
  {
   "cell_type": "code",
   "execution_count": 89,
   "id": "a48a2e9c-5617-470a-aa5d-4ab0c58b5e24",
   "metadata": {},
   "outputs": [],
   "source": [
    "stacking_reg = StackingRegressor([('elastic_net',elastic_net_pipeline)\n",
    "                              ,('rf',random_forest_pipeline)\n",
    "                              ,('xg_boost',xg_boost_pipeline)\n",
    "                             # ,('adaboost',adaboost_pipeline)\n",
    "                                  ,('lightgbm',light_gbm_pipeline)\n",
    "                                  ,('gbr',gbr_pipeline)\n",
    "                                  ,('bayesianRidge',bayesianr_pipeline)\n",
    "                                  # ,('kernelRidge',kernelr)\n",
    "                             ])"
   ]
  },
  {
   "cell_type": "code",
   "execution_count": 90,
   "id": "56fbc4da-9dec-4018-8017-73884887d0d5",
   "metadata": {},
   "outputs": [
    {
     "data": {
      "text/plain": [
       "StackingRegressor(estimators=[('elastic_net',\n",
       "                               Pipeline(steps=[('standardscaler',\n",
       "                                                StandardScaler()),\n",
       "                                               ('elasticnetcv',\n",
       "                                                ElasticNetCV(cv=5,\n",
       "                                                             l1_ratio=[0.5, 0.7,\n",
       "                                                                       0.8, 0.9,\n",
       "                                                                       1],\n",
       "                                                             random_state=0))])),\n",
       "                              ('rf',\n",
       "                               Pipeline(steps=[('standardscaler',\n",
       "                                                StandardScaler()),\n",
       "                                               ('randomforestregressor',\n",
       "                                                RandomForestRegressor(n_estimators=200,\n",
       "                                                                      oob_score=True))])),\n",
       "                              ('xg_boost',\n",
       "                               Pipeline(steps=[...\n",
       "                                                             reg_lambda=1, ...))])),\n",
       "                              ('lightgbm',\n",
       "                               Pipeline(steps=[('standardscaler',\n",
       "                                                StandardScaler()),\n",
       "                                               ('lgbmregressor',\n",
       "                                                LGBMRegressor())])),\n",
       "                              ('gbr',\n",
       "                               Pipeline(steps=[('standardscaler',\n",
       "                                                StandardScaler()),\n",
       "                                               ('gradientboostingregressor',\n",
       "                                                GradientBoostingRegressor())])),\n",
       "                              ('bayesianRidge',\n",
       "                               Pipeline(steps=[('standardscaler',\n",
       "                                                StandardScaler()),\n",
       "                                               ('bayesianridge',\n",
       "                                                BayesianRidge())]))])"
      ]
     },
     "execution_count": 90,
     "metadata": {},
     "output_type": "execute_result"
    }
   ],
   "source": [
    "stacking_reg.fit(X,y)"
   ]
  },
  {
   "cell_type": "markdown",
   "id": "4ee8b72d-45f8-43fd-91f4-efe9aed6e8ad",
   "metadata": {
    "tags": []
   },
   "source": [
    "## Cross Val Score"
   ]
  },
  {
   "cell_type": "code",
   "execution_count": 34,
   "id": "e50ccc2d-cffc-4350-89ca-c7e79b36ca52",
   "metadata": {},
   "outputs": [],
   "source": [
    "from sklearn.model_selection import cross_validate"
   ]
  },
  {
   "cell_type": "code",
   "execution_count": 43,
   "id": "ed9be753-e2ef-4dfb-905d-3586b82640cd",
   "metadata": {},
   "outputs": [
    {
     "data": {
      "text/html": [
       "<div>\n",
       "<style scoped>\n",
       "    .dataframe tbody tr th:only-of-type {\n",
       "        vertical-align: middle;\n",
       "    }\n",
       "\n",
       "    .dataframe tbody tr th {\n",
       "        vertical-align: top;\n",
       "    }\n",
       "\n",
       "    .dataframe thead th {\n",
       "        text-align: right;\n",
       "    }\n",
       "</style>\n",
       "<table border=\"1\" class=\"dataframe\">\n",
       "  <thead>\n",
       "    <tr style=\"text-align: right;\">\n",
       "      <th></th>\n",
       "      <th>count</th>\n",
       "      <th>mean</th>\n",
       "      <th>std</th>\n",
       "      <th>min</th>\n",
       "      <th>25%</th>\n",
       "      <th>50%</th>\n",
       "      <th>75%</th>\n",
       "      <th>max</th>\n",
       "    </tr>\n",
       "  </thead>\n",
       "  <tbody>\n",
       "    <tr>\n",
       "      <th>0</th>\n",
       "      <td>5.0</td>\n",
       "      <td>-0.020617</td>\n",
       "      <td>0.010032</td>\n",
       "      <td>-0.035587</td>\n",
       "      <td>-0.022522</td>\n",
       "      <td>-0.022276</td>\n",
       "      <td>-0.011766</td>\n",
       "      <td>-0.010933</td>\n",
       "    </tr>\n",
       "  </tbody>\n",
       "</table>\n",
       "</div>"
      ],
      "text/plain": [
       "   count      mean       std       min       25%       50%       75%       max\n",
       "0    5.0 -0.020617  0.010032 -0.035587 -0.022522 -0.022276 -0.011766 -0.010933"
      ]
     },
     "execution_count": 43,
     "metadata": {},
     "output_type": "execute_result"
    }
   ],
   "source": [
    "val_results = cross_validate(elastic_net_pipeline,X,y, scoring=['neg_mean_squared_error','r2'])\n",
    "pd.DataFrame(val_results['test_neg_mean_squared_error']).describe().transpose()"
   ]
  },
  {
   "cell_type": "code",
   "execution_count": 25,
   "id": "f9ba04dc-b369-4112-9953-c95939758832",
   "metadata": {},
   "outputs": [
    {
     "data": {
      "text/html": [
       "<div>\n",
       "<style scoped>\n",
       "    .dataframe tbody tr th:only-of-type {\n",
       "        vertical-align: middle;\n",
       "    }\n",
       "\n",
       "    .dataframe tbody tr th {\n",
       "        vertical-align: top;\n",
       "    }\n",
       "\n",
       "    .dataframe thead th {\n",
       "        text-align: right;\n",
       "    }\n",
       "</style>\n",
       "<table border=\"1\" class=\"dataframe\">\n",
       "  <thead>\n",
       "    <tr style=\"text-align: right;\">\n",
       "      <th></th>\n",
       "      <th>count</th>\n",
       "      <th>mean</th>\n",
       "      <th>std</th>\n",
       "      <th>min</th>\n",
       "      <th>25%</th>\n",
       "      <th>50%</th>\n",
       "      <th>75%</th>\n",
       "      <th>max</th>\n",
       "    </tr>\n",
       "  </thead>\n",
       "  <tbody>\n",
       "    <tr>\n",
       "      <th>0</th>\n",
       "      <td>5.0</td>\n",
       "      <td>-0.020734</td>\n",
       "      <td>0.010145</td>\n",
       "      <td>-0.035885</td>\n",
       "      <td>-0.022604</td>\n",
       "      <td>-0.022441</td>\n",
       "      <td>-0.011772</td>\n",
       "      <td>-0.010967</td>\n",
       "    </tr>\n",
       "  </tbody>\n",
       "</table>\n",
       "</div>"
      ],
      "text/plain": [
       "   count      mean       std       min       25%       50%       75%       max\n",
       "0    5.0 -0.020734  0.010145 -0.035885 -0.022604 -0.022441 -0.011772 -0.010967"
      ]
     },
     "execution_count": 25,
     "metadata": {},
     "output_type": "execute_result"
    }
   ],
   "source": [
    "val_results = cross_validate(lasso_pipeline,X,y, scoring=['neg_mean_squared_error','r2'])\n",
    "pd.DataFrame(val_results['test_neg_mean_squared_error']).describe().transpose()"
   ]
  },
  {
   "cell_type": "code",
   "execution_count": 47,
   "id": "337ff990-c6a2-4287-9dfc-7453944c8629",
   "metadata": {},
   "outputs": [
    {
     "data": {
      "text/html": [
       "<div>\n",
       "<style scoped>\n",
       "    .dataframe tbody tr th:only-of-type {\n",
       "        vertical-align: middle;\n",
       "    }\n",
       "\n",
       "    .dataframe tbody tr th {\n",
       "        vertical-align: top;\n",
       "    }\n",
       "\n",
       "    .dataframe thead th {\n",
       "        text-align: right;\n",
       "    }\n",
       "</style>\n",
       "<table border=\"1\" class=\"dataframe\">\n",
       "  <thead>\n",
       "    <tr style=\"text-align: right;\">\n",
       "      <th></th>\n",
       "      <th>count</th>\n",
       "      <th>mean</th>\n",
       "      <th>std</th>\n",
       "      <th>min</th>\n",
       "      <th>25%</th>\n",
       "      <th>50%</th>\n",
       "      <th>75%</th>\n",
       "      <th>max</th>\n",
       "    </tr>\n",
       "  </thead>\n",
       "  <tbody>\n",
       "    <tr>\n",
       "      <th>0</th>\n",
       "      <td>5.0</td>\n",
       "      <td>-0.037794</td>\n",
       "      <td>0.004469</td>\n",
       "      <td>-0.043628</td>\n",
       "      <td>-0.040288</td>\n",
       "      <td>-0.037976</td>\n",
       "      <td>-0.034838</td>\n",
       "      <td>-0.03224</td>\n",
       "    </tr>\n",
       "  </tbody>\n",
       "</table>\n",
       "</div>"
      ],
      "text/plain": [
       "   count      mean       std       min       25%       50%       75%      max\n",
       "0    5.0 -0.037794  0.004469 -0.043628 -0.040288 -0.037976 -0.034838 -0.03224"
      ]
     },
     "execution_count": 47,
     "metadata": {},
     "output_type": "execute_result"
    }
   ],
   "source": [
    "val_results = cross_validate(decision_tree_pipeline,X,y, scoring=['neg_mean_squared_error','r2'])\n",
    "pd.DataFrame(val_results['test_neg_mean_squared_error']).describe().transpose()"
   ]
  },
  {
   "cell_type": "code",
   "execution_count": 51,
   "id": "276aa2df-d0b3-4e78-a4e3-c2c1ca948160",
   "metadata": {},
   "outputs": [
    {
     "data": {
      "text/html": [
       "<div>\n",
       "<style scoped>\n",
       "    .dataframe tbody tr th:only-of-type {\n",
       "        vertical-align: middle;\n",
       "    }\n",
       "\n",
       "    .dataframe tbody tr th {\n",
       "        vertical-align: top;\n",
       "    }\n",
       "\n",
       "    .dataframe thead th {\n",
       "        text-align: right;\n",
       "    }\n",
       "</style>\n",
       "<table border=\"1\" class=\"dataframe\">\n",
       "  <thead>\n",
       "    <tr style=\"text-align: right;\">\n",
       "      <th></th>\n",
       "      <th>count</th>\n",
       "      <th>mean</th>\n",
       "      <th>std</th>\n",
       "      <th>min</th>\n",
       "      <th>25%</th>\n",
       "      <th>50%</th>\n",
       "      <th>75%</th>\n",
       "      <th>max</th>\n",
       "    </tr>\n",
       "  </thead>\n",
       "  <tbody>\n",
       "    <tr>\n",
       "      <th>0</th>\n",
       "      <td>5.0</td>\n",
       "      <td>-0.020725</td>\n",
       "      <td>0.002873</td>\n",
       "      <td>-0.024823</td>\n",
       "      <td>-0.021896</td>\n",
       "      <td>-0.020797</td>\n",
       "      <td>-0.018601</td>\n",
       "      <td>-0.01751</td>\n",
       "    </tr>\n",
       "  </tbody>\n",
       "</table>\n",
       "</div>"
      ],
      "text/plain": [
       "   count      mean       std       min       25%       50%       75%      max\n",
       "0    5.0 -0.020725  0.002873 -0.024823 -0.021896 -0.020797 -0.018601 -0.01751"
      ]
     },
     "execution_count": 51,
     "metadata": {},
     "output_type": "execute_result"
    }
   ],
   "source": [
    "val_results = cross_validate(xg_boost_pipeline,X,y, scoring=['neg_mean_squared_error','r2'])\n",
    "pd.DataFrame(val_results['test_neg_mean_squared_error']).describe().transpose()"
   ]
  },
  {
   "cell_type": "code",
   "execution_count": 52,
   "id": "8fa23837-8325-48e1-8610-67b4fc2315ae",
   "metadata": {},
   "outputs": [
    {
     "data": {
      "text/html": [
       "<div>\n",
       "<style scoped>\n",
       "    .dataframe tbody tr th:only-of-type {\n",
       "        vertical-align: middle;\n",
       "    }\n",
       "\n",
       "    .dataframe tbody tr th {\n",
       "        vertical-align: top;\n",
       "    }\n",
       "\n",
       "    .dataframe thead th {\n",
       "        text-align: right;\n",
       "    }\n",
       "</style>\n",
       "<table border=\"1\" class=\"dataframe\">\n",
       "  <thead>\n",
       "    <tr style=\"text-align: right;\">\n",
       "      <th></th>\n",
       "      <th>count</th>\n",
       "      <th>mean</th>\n",
       "      <th>std</th>\n",
       "      <th>min</th>\n",
       "      <th>25%</th>\n",
       "      <th>50%</th>\n",
       "      <th>75%</th>\n",
       "      <th>max</th>\n",
       "    </tr>\n",
       "  </thead>\n",
       "  <tbody>\n",
       "    <tr>\n",
       "      <th>0</th>\n",
       "      <td>5.0</td>\n",
       "      <td>-0.020422</td>\n",
       "      <td>0.002488</td>\n",
       "      <td>-0.023458</td>\n",
       "      <td>-0.021937</td>\n",
       "      <td>-0.020676</td>\n",
       "      <td>-0.01893</td>\n",
       "      <td>-0.017112</td>\n",
       "    </tr>\n",
       "  </tbody>\n",
       "</table>\n",
       "</div>"
      ],
      "text/plain": [
       "   count      mean       std       min       25%       50%      75%       max\n",
       "0    5.0 -0.020422  0.002488 -0.023458 -0.021937 -0.020676 -0.01893 -0.017112"
      ]
     },
     "execution_count": 52,
     "metadata": {},
     "output_type": "execute_result"
    }
   ],
   "source": [
    "val_results = cross_validate(random_forest_pipeline,X,y, scoring=['neg_mean_squared_error','r2'])\n",
    "pd.DataFrame(val_results['test_neg_mean_squared_error']).describe().transpose()"
   ]
  },
  {
   "cell_type": "code",
   "execution_count": 202,
   "id": "3340e562-c118-4647-aa33-f94b57008e30",
   "metadata": {},
   "outputs": [
    {
     "data": {
      "text/html": [
       "<div>\n",
       "<style scoped>\n",
       "    .dataframe tbody tr th:only-of-type {\n",
       "        vertical-align: middle;\n",
       "    }\n",
       "\n",
       "    .dataframe tbody tr th {\n",
       "        vertical-align: top;\n",
       "    }\n",
       "\n",
       "    .dataframe thead th {\n",
       "        text-align: right;\n",
       "    }\n",
       "</style>\n",
       "<table border=\"1\" class=\"dataframe\">\n",
       "  <thead>\n",
       "    <tr style=\"text-align: right;\">\n",
       "      <th></th>\n",
       "      <th>count</th>\n",
       "      <th>mean</th>\n",
       "      <th>std</th>\n",
       "      <th>min</th>\n",
       "      <th>25%</th>\n",
       "      <th>50%</th>\n",
       "      <th>75%</th>\n",
       "      <th>max</th>\n",
       "    </tr>\n",
       "  </thead>\n",
       "  <tbody>\n",
       "    <tr>\n",
       "      <th>0</th>\n",
       "      <td>5.0</td>\n",
       "      <td>-0.020326</td>\n",
       "      <td>0.002785</td>\n",
       "      <td>-0.023262</td>\n",
       "      <td>-0.022594</td>\n",
       "      <td>-0.020544</td>\n",
       "      <td>-0.01874</td>\n",
       "      <td>-0.016492</td>\n",
       "    </tr>\n",
       "  </tbody>\n",
       "</table>\n",
       "</div>"
      ],
      "text/plain": [
       "   count      mean       std       min       25%       50%      75%       max\n",
       "0    5.0 -0.020326  0.002785 -0.023262 -0.022594 -0.020544 -0.01874 -0.016492"
      ]
     },
     "execution_count": 202,
     "metadata": {},
     "output_type": "execute_result"
    }
   ],
   "source": [
    "val_results = cross_validate(random_forest_initial,X,y, scoring=['neg_mean_squared_error','r2'])\n",
    "pd.DataFrame(val_results['test_neg_mean_squared_error']).describe().transpose()"
   ]
  },
  {
   "cell_type": "code",
   "execution_count": 61,
   "id": "4c7c9918-70a6-4ee9-bec2-95d876d2b6a2",
   "metadata": {},
   "outputs": [
    {
     "data": {
      "text/html": [
       "<div>\n",
       "<style scoped>\n",
       "    .dataframe tbody tr th:only-of-type {\n",
       "        vertical-align: middle;\n",
       "    }\n",
       "\n",
       "    .dataframe tbody tr th {\n",
       "        vertical-align: top;\n",
       "    }\n",
       "\n",
       "    .dataframe thead th {\n",
       "        text-align: right;\n",
       "    }\n",
       "</style>\n",
       "<table border=\"1\" class=\"dataframe\">\n",
       "  <thead>\n",
       "    <tr style=\"text-align: right;\">\n",
       "      <th></th>\n",
       "      <th>count</th>\n",
       "      <th>mean</th>\n",
       "      <th>std</th>\n",
       "      <th>min</th>\n",
       "      <th>25%</th>\n",
       "      <th>50%</th>\n",
       "      <th>75%</th>\n",
       "      <th>max</th>\n",
       "    </tr>\n",
       "  </thead>\n",
       "  <tbody>\n",
       "    <tr>\n",
       "      <th>0</th>\n",
       "      <td>5.0</td>\n",
       "      <td>-0.029985</td>\n",
       "      <td>0.002666</td>\n",
       "      <td>-0.034171</td>\n",
       "      <td>-0.030452</td>\n",
       "      <td>-0.029798</td>\n",
       "      <td>-0.028341</td>\n",
       "      <td>-0.027164</td>\n",
       "    </tr>\n",
       "  </tbody>\n",
       "</table>\n",
       "</div>"
      ],
      "text/plain": [
       "   count      mean       std       min       25%       50%       75%       max\n",
       "0    5.0 -0.029985  0.002666 -0.034171 -0.030452 -0.029798 -0.028341 -0.027164"
      ]
     },
     "execution_count": 61,
     "metadata": {},
     "output_type": "execute_result"
    }
   ],
   "source": [
    "val_results = cross_validate(adaboost_pipeline,X,y, scoring=['neg_mean_squared_error','r2'])\n",
    "pd.DataFrame(val_results['test_neg_mean_squared_error']).describe().transpose()"
   ]
  },
  {
   "cell_type": "code",
   "execution_count": 64,
   "id": "20e9b132-888c-42e8-951a-cb279abed13e",
   "metadata": {},
   "outputs": [
    {
     "data": {
      "text/html": [
       "<div>\n",
       "<style scoped>\n",
       "    .dataframe tbody tr th:only-of-type {\n",
       "        vertical-align: middle;\n",
       "    }\n",
       "\n",
       "    .dataframe tbody tr th {\n",
       "        vertical-align: top;\n",
       "    }\n",
       "\n",
       "    .dataframe thead th {\n",
       "        text-align: right;\n",
       "    }\n",
       "</style>\n",
       "<table border=\"1\" class=\"dataframe\">\n",
       "  <thead>\n",
       "    <tr style=\"text-align: right;\">\n",
       "      <th></th>\n",
       "      <th>count</th>\n",
       "      <th>mean</th>\n",
       "      <th>std</th>\n",
       "      <th>min</th>\n",
       "      <th>25%</th>\n",
       "      <th>50%</th>\n",
       "      <th>75%</th>\n",
       "      <th>max</th>\n",
       "    </tr>\n",
       "  </thead>\n",
       "  <tbody>\n",
       "    <tr>\n",
       "      <th>0</th>\n",
       "      <td>5.0</td>\n",
       "      <td>-0.017546</td>\n",
       "      <td>0.002645</td>\n",
       "      <td>-0.021153</td>\n",
       "      <td>-0.01853</td>\n",
       "      <td>-0.017916</td>\n",
       "      <td>-0.015946</td>\n",
       "      <td>-0.014183</td>\n",
       "    </tr>\n",
       "  </tbody>\n",
       "</table>\n",
       "</div>"
      ],
      "text/plain": [
       "   count      mean       std       min      25%       50%       75%       max\n",
       "0    5.0 -0.017546  0.002645 -0.021153 -0.01853 -0.017916 -0.015946 -0.014183"
      ]
     },
     "execution_count": 64,
     "metadata": {},
     "output_type": "execute_result"
    }
   ],
   "source": [
    "val_results = cross_validate(light_gbm_pipeline,X,y, scoring=['neg_mean_squared_error','r2'])\n",
    "pd.DataFrame(val_results['test_neg_mean_squared_error']).describe().transpose()"
   ]
  },
  {
   "cell_type": "code",
   "execution_count": 67,
   "id": "02984416-a9c1-4513-899d-80c43433360a",
   "metadata": {},
   "outputs": [
    {
     "data": {
      "text/html": [
       "<div>\n",
       "<style scoped>\n",
       "    .dataframe tbody tr th:only-of-type {\n",
       "        vertical-align: middle;\n",
       "    }\n",
       "\n",
       "    .dataframe tbody tr th {\n",
       "        vertical-align: top;\n",
       "    }\n",
       "\n",
       "    .dataframe thead th {\n",
       "        text-align: right;\n",
       "    }\n",
       "</style>\n",
       "<table border=\"1\" class=\"dataframe\">\n",
       "  <thead>\n",
       "    <tr style=\"text-align: right;\">\n",
       "      <th></th>\n",
       "      <th>count</th>\n",
       "      <th>mean</th>\n",
       "      <th>std</th>\n",
       "      <th>min</th>\n",
       "      <th>25%</th>\n",
       "      <th>50%</th>\n",
       "      <th>75%</th>\n",
       "      <th>max</th>\n",
       "    </tr>\n",
       "  </thead>\n",
       "  <tbody>\n",
       "    <tr>\n",
       "      <th>0</th>\n",
       "      <td>5.0</td>\n",
       "      <td>-0.016221</td>\n",
       "      <td>0.002595</td>\n",
       "      <td>-0.01974</td>\n",
       "      <td>-0.017143</td>\n",
       "      <td>-0.016892</td>\n",
       "      <td>-0.013975</td>\n",
       "      <td>-0.013354</td>\n",
       "    </tr>\n",
       "  </tbody>\n",
       "</table>\n",
       "</div>"
      ],
      "text/plain": [
       "   count      mean       std      min       25%       50%       75%       max\n",
       "0    5.0 -0.016221  0.002595 -0.01974 -0.017143 -0.016892 -0.013975 -0.013354"
      ]
     },
     "execution_count": 67,
     "metadata": {},
     "output_type": "execute_result"
    }
   ],
   "source": [
    "val_results = cross_validate(gbr_pipeline,X,y, scoring=['neg_mean_squared_error','r2'])\n",
    "pd.DataFrame(val_results['test_neg_mean_squared_error']).describe().transpose()"
   ]
  },
  {
   "cell_type": "code",
   "execution_count": 71,
   "id": "c3b3dbbb-b970-4d89-921b-7cab599965af",
   "metadata": {},
   "outputs": [
    {
     "data": {
      "text/html": [
       "<div>\n",
       "<style scoped>\n",
       "    .dataframe tbody tr th:only-of-type {\n",
       "        vertical-align: middle;\n",
       "    }\n",
       "\n",
       "    .dataframe tbody tr th {\n",
       "        vertical-align: top;\n",
       "    }\n",
       "\n",
       "    .dataframe thead th {\n",
       "        text-align: right;\n",
       "    }\n",
       "</style>\n",
       "<table border=\"1\" class=\"dataframe\">\n",
       "  <thead>\n",
       "    <tr style=\"text-align: right;\">\n",
       "      <th></th>\n",
       "      <th>count</th>\n",
       "      <th>mean</th>\n",
       "      <th>std</th>\n",
       "      <th>min</th>\n",
       "      <th>25%</th>\n",
       "      <th>50%</th>\n",
       "      <th>75%</th>\n",
       "      <th>max</th>\n",
       "    </tr>\n",
       "  </thead>\n",
       "  <tbody>\n",
       "    <tr>\n",
       "      <th>0</th>\n",
       "      <td>5.0</td>\n",
       "      <td>-9.992990e+33</td>\n",
       "      <td>9.050041e+33</td>\n",
       "      <td>-2.328386e+34</td>\n",
       "      <td>-1.334854e+34</td>\n",
       "      <td>-9.722485e+33</td>\n",
       "      <td>-3.470509e+33</td>\n",
       "      <td>-1.395562e+32</td>\n",
       "    </tr>\n",
       "  </tbody>\n",
       "</table>\n",
       "</div>"
      ],
      "text/plain": [
       "   count          mean           std           min           25%  \\\n",
       "0    5.0 -9.992990e+33  9.050041e+33 -2.328386e+34 -1.334854e+34   \n",
       "\n",
       "            50%           75%           max  \n",
       "0 -9.722485e+33 -3.470509e+33 -1.395562e+32  "
      ]
     },
     "execution_count": 71,
     "metadata": {},
     "output_type": "execute_result"
    }
   ],
   "source": [
    "val_results = cross_validate(SGDR,X,y, scoring=['neg_mean_squared_error','r2'])\n",
    "pd.DataFrame(val_results['test_neg_mean_squared_error']).describe().transpose()"
   ]
  },
  {
   "cell_type": "code",
   "execution_count": 74,
   "id": "59185868-37ac-49d6-89a5-c5defcc0c9d6",
   "metadata": {},
   "outputs": [
    {
     "data": {
      "text/html": [
       "<div>\n",
       "<style scoped>\n",
       "    .dataframe tbody tr th:only-of-type {\n",
       "        vertical-align: middle;\n",
       "    }\n",
       "\n",
       "    .dataframe tbody tr th {\n",
       "        vertical-align: top;\n",
       "    }\n",
       "\n",
       "    .dataframe thead th {\n",
       "        text-align: right;\n",
       "    }\n",
       "</style>\n",
       "<table border=\"1\" class=\"dataframe\">\n",
       "  <thead>\n",
       "    <tr style=\"text-align: right;\">\n",
       "      <th></th>\n",
       "      <th>count</th>\n",
       "      <th>mean</th>\n",
       "      <th>std</th>\n",
       "      <th>min</th>\n",
       "      <th>25%</th>\n",
       "      <th>50%</th>\n",
       "      <th>75%</th>\n",
       "      <th>max</th>\n",
       "    </tr>\n",
       "  </thead>\n",
       "  <tbody>\n",
       "    <tr>\n",
       "      <th>0</th>\n",
       "      <td>5.0</td>\n",
       "      <td>-0.041615</td>\n",
       "      <td>0.004721</td>\n",
       "      <td>-0.045491</td>\n",
       "      <td>-0.045126</td>\n",
       "      <td>-0.042035</td>\n",
       "      <td>-0.041659</td>\n",
       "      <td>-0.033765</td>\n",
       "    </tr>\n",
       "  </tbody>\n",
       "</table>\n",
       "</div>"
      ],
      "text/plain": [
       "   count      mean       std       min       25%       50%       75%       max\n",
       "0    5.0 -0.041615  0.004721 -0.045491 -0.045126 -0.042035 -0.041659 -0.033765"
      ]
     },
     "execution_count": 74,
     "metadata": {},
     "output_type": "execute_result"
    }
   ],
   "source": [
    "val_results = cross_validate(svr,X,y, scoring=['neg_mean_squared_error','r2'])\n",
    "pd.DataFrame(val_results['test_neg_mean_squared_error']).describe().transpose()"
   ]
  },
  {
   "cell_type": "code",
   "execution_count": 78,
   "id": "61855656-5671-486d-a2b9-4833d6c80998",
   "metadata": {},
   "outputs": [
    {
     "data": {
      "text/html": [
       "<div>\n",
       "<style scoped>\n",
       "    .dataframe tbody tr th:only-of-type {\n",
       "        vertical-align: middle;\n",
       "    }\n",
       "\n",
       "    .dataframe tbody tr th {\n",
       "        vertical-align: top;\n",
       "    }\n",
       "\n",
       "    .dataframe thead th {\n",
       "        text-align: right;\n",
       "    }\n",
       "</style>\n",
       "<table border=\"1\" class=\"dataframe\">\n",
       "  <thead>\n",
       "    <tr style=\"text-align: right;\">\n",
       "      <th></th>\n",
       "      <th>count</th>\n",
       "      <th>mean</th>\n",
       "      <th>std</th>\n",
       "      <th>min</th>\n",
       "      <th>25%</th>\n",
       "      <th>50%</th>\n",
       "      <th>75%</th>\n",
       "      <th>max</th>\n",
       "    </tr>\n",
       "  </thead>\n",
       "  <tbody>\n",
       "    <tr>\n",
       "      <th>0</th>\n",
       "      <td>5.0</td>\n",
       "      <td>-0.021717</td>\n",
       "      <td>0.00871</td>\n",
       "      <td>-0.033839</td>\n",
       "      <td>-0.024515</td>\n",
       "      <td>-0.023699</td>\n",
       "      <td>-0.014247</td>\n",
       "      <td>-0.012285</td>\n",
       "    </tr>\n",
       "  </tbody>\n",
       "</table>\n",
       "</div>"
      ],
      "text/plain": [
       "   count      mean      std       min       25%       50%       75%       max\n",
       "0    5.0 -0.021717  0.00871 -0.033839 -0.024515 -0.023699 -0.014247 -0.012285"
      ]
     },
     "execution_count": 78,
     "metadata": {},
     "output_type": "execute_result"
    }
   ],
   "source": [
    "val_results = cross_validate(bayesianr_pipeline,X,y, scoring=['neg_mean_squared_error','r2'])\n",
    "pd.DataFrame(val_results['test_neg_mean_squared_error']).describe().transpose()"
   ]
  },
  {
   "cell_type": "code",
   "execution_count": 83,
   "id": "fb03df86-2a2e-4ff3-9cfa-890267750f35",
   "metadata": {},
   "outputs": [
    {
     "data": {
      "text/html": [
       "<div>\n",
       "<style scoped>\n",
       "    .dataframe tbody tr th:only-of-type {\n",
       "        vertical-align: middle;\n",
       "    }\n",
       "\n",
       "    .dataframe tbody tr th {\n",
       "        vertical-align: top;\n",
       "    }\n",
       "\n",
       "    .dataframe thead th {\n",
       "        text-align: right;\n",
       "    }\n",
       "</style>\n",
       "<table border=\"1\" class=\"dataframe\">\n",
       "  <thead>\n",
       "    <tr style=\"text-align: right;\">\n",
       "      <th></th>\n",
       "      <th>count</th>\n",
       "      <th>mean</th>\n",
       "      <th>std</th>\n",
       "      <th>min</th>\n",
       "      <th>25%</th>\n",
       "      <th>50%</th>\n",
       "      <th>75%</th>\n",
       "      <th>max</th>\n",
       "    </tr>\n",
       "  </thead>\n",
       "  <tbody>\n",
       "    <tr>\n",
       "      <th>0</th>\n",
       "      <td>5.0</td>\n",
       "      <td>-144.572268</td>\n",
       "      <td>0.294254</td>\n",
       "      <td>-144.978352</td>\n",
       "      <td>-144.724658</td>\n",
       "      <td>-144.570174</td>\n",
       "      <td>-144.335483</td>\n",
       "      <td>-144.252671</td>\n",
       "    </tr>\n",
       "  </tbody>\n",
       "</table>\n",
       "</div>"
      ],
      "text/plain": [
       "   count        mean       std         min         25%         50%  \\\n",
       "0    5.0 -144.572268  0.294254 -144.978352 -144.724658 -144.570174   \n",
       "\n",
       "          75%         max  \n",
       "0 -144.335483 -144.252671  "
      ]
     },
     "execution_count": 83,
     "metadata": {},
     "output_type": "execute_result"
    }
   ],
   "source": [
    "val_results = cross_validate(kernelr_pipeline,X,y, scoring=['neg_mean_squared_error','r2'])\n",
    "pd.DataFrame(val_results['test_neg_mean_squared_error']).describe().transpose()"
   ]
  },
  {
   "cell_type": "code",
   "execution_count": 88,
   "id": "bfec3d20-64c9-4272-8546-f906d83d37c4",
   "metadata": {},
   "outputs": [
    {
     "data": {
      "text/html": [
       "<div>\n",
       "<style scoped>\n",
       "    .dataframe tbody tr th:only-of-type {\n",
       "        vertical-align: middle;\n",
       "    }\n",
       "\n",
       "    .dataframe tbody tr th {\n",
       "        vertical-align: top;\n",
       "    }\n",
       "\n",
       "    .dataframe thead th {\n",
       "        text-align: right;\n",
       "    }\n",
       "</style>\n",
       "<table border=\"1\" class=\"dataframe\">\n",
       "  <thead>\n",
       "    <tr style=\"text-align: right;\">\n",
       "      <th></th>\n",
       "      <th>count</th>\n",
       "      <th>mean</th>\n",
       "      <th>std</th>\n",
       "      <th>min</th>\n",
       "      <th>25%</th>\n",
       "      <th>50%</th>\n",
       "      <th>75%</th>\n",
       "      <th>max</th>\n",
       "    </tr>\n",
       "  </thead>\n",
       "  <tbody>\n",
       "    <tr>\n",
       "      <th>0</th>\n",
       "      <td>5.0</td>\n",
       "      <td>-0.015504</td>\n",
       "      <td>0.00349</td>\n",
       "      <td>-0.01929</td>\n",
       "      <td>-0.018351</td>\n",
       "      <td>-0.016073</td>\n",
       "      <td>-0.012014</td>\n",
       "      <td>-0.011793</td>\n",
       "    </tr>\n",
       "  </tbody>\n",
       "</table>\n",
       "</div>"
      ],
      "text/plain": [
       "   count      mean      std      min       25%       50%       75%       max\n",
       "0    5.0 -0.015504  0.00349 -0.01929 -0.018351 -0.016073 -0.012014 -0.011793"
      ]
     },
     "execution_count": 88,
     "metadata": {},
     "output_type": "execute_result"
    }
   ],
   "source": [
    "val_results = cross_validate(voting_reg,X,y, scoring=['neg_mean_squared_error','r2'])\n",
    "pd.DataFrame(val_results['test_neg_mean_squared_error']).describe().transpose()"
   ]
  },
  {
   "cell_type": "code",
   "execution_count": 91,
   "id": "d7e533ca-9806-4ac1-ab91-e964bcd46a50",
   "metadata": {},
   "outputs": [
    {
     "data": {
      "text/html": [
       "<div>\n",
       "<style scoped>\n",
       "    .dataframe tbody tr th:only-of-type {\n",
       "        vertical-align: middle;\n",
       "    }\n",
       "\n",
       "    .dataframe tbody tr th {\n",
       "        vertical-align: top;\n",
       "    }\n",
       "\n",
       "    .dataframe thead th {\n",
       "        text-align: right;\n",
       "    }\n",
       "</style>\n",
       "<table border=\"1\" class=\"dataframe\">\n",
       "  <thead>\n",
       "    <tr style=\"text-align: right;\">\n",
       "      <th></th>\n",
       "      <th>count</th>\n",
       "      <th>mean</th>\n",
       "      <th>std</th>\n",
       "      <th>min</th>\n",
       "      <th>25%</th>\n",
       "      <th>50%</th>\n",
       "      <th>75%</th>\n",
       "      <th>max</th>\n",
       "    </tr>\n",
       "  </thead>\n",
       "  <tbody>\n",
       "    <tr>\n",
       "      <th>0</th>\n",
       "      <td>5.0</td>\n",
       "      <td>-0.015611</td>\n",
       "      <td>0.003662</td>\n",
       "      <td>-0.019202</td>\n",
       "      <td>-0.019197</td>\n",
       "      <td>-0.015881</td>\n",
       "      <td>-0.012115</td>\n",
       "      <td>-0.011662</td>\n",
       "    </tr>\n",
       "  </tbody>\n",
       "</table>\n",
       "</div>"
      ],
      "text/plain": [
       "   count      mean       std       min       25%       50%       75%       max\n",
       "0    5.0 -0.015611  0.003662 -0.019202 -0.019197 -0.015881 -0.012115 -0.011662"
      ]
     },
     "execution_count": 91,
     "metadata": {},
     "output_type": "execute_result"
    }
   ],
   "source": [
    "val_results = cross_validate(stacking_reg,X,y, scoring=['neg_mean_squared_error','r2'])\n",
    "pd.DataFrame(val_results['test_neg_mean_squared_error']).describe().transpose()"
   ]
  },
  {
   "cell_type": "markdown",
   "id": "4d821af3-1f49-4f49-ba64-6ee20ad635a6",
   "metadata": {},
   "source": [
    "Scaling seems to have really benefitted the linear regression Elastic Net, but did not affect the tree based formulas much. \n",
    "\n",
    "Somehow kernalr is much worse now. "
   ]
  },
  {
   "cell_type": "markdown",
   "id": "b26fe468-3360-49ac-bbc3-3849e7b9a185",
   "metadata": {},
   "source": [
    "# Prediction"
   ]
  },
  {
   "cell_type": "code",
   "execution_count": 94,
   "id": "c9ffa5e0-dfa2-4350-9246-c19ab0dc8c3a",
   "metadata": {},
   "outputs": [],
   "source": [
    "df_predict_raw = pd.read_csv('test.csv')"
   ]
  },
  {
   "cell_type": "code",
   "execution_count": 95,
   "id": "8b308e6a-549b-4fdf-a875-78038c063496",
   "metadata": {},
   "outputs": [],
   "source": [
    "df_predict = df_predict_raw.copy()"
   ]
  },
  {
   "cell_type": "code",
   "execution_count": 96,
   "id": "225e2309-0e42-4c0e-8de6-4151872f12b7",
   "metadata": {},
   "outputs": [],
   "source": [
    "df_predict['AgeHouseAtSale'] = df_predict['YrSold'] - df_predict['YearBuilt']\n",
    "\n",
    "df_predict['YearsLastRemodelAtSale']  = df_predict['YrSold'] - df_predict['YearRemodAdd']\n",
    "\n",
    "df_predict['YearsGarageBuiltAtSale'] = df_predict['YrSold'] - df_predict['GarageYrBlt'] \n",
    "\n",
    "df_predict.drop(columns=['Id'],inplace=True)\n",
    "\n",
    "df_predict['MSSubClass'] = df_predict['MSSubClass'].astype(str)"
   ]
  },
  {
   "cell_type": "code",
   "execution_count": 97,
   "id": "cc7c18e0-cfca-40d7-bf65-0d18d8a30522",
   "metadata": {},
   "outputs": [],
   "source": [
    "for var in df_predict.dtypes[df_predict.dtypes == 'int64'].index:\n",
    "    if df_predict[var].isnull().sum()>0:\n",
    "        df_predict[var+'_isnull'] = df_predict[var].isnull().astype(int)\n",
    "        df_predict[var]=df_predict[var].fillna(df_predict[var].mean())\n",
    "\n",
    "for var in df_predict.dtypes[df_predict.dtypes == 'float64'].index:\n",
    "    if df_predict[var].isnull().sum()>0:\n",
    "        df_predict[var+'_isnull'] = df_predict[var].isnull().astype(int)\n",
    "        df_predict[var]=df_predict[var].fillna(df_predict[var].mean())\n",
    "\n",
    "df_predict_dummies = pd.get_dummies(df_predict,dummy_na=True,drop_first=False)"
   ]
  },
  {
   "cell_type": "code",
   "execution_count": 98,
   "id": "9947902d-3e69-46de-bd25-af488381a21d",
   "metadata": {},
   "outputs": [],
   "source": [
    "_, df_predict_dummies = X.align(df_predict_dummies, axis=1, fill_value=0)"
   ]
  },
  {
   "cell_type": "code",
   "execution_count": 99,
   "id": "2a690d40-9506-4f18-ad3a-5c91bb92f6e0",
   "metadata": {},
   "outputs": [],
   "source": [
    "df_predict_dummies.drop(columns=df_predict_dummies.columns[~df_predict_dummies.columns.isin(X.columns)],inplace=True)"
   ]
  },
  {
   "cell_type": "code",
   "execution_count": 100,
   "id": "c06eb8f4-57f7-4e7e-8265-dce0d8163df7",
   "metadata": {},
   "outputs": [],
   "source": [
    "df_predict_dummies['intercept']=1"
   ]
  },
  {
   "cell_type": "markdown",
   "id": "81f082fa-cb07-434d-8799-c3cd8dc1a738",
   "metadata": {},
   "source": [
    "## Predictions"
   ]
  },
  {
   "cell_type": "markdown",
   "id": "a7b361fc-7234-4c2f-9b60-013c59e71468",
   "metadata": {},
   "source": [
    "### Statsmodel low regularization"
   ]
  },
  {
   "cell_type": "code",
   "execution_count": 34,
   "id": "19f0f220-9d4e-46be-8798-b06171d4abaa",
   "metadata": {},
   "outputs": [],
   "source": [
    "df_predict_raw['SalePrice'] = np.exp(results.predict(df_predict_dummies[X.columns]))\n",
    "\n",
    "df_predict_raw[['Id','SalePrice']].to_csv('predictions_initial.csv',index=False)"
   ]
  },
  {
   "cell_type": "markdown",
   "id": "2f71ab16-1234-49d6-8b28-f13b3c0d1d42",
   "metadata": {},
   "source": [
    "### Elastic Net"
   ]
  },
  {
   "cell_type": "code",
   "execution_count": 58,
   "id": "1a5091f5-8b35-463c-8137-106f48e9fc97",
   "metadata": {},
   "outputs": [],
   "source": [
    "df_predict_raw['SalePrice'] =  np.exp(elastic_net_pipeline.predict(df_predict_dummies[X.columns]))\n",
    "\n",
    "df_predict_raw[['Id','SalePrice']].to_csv('predictions_elasticnet_standardized.csv',index=False)"
   ]
  },
  {
   "cell_type": "code",
   "execution_count": 57,
   "id": "a87d977c-c621-44fc-aaa8-d8f1f14ec0ee",
   "metadata": {},
   "outputs": [
    {
     "data": {
      "text/plain": [
       "array([123044.34002264, 152817.94245416, 175576.08772772, ...,\n",
       "       167835.60169374, 118403.03839643, 227853.80061158])"
      ]
     },
     "execution_count": 57,
     "metadata": {},
     "output_type": "execute_result"
    }
   ],
   "source": [
    "np.exp(elastic_net_pipeline.predict(df_predict_dummies[X.columns]))"
   ]
  },
  {
   "cell_type": "markdown",
   "id": "373bcf1e-4bdd-4a44-926a-6cb5b3344680",
   "metadata": {},
   "source": [
    "### Decision Tree"
   ]
  },
  {
   "cell_type": "code",
   "execution_count": 160,
   "id": "75af0f5d-1b42-426e-ac19-87bd55bf6831",
   "metadata": {},
   "outputs": [],
   "source": [
    "df_predict_raw['SalePrice'] =  np.exp(decision_tree.predict(df_predict_dummies[X.columns]))\n",
    "\n",
    "df_predict_raw[['Id','SalePrice']].to_csv('predictions_decisiontree.csv',index=False)"
   ]
  },
  {
   "cell_type": "markdown",
   "id": "769b2f2a-a54f-4e15-b1cf-d9e57ebf4f4d",
   "metadata": {
    "tags": []
   },
   "source": [
    "### XG Boost"
   ]
  },
  {
   "cell_type": "code",
   "execution_count": 68,
   "id": "be9d5337-b1ce-4f7a-901d-b8f14fbc42d9",
   "metadata": {},
   "outputs": [],
   "source": [
    "df_predict_raw['SalePrice'] =  np.exp(xg_boost.predict(df_predict_dummies[X.columns]))\n",
    "\n",
    "df_predict_raw[['Id','SalePrice']].to_csv('predictions_xgboost.csv',index=False)"
   ]
  },
  {
   "cell_type": "markdown",
   "id": "0e50ce30-520b-4598-a72a-38a29d711d46",
   "metadata": {},
   "source": [
    "### Random Forest"
   ]
  },
  {
   "cell_type": "code",
   "execution_count": 198,
   "id": "3f4d1d78-d504-4949-b91f-e8f5391e5fe4",
   "metadata": {},
   "outputs": [],
   "source": [
    "df_predict_raw['SalePrice'] =  np.exp(random_forest.predict(df_predict_dummies[X.columns]))\n",
    "\n",
    "df_predict_raw[['Id','SalePrice']].to_csv('predictions_rf_cv.csv',index=False)"
   ]
  },
  {
   "cell_type": "code",
   "execution_count": 201,
   "id": "db251399-5540-43e2-9595-aaf3964f928c",
   "metadata": {},
   "outputs": [],
   "source": [
    "df_predict_raw['SalePrice'] =  np.exp(random_forest_initial.predict(df_predict_dummies[X.columns]))\n",
    "\n",
    "df_predict_raw[['Id','SalePrice']].to_csv('predictions_rf.csv',index=False)"
   ]
  },
  {
   "cell_type": "markdown",
   "id": "c1b359c1-d704-44fc-bd76-868d098570c5",
   "metadata": {},
   "source": [
    "### Light GBM"
   ]
  },
  {
   "cell_type": "code",
   "execution_count": 278,
   "id": "4cf677aa-0b3d-4c48-b2ab-9b08072a39e9",
   "metadata": {},
   "outputs": [],
   "source": [
    "df_predict_raw['SalePrice'] =  np.exp(light_gbm.predict(df_predict_dummies[X.columns]))\n",
    "\n",
    "df_predict_raw[['Id','SalePrice']].to_csv('predictions_light_gbm.csv',index=False)"
   ]
  },
  {
   "cell_type": "markdown",
   "id": "8e40e1e4-0426-4310-b40e-3caf5188ccc7",
   "metadata": {
    "tags": []
   },
   "source": [
    "### Gradient Boosting Regression"
   ]
  },
  {
   "cell_type": "code",
   "execution_count": 282,
   "id": "cefcf1d1-041b-4435-a5dd-1e0062d6528f",
   "metadata": {},
   "outputs": [],
   "source": [
    "df_predict_raw['SalePrice'] =  np.exp(gbr.predict(df_predict_dummies[X.columns]))\n",
    "\n",
    "df_predict_raw[['Id','SalePrice']].to_csv('predictions_gbr.csv',index=False)"
   ]
  },
  {
   "cell_type": "markdown",
   "id": "40262fac-067d-43ad-8ffa-2ff4c512bb17",
   "metadata": {},
   "source": [
    "### Voting Regression"
   ]
  },
  {
   "cell_type": "code",
   "execution_count": 103,
   "id": "809976e0-81f9-4db8-9530-c48622d16200",
   "metadata": {},
   "outputs": [],
   "source": [
    "df_predict_raw['SalePrice'] =  np.exp(voting_reg.predict(df_predict_dummies[X.columns]))\n",
    "\n",
    "df_predict_raw[['Id','SalePrice']].to_csv('predictions_voting_reg_standardized.csv',index=False)"
   ]
  },
  {
   "cell_type": "markdown",
   "id": "d7030a2b-6181-4de7-86c9-bcc8eac72457",
   "metadata": {},
   "source": [
    "### Stacking Regression"
   ]
  },
  {
   "cell_type": "code",
   "execution_count": 279,
   "id": "ec480380-0a3e-4465-92a3-c30ed4ec1768",
   "metadata": {},
   "outputs": [],
   "source": [
    "df_predict_raw['SalePrice'] =  np.exp(stacking_reg.predict(df_predict_dummies[X.columns]))\n",
    "\n",
    "df_predict_raw[['Id','SalePrice']].to_csv('predictions_stacking_reg.csv',index=False)"
   ]
  },
  {
   "cell_type": "code",
   "execution_count": null,
   "id": "20e8657c-82ec-41d4-a5ad-6bc75d0918ef",
   "metadata": {},
   "outputs": [],
   "source": []
  }
 ],
 "metadata": {
  "kernelspec": {
   "display_name": "Python 3 (ipykernel)",
   "language": "python",
   "name": "python3"
  },
  "language_info": {
   "codemirror_mode": {
    "name": "ipython",
    "version": 3
   },
   "file_extension": ".py",
   "mimetype": "text/x-python",
   "name": "python",
   "nbconvert_exporter": "python",
   "pygments_lexer": "ipython3",
   "version": "3.9.13"
  },
  "toc-autonumbering": true
 },
 "nbformat": 4,
 "nbformat_minor": 5
}
