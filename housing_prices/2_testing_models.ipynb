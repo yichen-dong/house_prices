{
 "cells": [
  {
   "cell_type": "markdown",
   "id": "ff223f15-fc12-4328-8557-8774e5bd5748",
   "metadata": {},
   "source": [
    "# Imports"
   ]
  },
  {
   "cell_type": "code",
   "execution_count": 1,
   "id": "aa048369-f5e6-4cc9-9109-8edb4cbea9d2",
   "metadata": {},
   "outputs": [],
   "source": [
    "import pandas as pd\n",
    "import numpy as np\n",
    "\n",
    "pd.set_option('display.max_columns',100)"
   ]
  },
  {
   "cell_type": "code",
   "execution_count": 2,
   "id": "f28adcfc-b8b9-4d79-bbe1-6f1ffaaa8675",
   "metadata": {},
   "outputs": [],
   "source": [
    "from matplotlib import pyplot as plt\n",
    "import seaborn as sns"
   ]
  },
  {
   "cell_type": "code",
   "execution_count": 58,
   "id": "a3819dcf-4236-4ee0-a905-a5f697dd23c2",
   "metadata": {},
   "outputs": [],
   "source": [
    "from sklearn.model_selection import cross_validate, GridSearchCV"
   ]
  },
  {
   "cell_type": "code",
   "execution_count": 3,
   "id": "891f2292-90bd-4f31-971e-1817e94ede8a",
   "metadata": {},
   "outputs": [],
   "source": [
    "import statsmodels.api as sm"
   ]
  },
  {
   "cell_type": "code",
   "execution_count": 4,
   "id": "2274ed19-898d-4b49-9f7b-2fe3649d91ac",
   "metadata": {},
   "outputs": [],
   "source": [
    "df_raw = pd.read_csv('train.csv')"
   ]
  },
  {
   "cell_type": "markdown",
   "id": "adfe9726-a284-4d31-bbe9-5ca935fdd829",
   "metadata": {},
   "source": [
    "Notes:\n",
    "- Year Sold and Built not useful by itself, need to be changed into Age at Sale\n",
    "- Year Sold minus Year Remodel gives time since last remodel\n",
    "- MSSubClass will need some encoding (one-hot)\n",
    "- MSZoning will need encoding\n",
    "- Street can be one hot encoded\n",
    "- Alley will be encoded\n",
    "- LotShape encoded\n",
    "- LandContour encoded\n",
    "- Utilities encode"
   ]
  },
  {
   "cell_type": "markdown",
   "id": "189dd18f-0f67-4ef7-bff4-01f512460e33",
   "metadata": {},
   "source": [
    "## Data Transforms"
   ]
  },
  {
   "cell_type": "code",
   "execution_count": 46,
   "id": "4aedb209-edcf-42de-8c53-42c63be34db1",
   "metadata": {},
   "outputs": [],
   "source": [
    "df = df_raw.copy()"
   ]
  },
  {
   "cell_type": "code",
   "execution_count": 47,
   "id": "a211c72b-7a4d-44a2-9edb-0a640cf95dce",
   "metadata": {},
   "outputs": [],
   "source": [
    "df['AgeHouseAtSale'] = df['YrSold'] - df['YearBuilt']\n",
    "\n",
    "df['YearsLastRemodelAtSale']  = df['YrSold'] - df['YearRemodAdd']\n",
    "\n",
    "df['YearsGarageBuiltAtSale'] = df['YrSold'] - df['GarageYrBlt'] \n",
    "\n",
    "df.drop(columns=['Id'],inplace=True)\n",
    "\n",
    "df['MSSubClass'] = df['MSSubClass'].astype(str)"
   ]
  },
  {
   "cell_type": "code",
   "execution_count": 48,
   "id": "848ed00a-b370-440d-868b-01aa16d40566",
   "metadata": {},
   "outputs": [],
   "source": [
    "# for var in df.dtypes[df.dtypes=='object'].index:\n",
    "#     # df_raw.groupby(var,dropna=False).agg({'SalePrice':'mean'}).plot.bar()\n",
    "#     df[var]=df[var].fillna('NULL')"
   ]
  },
  {
   "cell_type": "code",
   "execution_count": 49,
   "id": "4c537878-b79f-4a01-97c8-e2d214fa79ff",
   "metadata": {},
   "outputs": [
    {
     "data": {
      "text/html": [
       "<div>\n",
       "<style scoped>\n",
       "    .dataframe tbody tr th:only-of-type {\n",
       "        vertical-align: middle;\n",
       "    }\n",
       "\n",
       "    .dataframe tbody tr th {\n",
       "        vertical-align: top;\n",
       "    }\n",
       "\n",
       "    .dataframe thead th {\n",
       "        text-align: right;\n",
       "    }\n",
       "</style>\n",
       "<table border=\"1\" class=\"dataframe\">\n",
       "  <thead>\n",
       "    <tr style=\"text-align: right;\">\n",
       "      <th></th>\n",
       "      <th>PoolQC</th>\n",
       "      <th>MiscFeature</th>\n",
       "      <th>Alley</th>\n",
       "      <th>Fence</th>\n",
       "    </tr>\n",
       "  </thead>\n",
       "  <tbody>\n",
       "    <tr>\n",
       "      <th>count</th>\n",
       "      <td>7</td>\n",
       "      <td>54</td>\n",
       "      <td>91</td>\n",
       "      <td>281</td>\n",
       "    </tr>\n",
       "    <tr>\n",
       "      <th>unique</th>\n",
       "      <td>3</td>\n",
       "      <td>4</td>\n",
       "      <td>2</td>\n",
       "      <td>4</td>\n",
       "    </tr>\n",
       "    <tr>\n",
       "      <th>top</th>\n",
       "      <td>Gd</td>\n",
       "      <td>Shed</td>\n",
       "      <td>Grvl</td>\n",
       "      <td>MnPrv</td>\n",
       "    </tr>\n",
       "    <tr>\n",
       "      <th>freq</th>\n",
       "      <td>3</td>\n",
       "      <td>49</td>\n",
       "      <td>50</td>\n",
       "      <td>157</td>\n",
       "    </tr>\n",
       "  </tbody>\n",
       "</table>\n",
       "</div>"
      ],
      "text/plain": [
       "       PoolQC MiscFeature Alley  Fence\n",
       "count       7          54    91    281\n",
       "unique      3           4     2      4\n",
       "top        Gd        Shed  Grvl  MnPrv\n",
       "freq        3          49    50    157"
      ]
     },
     "execution_count": 49,
     "metadata": {},
     "output_type": "execute_result"
    }
   ],
   "source": [
    "df[df.isnull().mean().sort_values(ascending=False)[:4].index].describe()"
   ]
  },
  {
   "cell_type": "code",
   "execution_count": 50,
   "id": "90dd74f8-0e0e-4688-8e82-1e829d056928",
   "metadata": {},
   "outputs": [],
   "source": [
    "for var in df.dtypes[df.dtypes == 'int64'].index:\n",
    "    if df[var].isnull().sum()>0:\n",
    "        df[var+'_isnull'] = df[var].isnull().astype(int)\n",
    "        df[var]=df[var].fillna(df[var].mean())\n",
    "\n",
    "for var in df.dtypes[df.dtypes == 'float64'].index:\n",
    "    if df[var].isnull().sum()>0:\n",
    "        df[var+'_isnull'] = df[var].isnull().astype(int)\n",
    "        df[var]=df[var].fillna(df[var].mean())\n",
    "\n",
    "df_dummies = pd.get_dummies(df,dummy_na=True,drop_first=False)"
   ]
  },
  {
   "cell_type": "code",
   "execution_count": 51,
   "id": "5604dc18-a40c-4607-bee5-ea409465145b",
   "metadata": {},
   "outputs": [],
   "source": [
    "X = df_dummies.drop(columns='SalePrice')"
   ]
  },
  {
   "cell_type": "code",
   "execution_count": 52,
   "id": "676c963f-6573-4bab-8437-ab8e3be9716d",
   "metadata": {},
   "outputs": [],
   "source": [
    "y = np.log(df_dummies['SalePrice'])"
   ]
  },
  {
   "cell_type": "code",
   "execution_count": 53,
   "id": "7a0be250-8378-41c3-ae05-964a8b21afde",
   "metadata": {},
   "outputs": [],
   "source": [
    "X['intercept'] = 1"
   ]
  },
  {
   "cell_type": "code",
   "execution_count": 54,
   "id": "bbb846ba-f304-4b1b-868f-326061cead61",
   "metadata": {},
   "outputs": [],
   "source": [
    "model = sm.OLS(y,X)"
   ]
  },
  {
   "cell_type": "code",
   "execution_count": 55,
   "id": "51dda8eb-80a3-48e1-8354-15d83fefcb6f",
   "metadata": {},
   "outputs": [],
   "source": [
    "results = model.fit_regularized(alpha=10,L1_wt=1)"
   ]
  },
  {
   "cell_type": "markdown",
   "id": "75d912b8-0d89-4ba0-b007-c7e0231c89ad",
   "metadata": {},
   "source": [
    "# Training"
   ]
  },
  {
   "cell_type": "markdown",
   "id": "6ffde3ef-38ae-4abd-a062-8b43d45dcadf",
   "metadata": {},
   "source": [
    "## SKLEARN"
   ]
  },
  {
   "cell_type": "code",
   "execution_count": 72,
   "id": "8f4e5e0f-d3b3-40bd-8947-17460bb6ef99",
   "metadata": {},
   "outputs": [],
   "source": [
    "from sklearn.linear_model import LassoCV"
   ]
  },
  {
   "cell_type": "code",
   "execution_count": 73,
   "id": "af9efa08-b31d-4912-af11-86c3fc79f5be",
   "metadata": {},
   "outputs": [],
   "source": [
    "lasso_cv = LassoCV(cv=5, random_state=0)"
   ]
  },
  {
   "cell_type": "code",
   "execution_count": 74,
   "id": "227c3589-e2a4-4dee-8716-74e6f257f373",
   "metadata": {},
   "outputs": [
    {
     "data": {
      "text/plain": [
       "LassoCV(cv=5, random_state=0)"
      ]
     },
     "execution_count": 74,
     "metadata": {},
     "output_type": "execute_result"
    }
   ],
   "source": [
    "lasso_cv.fit(X=X,y=y)"
   ]
  },
  {
   "cell_type": "code",
   "execution_count": 75,
   "id": "46c2ef18-8bd8-4bfb-bbcb-09698a2dbb47",
   "metadata": {},
   "outputs": [
    {
     "data": {
      "text/plain": [
       "1.025240696711317"
      ]
     },
     "execution_count": 75,
     "metadata": {},
     "output_type": "execute_result"
    }
   ],
   "source": [
    "lasso_cv.alpha_"
   ]
  },
  {
   "cell_type": "code",
   "execution_count": 76,
   "id": "19d8f489-4238-43a2-b905-30aa8e2c3c07",
   "metadata": {},
   "outputs": [
    {
     "data": {
      "text/html": [
       "<div>\n",
       "<style scoped>\n",
       "    .dataframe tbody tr th:only-of-type {\n",
       "        vertical-align: middle;\n",
       "    }\n",
       "\n",
       "    .dataframe tbody tr th {\n",
       "        vertical-align: top;\n",
       "    }\n",
       "\n",
       "    .dataframe thead th {\n",
       "        text-align: right;\n",
       "    }\n",
       "</style>\n",
       "<table border=\"1\" class=\"dataframe\">\n",
       "  <thead>\n",
       "    <tr style=\"text-align: right;\">\n",
       "      <th></th>\n",
       "      <th>0</th>\n",
       "    </tr>\n",
       "  </thead>\n",
       "  <tbody>\n",
       "    <tr>\n",
       "      <th>LotArea</th>\n",
       "      <td>0.000002</td>\n",
       "    </tr>\n",
       "    <tr>\n",
       "      <th>YearBuilt</th>\n",
       "      <td>0.000340</td>\n",
       "    </tr>\n",
       "    <tr>\n",
       "      <th>MasVnrArea</th>\n",
       "      <td>0.000033</td>\n",
       "    </tr>\n",
       "    <tr>\n",
       "      <th>BsmtFinSF1</th>\n",
       "      <td>0.000047</td>\n",
       "    </tr>\n",
       "    <tr>\n",
       "      <th>TotalBsmtSF</th>\n",
       "      <td>0.000162</td>\n",
       "    </tr>\n",
       "    <tr>\n",
       "      <th>2ndFlrSF</th>\n",
       "      <td>0.000022</td>\n",
       "    </tr>\n",
       "    <tr>\n",
       "      <th>GrLivArea</th>\n",
       "      <td>0.000308</td>\n",
       "    </tr>\n",
       "    <tr>\n",
       "      <th>GarageArea</th>\n",
       "      <td>0.000383</td>\n",
       "    </tr>\n",
       "    <tr>\n",
       "      <th>WoodDeckSF</th>\n",
       "      <td>0.000160</td>\n",
       "    </tr>\n",
       "    <tr>\n",
       "      <th>ScreenPorch</th>\n",
       "      <td>0.000123</td>\n",
       "    </tr>\n",
       "  </tbody>\n",
       "</table>\n",
       "</div>"
      ],
      "text/plain": [
       "                    0\n",
       "LotArea      0.000002\n",
       "YearBuilt    0.000340\n",
       "MasVnrArea   0.000033\n",
       "BsmtFinSF1   0.000047\n",
       "TotalBsmtSF  0.000162\n",
       "2ndFlrSF     0.000022\n",
       "GrLivArea    0.000308\n",
       "GarageArea   0.000383\n",
       "WoodDeckSF   0.000160\n",
       "ScreenPorch  0.000123"
      ]
     },
     "execution_count": 76,
     "metadata": {},
     "output_type": "execute_result"
    }
   ],
   "source": [
    "test = pd.DataFrame(elastic_net_cv.coef_,index=X.columns)\n",
    "test.loc[test[0]>0]"
   ]
  },
  {
   "cell_type": "markdown",
   "id": "d5f275f4-cdc3-41f9-a3ce-2cbe9fdbf150",
   "metadata": {},
   "source": [
    "### Elastic Net\n",
    "Looks like the optimal is just an L1 Lasso regression"
   ]
  },
  {
   "cell_type": "code",
   "execution_count": 40,
   "id": "fe11e3c5-16b9-4f04-85fe-96d7ef707992",
   "metadata": {},
   "outputs": [],
   "source": [
    "from sklearn.linear_model import ElasticNetCV"
   ]
  },
  {
   "cell_type": "code",
   "execution_count": 105,
   "id": "d06bdd62-fbd8-42b4-b09b-21e65e1a3c80",
   "metadata": {},
   "outputs": [],
   "source": [
    "# elastic_net_cv = ElasticNetCV(l1_ratio=[0,.5,1]\n",
    "#                              ,alphas=[0.1,1,10,100]\n",
    "#                              )\n",
    "elastic_net_cv = ElasticNetCV(cv=5, random_state=0, l1_ratio=[0.5,0.7,0.8,0.9,1])"
   ]
  },
  {
   "cell_type": "code",
   "execution_count": 106,
   "id": "b1cd4a5f-1e26-45c0-b003-44c6416b2d0f",
   "metadata": {},
   "outputs": [
    {
     "data": {
      "text/plain": [
       "ElasticNetCV(cv=5, l1_ratio=[0.5, 0.7, 0.8, 0.9, 1], random_state=0)"
      ]
     },
     "execution_count": 106,
     "metadata": {},
     "output_type": "execute_result"
    }
   ],
   "source": [
    "elastic_net_cv.fit(X=X,y=y)"
   ]
  },
  {
   "cell_type": "code",
   "execution_count": 107,
   "id": "6d16dafc-9320-4744-8cfa-8370f3407296",
   "metadata": {},
   "outputs": [
    {
     "data": {
      "text/plain": [
       "0.9"
      ]
     },
     "execution_count": 107,
     "metadata": {},
     "output_type": "execute_result"
    }
   ],
   "source": [
    "elastic_net_cv.l1_ratio_"
   ]
  },
  {
   "cell_type": "code",
   "execution_count": 108,
   "id": "05e7723c-faf6-4cd3-8e59-fc1f6a82ddd1",
   "metadata": {},
   "outputs": [
    {
     "data": {
      "text/plain": [
       "1.1391563296792413"
      ]
     },
     "execution_count": 108,
     "metadata": {},
     "output_type": "execute_result"
    }
   ],
   "source": [
    "elastic_net_cv.alpha_"
   ]
  },
  {
   "cell_type": "code",
   "execution_count": 109,
   "id": "a09b00ec-51bd-44a7-9042-02fbf42568b2",
   "metadata": {},
   "outputs": [],
   "source": [
    "test = pd.DataFrame(elastic_net_cv.coef_,index=X.columns)"
   ]
  },
  {
   "cell_type": "code",
   "execution_count": 110,
   "id": "35bb31f6-3113-4ff7-8181-01bd58ff2689",
   "metadata": {},
   "outputs": [
    {
     "data": {
      "text/html": [
       "<div>\n",
       "<style scoped>\n",
       "    .dataframe tbody tr th:only-of-type {\n",
       "        vertical-align: middle;\n",
       "    }\n",
       "\n",
       "    .dataframe tbody tr th {\n",
       "        vertical-align: top;\n",
       "    }\n",
       "\n",
       "    .dataframe thead th {\n",
       "        text-align: right;\n",
       "    }\n",
       "</style>\n",
       "<table border=\"1\" class=\"dataframe\">\n",
       "  <thead>\n",
       "    <tr style=\"text-align: right;\">\n",
       "      <th></th>\n",
       "      <th>0</th>\n",
       "    </tr>\n",
       "  </thead>\n",
       "  <tbody>\n",
       "    <tr>\n",
       "      <th>LotArea</th>\n",
       "      <td>0.000002</td>\n",
       "    </tr>\n",
       "    <tr>\n",
       "      <th>MasVnrArea</th>\n",
       "      <td>0.000033</td>\n",
       "    </tr>\n",
       "    <tr>\n",
       "      <th>BsmtFinSF1</th>\n",
       "      <td>0.000047</td>\n",
       "    </tr>\n",
       "    <tr>\n",
       "      <th>TotalBsmtSF</th>\n",
       "      <td>0.000162</td>\n",
       "    </tr>\n",
       "    <tr>\n",
       "      <th>2ndFlrSF</th>\n",
       "      <td>0.000021</td>\n",
       "    </tr>\n",
       "    <tr>\n",
       "      <th>GrLivArea</th>\n",
       "      <td>0.000308</td>\n",
       "    </tr>\n",
       "    <tr>\n",
       "      <th>GarageArea</th>\n",
       "      <td>0.000383</td>\n",
       "    </tr>\n",
       "    <tr>\n",
       "      <th>WoodDeckSF</th>\n",
       "      <td>0.000160</td>\n",
       "    </tr>\n",
       "    <tr>\n",
       "      <th>ScreenPorch</th>\n",
       "      <td>0.000123</td>\n",
       "    </tr>\n",
       "  </tbody>\n",
       "</table>\n",
       "</div>"
      ],
      "text/plain": [
       "                    0\n",
       "LotArea      0.000002\n",
       "MasVnrArea   0.000033\n",
       "BsmtFinSF1   0.000047\n",
       "TotalBsmtSF  0.000162\n",
       "2ndFlrSF     0.000021\n",
       "GrLivArea    0.000308\n",
       "GarageArea   0.000383\n",
       "WoodDeckSF   0.000160\n",
       "ScreenPorch  0.000123"
      ]
     },
     "execution_count": 110,
     "metadata": {},
     "output_type": "execute_result"
    }
   ],
   "source": [
    "test.loc[test[0]>0]"
   ]
  },
  {
   "cell_type": "code",
   "execution_count": 235,
   "id": "9ff245c5-ec04-48bc-b806-be89630094b9",
   "metadata": {},
   "outputs": [],
   "source": [
    "from sklearn.linear_model import ElasticNet"
   ]
  },
  {
   "cell_type": "code",
   "execution_count": 236,
   "id": "8e123865-b824-4a24-aae3-28e0378cb5e0",
   "metadata": {},
   "outputs": [],
   "source": [
    "elastic_net = ElasticNet(l1_ratio=0.9,alpha=1.1391563296792413)"
   ]
  },
  {
   "cell_type": "markdown",
   "id": "973aaf8d-576e-4aec-9f9a-cc08965794c0",
   "metadata": {},
   "source": [
    "### Decision Tree"
   ]
  },
  {
   "cell_type": "code",
   "execution_count": null,
   "id": "21aed0f1-3f87-4f1d-9ab9-1e84970cfba7",
   "metadata": {},
   "outputs": [],
   "source": [
    "params_dt={'splitter':['random', 'best']\n",
    "        ,'min_samples_split':[2, 3, 4, 5, 6, 8, 10]\n",
    "        ,'min_samples_leaf':[0.01, 0.02, 0.03, 0.04]\n",
    "        ,'min_impurity_decrease':[0.0, 0.0005, 0.005, 0.05, 0.10, 0.15, 0.2]\n",
    "        ,'max_leaf_nodes':[10, 15, 20, 25, 30, 35, 40, 45, 50, None]\n",
    "        ,'max_features':[ 0.95, 0.90, 0.85, 0.80, 0.75, 0.70]\n",
    "        ,'max_depth':[None, 2,4,6,8]\n",
    "        ,'min_weight_fraction_leaf':[0.0, 0.0025, 0.005, 0.0075, 0.01, 0.05]}\n",
    "        "
   ]
  },
  {
   "cell_type": "code",
   "execution_count": 120,
   "id": "7bee036d-d24f-4bf9-8c39-caf1f708733e",
   "metadata": {},
   "outputs": [],
   "source": [
    "from sklearn.tree import DecisionTreeRegressor"
   ]
  },
  {
   "cell_type": "code",
   "execution_count": 129,
   "id": "dcfcd837-ddc0-4fa5-bdf8-d3384ce86ba4",
   "metadata": {},
   "outputs": [],
   "source": [
    "from sklearn.model_selection import RandomizedSearchCV"
   ]
  },
  {
   "cell_type": "code",
   "execution_count": 138,
   "id": "df1c20ae-c363-41c6-9fff-b06190c1a7ef",
   "metadata": {},
   "outputs": [],
   "source": [
    "from skopt import BayesSearchCV"
   ]
  },
  {
   "cell_type": "code",
   "execution_count": 121,
   "id": "9bdab67f-e980-4396-b867-c00e8543f45f",
   "metadata": {},
   "outputs": [],
   "source": [
    "decision_tree = DecisionTreeRegressor()"
   ]
  },
  {
   "cell_type": "code",
   "execution_count": 152,
   "id": "e4aa6e38-9f0a-4851-b914-01bc8669a1f6",
   "metadata": {},
   "outputs": [],
   "source": [
    "bayes_search_dt = BayesSearchCV(decision_tree,params_dt)"
   ]
  },
  {
   "cell_type": "raw",
   "id": "2ffd00ae-1852-43c8-acf7-494103d1fc39",
   "metadata": {},
   "source": [
    "grid_search_dt = RandomizedSearchCV(decision_tree,params_dt,n_jobs=-1,n_iter=100)"
   ]
  },
  {
   "cell_type": "code",
   "execution_count": 153,
   "id": "ecf9d318-c37c-4958-bb91-50890d1fa511",
   "metadata": {},
   "outputs": [
    {
     "data": {
      "text/plain": [
       "BayesSearchCV(estimator=DecisionTreeRegressor(),\n",
       "              search_spaces={'max_depth': [None, 2, 4, 6, 8],\n",
       "                             'max_features': [0.95, 0.9, 0.85, 0.8, 0.75, 0.7],\n",
       "                             'max_leaf_nodes': [10, 15, 20, 25, 30, 35, 40, 45,\n",
       "                                                50, None],\n",
       "                             'min_impurity_decrease': [0.0, 0.0005, 0.005, 0.05,\n",
       "                                                       0.1, 0.15, 0.2],\n",
       "                             'min_samples_leaf': [0.01, 0.02, 0.03, 0.04],\n",
       "                             'min_samples_split': [2, 3, 4, 5, 6, 8, 10],\n",
       "                             'min_weight_fraction_leaf': [0.0, 0.0025, 0.005,\n",
       "                                                          0.0075, 0.01, 0.05],\n",
       "                             'splitter': ['random', 'best']})"
      ]
     },
     "execution_count": 153,
     "metadata": {},
     "output_type": "execute_result"
    }
   ],
   "source": [
    "bayes_search_dt.fit(X,y)"
   ]
  },
  {
   "cell_type": "code",
   "execution_count": 154,
   "id": "8363b54a-a433-47e2-9bb5-2011d1ddaaae",
   "metadata": {},
   "outputs": [
    {
     "data": {
      "text/plain": [
       "DecisionTreeRegressor(max_depth=6, max_features=0.85, max_leaf_nodes=40,\n",
       "                      min_samples_leaf=0.02, min_samples_split=6,\n",
       "                      min_weight_fraction_leaf=0.0075)"
      ]
     },
     "execution_count": 154,
     "metadata": {},
     "output_type": "execute_result"
    }
   ],
   "source": [
    "bayes_search_dt.best_estimator_"
   ]
  },
  {
   "cell_type": "code",
   "execution_count": 155,
   "id": "4800ca2a-23bc-4d5b-9078-8c873a270e1f",
   "metadata": {},
   "outputs": [],
   "source": [
    "decision_tree = DecisionTreeRegressor(max_depth=6, max_features=0.85, max_leaf_nodes=40,\n",
    "                      min_samples_leaf=0.02, min_samples_split=6,\n",
    "                      min_weight_fraction_leaf=0.0075)"
   ]
  },
  {
   "cell_type": "code",
   "execution_count": 157,
   "id": "92b05f7f-10bd-471e-bae8-321c3da3799f",
   "metadata": {},
   "outputs": [
    {
     "data": {
      "text/plain": [
       "DecisionTreeRegressor(max_depth=6, max_features=0.85, max_leaf_nodes=40,\n",
       "                      min_samples_leaf=0.02, min_samples_split=6,\n",
       "                      min_weight_fraction_leaf=0.0075)"
      ]
     },
     "execution_count": 157,
     "metadata": {},
     "output_type": "execute_result"
    }
   ],
   "source": [
    "decision_tree.fit(X,y)"
   ]
  },
  {
   "cell_type": "markdown",
   "id": "f8d29a92-63f4-42cb-9977-7b07cb99a65c",
   "metadata": {},
   "source": [
    "## XGBoost"
   ]
  },
  {
   "cell_type": "code",
   "execution_count": 57,
   "id": "d240889f-ae07-4678-8210-f661ddab006e",
   "metadata": {},
   "outputs": [],
   "source": [
    "import xgboost"
   ]
  },
  {
   "cell_type": "code",
   "execution_count": 59,
   "id": "39439d59-b189-4836-b604-8c1ed6050435",
   "metadata": {},
   "outputs": [],
   "source": [
    "xg_boost = xgboost.XGBRegressor()"
   ]
  },
  {
   "cell_type": "code",
   "execution_count": 60,
   "id": "673fa0d8-1c62-43a8-a9d2-8bb6e7ece2bc",
   "metadata": {},
   "outputs": [
    {
     "name": "stderr",
     "output_type": "stream",
     "text": [
      "C:\\ProgramData\\Anaconda3\\lib\\site-packages\\xgboost\\data.py:250: FutureWarning: pandas.Int64Index is deprecated and will be removed from pandas in a future version. Use pandas.Index with the appropriate dtype instead.\n",
      "  elif isinstance(data.columns, (pd.Int64Index, pd.RangeIndex)):\n"
     ]
    },
    {
     "data": {
      "text/plain": [
       "XGBRegressor(base_score=0.5, booster='gbtree', colsample_bylevel=1,\n",
       "             colsample_bynode=1, colsample_bytree=1, enable_categorical=False,\n",
       "             gamma=0, gpu_id=-1, importance_type=None,\n",
       "             interaction_constraints='', learning_rate=0.300000012,\n",
       "             max_delta_step=0, max_depth=6, min_child_weight=1, missing=nan,\n",
       "             monotone_constraints='()', n_estimators=100, n_jobs=20,\n",
       "             num_parallel_tree=1, predictor='auto', random_state=0, reg_alpha=0,\n",
       "             reg_lambda=1, scale_pos_weight=1, subsample=1, tree_method='exact',\n",
       "             validate_parameters=1, verbosity=None)"
      ]
     },
     "execution_count": 60,
     "metadata": {},
     "output_type": "execute_result"
    }
   ],
   "source": [
    "xg_boost.fit(X,y)"
   ]
  },
  {
   "cell_type": "markdown",
   "id": "85035ea6-864e-409f-86a9-6d731d87d22e",
   "metadata": {},
   "source": [
    "## Random Forest"
   ]
  },
  {
   "cell_type": "code",
   "execution_count": 114,
   "id": "624d5310-6e1a-4ff6-bcfc-69e0b9ac258d",
   "metadata": {},
   "outputs": [],
   "source": [
    "from sklearn.ensemble import RandomForestRegressor"
   ]
  },
  {
   "cell_type": "code",
   "execution_count": 199,
   "id": "e8b0cee8-f211-44fe-a887-1cbcf4b3376b",
   "metadata": {},
   "outputs": [],
   "source": [
    "random_forest_initial = RandomForestRegressor(n_estimators=200,oob_score=True)"
   ]
  },
  {
   "cell_type": "code",
   "execution_count": 200,
   "id": "6dc1aafd-6db5-458f-bace-ad6dc92f7661",
   "metadata": {},
   "outputs": [
    {
     "data": {
      "text/plain": [
       "RandomForestRegressor(n_estimators=200, oob_score=True)"
      ]
     },
     "execution_count": 200,
     "metadata": {},
     "output_type": "execute_result"
    }
   ],
   "source": [
    "random_forest_initial.fit(X,y)"
   ]
  },
  {
   "cell_type": "code",
   "execution_count": 170,
   "id": "4d4f3987-bbd5-47bd-a572-f1e3d1e7828d",
   "metadata": {},
   "outputs": [
    {
     "data": {
      "text/plain": [
       "0.8672808132118064"
      ]
     },
     "execution_count": 170,
     "metadata": {},
     "output_type": "execute_result"
    }
   ],
   "source": [
    "random_forest.oob_score_"
   ]
  },
  {
   "cell_type": "code",
   "execution_count": 177,
   "id": "88c176f2-0d56-4a4a-8c96-72629c9bff9d",
   "metadata": {},
   "outputs": [],
   "source": [
    "oob_scores = {}\n",
    "rf = RandomForestRegressor(n_estimators=50, warm_start=True, oob_score=True, n_jobs=-1, random_state=2)\n",
    "rf.fit(X, y)\n",
    "oob_scores[50] = rf.oob_score_\n",
    "est = 50\n",
    "estimators=[est]\n",
    "for i in range(9):\n",
    "    est += 50\n",
    "    estimators.append(est)\n",
    "    rf.set_params(n_estimators=est)\n",
    "    rf.fit(X, y)\n",
    "    oob_scores[est] = rf.oob_score_"
   ]
  },
  {
   "cell_type": "code",
   "execution_count": 178,
   "id": "a2f2f83d-fc58-4c14-bb65-c7048cee0adc",
   "metadata": {},
   "outputs": [
    {
     "data": {
      "text/plain": [
       "{50: 0.863228572941851,\n",
       " 100: 0.8692002499863029,\n",
       " 150: 0.8710950810754902,\n",
       " 200: 0.8720762808249324,\n",
       " 250: 0.8726630493147655,\n",
       " 300: 0.8737357478017185,\n",
       " 350: 0.8743760948860517,\n",
       " 400: 0.8741297599307519,\n",
       " 450: 0.8748115174693367,\n",
       " 500: 0.8747478596427851}"
      ]
     },
     "execution_count": 178,
     "metadata": {},
     "output_type": "execute_result"
    }
   ],
   "source": [
    "oob_scores"
   ]
  },
  {
   "cell_type": "code",
   "execution_count": 210,
   "id": "1b82a215-78fb-4d5d-a953-902a713297dc",
   "metadata": {},
   "outputs": [],
   "source": [
    "params_rf={'min_weight_fraction_leaf':[0.0, 0.0025, 0.005, 0.0075, 0.01, 0.05]\n",
    "           ,'min_samples_split': [0.01, 0.02, 0.03, 0.04, 0.06, 0.08, 0.1]\n",
    "           ,'min_samples_leaf':[1,2,4,6,8,10,20,30]\n",
    "           ,'min_impurity_decrease':[0.0, 0.01, 0.05, 0.10, 0.15, 0.2]\n",
    "           ,'max_leaf_nodes':[10, 15, 20, 25, 30, 35, 40, 45, 50, None]\n",
    "           ,'max_features':[0.8, 0.7, 0.6, 0.5, 0.4]\n",
    "           ,'max_depth':[None,2,4,6,8,10,20]}\n",
    "        "
   ]
  },
  {
   "cell_type": "code",
   "execution_count": 211,
   "id": "0fc801e0-fce9-4df2-a145-9402551fcdd1",
   "metadata": {},
   "outputs": [],
   "source": [
    "bayes_search_rf = BayesSearchCV(random_forest,params_rf,n_jobs=-1)"
   ]
  },
  {
   "cell_type": "code",
   "execution_count": 212,
   "id": "4f137434-bde7-42a8-8101-3aefabbc7e4f",
   "metadata": {},
   "outputs": [
    {
     "data": {
      "text/plain": [
       "BayesSearchCV(estimator=RandomForestRegressor(max_depth=8, max_features=0.7,\n",
       "                                              min_samples_leaf=0.01,\n",
       "                                              min_samples_split=4,\n",
       "                                              min_weight_fraction_leaf=0.0075,\n",
       "                                              n_estimators=200,\n",
       "                                              oob_score=True),\n",
       "              n_jobs=-1,\n",
       "              search_spaces={'max_depth': [None, 2, 4, 6, 8, 10, 20],\n",
       "                             'max_features': [0.8, 0.7, 0.6, 0.5, 0.4],\n",
       "                             'max_leaf_nodes': [10, 15, 20, 25, 30, 35, 40, 45,\n",
       "                                                50, None],\n",
       "                             'min_impurity_decrease': [0.0, 0.01, 0.05, 0.1,\n",
       "                                                       0.15, 0.2],\n",
       "                             'min_samples_leaf': [1, 2, 4, 6, 8, 10, 20, 30],\n",
       "                             'min_samples_split': [0.01, 0.02, 0.03, 0.04, 0.06,\n",
       "                                                   0.08, 0.1],\n",
       "                             'min_weight_fraction_leaf': [0.0, 0.0025, 0.005,\n",
       "                                                          0.0075, 0.01, 0.05]})"
      ]
     },
     "execution_count": 212,
     "metadata": {},
     "output_type": "execute_result"
    }
   ],
   "source": [
    "bayes_search_rf.fit(X,y)"
   ]
  },
  {
   "cell_type": "code",
   "execution_count": 213,
   "id": "d9d087fb-fffe-41e3-9484-02d6900d60f8",
   "metadata": {},
   "outputs": [
    {
     "data": {
      "text/plain": [
       "RandomForestRegressor(max_depth=20, max_features=0.6, min_samples_leaf=8,\n",
       "                      min_samples_split=0.01, min_weight_fraction_leaf=0.0075,\n",
       "                      n_estimators=200, oob_score=True)"
      ]
     },
     "execution_count": 213,
     "metadata": {},
     "output_type": "execute_result"
    }
   ],
   "source": [
    "bayes_search_rf.best_estimator_"
   ]
  },
  {
   "cell_type": "code",
   "execution_count": null,
   "id": "c92ebd98-b688-42d0-995a-621e9554da30",
   "metadata": {},
   "outputs": [],
   "source": []
  },
  {
   "cell_type": "code",
   "execution_count": 218,
   "id": "6c0ad5c1-78cc-47b1-bbbe-2c4f29fe020c",
   "metadata": {},
   "outputs": [],
   "source": [
    "params_rf={'min_weight_fraction_leaf': [0.005, 0.0075, 0.01]\n",
    "           ,'min_samples_split': [1, 0.001 ,0.01, 0.02]\n",
    "           ,'min_samples_leaf':[6,7,8,9,10]\n",
    "           # ,'min_impurity_decrease':[0.0, 0.01, 0.05, 0.10, 0.15, 0.2]\n",
    "           # ,'max_leaf_nodes':[10, 15, 20, 25, 30, 35, 40, 45, 50, None]\n",
    "           ,'max_features':[0.55, 0.6, 0.65]\n",
    "           ,'max_depth':[10,20,50,100]}\n",
    "bayes_search_rf = BayesSearchCV(random_forest,params_rf,n_jobs=-1)"
   ]
  },
  {
   "cell_type": "code",
   "execution_count": 219,
   "id": "c82e04c1-2671-4ca3-b7ec-69373a9710d8",
   "metadata": {},
   "outputs": [
    {
     "name": "stderr",
     "output_type": "stream",
     "text": [
      "C:\\ProgramData\\Anaconda3\\lib\\site-packages\\skopt\\optimizer\\optimizer.py:449: UserWarning: The objective has been evaluated at this point before.\n",
      "  warnings.warn(\"The objective has been evaluated \"\n"
     ]
    },
    {
     "data": {
      "text/plain": [
       "RandomForestRegressor(max_depth=20, max_features=0.55, min_samples_leaf=6,\n",
       "                      min_samples_split=0.001, min_weight_fraction_leaf=0.005,\n",
       "                      n_estimators=200, oob_score=True)"
      ]
     },
     "execution_count": 219,
     "metadata": {},
     "output_type": "execute_result"
    }
   ],
   "source": [
    "bayes_search_rf.fit(X,y)\n",
    "bayes_search_rf.best_estimator_"
   ]
  },
  {
   "cell_type": "code",
   "execution_count": 222,
   "id": "e4c68f1e-adf9-4cf0-939f-639606603df9",
   "metadata": {},
   "outputs": [],
   "source": [
    "random_forest = RandomForestRegressor(max_depth=20, max_features=0.55, min_samples_leaf=6,\n",
    "                      min_samples_split=0.001, min_weight_fraction_leaf=0.005,\n",
    "                      n_estimators=200, oob_score=True)"
   ]
  },
  {
   "cell_type": "code",
   "execution_count": 223,
   "id": "5642f0f5-20f6-4ad8-b06b-b4121343eecb",
   "metadata": {},
   "outputs": [
    {
     "data": {
      "text/plain": [
       "RandomForestRegressor(max_depth=20, max_features=0.55, min_samples_leaf=6,\n",
       "                      min_samples_split=0.001, min_weight_fraction_leaf=0.005,\n",
       "                      n_estimators=200, oob_score=True)"
      ]
     },
     "execution_count": 223,
     "metadata": {},
     "output_type": "execute_result"
    }
   ],
   "source": [
    "random_forest.fit(X,y)"
   ]
  },
  {
   "cell_type": "markdown",
   "id": "57674ce0-b002-4a5a-a728-64d858e00f7d",
   "metadata": {},
   "source": [
    "## Adaboost"
   ]
  },
  {
   "cell_type": "code",
   "execution_count": 226,
   "id": "4e80bed0-da3d-46ef-9a5a-473c1d0226b0",
   "metadata": {},
   "outputs": [],
   "source": [
    "from sklearn.ensemble import AdaBoostRegressor"
   ]
  },
  {
   "cell_type": "code",
   "execution_count": 227,
   "id": "55978656-4fef-41cd-8696-8e6021c54e9f",
   "metadata": {},
   "outputs": [],
   "source": [
    "adaboost = AdaBoostRegressor()"
   ]
  },
  {
   "cell_type": "code",
   "execution_count": 229,
   "id": "db5ed4ff-1c8d-48a7-b491-34b5b4f08f01",
   "metadata": {},
   "outputs": [
    {
     "data": {
      "text/plain": [
       "AdaBoostRegressor()"
      ]
     },
     "execution_count": 229,
     "metadata": {},
     "output_type": "execute_result"
    }
   ],
   "source": [
    "adaboost.fit(X,y)"
   ]
  },
  {
   "cell_type": "markdown",
   "id": "e34d57a3-7e07-49c0-8f04-19e11dffc0d3",
   "metadata": {},
   "source": [
    "## Light GBM"
   ]
  },
  {
   "cell_type": "code",
   "execution_count": 242,
   "id": "83650658-c5c6-4ad0-92d3-0a0c4ea634bb",
   "metadata": {},
   "outputs": [],
   "source": [
    "from lightgbm import LGBMRegressor"
   ]
  },
  {
   "cell_type": "code",
   "execution_count": null,
   "id": "048f68b5-11fe-46a8-b254-3c36f40d0d9e",
   "metadata": {},
   "outputs": [],
   "source": [
    "light_gbm = LGBMRegressor()\n",
    "\n",
    "light_gbm.fit(X,y)"
   ]
  },
  {
   "cell_type": "markdown",
   "id": "85836337-15b1-4dd2-ad5d-30251f5559f8",
   "metadata": {},
   "source": [
    "## GradientBoostingRegressor"
   ]
  },
  {
   "cell_type": "code",
   "execution_count": 248,
   "id": "a03055c4-efc7-4813-997b-36453b1eba61",
   "metadata": {},
   "outputs": [],
   "source": [
    "from sklearn.ensemble import GradientBoostingRegressor"
   ]
  },
  {
   "cell_type": "code",
   "execution_count": 249,
   "id": "cca54f3a-82e9-40cf-9175-288e3d094c15",
   "metadata": {},
   "outputs": [
    {
     "data": {
      "text/plain": [
       "GradientBoostingRegressor()"
      ]
     },
     "execution_count": 249,
     "metadata": {},
     "output_type": "execute_result"
    }
   ],
   "source": [
    "gbr = GradientBoostingRegressor()\n",
    "\n",
    "gbr.fit(X,y)"
   ]
  },
  {
   "cell_type": "markdown",
   "id": "79cfef73-f8b4-4817-b439-64c9b8d5bff8",
   "metadata": {
    "tags": []
   },
   "source": [
    "## Stochastic Gradient Descent Regression"
   ]
  },
  {
   "cell_type": "code",
   "execution_count": 251,
   "id": "5ce78dac-5539-409b-b5e6-9c4b53a7bd7c",
   "metadata": {},
   "outputs": [],
   "source": [
    "from sklearn.linear_model import SGDRegressor"
   ]
  },
  {
   "cell_type": "code",
   "execution_count": 252,
   "id": "2d6899c9-5c24-42b9-8d6f-37050d697b36",
   "metadata": {},
   "outputs": [
    {
     "data": {
      "text/plain": [
       "SGDRegressor()"
      ]
     },
     "execution_count": 252,
     "metadata": {},
     "output_type": "execute_result"
    }
   ],
   "source": [
    "SGDR = SGDRegressor()\n",
    "\n",
    "SGDR.fit(X,y)"
   ]
  },
  {
   "cell_type": "markdown",
   "id": "fe006443-62da-47cb-a86f-88f8afe86514",
   "metadata": {},
   "source": [
    "## from sklearn.svm import SVR"
   ]
  },
  {
   "cell_type": "code",
   "execution_count": 256,
   "id": "2d5f06da-5993-46f5-8bed-faefca0f4e58",
   "metadata": {},
   "outputs": [],
   "source": [
    "from sklearn.svm import SVR"
   ]
  },
  {
   "cell_type": "code",
   "execution_count": 257,
   "id": "4bfe9a4c-49dc-4f0d-92b8-f7a4b67da8c4",
   "metadata": {},
   "outputs": [
    {
     "data": {
      "text/plain": [
       "SVR()"
      ]
     },
     "execution_count": 257,
     "metadata": {},
     "output_type": "execute_result"
    }
   ],
   "source": [
    "svr = SVR()\n",
    "\n",
    "svr.fit(X,y)"
   ]
  },
  {
   "cell_type": "markdown",
   "id": "c709d868-ce23-4d56-96c0-8a7383d3510c",
   "metadata": {},
   "source": [
    "## from sklearn.linear_model import BayesianRidge"
   ]
  },
  {
   "cell_type": "code",
   "execution_count": 260,
   "id": "849570f6-8fd2-43fa-8276-d1cc8818cc87",
   "metadata": {},
   "outputs": [],
   "source": [
    "from sklearn.linear_model import BayesianRidge"
   ]
  },
  {
   "cell_type": "code",
   "execution_count": 261,
   "id": "643ec142-a9dd-48de-b4a5-d7ba42218f07",
   "metadata": {},
   "outputs": [
    {
     "data": {
      "text/plain": [
       "BayesianRidge()"
      ]
     },
     "execution_count": 261,
     "metadata": {},
     "output_type": "execute_result"
    }
   ],
   "source": [
    "bayesianr = BayesianRidge()\n",
    "\n",
    "bayesianr.fit(X,y)"
   ]
  },
  {
   "cell_type": "markdown",
   "id": "0e748b41-cf8b-445d-bc7f-f48d3a9a53fb",
   "metadata": {},
   "source": [
    "## from sklearn.kernel_ridge import KernelRidge"
   ]
  },
  {
   "cell_type": "code",
   "execution_count": 263,
   "id": "7c087125-08f8-48b1-8f37-47ce4dc2e76e",
   "metadata": {},
   "outputs": [],
   "source": [
    "from sklearn.kernel_ridge import KernelRidge"
   ]
  },
  {
   "cell_type": "code",
   "execution_count": 264,
   "id": "7d021544-1b14-49d9-a896-2e0c0cb43c22",
   "metadata": {},
   "outputs": [
    {
     "data": {
      "text/plain": [
       "KernelRidge()"
      ]
     },
     "execution_count": 264,
     "metadata": {},
     "output_type": "execute_result"
    }
   ],
   "source": [
    "kernelr = KernelRidge()\n",
    "\n",
    "kernelr.fit(X,y)"
   ]
  },
  {
   "cell_type": "markdown",
   "id": "dd52d9d2-ad42-4f80-8b79-fa6cc5f7e815",
   "metadata": {
    "tags": []
   },
   "source": [
    "## Ensemble"
   ]
  },
  {
   "cell_type": "code",
   "execution_count": 266,
   "id": "c35760e3-327e-4967-bd17-c84d8ec5fc82",
   "metadata": {},
   "outputs": [],
   "source": [
    "from sklearn.ensemble import VotingRegressor, StackingRegressor"
   ]
  },
  {
   "cell_type": "code",
   "execution_count": 280,
   "id": "9b5fba34-36aa-42dd-a60d-a3887cf510e1",
   "metadata": {},
   "outputs": [],
   "source": [
    "voting_reg = VotingRegressor([('elastic_net',elastic_net_cv)\n",
    "                              ,('rf',random_forest_initial)\n",
    "                              ,('xg_boost',xg_boost)\n",
    "                             ,('adaboost',adaboost)\n",
    "                                  ,('lightgbm',light_gbm)\n",
    "                                  ,('gbr',gbr)\n",
    "                                  ,('bayesianRidge',bayesianr)\n",
    "                                  ,('kernelRidge',kernelr)\n",
    "                             ])"
   ]
  },
  {
   "cell_type": "code",
   "execution_count": 273,
   "id": "a48a2e9c-5617-470a-aa5d-4ab0c58b5e24",
   "metadata": {},
   "outputs": [],
   "source": [
    "stacking_reg = StackingRegressor([('elastic_net',elastic_net_cv)\n",
    "                              ,('rf',random_forest_initial)\n",
    "                              ,('xg_boost',xg_boost)\n",
    "                             ,('adaboost',adaboost)\n",
    "                                  ,('lightgbm',light_gbm)\n",
    "                                  ,('gbr',gbr)\n",
    "                                  ,('bayesianRidge',bayesianr)\n",
    "                                  ,('kernelRidge',kernelr)\n",
    "                             ])"
   ]
  },
  {
   "cell_type": "code",
   "execution_count": 276,
   "id": "56fbc4da-9dec-4018-8017-73884887d0d5",
   "metadata": {},
   "outputs": [
    {
     "name": "stderr",
     "output_type": "stream",
     "text": [
      "C:\\ProgramData\\Anaconda3\\lib\\site-packages\\xgboost\\data.py:250: FutureWarning: pandas.Int64Index is deprecated and will be removed from pandas in a future version. Use pandas.Index with the appropriate dtype instead.\n",
      "  elif isinstance(data.columns, (pd.Int64Index, pd.RangeIndex)):\n",
      "C:\\ProgramData\\Anaconda3\\lib\\site-packages\\xgboost\\data.py:250: FutureWarning: pandas.Int64Index is deprecated and will be removed from pandas in a future version. Use pandas.Index with the appropriate dtype instead.\n",
      "  elif isinstance(data.columns, (pd.Int64Index, pd.RangeIndex)):\n",
      "C:\\ProgramData\\Anaconda3\\lib\\site-packages\\xgboost\\data.py:250: FutureWarning: pandas.Int64Index is deprecated and will be removed from pandas in a future version. Use pandas.Index with the appropriate dtype instead.\n",
      "  elif isinstance(data.columns, (pd.Int64Index, pd.RangeIndex)):\n",
      "C:\\ProgramData\\Anaconda3\\lib\\site-packages\\xgboost\\data.py:250: FutureWarning: pandas.Int64Index is deprecated and will be removed from pandas in a future version. Use pandas.Index with the appropriate dtype instead.\n",
      "  elif isinstance(data.columns, (pd.Int64Index, pd.RangeIndex)):\n",
      "C:\\ProgramData\\Anaconda3\\lib\\site-packages\\xgboost\\data.py:250: FutureWarning: pandas.Int64Index is deprecated and will be removed from pandas in a future version. Use pandas.Index with the appropriate dtype instead.\n",
      "  elif isinstance(data.columns, (pd.Int64Index, pd.RangeIndex)):\n",
      "C:\\ProgramData\\Anaconda3\\lib\\site-packages\\xgboost\\data.py:250: FutureWarning: pandas.Int64Index is deprecated and will be removed from pandas in a future version. Use pandas.Index with the appropriate dtype instead.\n",
      "  elif isinstance(data.columns, (pd.Int64Index, pd.RangeIndex)):\n"
     ]
    },
    {
     "data": {
      "text/plain": [
       "StackingRegressor(estimators=[('elastic_net',\n",
       "                               ElasticNetCV(cv=5,\n",
       "                                            l1_ratio=[0.5, 0.7, 0.8, 0.9, 1],\n",
       "                                            random_state=0)),\n",
       "                              ('rf',\n",
       "                               RandomForestRegressor(n_estimators=200,\n",
       "                                                     oob_score=True)),\n",
       "                              ('xg_boost',\n",
       "                               XGBRegressor(base_score=0.5, booster='gbtree',\n",
       "                                            colsample_bylevel=1,\n",
       "                                            colsample_bynode=1,\n",
       "                                            colsample_bytree=1,\n",
       "                                            enable_categorical=False, gamma=0,\n",
       "                                            gpu_id=-1, importance_type=None,...\n",
       "                                            n_estimators=100, n_jobs=20,\n",
       "                                            num_parallel_tree=1,\n",
       "                                            predictor='auto', random_state=0,\n",
       "                                            reg_alpha=0, reg_lambda=1,\n",
       "                                            scale_pos_weight=1, subsample=1,\n",
       "                                            tree_method='exact',\n",
       "                                            validate_parameters=1,\n",
       "                                            verbosity=None)),\n",
       "                              ('adaboost', AdaBoostRegressor()),\n",
       "                              ('lightgbm', LGBMRegressor()),\n",
       "                              ('gbr', GradientBoostingRegressor()),\n",
       "                              ('bayesianRidge', BayesianRidge()),\n",
       "                              ('kernelRidge', KernelRidge())])"
      ]
     },
     "execution_count": 276,
     "metadata": {},
     "output_type": "execute_result"
    }
   ],
   "source": [
    "stacking_reg.fit(X,y)"
   ]
  },
  {
   "cell_type": "markdown",
   "id": "4ee8b72d-45f8-43fd-91f4-efe9aed6e8ad",
   "metadata": {
    "tags": []
   },
   "source": [
    "## Cross Val Score"
   ]
  },
  {
   "cell_type": "code",
   "execution_count": 35,
   "id": "e50ccc2d-cffc-4350-89ca-c7e79b36ca52",
   "metadata": {},
   "outputs": [],
   "source": [
    "from sklearn.model_selection import cross_validate"
   ]
  },
  {
   "cell_type": "code",
   "execution_count": 111,
   "id": "ed9be753-e2ef-4dfb-905d-3586b82640cd",
   "metadata": {},
   "outputs": [
    {
     "data": {
      "text/html": [
       "<div>\n",
       "<style scoped>\n",
       "    .dataframe tbody tr th:only-of-type {\n",
       "        vertical-align: middle;\n",
       "    }\n",
       "\n",
       "    .dataframe tbody tr th {\n",
       "        vertical-align: top;\n",
       "    }\n",
       "\n",
       "    .dataframe thead th {\n",
       "        text-align: right;\n",
       "    }\n",
       "</style>\n",
       "<table border=\"1\" class=\"dataframe\">\n",
       "  <thead>\n",
       "    <tr style=\"text-align: right;\">\n",
       "      <th></th>\n",
       "      <th>count</th>\n",
       "      <th>mean</th>\n",
       "      <th>std</th>\n",
       "      <th>min</th>\n",
       "      <th>25%</th>\n",
       "      <th>50%</th>\n",
       "      <th>75%</th>\n",
       "      <th>max</th>\n",
       "    </tr>\n",
       "  </thead>\n",
       "  <tbody>\n",
       "    <tr>\n",
       "      <th>0</th>\n",
       "      <td>5.0</td>\n",
       "      <td>-0.040608</td>\n",
       "      <td>0.017898</td>\n",
       "      <td>-0.071136</td>\n",
       "      <td>-0.04084</td>\n",
       "      <td>-0.03399</td>\n",
       "      <td>-0.031193</td>\n",
       "      <td>-0.025879</td>\n",
       "    </tr>\n",
       "  </tbody>\n",
       "</table>\n",
       "</div>"
      ],
      "text/plain": [
       "   count      mean       std       min      25%      50%       75%       max\n",
       "0    5.0 -0.040608  0.017898 -0.071136 -0.04084 -0.03399 -0.031193 -0.025879"
      ]
     },
     "execution_count": 111,
     "metadata": {},
     "output_type": "execute_result"
    }
   ],
   "source": [
    "val_results = cross_validate(elastic_net_cv,X,y, scoring=['neg_mean_squared_error','r2'])\n",
    "pd.DataFrame(val_results['test_neg_mean_squared_error']).describe().transpose()"
   ]
  },
  {
   "cell_type": "code",
   "execution_count": 112,
   "id": "f9ba04dc-b369-4112-9953-c95939758832",
   "metadata": {},
   "outputs": [
    {
     "data": {
      "text/html": [
       "<div>\n",
       "<style scoped>\n",
       "    .dataframe tbody tr th:only-of-type {\n",
       "        vertical-align: middle;\n",
       "    }\n",
       "\n",
       "    .dataframe tbody tr th {\n",
       "        vertical-align: top;\n",
       "    }\n",
       "\n",
       "    .dataframe thead th {\n",
       "        text-align: right;\n",
       "    }\n",
       "</style>\n",
       "<table border=\"1\" class=\"dataframe\">\n",
       "  <thead>\n",
       "    <tr style=\"text-align: right;\">\n",
       "      <th></th>\n",
       "      <th>count</th>\n",
       "      <th>mean</th>\n",
       "      <th>std</th>\n",
       "      <th>min</th>\n",
       "      <th>25%</th>\n",
       "      <th>50%</th>\n",
       "      <th>75%</th>\n",
       "      <th>max</th>\n",
       "    </tr>\n",
       "  </thead>\n",
       "  <tbody>\n",
       "    <tr>\n",
       "      <th>0</th>\n",
       "      <td>5.0</td>\n",
       "      <td>-0.040611</td>\n",
       "      <td>0.017896</td>\n",
       "      <td>-0.071136</td>\n",
       "      <td>-0.04084</td>\n",
       "      <td>-0.03399</td>\n",
       "      <td>-0.031212</td>\n",
       "      <td>-0.025879</td>\n",
       "    </tr>\n",
       "  </tbody>\n",
       "</table>\n",
       "</div>"
      ],
      "text/plain": [
       "   count      mean       std       min      25%      50%       75%       max\n",
       "0    5.0 -0.040611  0.017896 -0.071136 -0.04084 -0.03399 -0.031212 -0.025879"
      ]
     },
     "execution_count": 112,
     "metadata": {},
     "output_type": "execute_result"
    }
   ],
   "source": [
    "val_results = cross_validate(lasso_cv,X,y, scoring=['neg_mean_squared_error','r2'])\n",
    "pd.DataFrame(val_results['test_neg_mean_squared_error']).describe().transpose()"
   ]
  },
  {
   "cell_type": "code",
   "execution_count": 156,
   "id": "337ff990-c6a2-4287-9dfc-7453944c8629",
   "metadata": {},
   "outputs": [
    {
     "data": {
      "text/html": [
       "<div>\n",
       "<style scoped>\n",
       "    .dataframe tbody tr th:only-of-type {\n",
       "        vertical-align: middle;\n",
       "    }\n",
       "\n",
       "    .dataframe tbody tr th {\n",
       "        vertical-align: top;\n",
       "    }\n",
       "\n",
       "    .dataframe thead th {\n",
       "        text-align: right;\n",
       "    }\n",
       "</style>\n",
       "<table border=\"1\" class=\"dataframe\">\n",
       "  <thead>\n",
       "    <tr style=\"text-align: right;\">\n",
       "      <th></th>\n",
       "      <th>count</th>\n",
       "      <th>mean</th>\n",
       "      <th>std</th>\n",
       "      <th>min</th>\n",
       "      <th>25%</th>\n",
       "      <th>50%</th>\n",
       "      <th>75%</th>\n",
       "      <th>max</th>\n",
       "    </tr>\n",
       "  </thead>\n",
       "  <tbody>\n",
       "    <tr>\n",
       "      <th>0</th>\n",
       "      <td>5.0</td>\n",
       "      <td>-0.038799</td>\n",
       "      <td>0.002561</td>\n",
       "      <td>-0.042011</td>\n",
       "      <td>-0.040984</td>\n",
       "      <td>-0.037969</td>\n",
       "      <td>-0.03665</td>\n",
       "      <td>-0.036382</td>\n",
       "    </tr>\n",
       "  </tbody>\n",
       "</table>\n",
       "</div>"
      ],
      "text/plain": [
       "   count      mean       std       min       25%       50%      75%       max\n",
       "0    5.0 -0.038799  0.002561 -0.042011 -0.040984 -0.037969 -0.03665 -0.036382"
      ]
     },
     "execution_count": 156,
     "metadata": {},
     "output_type": "execute_result"
    }
   ],
   "source": [
    "val_results = cross_validate(decision_tree,X,y, scoring=['neg_mean_squared_error','r2'])\n",
    "pd.DataFrame(val_results['test_neg_mean_squared_error']).describe().transpose()"
   ]
  },
  {
   "cell_type": "code",
   "execution_count": 113,
   "id": "276aa2df-d0b3-4e78-a4e3-c2c1ca948160",
   "metadata": {},
   "outputs": [
    {
     "name": "stderr",
     "output_type": "stream",
     "text": [
      "C:\\ProgramData\\Anaconda3\\lib\\site-packages\\xgboost\\data.py:250: FutureWarning: pandas.Int64Index is deprecated and will be removed from pandas in a future version. Use pandas.Index with the appropriate dtype instead.\n",
      "  elif isinstance(data.columns, (pd.Int64Index, pd.RangeIndex)):\n",
      "C:\\ProgramData\\Anaconda3\\lib\\site-packages\\xgboost\\data.py:250: FutureWarning: pandas.Int64Index is deprecated and will be removed from pandas in a future version. Use pandas.Index with the appropriate dtype instead.\n",
      "  elif isinstance(data.columns, (pd.Int64Index, pd.RangeIndex)):\n",
      "C:\\ProgramData\\Anaconda3\\lib\\site-packages\\xgboost\\data.py:250: FutureWarning: pandas.Int64Index is deprecated and will be removed from pandas in a future version. Use pandas.Index with the appropriate dtype instead.\n",
      "  elif isinstance(data.columns, (pd.Int64Index, pd.RangeIndex)):\n",
      "C:\\ProgramData\\Anaconda3\\lib\\site-packages\\xgboost\\data.py:250: FutureWarning: pandas.Int64Index is deprecated and will be removed from pandas in a future version. Use pandas.Index with the appropriate dtype instead.\n",
      "  elif isinstance(data.columns, (pd.Int64Index, pd.RangeIndex)):\n",
      "C:\\ProgramData\\Anaconda3\\lib\\site-packages\\xgboost\\data.py:250: FutureWarning: pandas.Int64Index is deprecated and will be removed from pandas in a future version. Use pandas.Index with the appropriate dtype instead.\n",
      "  elif isinstance(data.columns, (pd.Int64Index, pd.RangeIndex)):\n"
     ]
    },
    {
     "data": {
      "text/html": [
       "<div>\n",
       "<style scoped>\n",
       "    .dataframe tbody tr th:only-of-type {\n",
       "        vertical-align: middle;\n",
       "    }\n",
       "\n",
       "    .dataframe tbody tr th {\n",
       "        vertical-align: top;\n",
       "    }\n",
       "\n",
       "    .dataframe thead th {\n",
       "        text-align: right;\n",
       "    }\n",
       "</style>\n",
       "<table border=\"1\" class=\"dataframe\">\n",
       "  <thead>\n",
       "    <tr style=\"text-align: right;\">\n",
       "      <th></th>\n",
       "      <th>count</th>\n",
       "      <th>mean</th>\n",
       "      <th>std</th>\n",
       "      <th>min</th>\n",
       "      <th>25%</th>\n",
       "      <th>50%</th>\n",
       "      <th>75%</th>\n",
       "      <th>max</th>\n",
       "    </tr>\n",
       "  </thead>\n",
       "  <tbody>\n",
       "    <tr>\n",
       "      <th>0</th>\n",
       "      <td>5.0</td>\n",
       "      <td>-0.020724</td>\n",
       "      <td>0.002884</td>\n",
       "      <td>-0.024847</td>\n",
       "      <td>-0.021879</td>\n",
       "      <td>-0.020797</td>\n",
       "      <td>-0.018598</td>\n",
       "      <td>-0.017497</td>\n",
       "    </tr>\n",
       "  </tbody>\n",
       "</table>\n",
       "</div>"
      ],
      "text/plain": [
       "   count      mean       std       min       25%       50%       75%       max\n",
       "0    5.0 -0.020724  0.002884 -0.024847 -0.021879 -0.020797 -0.018598 -0.017497"
      ]
     },
     "execution_count": 113,
     "metadata": {},
     "output_type": "execute_result"
    }
   ],
   "source": [
    "val_results = cross_validate(xg_boost,X,y, scoring=['neg_mean_squared_error','r2'])\n",
    "pd.DataFrame(val_results['test_neg_mean_squared_error']).describe().transpose()"
   ]
  },
  {
   "cell_type": "code",
   "execution_count": 224,
   "id": "8fa23837-8325-48e1-8610-67b4fc2315ae",
   "metadata": {},
   "outputs": [
    {
     "data": {
      "text/html": [
       "<div>\n",
       "<style scoped>\n",
       "    .dataframe tbody tr th:only-of-type {\n",
       "        vertical-align: middle;\n",
       "    }\n",
       "\n",
       "    .dataframe tbody tr th {\n",
       "        vertical-align: top;\n",
       "    }\n",
       "\n",
       "    .dataframe thead th {\n",
       "        text-align: right;\n",
       "    }\n",
       "</style>\n",
       "<table border=\"1\" class=\"dataframe\">\n",
       "  <thead>\n",
       "    <tr style=\"text-align: right;\">\n",
       "      <th></th>\n",
       "      <th>count</th>\n",
       "      <th>mean</th>\n",
       "      <th>std</th>\n",
       "      <th>min</th>\n",
       "      <th>25%</th>\n",
       "      <th>50%</th>\n",
       "      <th>75%</th>\n",
       "      <th>max</th>\n",
       "    </tr>\n",
       "  </thead>\n",
       "  <tbody>\n",
       "    <tr>\n",
       "      <th>0</th>\n",
       "      <td>5.0</td>\n",
       "      <td>-0.020906</td>\n",
       "      <td>0.002835</td>\n",
       "      <td>-0.023648</td>\n",
       "      <td>-0.022773</td>\n",
       "      <td>-0.022421</td>\n",
       "      <td>-0.018082</td>\n",
       "      <td>-0.017609</td>\n",
       "    </tr>\n",
       "  </tbody>\n",
       "</table>\n",
       "</div>"
      ],
      "text/plain": [
       "   count      mean       std       min       25%       50%       75%       max\n",
       "0    5.0 -0.020906  0.002835 -0.023648 -0.022773 -0.022421 -0.018082 -0.017609"
      ]
     },
     "execution_count": 224,
     "metadata": {},
     "output_type": "execute_result"
    }
   ],
   "source": [
    "val_results = cross_validate(random_forest,X,y, scoring=['neg_mean_squared_error','r2'])\n",
    "pd.DataFrame(val_results['test_neg_mean_squared_error']).describe().transpose()"
   ]
  },
  {
   "cell_type": "code",
   "execution_count": 202,
   "id": "3340e562-c118-4647-aa33-f94b57008e30",
   "metadata": {},
   "outputs": [
    {
     "data": {
      "text/html": [
       "<div>\n",
       "<style scoped>\n",
       "    .dataframe tbody tr th:only-of-type {\n",
       "        vertical-align: middle;\n",
       "    }\n",
       "\n",
       "    .dataframe tbody tr th {\n",
       "        vertical-align: top;\n",
       "    }\n",
       "\n",
       "    .dataframe thead th {\n",
       "        text-align: right;\n",
       "    }\n",
       "</style>\n",
       "<table border=\"1\" class=\"dataframe\">\n",
       "  <thead>\n",
       "    <tr style=\"text-align: right;\">\n",
       "      <th></th>\n",
       "      <th>count</th>\n",
       "      <th>mean</th>\n",
       "      <th>std</th>\n",
       "      <th>min</th>\n",
       "      <th>25%</th>\n",
       "      <th>50%</th>\n",
       "      <th>75%</th>\n",
       "      <th>max</th>\n",
       "    </tr>\n",
       "  </thead>\n",
       "  <tbody>\n",
       "    <tr>\n",
       "      <th>0</th>\n",
       "      <td>5.0</td>\n",
       "      <td>-0.020326</td>\n",
       "      <td>0.002785</td>\n",
       "      <td>-0.023262</td>\n",
       "      <td>-0.022594</td>\n",
       "      <td>-0.020544</td>\n",
       "      <td>-0.01874</td>\n",
       "      <td>-0.016492</td>\n",
       "    </tr>\n",
       "  </tbody>\n",
       "</table>\n",
       "</div>"
      ],
      "text/plain": [
       "   count      mean       std       min       25%       50%      75%       max\n",
       "0    5.0 -0.020326  0.002785 -0.023262 -0.022594 -0.020544 -0.01874 -0.016492"
      ]
     },
     "execution_count": 202,
     "metadata": {},
     "output_type": "execute_result"
    }
   ],
   "source": [
    "val_results = cross_validate(random_forest_initial,X,y, scoring=['neg_mean_squared_error','r2'])\n",
    "pd.DataFrame(val_results['test_neg_mean_squared_error']).describe().transpose()"
   ]
  },
  {
   "cell_type": "code",
   "execution_count": 230,
   "id": "4c7c9918-70a6-4ee9-bec2-95d876d2b6a2",
   "metadata": {},
   "outputs": [
    {
     "data": {
      "text/html": [
       "<div>\n",
       "<style scoped>\n",
       "    .dataframe tbody tr th:only-of-type {\n",
       "        vertical-align: middle;\n",
       "    }\n",
       "\n",
       "    .dataframe tbody tr th {\n",
       "        vertical-align: top;\n",
       "    }\n",
       "\n",
       "    .dataframe thead th {\n",
       "        text-align: right;\n",
       "    }\n",
       "</style>\n",
       "<table border=\"1\" class=\"dataframe\">\n",
       "  <thead>\n",
       "    <tr style=\"text-align: right;\">\n",
       "      <th></th>\n",
       "      <th>count</th>\n",
       "      <th>mean</th>\n",
       "      <th>std</th>\n",
       "      <th>min</th>\n",
       "      <th>25%</th>\n",
       "      <th>50%</th>\n",
       "      <th>75%</th>\n",
       "      <th>max</th>\n",
       "    </tr>\n",
       "  </thead>\n",
       "  <tbody>\n",
       "    <tr>\n",
       "      <th>0</th>\n",
       "      <td>5.0</td>\n",
       "      <td>-0.0314</td>\n",
       "      <td>0.003302</td>\n",
       "      <td>-0.036019</td>\n",
       "      <td>-0.032751</td>\n",
       "      <td>-0.031797</td>\n",
       "      <td>-0.028304</td>\n",
       "      <td>-0.028126</td>\n",
       "    </tr>\n",
       "  </tbody>\n",
       "</table>\n",
       "</div>"
      ],
      "text/plain": [
       "   count    mean       std       min       25%       50%       75%       max\n",
       "0    5.0 -0.0314  0.003302 -0.036019 -0.032751 -0.031797 -0.028304 -0.028126"
      ]
     },
     "execution_count": 230,
     "metadata": {},
     "output_type": "execute_result"
    }
   ],
   "source": [
    "val_results = cross_validate(adaboost,X,y, scoring=['neg_mean_squared_error','r2'])\n",
    "pd.DataFrame(val_results['test_neg_mean_squared_error']).describe().transpose()"
   ]
  },
  {
   "cell_type": "code",
   "execution_count": 281,
   "id": "bfec3d20-64c9-4272-8546-f906d83d37c4",
   "metadata": {},
   "outputs": [
    {
     "name": "stderr",
     "output_type": "stream",
     "text": [
      "C:\\ProgramData\\Anaconda3\\lib\\site-packages\\xgboost\\data.py:250: FutureWarning: pandas.Int64Index is deprecated and will be removed from pandas in a future version. Use pandas.Index with the appropriate dtype instead.\n",
      "  elif isinstance(data.columns, (pd.Int64Index, pd.RangeIndex)):\n",
      "C:\\ProgramData\\Anaconda3\\lib\\site-packages\\xgboost\\data.py:250: FutureWarning: pandas.Int64Index is deprecated and will be removed from pandas in a future version. Use pandas.Index with the appropriate dtype instead.\n",
      "  elif isinstance(data.columns, (pd.Int64Index, pd.RangeIndex)):\n",
      "C:\\ProgramData\\Anaconda3\\lib\\site-packages\\xgboost\\data.py:250: FutureWarning: pandas.Int64Index is deprecated and will be removed from pandas in a future version. Use pandas.Index with the appropriate dtype instead.\n",
      "  elif isinstance(data.columns, (pd.Int64Index, pd.RangeIndex)):\n",
      "C:\\ProgramData\\Anaconda3\\lib\\site-packages\\xgboost\\data.py:250: FutureWarning: pandas.Int64Index is deprecated and will be removed from pandas in a future version. Use pandas.Index with the appropriate dtype instead.\n",
      "  elif isinstance(data.columns, (pd.Int64Index, pd.RangeIndex)):\n",
      "C:\\ProgramData\\Anaconda3\\lib\\site-packages\\xgboost\\data.py:250: FutureWarning: pandas.Int64Index is deprecated and will be removed from pandas in a future version. Use pandas.Index with the appropriate dtype instead.\n",
      "  elif isinstance(data.columns, (pd.Int64Index, pd.RangeIndex)):\n"
     ]
    },
    {
     "data": {
      "text/html": [
       "<div>\n",
       "<style scoped>\n",
       "    .dataframe tbody tr th:only-of-type {\n",
       "        vertical-align: middle;\n",
       "    }\n",
       "\n",
       "    .dataframe tbody tr th {\n",
       "        vertical-align: top;\n",
       "    }\n",
       "\n",
       "    .dataframe thead th {\n",
       "        text-align: right;\n",
       "    }\n",
       "</style>\n",
       "<table border=\"1\" class=\"dataframe\">\n",
       "  <thead>\n",
       "    <tr style=\"text-align: right;\">\n",
       "      <th></th>\n",
       "      <th>count</th>\n",
       "      <th>mean</th>\n",
       "      <th>std</th>\n",
       "      <th>min</th>\n",
       "      <th>25%</th>\n",
       "      <th>50%</th>\n",
       "      <th>75%</th>\n",
       "      <th>max</th>\n",
       "    </tr>\n",
       "  </thead>\n",
       "  <tbody>\n",
       "    <tr>\n",
       "      <th>0</th>\n",
       "      <td>5.0</td>\n",
       "      <td>-0.016966</td>\n",
       "      <td>0.003705</td>\n",
       "      <td>-0.020941</td>\n",
       "      <td>-0.020408</td>\n",
       "      <td>-0.016929</td>\n",
       "      <td>-0.01335</td>\n",
       "      <td>-0.013201</td>\n",
       "    </tr>\n",
       "  </tbody>\n",
       "</table>\n",
       "</div>"
      ],
      "text/plain": [
       "   count      mean       std       min       25%       50%      75%       max\n",
       "0    5.0 -0.016966  0.003705 -0.020941 -0.020408 -0.016929 -0.01335 -0.013201"
      ]
     },
     "execution_count": 281,
     "metadata": {},
     "output_type": "execute_result"
    }
   ],
   "source": [
    "val_results = cross_validate(voting_reg,X,y, scoring=['neg_mean_squared_error','r2'])\n",
    "pd.DataFrame(val_results['test_neg_mean_squared_error']).describe().transpose()"
   ]
  },
  {
   "cell_type": "code",
   "execution_count": 245,
   "id": "20e9b132-888c-42e8-951a-cb279abed13e",
   "metadata": {},
   "outputs": [
    {
     "data": {
      "text/html": [
       "<div>\n",
       "<style scoped>\n",
       "    .dataframe tbody tr th:only-of-type {\n",
       "        vertical-align: middle;\n",
       "    }\n",
       "\n",
       "    .dataframe tbody tr th {\n",
       "        vertical-align: top;\n",
       "    }\n",
       "\n",
       "    .dataframe thead th {\n",
       "        text-align: right;\n",
       "    }\n",
       "</style>\n",
       "<table border=\"1\" class=\"dataframe\">\n",
       "  <thead>\n",
       "    <tr style=\"text-align: right;\">\n",
       "      <th></th>\n",
       "      <th>count</th>\n",
       "      <th>mean</th>\n",
       "      <th>std</th>\n",
       "      <th>min</th>\n",
       "      <th>25%</th>\n",
       "      <th>50%</th>\n",
       "      <th>75%</th>\n",
       "      <th>max</th>\n",
       "    </tr>\n",
       "  </thead>\n",
       "  <tbody>\n",
       "    <tr>\n",
       "      <th>0</th>\n",
       "      <td>5.0</td>\n",
       "      <td>-0.017956</td>\n",
       "      <td>0.00312</td>\n",
       "      <td>-0.022391</td>\n",
       "      <td>-0.019007</td>\n",
       "      <td>-0.018423</td>\n",
       "      <td>-0.015312</td>\n",
       "      <td>-0.014644</td>\n",
       "    </tr>\n",
       "  </tbody>\n",
       "</table>\n",
       "</div>"
      ],
      "text/plain": [
       "   count      mean      std       min       25%       50%       75%       max\n",
       "0    5.0 -0.017956  0.00312 -0.022391 -0.019007 -0.018423 -0.015312 -0.014644"
      ]
     },
     "execution_count": 245,
     "metadata": {},
     "output_type": "execute_result"
    }
   ],
   "source": [
    "val_results = cross_validate(light_gbm,X,y, scoring=['neg_mean_squared_error','r2'])\n",
    "pd.DataFrame(val_results['test_neg_mean_squared_error']).describe().transpose()"
   ]
  },
  {
   "cell_type": "code",
   "execution_count": 250,
   "id": "02984416-a9c1-4513-899d-80c43433360a",
   "metadata": {},
   "outputs": [
    {
     "data": {
      "text/html": [
       "<div>\n",
       "<style scoped>\n",
       "    .dataframe tbody tr th:only-of-type {\n",
       "        vertical-align: middle;\n",
       "    }\n",
       "\n",
       "    .dataframe tbody tr th {\n",
       "        vertical-align: top;\n",
       "    }\n",
       "\n",
       "    .dataframe thead th {\n",
       "        text-align: right;\n",
       "    }\n",
       "</style>\n",
       "<table border=\"1\" class=\"dataframe\">\n",
       "  <thead>\n",
       "    <tr style=\"text-align: right;\">\n",
       "      <th></th>\n",
       "      <th>count</th>\n",
       "      <th>mean</th>\n",
       "      <th>std</th>\n",
       "      <th>min</th>\n",
       "      <th>25%</th>\n",
       "      <th>50%</th>\n",
       "      <th>75%</th>\n",
       "      <th>max</th>\n",
       "    </tr>\n",
       "  </thead>\n",
       "  <tbody>\n",
       "    <tr>\n",
       "      <th>0</th>\n",
       "      <td>5.0</td>\n",
       "      <td>-0.016141</td>\n",
       "      <td>0.002402</td>\n",
       "      <td>-0.019283</td>\n",
       "      <td>-0.017522</td>\n",
       "      <td>-0.016296</td>\n",
       "      <td>-0.014208</td>\n",
       "      <td>-0.013396</td>\n",
       "    </tr>\n",
       "  </tbody>\n",
       "</table>\n",
       "</div>"
      ],
      "text/plain": [
       "   count      mean       std       min       25%       50%       75%       max\n",
       "0    5.0 -0.016141  0.002402 -0.019283 -0.017522 -0.016296 -0.014208 -0.013396"
      ]
     },
     "execution_count": 250,
     "metadata": {},
     "output_type": "execute_result"
    }
   ],
   "source": [
    "val_results = cross_validate(gbr,X,y, scoring=['neg_mean_squared_error','r2'])\n",
    "pd.DataFrame(val_results['test_neg_mean_squared_error']).describe().transpose()"
   ]
  },
  {
   "cell_type": "code",
   "execution_count": 255,
   "id": "c3b3dbbb-b970-4d89-921b-7cab599965af",
   "metadata": {},
   "outputs": [
    {
     "data": {
      "text/html": [
       "<div>\n",
       "<style scoped>\n",
       "    .dataframe tbody tr th:only-of-type {\n",
       "        vertical-align: middle;\n",
       "    }\n",
       "\n",
       "    .dataframe tbody tr th {\n",
       "        vertical-align: top;\n",
       "    }\n",
       "\n",
       "    .dataframe thead th {\n",
       "        text-align: right;\n",
       "    }\n",
       "</style>\n",
       "<table border=\"1\" class=\"dataframe\">\n",
       "  <thead>\n",
       "    <tr style=\"text-align: right;\">\n",
       "      <th></th>\n",
       "      <th>count</th>\n",
       "      <th>mean</th>\n",
       "      <th>std</th>\n",
       "      <th>min</th>\n",
       "      <th>25%</th>\n",
       "      <th>50%</th>\n",
       "      <th>75%</th>\n",
       "      <th>max</th>\n",
       "    </tr>\n",
       "  </thead>\n",
       "  <tbody>\n",
       "    <tr>\n",
       "      <th>0</th>\n",
       "      <td>5.0</td>\n",
       "      <td>-1.644795e+34</td>\n",
       "      <td>2.112490e+34</td>\n",
       "      <td>-5.186109e+34</td>\n",
       "      <td>-1.532710e+34</td>\n",
       "      <td>-1.459797e+34</td>\n",
       "      <td>-3.357918e+32</td>\n",
       "      <td>-1.177889e+32</td>\n",
       "    </tr>\n",
       "  </tbody>\n",
       "</table>\n",
       "</div>"
      ],
      "text/plain": [
       "   count          mean           std           min           25%  \\\n",
       "0    5.0 -1.644795e+34  2.112490e+34 -5.186109e+34 -1.532710e+34   \n",
       "\n",
       "            50%           75%           max  \n",
       "0 -1.459797e+34 -3.357918e+32 -1.177889e+32  "
      ]
     },
     "execution_count": 255,
     "metadata": {},
     "output_type": "execute_result"
    }
   ],
   "source": [
    "val_results = cross_validate(SGDR,X,y, scoring=['neg_mean_squared_error','r2'])\n",
    "pd.DataFrame(val_results['test_neg_mean_squared_error']).describe().transpose()"
   ]
  },
  {
   "cell_type": "code",
   "execution_count": 258,
   "id": "59185868-37ac-49d6-89a5-c5defcc0c9d6",
   "metadata": {},
   "outputs": [
    {
     "data": {
      "text/html": [
       "<div>\n",
       "<style scoped>\n",
       "    .dataframe tbody tr th:only-of-type {\n",
       "        vertical-align: middle;\n",
       "    }\n",
       "\n",
       "    .dataframe tbody tr th {\n",
       "        vertical-align: top;\n",
       "    }\n",
       "\n",
       "    .dataframe thead th {\n",
       "        text-align: right;\n",
       "    }\n",
       "</style>\n",
       "<table border=\"1\" class=\"dataframe\">\n",
       "  <thead>\n",
       "    <tr style=\"text-align: right;\">\n",
       "      <th></th>\n",
       "      <th>count</th>\n",
       "      <th>mean</th>\n",
       "      <th>std</th>\n",
       "      <th>min</th>\n",
       "      <th>25%</th>\n",
       "      <th>50%</th>\n",
       "      <th>75%</th>\n",
       "      <th>max</th>\n",
       "    </tr>\n",
       "  </thead>\n",
       "  <tbody>\n",
       "    <tr>\n",
       "      <th>0</th>\n",
       "      <td>5.0</td>\n",
       "      <td>-0.041615</td>\n",
       "      <td>0.004721</td>\n",
       "      <td>-0.045491</td>\n",
       "      <td>-0.045126</td>\n",
       "      <td>-0.042035</td>\n",
       "      <td>-0.041659</td>\n",
       "      <td>-0.033765</td>\n",
       "    </tr>\n",
       "  </tbody>\n",
       "</table>\n",
       "</div>"
      ],
      "text/plain": [
       "   count      mean       std       min       25%       50%       75%       max\n",
       "0    5.0 -0.041615  0.004721 -0.045491 -0.045126 -0.042035 -0.041659 -0.033765"
      ]
     },
     "execution_count": 258,
     "metadata": {},
     "output_type": "execute_result"
    }
   ],
   "source": [
    "val_results = cross_validate(svr,X,y, scoring=['neg_mean_squared_error','r2'])\n",
    "pd.DataFrame(val_results['test_neg_mean_squared_error']).describe().transpose()"
   ]
  },
  {
   "cell_type": "code",
   "execution_count": 262,
   "id": "61855656-5671-486d-a2b9-4833d6c80998",
   "metadata": {},
   "outputs": [
    {
     "data": {
      "text/html": [
       "<div>\n",
       "<style scoped>\n",
       "    .dataframe tbody tr th:only-of-type {\n",
       "        vertical-align: middle;\n",
       "    }\n",
       "\n",
       "    .dataframe tbody tr th {\n",
       "        vertical-align: top;\n",
       "    }\n",
       "\n",
       "    .dataframe thead th {\n",
       "        text-align: right;\n",
       "    }\n",
       "</style>\n",
       "<table border=\"1\" class=\"dataframe\">\n",
       "  <thead>\n",
       "    <tr style=\"text-align: right;\">\n",
       "      <th></th>\n",
       "      <th>count</th>\n",
       "      <th>mean</th>\n",
       "      <th>std</th>\n",
       "      <th>min</th>\n",
       "      <th>25%</th>\n",
       "      <th>50%</th>\n",
       "      <th>75%</th>\n",
       "      <th>max</th>\n",
       "    </tr>\n",
       "  </thead>\n",
       "  <tbody>\n",
       "    <tr>\n",
       "      <th>0</th>\n",
       "      <td>5.0</td>\n",
       "      <td>-0.020079</td>\n",
       "      <td>0.008465</td>\n",
       "      <td>-0.034062</td>\n",
       "      <td>-0.021738</td>\n",
       "      <td>-0.016976</td>\n",
       "      <td>-0.013992</td>\n",
       "      <td>-0.013627</td>\n",
       "    </tr>\n",
       "  </tbody>\n",
       "</table>\n",
       "</div>"
      ],
      "text/plain": [
       "   count      mean       std       min       25%       50%       75%       max\n",
       "0    5.0 -0.020079  0.008465 -0.034062 -0.021738 -0.016976 -0.013992 -0.013627"
      ]
     },
     "execution_count": 262,
     "metadata": {},
     "output_type": "execute_result"
    }
   ],
   "source": [
    "val_results = cross_validate(bayesianr,X,y, scoring=['neg_mean_squared_error','r2'])\n",
    "pd.DataFrame(val_results['test_neg_mean_squared_error']).describe().transpose()"
   ]
  },
  {
   "cell_type": "code",
   "execution_count": 265,
   "id": "fb03df86-2a2e-4ff3-9cfa-890267750f35",
   "metadata": {},
   "outputs": [
    {
     "data": {
      "text/html": [
       "<div>\n",
       "<style scoped>\n",
       "    .dataframe tbody tr th:only-of-type {\n",
       "        vertical-align: middle;\n",
       "    }\n",
       "\n",
       "    .dataframe tbody tr th {\n",
       "        vertical-align: top;\n",
       "    }\n",
       "\n",
       "    .dataframe thead th {\n",
       "        text-align: right;\n",
       "    }\n",
       "</style>\n",
       "<table border=\"1\" class=\"dataframe\">\n",
       "  <thead>\n",
       "    <tr style=\"text-align: right;\">\n",
       "      <th></th>\n",
       "      <th>count</th>\n",
       "      <th>mean</th>\n",
       "      <th>std</th>\n",
       "      <th>min</th>\n",
       "      <th>25%</th>\n",
       "      <th>50%</th>\n",
       "      <th>75%</th>\n",
       "      <th>max</th>\n",
       "    </tr>\n",
       "  </thead>\n",
       "  <tbody>\n",
       "    <tr>\n",
       "      <th>0</th>\n",
       "      <td>5.0</td>\n",
       "      <td>-0.021636</td>\n",
       "      <td>0.008508</td>\n",
       "      <td>-0.035214</td>\n",
       "      <td>-0.023329</td>\n",
       "      <td>-0.020549</td>\n",
       "      <td>-0.015052</td>\n",
       "      <td>-0.014035</td>\n",
       "    </tr>\n",
       "  </tbody>\n",
       "</table>\n",
       "</div>"
      ],
      "text/plain": [
       "   count      mean       std       min       25%       50%       75%       max\n",
       "0    5.0 -0.021636  0.008508 -0.035214 -0.023329 -0.020549 -0.015052 -0.014035"
      ]
     },
     "execution_count": 265,
     "metadata": {},
     "output_type": "execute_result"
    }
   ],
   "source": [
    "val_results = cross_validate(kernelr,X,y, scoring=['neg_mean_squared_error','r2'])\n",
    "pd.DataFrame(val_results['test_neg_mean_squared_error']).describe().transpose()"
   ]
  },
  {
   "cell_type": "code",
   "execution_count": 274,
   "id": "d7e533ca-9806-4ac1-ab91-e964bcd46a50",
   "metadata": {},
   "outputs": [
    {
     "name": "stderr",
     "output_type": "stream",
     "text": [
      "C:\\ProgramData\\Anaconda3\\lib\\site-packages\\xgboost\\data.py:250: FutureWarning: pandas.Int64Index is deprecated and will be removed from pandas in a future version. Use pandas.Index with the appropriate dtype instead.\n",
      "  elif isinstance(data.columns, (pd.Int64Index, pd.RangeIndex)):\n",
      "C:\\ProgramData\\Anaconda3\\lib\\site-packages\\xgboost\\data.py:250: FutureWarning: pandas.Int64Index is deprecated and will be removed from pandas in a future version. Use pandas.Index with the appropriate dtype instead.\n",
      "  elif isinstance(data.columns, (pd.Int64Index, pd.RangeIndex)):\n",
      "C:\\ProgramData\\Anaconda3\\lib\\site-packages\\xgboost\\data.py:250: FutureWarning: pandas.Int64Index is deprecated and will be removed from pandas in a future version. Use pandas.Index with the appropriate dtype instead.\n",
      "  elif isinstance(data.columns, (pd.Int64Index, pd.RangeIndex)):\n",
      "C:\\ProgramData\\Anaconda3\\lib\\site-packages\\xgboost\\data.py:250: FutureWarning: pandas.Int64Index is deprecated and will be removed from pandas in a future version. Use pandas.Index with the appropriate dtype instead.\n",
      "  elif isinstance(data.columns, (pd.Int64Index, pd.RangeIndex)):\n",
      "C:\\ProgramData\\Anaconda3\\lib\\site-packages\\xgboost\\data.py:250: FutureWarning: pandas.Int64Index is deprecated and will be removed from pandas in a future version. Use pandas.Index with the appropriate dtype instead.\n",
      "  elif isinstance(data.columns, (pd.Int64Index, pd.RangeIndex)):\n",
      "C:\\ProgramData\\Anaconda3\\lib\\site-packages\\xgboost\\data.py:250: FutureWarning: pandas.Int64Index is deprecated and will be removed from pandas in a future version. Use pandas.Index with the appropriate dtype instead.\n",
      "  elif isinstance(data.columns, (pd.Int64Index, pd.RangeIndex)):\n",
      "C:\\ProgramData\\Anaconda3\\lib\\site-packages\\xgboost\\data.py:250: FutureWarning: pandas.Int64Index is deprecated and will be removed from pandas in a future version. Use pandas.Index with the appropriate dtype instead.\n",
      "  elif isinstance(data.columns, (pd.Int64Index, pd.RangeIndex)):\n",
      "C:\\ProgramData\\Anaconda3\\lib\\site-packages\\xgboost\\data.py:250: FutureWarning: pandas.Int64Index is deprecated and will be removed from pandas in a future version. Use pandas.Index with the appropriate dtype instead.\n",
      "  elif isinstance(data.columns, (pd.Int64Index, pd.RangeIndex)):\n",
      "C:\\ProgramData\\Anaconda3\\lib\\site-packages\\xgboost\\data.py:250: FutureWarning: pandas.Int64Index is deprecated and will be removed from pandas in a future version. Use pandas.Index with the appropriate dtype instead.\n",
      "  elif isinstance(data.columns, (pd.Int64Index, pd.RangeIndex)):\n",
      "C:\\ProgramData\\Anaconda3\\lib\\site-packages\\xgboost\\data.py:250: FutureWarning: pandas.Int64Index is deprecated and will be removed from pandas in a future version. Use pandas.Index with the appropriate dtype instead.\n",
      "  elif isinstance(data.columns, (pd.Int64Index, pd.RangeIndex)):\n",
      "C:\\ProgramData\\Anaconda3\\lib\\site-packages\\xgboost\\data.py:250: FutureWarning: pandas.Int64Index is deprecated and will be removed from pandas in a future version. Use pandas.Index with the appropriate dtype instead.\n",
      "  elif isinstance(data.columns, (pd.Int64Index, pd.RangeIndex)):\n",
      "C:\\ProgramData\\Anaconda3\\lib\\site-packages\\xgboost\\data.py:250: FutureWarning: pandas.Int64Index is deprecated and will be removed from pandas in a future version. Use pandas.Index with the appropriate dtype instead.\n",
      "  elif isinstance(data.columns, (pd.Int64Index, pd.RangeIndex)):\n",
      "C:\\ProgramData\\Anaconda3\\lib\\site-packages\\xgboost\\data.py:250: FutureWarning: pandas.Int64Index is deprecated and will be removed from pandas in a future version. Use pandas.Index with the appropriate dtype instead.\n",
      "  elif isinstance(data.columns, (pd.Int64Index, pd.RangeIndex)):\n",
      "C:\\ProgramData\\Anaconda3\\lib\\site-packages\\xgboost\\data.py:250: FutureWarning: pandas.Int64Index is deprecated and will be removed from pandas in a future version. Use pandas.Index with the appropriate dtype instead.\n",
      "  elif isinstance(data.columns, (pd.Int64Index, pd.RangeIndex)):\n",
      "C:\\ProgramData\\Anaconda3\\lib\\site-packages\\xgboost\\data.py:250: FutureWarning: pandas.Int64Index is deprecated and will be removed from pandas in a future version. Use pandas.Index with the appropriate dtype instead.\n",
      "  elif isinstance(data.columns, (pd.Int64Index, pd.RangeIndex)):\n",
      "C:\\ProgramData\\Anaconda3\\lib\\site-packages\\xgboost\\data.py:250: FutureWarning: pandas.Int64Index is deprecated and will be removed from pandas in a future version. Use pandas.Index with the appropriate dtype instead.\n",
      "  elif isinstance(data.columns, (pd.Int64Index, pd.RangeIndex)):\n",
      "C:\\ProgramData\\Anaconda3\\lib\\site-packages\\xgboost\\data.py:250: FutureWarning: pandas.Int64Index is deprecated and will be removed from pandas in a future version. Use pandas.Index with the appropriate dtype instead.\n",
      "  elif isinstance(data.columns, (pd.Int64Index, pd.RangeIndex)):\n",
      "C:\\ProgramData\\Anaconda3\\lib\\site-packages\\xgboost\\data.py:250: FutureWarning: pandas.Int64Index is deprecated and will be removed from pandas in a future version. Use pandas.Index with the appropriate dtype instead.\n",
      "  elif isinstance(data.columns, (pd.Int64Index, pd.RangeIndex)):\n",
      "C:\\ProgramData\\Anaconda3\\lib\\site-packages\\xgboost\\data.py:250: FutureWarning: pandas.Int64Index is deprecated and will be removed from pandas in a future version. Use pandas.Index with the appropriate dtype instead.\n",
      "  elif isinstance(data.columns, (pd.Int64Index, pd.RangeIndex)):\n",
      "C:\\ProgramData\\Anaconda3\\lib\\site-packages\\xgboost\\data.py:250: FutureWarning: pandas.Int64Index is deprecated and will be removed from pandas in a future version. Use pandas.Index with the appropriate dtype instead.\n",
      "  elif isinstance(data.columns, (pd.Int64Index, pd.RangeIndex)):\n",
      "C:\\ProgramData\\Anaconda3\\lib\\site-packages\\xgboost\\data.py:250: FutureWarning: pandas.Int64Index is deprecated and will be removed from pandas in a future version. Use pandas.Index with the appropriate dtype instead.\n",
      "  elif isinstance(data.columns, (pd.Int64Index, pd.RangeIndex)):\n",
      "C:\\ProgramData\\Anaconda3\\lib\\site-packages\\xgboost\\data.py:250: FutureWarning: pandas.Int64Index is deprecated and will be removed from pandas in a future version. Use pandas.Index with the appropriate dtype instead.\n",
      "  elif isinstance(data.columns, (pd.Int64Index, pd.RangeIndex)):\n",
      "C:\\ProgramData\\Anaconda3\\lib\\site-packages\\xgboost\\data.py:250: FutureWarning: pandas.Int64Index is deprecated and will be removed from pandas in a future version. Use pandas.Index with the appropriate dtype instead.\n",
      "  elif isinstance(data.columns, (pd.Int64Index, pd.RangeIndex)):\n",
      "C:\\ProgramData\\Anaconda3\\lib\\site-packages\\xgboost\\data.py:250: FutureWarning: pandas.Int64Index is deprecated and will be removed from pandas in a future version. Use pandas.Index with the appropriate dtype instead.\n",
      "  elif isinstance(data.columns, (pd.Int64Index, pd.RangeIndex)):\n",
      "C:\\ProgramData\\Anaconda3\\lib\\site-packages\\xgboost\\data.py:250: FutureWarning: pandas.Int64Index is deprecated and will be removed from pandas in a future version. Use pandas.Index with the appropriate dtype instead.\n",
      "  elif isinstance(data.columns, (pd.Int64Index, pd.RangeIndex)):\n",
      "C:\\ProgramData\\Anaconda3\\lib\\site-packages\\xgboost\\data.py:250: FutureWarning: pandas.Int64Index is deprecated and will be removed from pandas in a future version. Use pandas.Index with the appropriate dtype instead.\n",
      "  elif isinstance(data.columns, (pd.Int64Index, pd.RangeIndex)):\n",
      "C:\\ProgramData\\Anaconda3\\lib\\site-packages\\xgboost\\data.py:250: FutureWarning: pandas.Int64Index is deprecated and will be removed from pandas in a future version. Use pandas.Index with the appropriate dtype instead.\n",
      "  elif isinstance(data.columns, (pd.Int64Index, pd.RangeIndex)):\n",
      "C:\\ProgramData\\Anaconda3\\lib\\site-packages\\xgboost\\data.py:250: FutureWarning: pandas.Int64Index is deprecated and will be removed from pandas in a future version. Use pandas.Index with the appropriate dtype instead.\n",
      "  elif isinstance(data.columns, (pd.Int64Index, pd.RangeIndex)):\n",
      "C:\\ProgramData\\Anaconda3\\lib\\site-packages\\xgboost\\data.py:250: FutureWarning: pandas.Int64Index is deprecated and will be removed from pandas in a future version. Use pandas.Index with the appropriate dtype instead.\n",
      "  elif isinstance(data.columns, (pd.Int64Index, pd.RangeIndex)):\n",
      "C:\\ProgramData\\Anaconda3\\lib\\site-packages\\xgboost\\data.py:250: FutureWarning: pandas.Int64Index is deprecated and will be removed from pandas in a future version. Use pandas.Index with the appropriate dtype instead.\n",
      "  elif isinstance(data.columns, (pd.Int64Index, pd.RangeIndex)):\n"
     ]
    },
    {
     "data": {
      "text/html": [
       "<div>\n",
       "<style scoped>\n",
       "    .dataframe tbody tr th:only-of-type {\n",
       "        vertical-align: middle;\n",
       "    }\n",
       "\n",
       "    .dataframe tbody tr th {\n",
       "        vertical-align: top;\n",
       "    }\n",
       "\n",
       "    .dataframe thead th {\n",
       "        text-align: right;\n",
       "    }\n",
       "</style>\n",
       "<table border=\"1\" class=\"dataframe\">\n",
       "  <thead>\n",
       "    <tr style=\"text-align: right;\">\n",
       "      <th></th>\n",
       "      <th>count</th>\n",
       "      <th>mean</th>\n",
       "      <th>std</th>\n",
       "      <th>min</th>\n",
       "      <th>25%</th>\n",
       "      <th>50%</th>\n",
       "      <th>75%</th>\n",
       "      <th>max</th>\n",
       "    </tr>\n",
       "  </thead>\n",
       "  <tbody>\n",
       "    <tr>\n",
       "      <th>0</th>\n",
       "      <td>5.0</td>\n",
       "      <td>-0.016183</td>\n",
       "      <td>0.003881</td>\n",
       "      <td>-0.020452</td>\n",
       "      <td>-0.019416</td>\n",
       "      <td>-0.016602</td>\n",
       "      <td>-0.012251</td>\n",
       "      <td>-0.012193</td>\n",
       "    </tr>\n",
       "  </tbody>\n",
       "</table>\n",
       "</div>"
      ],
      "text/plain": [
       "   count      mean       std       min       25%       50%       75%       max\n",
       "0    5.0 -0.016183  0.003881 -0.020452 -0.019416 -0.016602 -0.012251 -0.012193"
      ]
     },
     "execution_count": 274,
     "metadata": {},
     "output_type": "execute_result"
    }
   ],
   "source": [
    "val_results = cross_validate(stacking_reg,X,y, scoring=['neg_mean_squared_error','r2'])\n",
    "pd.DataFrame(val_results['test_neg_mean_squared_error']).describe().transpose()"
   ]
  },
  {
   "cell_type": "markdown",
   "id": "b26fe468-3360-49ac-bbc3-3849e7b9a185",
   "metadata": {},
   "source": [
    "# Prediction"
   ]
  },
  {
   "cell_type": "code",
   "execution_count": 61,
   "id": "c9ffa5e0-dfa2-4350-9246-c19ab0dc8c3a",
   "metadata": {},
   "outputs": [],
   "source": [
    "df_predict_raw = pd.read_csv('test.csv')"
   ]
  },
  {
   "cell_type": "code",
   "execution_count": 62,
   "id": "8b308e6a-549b-4fdf-a875-78038c063496",
   "metadata": {},
   "outputs": [],
   "source": [
    "df_predict = df_predict_raw.copy()"
   ]
  },
  {
   "cell_type": "code",
   "execution_count": 63,
   "id": "225e2309-0e42-4c0e-8de6-4151872f12b7",
   "metadata": {},
   "outputs": [],
   "source": [
    "df_predict['AgeHouseAtSale'] = df_predict['YrSold'] - df_predict['YearBuilt']\n",
    "\n",
    "df_predict['YearsLastRemodelAtSale']  = df_predict['YrSold'] - df_predict['YearRemodAdd']\n",
    "\n",
    "df_predict['YearsGarageBuiltAtSale'] = df_predict['YrSold'] - df_predict['GarageYrBlt'] \n",
    "\n",
    "df_predict.drop(columns=['Id'],inplace=True)\n",
    "\n",
    "df_predict['MSSubClass'] = df_predict['MSSubClass'].astype(str)"
   ]
  },
  {
   "cell_type": "code",
   "execution_count": 64,
   "id": "cc7c18e0-cfca-40d7-bf65-0d18d8a30522",
   "metadata": {},
   "outputs": [],
   "source": [
    "for var in df_predict.dtypes[df_predict.dtypes == 'int64'].index:\n",
    "    if df_predict[var].isnull().sum()>0:\n",
    "        df_predict[var+'_isnull'] = df_predict[var].isnull().astype(int)\n",
    "        df_predict[var]=df_predict[var].fillna(df_predict[var].mean())\n",
    "\n",
    "for var in df_predict.dtypes[df_predict.dtypes == 'float64'].index:\n",
    "    if df_predict[var].isnull().sum()>0:\n",
    "        df_predict[var+'_isnull'] = df_predict[var].isnull().astype(int)\n",
    "        df_predict[var]=df_predict[var].fillna(df_predict[var].mean())\n",
    "\n",
    "df_predict_dummies = pd.get_dummies(df_predict,dummy_na=True,drop_first=False)"
   ]
  },
  {
   "cell_type": "code",
   "execution_count": 65,
   "id": "9947902d-3e69-46de-bd25-af488381a21d",
   "metadata": {},
   "outputs": [],
   "source": [
    "_, df_predict_dummies = X.align(df_predict_dummies, axis=1, fill_value=0)"
   ]
  },
  {
   "cell_type": "code",
   "execution_count": 66,
   "id": "2a690d40-9506-4f18-ad3a-5c91bb92f6e0",
   "metadata": {},
   "outputs": [],
   "source": [
    "df_predict_dummies.drop(columns=df_predict_dummies.columns[~df_predict_dummies.columns.isin(X.columns)],inplace=True)"
   ]
  },
  {
   "cell_type": "code",
   "execution_count": 67,
   "id": "c06eb8f4-57f7-4e7e-8265-dce0d8163df7",
   "metadata": {},
   "outputs": [],
   "source": [
    "df_predict_dummies['intercept']=1"
   ]
  },
  {
   "cell_type": "markdown",
   "id": "81f082fa-cb07-434d-8799-c3cd8dc1a738",
   "metadata": {},
   "source": [
    "## Predictions"
   ]
  },
  {
   "cell_type": "markdown",
   "id": "a7b361fc-7234-4c2f-9b60-013c59e71468",
   "metadata": {},
   "source": [
    "### Statsmodel low regularization"
   ]
  },
  {
   "cell_type": "code",
   "execution_count": 34,
   "id": "19f0f220-9d4e-46be-8798-b06171d4abaa",
   "metadata": {},
   "outputs": [],
   "source": [
    "df_predict_raw['SalePrice'] = np.exp(results.predict(df_predict_dummies[X.columns]))\n",
    "\n",
    "df_predict_raw[['Id','SalePrice']].to_csv('predictions_initial.csv',index=False)"
   ]
  },
  {
   "cell_type": "markdown",
   "id": "2f71ab16-1234-49d6-8b28-f13b3c0d1d42",
   "metadata": {},
   "source": [
    "### Elastic Net"
   ]
  },
  {
   "cell_type": "code",
   "execution_count": 159,
   "id": "1a5091f5-8b35-463c-8137-106f48e9fc97",
   "metadata": {},
   "outputs": [],
   "source": [
    "df_predict_raw['SalePrice'] =  np.exp(elastic_net_cv.predict(df_predict_dummies[X.columns]))\n",
    "\n",
    "df_predict_raw[['Id','SalePrice']].to_csv('predictions_elasticnet.csv',index=False)"
   ]
  },
  {
   "cell_type": "markdown",
   "id": "373bcf1e-4bdd-4a44-926a-6cb5b3344680",
   "metadata": {},
   "source": [
    "### Decision Tree"
   ]
  },
  {
   "cell_type": "code",
   "execution_count": 160,
   "id": "75af0f5d-1b42-426e-ac19-87bd55bf6831",
   "metadata": {},
   "outputs": [],
   "source": [
    "df_predict_raw['SalePrice'] =  np.exp(decision_tree.predict(df_predict_dummies[X.columns]))\n",
    "\n",
    "df_predict_raw[['Id','SalePrice']].to_csv('predictions_decisiontree.csv',index=False)"
   ]
  },
  {
   "cell_type": "markdown",
   "id": "769b2f2a-a54f-4e15-b1cf-d9e57ebf4f4d",
   "metadata": {
    "tags": []
   },
   "source": [
    "### XG Boost"
   ]
  },
  {
   "cell_type": "code",
   "execution_count": 68,
   "id": "be9d5337-b1ce-4f7a-901d-b8f14fbc42d9",
   "metadata": {},
   "outputs": [],
   "source": [
    "df_predict_raw['SalePrice'] =  np.exp(xg_boost.predict(df_predict_dummies[X.columns]))\n",
    "\n",
    "df_predict_raw[['Id','SalePrice']].to_csv('predictions_xgboost.csv',index=False)"
   ]
  },
  {
   "cell_type": "markdown",
   "id": "0e50ce30-520b-4598-a72a-38a29d711d46",
   "metadata": {},
   "source": [
    "### Random Forest"
   ]
  },
  {
   "cell_type": "code",
   "execution_count": 198,
   "id": "3f4d1d78-d504-4949-b91f-e8f5391e5fe4",
   "metadata": {},
   "outputs": [],
   "source": [
    "df_predict_raw['SalePrice'] =  np.exp(random_forest.predict(df_predict_dummies[X.columns]))\n",
    "\n",
    "df_predict_raw[['Id','SalePrice']].to_csv('predictions_rf_cv.csv',index=False)"
   ]
  },
  {
   "cell_type": "code",
   "execution_count": 201,
   "id": "db251399-5540-43e2-9595-aaf3964f928c",
   "metadata": {},
   "outputs": [],
   "source": [
    "df_predict_raw['SalePrice'] =  np.exp(random_forest_initial.predict(df_predict_dummies[X.columns]))\n",
    "\n",
    "df_predict_raw[['Id','SalePrice']].to_csv('predictions_rf.csv',index=False)"
   ]
  },
  {
   "cell_type": "markdown",
   "id": "c1b359c1-d704-44fc-bd76-868d098570c5",
   "metadata": {},
   "source": [
    "### Light GBM"
   ]
  },
  {
   "cell_type": "code",
   "execution_count": 278,
   "id": "4cf677aa-0b3d-4c48-b2ab-9b08072a39e9",
   "metadata": {},
   "outputs": [],
   "source": [
    "df_predict_raw['SalePrice'] =  np.exp(light_gbm.predict(df_predict_dummies[X.columns]))\n",
    "\n",
    "df_predict_raw[['Id','SalePrice']].to_csv('predictions_light_gbm.csv',index=False)"
   ]
  },
  {
   "cell_type": "markdown",
   "id": "8e40e1e4-0426-4310-b40e-3caf5188ccc7",
   "metadata": {
    "tags": []
   },
   "source": [
    "## Gradient Boosting Regression"
   ]
  },
  {
   "cell_type": "code",
   "execution_count": 282,
   "id": "cefcf1d1-041b-4435-a5dd-1e0062d6528f",
   "metadata": {},
   "outputs": [],
   "source": [
    "df_predict_raw['SalePrice'] =  np.exp(gbr.predict(df_predict_dummies[X.columns]))\n",
    "\n",
    "df_predict_raw[['Id','SalePrice']].to_csv('predictions_gbr.csv',index=False)"
   ]
  },
  {
   "cell_type": "markdown",
   "id": "d7030a2b-6181-4de7-86c9-bcc8eac72457",
   "metadata": {},
   "source": [
    "### Stacking Regression"
   ]
  },
  {
   "cell_type": "code",
   "execution_count": 279,
   "id": "ec480380-0a3e-4465-92a3-c30ed4ec1768",
   "metadata": {},
   "outputs": [],
   "source": [
    "df_predict_raw['SalePrice'] =  np.exp(stacking_reg.predict(df_predict_dummies[X.columns]))\n",
    "\n",
    "df_predict_raw[['Id','SalePrice']].to_csv('predictions_stacking_reg.csv',index=False)"
   ]
  },
  {
   "cell_type": "code",
   "execution_count": null,
   "id": "20e8657c-82ec-41d4-a5ad-6bc75d0918ef",
   "metadata": {},
   "outputs": [],
   "source": []
  }
 ],
 "metadata": {
  "kernelspec": {
   "display_name": "Python 3 (ipykernel)",
   "language": "python",
   "name": "python3"
  },
  "language_info": {
   "codemirror_mode": {
    "name": "ipython",
    "version": 3
   },
   "file_extension": ".py",
   "mimetype": "text/x-python",
   "name": "python",
   "nbconvert_exporter": "python",
   "pygments_lexer": "ipython3",
   "version": "3.9.13"
  },
  "toc-autonumbering": true
 },
 "nbformat": 4,
 "nbformat_minor": 5
}
