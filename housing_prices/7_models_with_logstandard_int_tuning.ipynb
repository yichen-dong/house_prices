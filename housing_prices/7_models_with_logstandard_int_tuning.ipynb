{
 "cells": [
  {
   "cell_type": "markdown",
   "id": "3841b1ae",
   "metadata": {},
   "source": [
    "The best score I got was with Polynomial features creating interactions on ALL the continuous and binary vars. This made more than 50k columns. The score on Kaggle for the elastic net regression was .12074, which is the lowers I've gotten so far. However, this drastically increased training time for almost all the models. \n",
    "\n",
    "I think if I had more domain knowledge, I would only create the interactions that I think would matter. But for this exercise, creating all the possible interactions seems like a better \"shotgun\" approach. "
   ]
  },
  {
   "cell_type": "markdown",
   "id": "ff223f15-fc12-4328-8557-8774e5bd5748",
   "metadata": {},
   "source": [
    "# Imports"
   ]
  },
  {
   "cell_type": "code",
   "execution_count": 6,
   "id": "ec97828c-bc7b-4917-b219-4b0025419213",
   "metadata": {},
   "outputs": [
    {
     "name": "stdout",
     "output_type": "stream",
     "text": [
      "The autoreload extension is already loaded. To reload it, use:\n",
      "  %reload_ext autoreload\n"
     ]
    }
   ],
   "source": [
    "%load_ext autoreload\n",
    "%autoreload 2\n",
    "import patsy\n",
    "from sklearn.preprocessing import PolynomialFeatures\n",
    "import pandas as pd\n",
    "import numpy as np\n",
    "\n",
    "pd.set_option('display.max_columns',100)\n",
    "from matplotlib import pyplot as plt\n",
    "import seaborn as sns\n",
    "from sklearn.model_selection import cross_validate, GridSearchCV\n",
    "import statsmodels.api as sm\n",
    "from sklearn.pipeline import make_pipeline\n",
    "from sklearn.preprocessing import StandardScaler\n",
    "from sklearn.preprocessing import RobustScaler\n",
    "from sklearn.tree import DecisionTreeRegressor\n",
    "from sklearn.model_selection import RandomizedSearchCV\n",
    "from skopt import BayesSearchCV\n",
    "from sklearn.model_selection import cross_validate\n",
    "df_raw = pd.read_csv('train.csv')"
   ]
  },
  {
   "cell_type": "code",
   "execution_count": 24,
   "id": "d240889f-ae07-4678-8210-f661ddab006e",
   "metadata": {},
   "outputs": [],
   "source": [
    "import xgboost"
   ]
  },
  {
   "cell_type": "markdown",
   "id": "adfe9726-a284-4d31-bbe9-5ca935fdd829",
   "metadata": {},
   "source": [
    "Notes:\n",
    "- Year Sold and Built not useful by itself, need to be changed into Age at Sale\n",
    "- Year Sold minus Year Remodel gives time since last remodel\n",
    "- MSSubClass will need some encoding (one-hot)\n",
    "- MSZoning will need encoding\n",
    "- Street can be one hot encoded\n",
    "- Alley will be encoded\n",
    "- LotShape encoded\n",
    "- LandContour encoded\n",
    "- Utilities encode"
   ]
  },
  {
   "cell_type": "markdown",
   "id": "189dd18f-0f67-4ef7-bff4-01f512460e33",
   "metadata": {},
   "source": [
    "## Data Transforms"
   ]
  },
  {
   "cell_type": "code",
   "execution_count": 181,
   "id": "4aedb209-edcf-42de-8c53-42c63be34db1",
   "metadata": {},
   "outputs": [],
   "source": [
    "df = df_raw.copy()"
   ]
  },
  {
   "cell_type": "code",
   "execution_count": 182,
   "id": "a211c72b-7a4d-44a2-9edb-0a640cf95dce",
   "metadata": {},
   "outputs": [],
   "source": [
    "df['AgeHouseAtSale'] = df['YrSold'] - df['YearBuilt']\n",
    "\n",
    "df['YearsLastRemodelAtSale']  = df['YrSold'] - df['YearRemodAdd']\n",
    "\n",
    "df['YearsGarageBuiltAtSale'] = df['YrSold'] - df['GarageYrBlt'] \n",
    "\n",
    "df.drop(columns=['Id'],inplace=True)\n",
    "\n",
    "df['MSSubClass'] = df['MSSubClass'].astype(str)"
   ]
  },
  {
   "cell_type": "code",
   "execution_count": 183,
   "id": "18d7d7cb-c223-4e39-a481-c3005a781642",
   "metadata": {},
   "outputs": [],
   "source": [
    "df['YearsLastRemodelAtSale'] = np.maximum(df['YearsLastRemodelAtSale'],0)"
   ]
  },
  {
   "cell_type": "code",
   "execution_count": 184,
   "id": "01b9e231",
   "metadata": {},
   "outputs": [],
   "source": [
    "df[\"SqFtPerRoom\"]        = df[\"GrLivArea\"] / \\\n",
    "                                                        (df[\"TotRmsAbvGrd\"] + df[\"FullBath\"]\n",
    "                                                       + df[\"HalfBath\"] + df[\"KitchenAbvGr\"])\n",
    "df['Total_Home_Quality'] = df['OverallQual'] + df['OverallCond']\n",
    "df['Total_Bathrooms']    = df['FullBath'] + 0.5 * df['HalfBath'] \\\n",
    "                                      + df['BsmtFullBath'] + 0.5 * df['BsmtHalfBath']\n",
    "df[\"HighQualSF\"]         = df[\"1stFlrSF\"] + df[\"2ndFlrSF\"]\n",
    "\n"
   ]
  },
  {
   "cell_type": "code",
   "execution_count": 185,
   "id": "ae7afd01",
   "metadata": {},
   "outputs": [],
   "source": [
    "df[\"TotalSF\"] = df[\"1stFlrSF\"] + df[\"2ndFlrSF\"] + df[\"TotalBsmtSF\"] \n",
    "# df[\"GreenArea\"] = df[\"LotArea\"] - df[\"GrLivArea\"] - df[\"GarageArea\"]\n",
    "for var in ['1stFlrSF','2ndFlrSF','TotalBsmtSF']:\n",
    "    df[var+'Pct'] = df[var]/df['TotalSF']\n",
    "# for var in ['GreenArea','GrLivArea','GarageArea']:\n",
    "#     df[var+'Pct'] = df[var]/df['LotArea']"
   ]
  },
  {
   "cell_type": "code",
   "execution_count": 186,
   "id": "6f6a8fc7",
   "metadata": {},
   "outputs": [
    {
     "data": {
      "text/html": [
       "<div>\n",
       "<style scoped>\n",
       "    .dataframe tbody tr th:only-of-type {\n",
       "        vertical-align: middle;\n",
       "    }\n",
       "\n",
       "    .dataframe tbody tr th {\n",
       "        vertical-align: top;\n",
       "    }\n",
       "\n",
       "    .dataframe thead th {\n",
       "        text-align: right;\n",
       "    }\n",
       "</style>\n",
       "<table border=\"1\" class=\"dataframe\">\n",
       "  <thead>\n",
       "    <tr style=\"text-align: right;\">\n",
       "      <th></th>\n",
       "      <th>LotFrontage</th>\n",
       "      <th>LotArea</th>\n",
       "      <th>OverallQual</th>\n",
       "      <th>OverallCond</th>\n",
       "      <th>YearBuilt</th>\n",
       "      <th>YearRemodAdd</th>\n",
       "      <th>MasVnrArea</th>\n",
       "      <th>BsmtFinSF1</th>\n",
       "      <th>BsmtFinSF2</th>\n",
       "      <th>BsmtUnfSF</th>\n",
       "      <th>TotalBsmtSF</th>\n",
       "      <th>1stFlrSF</th>\n",
       "      <th>2ndFlrSF</th>\n",
       "      <th>LowQualFinSF</th>\n",
       "      <th>GrLivArea</th>\n",
       "      <th>BsmtFullBath</th>\n",
       "      <th>BsmtHalfBath</th>\n",
       "      <th>FullBath</th>\n",
       "      <th>HalfBath</th>\n",
       "      <th>BedroomAbvGr</th>\n",
       "      <th>KitchenAbvGr</th>\n",
       "      <th>TotRmsAbvGrd</th>\n",
       "      <th>Fireplaces</th>\n",
       "      <th>GarageYrBlt</th>\n",
       "      <th>GarageCars</th>\n",
       "      <th>GarageArea</th>\n",
       "      <th>WoodDeckSF</th>\n",
       "      <th>OpenPorchSF</th>\n",
       "      <th>EnclosedPorch</th>\n",
       "      <th>3SsnPorch</th>\n",
       "      <th>ScreenPorch</th>\n",
       "      <th>PoolArea</th>\n",
       "      <th>MiscVal</th>\n",
       "      <th>MoSold</th>\n",
       "      <th>YrSold</th>\n",
       "      <th>SalePrice</th>\n",
       "      <th>AgeHouseAtSale</th>\n",
       "      <th>YearsLastRemodelAtSale</th>\n",
       "      <th>YearsGarageBuiltAtSale</th>\n",
       "      <th>SqFtPerRoom</th>\n",
       "      <th>Total_Home_Quality</th>\n",
       "      <th>Total_Bathrooms</th>\n",
       "      <th>HighQualSF</th>\n",
       "      <th>TotalSF</th>\n",
       "      <th>1stFlrSFPct</th>\n",
       "      <th>2ndFlrSFPct</th>\n",
       "      <th>TotalBsmtSFPct</th>\n",
       "    </tr>\n",
       "  </thead>\n",
       "  <tbody>\n",
       "    <tr>\n",
       "      <th>count</th>\n",
       "      <td>1201.000000</td>\n",
       "      <td>1460.000000</td>\n",
       "      <td>1460.000000</td>\n",
       "      <td>1460.000000</td>\n",
       "      <td>1460.000000</td>\n",
       "      <td>1460.000000</td>\n",
       "      <td>1452.000000</td>\n",
       "      <td>1460.000000</td>\n",
       "      <td>1460.000000</td>\n",
       "      <td>1460.000000</td>\n",
       "      <td>1460.000000</td>\n",
       "      <td>1460.000000</td>\n",
       "      <td>1460.000000</td>\n",
       "      <td>1460.000000</td>\n",
       "      <td>1460.000000</td>\n",
       "      <td>1460.000000</td>\n",
       "      <td>1460.000000</td>\n",
       "      <td>1460.000000</td>\n",
       "      <td>1460.000000</td>\n",
       "      <td>1460.000000</td>\n",
       "      <td>1460.000000</td>\n",
       "      <td>1460.000000</td>\n",
       "      <td>1460.000000</td>\n",
       "      <td>1379.000000</td>\n",
       "      <td>1460.000000</td>\n",
       "      <td>1460.000000</td>\n",
       "      <td>1460.000000</td>\n",
       "      <td>1460.000000</td>\n",
       "      <td>1460.000000</td>\n",
       "      <td>1460.000000</td>\n",
       "      <td>1460.000000</td>\n",
       "      <td>1460.000000</td>\n",
       "      <td>1460.000000</td>\n",
       "      <td>1460.000000</td>\n",
       "      <td>1460.000000</td>\n",
       "      <td>1460.000000</td>\n",
       "      <td>1460.000000</td>\n",
       "      <td>1460.000000</td>\n",
       "      <td>1379.000000</td>\n",
       "      <td>1460.000000</td>\n",
       "      <td>1460.000000</td>\n",
       "      <td>1460.000000</td>\n",
       "      <td>1460.000000</td>\n",
       "      <td>1460.000000</td>\n",
       "      <td>1460.000000</td>\n",
       "      <td>1460.000000</td>\n",
       "      <td>1460.000000</td>\n",
       "    </tr>\n",
       "    <tr>\n",
       "      <th>mean</th>\n",
       "      <td>70.049958</td>\n",
       "      <td>10516.828082</td>\n",
       "      <td>6.099315</td>\n",
       "      <td>5.575342</td>\n",
       "      <td>1971.267808</td>\n",
       "      <td>1984.865753</td>\n",
       "      <td>103.685262</td>\n",
       "      <td>443.639726</td>\n",
       "      <td>46.549315</td>\n",
       "      <td>567.240411</td>\n",
       "      <td>1057.429452</td>\n",
       "      <td>1162.626712</td>\n",
       "      <td>346.992466</td>\n",
       "      <td>5.844521</td>\n",
       "      <td>1515.463699</td>\n",
       "      <td>0.425342</td>\n",
       "      <td>0.057534</td>\n",
       "      <td>1.565068</td>\n",
       "      <td>0.382877</td>\n",
       "      <td>2.866438</td>\n",
       "      <td>1.046575</td>\n",
       "      <td>6.517808</td>\n",
       "      <td>0.613014</td>\n",
       "      <td>1978.506164</td>\n",
       "      <td>1.767123</td>\n",
       "      <td>472.980137</td>\n",
       "      <td>94.244521</td>\n",
       "      <td>46.660274</td>\n",
       "      <td>21.954110</td>\n",
       "      <td>3.409589</td>\n",
       "      <td>15.060959</td>\n",
       "      <td>2.758904</td>\n",
       "      <td>43.489041</td>\n",
       "      <td>6.321918</td>\n",
       "      <td>2007.815753</td>\n",
       "      <td>180921.195890</td>\n",
       "      <td>36.547945</td>\n",
       "      <td>22.950685</td>\n",
       "      <td>29.306019</td>\n",
       "      <td>157.307896</td>\n",
       "      <td>11.674658</td>\n",
       "      <td>2.210616</td>\n",
       "      <td>1509.619178</td>\n",
       "      <td>2567.048630</td>\n",
       "      <td>0.463508</td>\n",
       "      <td>0.128807</td>\n",
       "      <td>0.407686</td>\n",
       "    </tr>\n",
       "    <tr>\n",
       "      <th>std</th>\n",
       "      <td>24.284752</td>\n",
       "      <td>9981.264932</td>\n",
       "      <td>1.382997</td>\n",
       "      <td>1.112799</td>\n",
       "      <td>30.202904</td>\n",
       "      <td>20.645407</td>\n",
       "      <td>181.066207</td>\n",
       "      <td>456.098091</td>\n",
       "      <td>161.319273</td>\n",
       "      <td>441.866955</td>\n",
       "      <td>438.705324</td>\n",
       "      <td>386.587738</td>\n",
       "      <td>436.528436</td>\n",
       "      <td>48.623081</td>\n",
       "      <td>525.480383</td>\n",
       "      <td>0.518911</td>\n",
       "      <td>0.238753</td>\n",
       "      <td>0.550916</td>\n",
       "      <td>0.502885</td>\n",
       "      <td>0.815778</td>\n",
       "      <td>0.220338</td>\n",
       "      <td>1.625393</td>\n",
       "      <td>0.644666</td>\n",
       "      <td>24.689725</td>\n",
       "      <td>0.747315</td>\n",
       "      <td>213.804841</td>\n",
       "      <td>125.338794</td>\n",
       "      <td>66.256028</td>\n",
       "      <td>61.119149</td>\n",
       "      <td>29.317331</td>\n",
       "      <td>55.757415</td>\n",
       "      <td>40.177307</td>\n",
       "      <td>496.123024</td>\n",
       "      <td>2.703626</td>\n",
       "      <td>1.328095</td>\n",
       "      <td>79442.502883</td>\n",
       "      <td>30.250152</td>\n",
       "      <td>20.639875</td>\n",
       "      <td>24.726881</td>\n",
       "      <td>28.149217</td>\n",
       "      <td>1.693527</td>\n",
       "      <td>0.785399</td>\n",
       "      <td>521.163523</td>\n",
       "      <td>821.714421</td>\n",
       "      <td>0.113344</td>\n",
       "      <td>0.154270</td>\n",
       "      <td>0.107678</td>\n",
       "    </tr>\n",
       "    <tr>\n",
       "      <th>min</th>\n",
       "      <td>21.000000</td>\n",
       "      <td>1300.000000</td>\n",
       "      <td>1.000000</td>\n",
       "      <td>1.000000</td>\n",
       "      <td>1872.000000</td>\n",
       "      <td>1950.000000</td>\n",
       "      <td>0.000000</td>\n",
       "      <td>0.000000</td>\n",
       "      <td>0.000000</td>\n",
       "      <td>0.000000</td>\n",
       "      <td>0.000000</td>\n",
       "      <td>334.000000</td>\n",
       "      <td>0.000000</td>\n",
       "      <td>0.000000</td>\n",
       "      <td>334.000000</td>\n",
       "      <td>0.000000</td>\n",
       "      <td>0.000000</td>\n",
       "      <td>0.000000</td>\n",
       "      <td>0.000000</td>\n",
       "      <td>0.000000</td>\n",
       "      <td>0.000000</td>\n",
       "      <td>2.000000</td>\n",
       "      <td>0.000000</td>\n",
       "      <td>1900.000000</td>\n",
       "      <td>0.000000</td>\n",
       "      <td>0.000000</td>\n",
       "      <td>0.000000</td>\n",
       "      <td>0.000000</td>\n",
       "      <td>0.000000</td>\n",
       "      <td>0.000000</td>\n",
       "      <td>0.000000</td>\n",
       "      <td>0.000000</td>\n",
       "      <td>0.000000</td>\n",
       "      <td>1.000000</td>\n",
       "      <td>2006.000000</td>\n",
       "      <td>34900.000000</td>\n",
       "      <td>0.000000</td>\n",
       "      <td>0.000000</td>\n",
       "      <td>0.000000</td>\n",
       "      <td>83.500000</td>\n",
       "      <td>2.000000</td>\n",
       "      <td>1.000000</td>\n",
       "      <td>334.000000</td>\n",
       "      <td>334.000000</td>\n",
       "      <td>0.257544</td>\n",
       "      <td>0.000000</td>\n",
       "      <td>0.000000</td>\n",
       "    </tr>\n",
       "    <tr>\n",
       "      <th>25%</th>\n",
       "      <td>59.000000</td>\n",
       "      <td>7553.500000</td>\n",
       "      <td>5.000000</td>\n",
       "      <td>5.000000</td>\n",
       "      <td>1954.000000</td>\n",
       "      <td>1967.000000</td>\n",
       "      <td>0.000000</td>\n",
       "      <td>0.000000</td>\n",
       "      <td>0.000000</td>\n",
       "      <td>223.000000</td>\n",
       "      <td>795.750000</td>\n",
       "      <td>882.000000</td>\n",
       "      <td>0.000000</td>\n",
       "      <td>0.000000</td>\n",
       "      <td>1129.500000</td>\n",
       "      <td>0.000000</td>\n",
       "      <td>0.000000</td>\n",
       "      <td>1.000000</td>\n",
       "      <td>0.000000</td>\n",
       "      <td>2.000000</td>\n",
       "      <td>1.000000</td>\n",
       "      <td>5.000000</td>\n",
       "      <td>0.000000</td>\n",
       "      <td>1961.000000</td>\n",
       "      <td>1.000000</td>\n",
       "      <td>334.500000</td>\n",
       "      <td>0.000000</td>\n",
       "      <td>0.000000</td>\n",
       "      <td>0.000000</td>\n",
       "      <td>0.000000</td>\n",
       "      <td>0.000000</td>\n",
       "      <td>0.000000</td>\n",
       "      <td>0.000000</td>\n",
       "      <td>5.000000</td>\n",
       "      <td>2007.000000</td>\n",
       "      <td>129975.000000</td>\n",
       "      <td>8.000000</td>\n",
       "      <td>4.000000</td>\n",
       "      <td>6.000000</td>\n",
       "      <td>137.741071</td>\n",
       "      <td>11.000000</td>\n",
       "      <td>2.000000</td>\n",
       "      <td>1123.750000</td>\n",
       "      <td>2009.500000</td>\n",
       "      <td>0.366565</td>\n",
       "      <td>0.000000</td>\n",
       "      <td>0.333333</td>\n",
       "    </tr>\n",
       "    <tr>\n",
       "      <th>50%</th>\n",
       "      <td>69.000000</td>\n",
       "      <td>9478.500000</td>\n",
       "      <td>6.000000</td>\n",
       "      <td>5.000000</td>\n",
       "      <td>1973.000000</td>\n",
       "      <td>1994.000000</td>\n",
       "      <td>0.000000</td>\n",
       "      <td>383.500000</td>\n",
       "      <td>0.000000</td>\n",
       "      <td>477.500000</td>\n",
       "      <td>991.500000</td>\n",
       "      <td>1087.000000</td>\n",
       "      <td>0.000000</td>\n",
       "      <td>0.000000</td>\n",
       "      <td>1464.000000</td>\n",
       "      <td>0.000000</td>\n",
       "      <td>0.000000</td>\n",
       "      <td>2.000000</td>\n",
       "      <td>0.000000</td>\n",
       "      <td>3.000000</td>\n",
       "      <td>1.000000</td>\n",
       "      <td>6.000000</td>\n",
       "      <td>1.000000</td>\n",
       "      <td>1980.000000</td>\n",
       "      <td>2.000000</td>\n",
       "      <td>480.000000</td>\n",
       "      <td>0.000000</td>\n",
       "      <td>25.000000</td>\n",
       "      <td>0.000000</td>\n",
       "      <td>0.000000</td>\n",
       "      <td>0.000000</td>\n",
       "      <td>0.000000</td>\n",
       "      <td>0.000000</td>\n",
       "      <td>6.000000</td>\n",
       "      <td>2008.000000</td>\n",
       "      <td>163000.000000</td>\n",
       "      <td>35.000000</td>\n",
       "      <td>14.000000</td>\n",
       "      <td>28.000000</td>\n",
       "      <td>154.666667</td>\n",
       "      <td>12.000000</td>\n",
       "      <td>2.000000</td>\n",
       "      <td>1458.000000</td>\n",
       "      <td>2474.000000</td>\n",
       "      <td>0.500000</td>\n",
       "      <td>0.000000</td>\n",
       "      <td>0.442645</td>\n",
       "    </tr>\n",
       "    <tr>\n",
       "      <th>75%</th>\n",
       "      <td>80.000000</td>\n",
       "      <td>11601.500000</td>\n",
       "      <td>7.000000</td>\n",
       "      <td>6.000000</td>\n",
       "      <td>2000.000000</td>\n",
       "      <td>2004.000000</td>\n",
       "      <td>166.000000</td>\n",
       "      <td>712.250000</td>\n",
       "      <td>0.000000</td>\n",
       "      <td>808.000000</td>\n",
       "      <td>1298.250000</td>\n",
       "      <td>1391.250000</td>\n",
       "      <td>728.000000</td>\n",
       "      <td>0.000000</td>\n",
       "      <td>1776.750000</td>\n",
       "      <td>1.000000</td>\n",
       "      <td>0.000000</td>\n",
       "      <td>2.000000</td>\n",
       "      <td>1.000000</td>\n",
       "      <td>3.000000</td>\n",
       "      <td>1.000000</td>\n",
       "      <td>7.000000</td>\n",
       "      <td>1.000000</td>\n",
       "      <td>2002.000000</td>\n",
       "      <td>2.000000</td>\n",
       "      <td>576.000000</td>\n",
       "      <td>168.000000</td>\n",
       "      <td>68.000000</td>\n",
       "      <td>0.000000</td>\n",
       "      <td>0.000000</td>\n",
       "      <td>0.000000</td>\n",
       "      <td>0.000000</td>\n",
       "      <td>0.000000</td>\n",
       "      <td>8.000000</td>\n",
       "      <td>2009.000000</td>\n",
       "      <td>214000.000000</td>\n",
       "      <td>54.000000</td>\n",
       "      <td>41.000000</td>\n",
       "      <td>47.000000</td>\n",
       "      <td>172.584821</td>\n",
       "      <td>13.000000</td>\n",
       "      <td>2.500000</td>\n",
       "      <td>1775.250000</td>\n",
       "      <td>3004.000000</td>\n",
       "      <td>0.500437</td>\n",
       "      <td>0.297038</td>\n",
       "      <td>0.500000</td>\n",
       "    </tr>\n",
       "    <tr>\n",
       "      <th>max</th>\n",
       "      <td>313.000000</td>\n",
       "      <td>215245.000000</td>\n",
       "      <td>10.000000</td>\n",
       "      <td>9.000000</td>\n",
       "      <td>2010.000000</td>\n",
       "      <td>2010.000000</td>\n",
       "      <td>1600.000000</td>\n",
       "      <td>5644.000000</td>\n",
       "      <td>1474.000000</td>\n",
       "      <td>2336.000000</td>\n",
       "      <td>6110.000000</td>\n",
       "      <td>4692.000000</td>\n",
       "      <td>2065.000000</td>\n",
       "      <td>572.000000</td>\n",
       "      <td>5642.000000</td>\n",
       "      <td>3.000000</td>\n",
       "      <td>2.000000</td>\n",
       "      <td>3.000000</td>\n",
       "      <td>2.000000</td>\n",
       "      <td>8.000000</td>\n",
       "      <td>3.000000</td>\n",
       "      <td>14.000000</td>\n",
       "      <td>3.000000</td>\n",
       "      <td>2010.000000</td>\n",
       "      <td>4.000000</td>\n",
       "      <td>1418.000000</td>\n",
       "      <td>857.000000</td>\n",
       "      <td>547.000000</td>\n",
       "      <td>552.000000</td>\n",
       "      <td>508.000000</td>\n",
       "      <td>480.000000</td>\n",
       "      <td>738.000000</td>\n",
       "      <td>15500.000000</td>\n",
       "      <td>12.000000</td>\n",
       "      <td>2010.000000</td>\n",
       "      <td>755000.000000</td>\n",
       "      <td>136.000000</td>\n",
       "      <td>60.000000</td>\n",
       "      <td>107.000000</td>\n",
       "      <td>352.625000</td>\n",
       "      <td>19.000000</td>\n",
       "      <td>6.000000</td>\n",
       "      <td>5642.000000</td>\n",
       "      <td>11752.000000</td>\n",
       "      <td>1.000000</td>\n",
       "      <td>0.742456</td>\n",
       "      <td>0.663082</td>\n",
       "    </tr>\n",
       "  </tbody>\n",
       "</table>\n",
       "</div>"
      ],
      "text/plain": [
       "       LotFrontage        LotArea  OverallQual  OverallCond    YearBuilt  \\\n",
       "count  1201.000000    1460.000000  1460.000000  1460.000000  1460.000000   \n",
       "mean     70.049958   10516.828082     6.099315     5.575342  1971.267808   \n",
       "std      24.284752    9981.264932     1.382997     1.112799    30.202904   \n",
       "min      21.000000    1300.000000     1.000000     1.000000  1872.000000   \n",
       "25%      59.000000    7553.500000     5.000000     5.000000  1954.000000   \n",
       "50%      69.000000    9478.500000     6.000000     5.000000  1973.000000   \n",
       "75%      80.000000   11601.500000     7.000000     6.000000  2000.000000   \n",
       "max     313.000000  215245.000000    10.000000     9.000000  2010.000000   \n",
       "\n",
       "       YearRemodAdd   MasVnrArea   BsmtFinSF1   BsmtFinSF2    BsmtUnfSF  \\\n",
       "count   1460.000000  1452.000000  1460.000000  1460.000000  1460.000000   \n",
       "mean    1984.865753   103.685262   443.639726    46.549315   567.240411   \n",
       "std       20.645407   181.066207   456.098091   161.319273   441.866955   \n",
       "min     1950.000000     0.000000     0.000000     0.000000     0.000000   \n",
       "25%     1967.000000     0.000000     0.000000     0.000000   223.000000   \n",
       "50%     1994.000000     0.000000   383.500000     0.000000   477.500000   \n",
       "75%     2004.000000   166.000000   712.250000     0.000000   808.000000   \n",
       "max     2010.000000  1600.000000  5644.000000  1474.000000  2336.000000   \n",
       "\n",
       "       TotalBsmtSF     1stFlrSF     2ndFlrSF  LowQualFinSF    GrLivArea  \\\n",
       "count  1460.000000  1460.000000  1460.000000   1460.000000  1460.000000   \n",
       "mean   1057.429452  1162.626712   346.992466      5.844521  1515.463699   \n",
       "std     438.705324   386.587738   436.528436     48.623081   525.480383   \n",
       "min       0.000000   334.000000     0.000000      0.000000   334.000000   \n",
       "25%     795.750000   882.000000     0.000000      0.000000  1129.500000   \n",
       "50%     991.500000  1087.000000     0.000000      0.000000  1464.000000   \n",
       "75%    1298.250000  1391.250000   728.000000      0.000000  1776.750000   \n",
       "max    6110.000000  4692.000000  2065.000000    572.000000  5642.000000   \n",
       "\n",
       "       BsmtFullBath  BsmtHalfBath     FullBath     HalfBath  BedroomAbvGr  \\\n",
       "count   1460.000000   1460.000000  1460.000000  1460.000000   1460.000000   \n",
       "mean       0.425342      0.057534     1.565068     0.382877      2.866438   \n",
       "std        0.518911      0.238753     0.550916     0.502885      0.815778   \n",
       "min        0.000000      0.000000     0.000000     0.000000      0.000000   \n",
       "25%        0.000000      0.000000     1.000000     0.000000      2.000000   \n",
       "50%        0.000000      0.000000     2.000000     0.000000      3.000000   \n",
       "75%        1.000000      0.000000     2.000000     1.000000      3.000000   \n",
       "max        3.000000      2.000000     3.000000     2.000000      8.000000   \n",
       "\n",
       "       KitchenAbvGr  TotRmsAbvGrd   Fireplaces  GarageYrBlt   GarageCars  \\\n",
       "count   1460.000000   1460.000000  1460.000000  1379.000000  1460.000000   \n",
       "mean       1.046575      6.517808     0.613014  1978.506164     1.767123   \n",
       "std        0.220338      1.625393     0.644666    24.689725     0.747315   \n",
       "min        0.000000      2.000000     0.000000  1900.000000     0.000000   \n",
       "25%        1.000000      5.000000     0.000000  1961.000000     1.000000   \n",
       "50%        1.000000      6.000000     1.000000  1980.000000     2.000000   \n",
       "75%        1.000000      7.000000     1.000000  2002.000000     2.000000   \n",
       "max        3.000000     14.000000     3.000000  2010.000000     4.000000   \n",
       "\n",
       "        GarageArea   WoodDeckSF  OpenPorchSF  EnclosedPorch    3SsnPorch  \\\n",
       "count  1460.000000  1460.000000  1460.000000    1460.000000  1460.000000   \n",
       "mean    472.980137    94.244521    46.660274      21.954110     3.409589   \n",
       "std     213.804841   125.338794    66.256028      61.119149    29.317331   \n",
       "min       0.000000     0.000000     0.000000       0.000000     0.000000   \n",
       "25%     334.500000     0.000000     0.000000       0.000000     0.000000   \n",
       "50%     480.000000     0.000000    25.000000       0.000000     0.000000   \n",
       "75%     576.000000   168.000000    68.000000       0.000000     0.000000   \n",
       "max    1418.000000   857.000000   547.000000     552.000000   508.000000   \n",
       "\n",
       "       ScreenPorch     PoolArea       MiscVal       MoSold       YrSold  \\\n",
       "count  1460.000000  1460.000000   1460.000000  1460.000000  1460.000000   \n",
       "mean     15.060959     2.758904     43.489041     6.321918  2007.815753   \n",
       "std      55.757415    40.177307    496.123024     2.703626     1.328095   \n",
       "min       0.000000     0.000000      0.000000     1.000000  2006.000000   \n",
       "25%       0.000000     0.000000      0.000000     5.000000  2007.000000   \n",
       "50%       0.000000     0.000000      0.000000     6.000000  2008.000000   \n",
       "75%       0.000000     0.000000      0.000000     8.000000  2009.000000   \n",
       "max     480.000000   738.000000  15500.000000    12.000000  2010.000000   \n",
       "\n",
       "           SalePrice  AgeHouseAtSale  YearsLastRemodelAtSale  \\\n",
       "count    1460.000000     1460.000000             1460.000000   \n",
       "mean   180921.195890       36.547945               22.950685   \n",
       "std     79442.502883       30.250152               20.639875   \n",
       "min     34900.000000        0.000000                0.000000   \n",
       "25%    129975.000000        8.000000                4.000000   \n",
       "50%    163000.000000       35.000000               14.000000   \n",
       "75%    214000.000000       54.000000               41.000000   \n",
       "max    755000.000000      136.000000               60.000000   \n",
       "\n",
       "       YearsGarageBuiltAtSale  SqFtPerRoom  Total_Home_Quality  \\\n",
       "count             1379.000000  1460.000000         1460.000000   \n",
       "mean                29.306019   157.307896           11.674658   \n",
       "std                 24.726881    28.149217            1.693527   \n",
       "min                  0.000000    83.500000            2.000000   \n",
       "25%                  6.000000   137.741071           11.000000   \n",
       "50%                 28.000000   154.666667           12.000000   \n",
       "75%                 47.000000   172.584821           13.000000   \n",
       "max                107.000000   352.625000           19.000000   \n",
       "\n",
       "       Total_Bathrooms   HighQualSF       TotalSF  1stFlrSFPct  2ndFlrSFPct  \\\n",
       "count      1460.000000  1460.000000   1460.000000  1460.000000  1460.000000   \n",
       "mean          2.210616  1509.619178   2567.048630     0.463508     0.128807   \n",
       "std           0.785399   521.163523    821.714421     0.113344     0.154270   \n",
       "min           1.000000   334.000000    334.000000     0.257544     0.000000   \n",
       "25%           2.000000  1123.750000   2009.500000     0.366565     0.000000   \n",
       "50%           2.000000  1458.000000   2474.000000     0.500000     0.000000   \n",
       "75%           2.500000  1775.250000   3004.000000     0.500437     0.297038   \n",
       "max           6.000000  5642.000000  11752.000000     1.000000     0.742456   \n",
       "\n",
       "       TotalBsmtSFPct  \n",
       "count     1460.000000  \n",
       "mean         0.407686  \n",
       "std          0.107678  \n",
       "min          0.000000  \n",
       "25%          0.333333  \n",
       "50%          0.442645  \n",
       "75%          0.500000  \n",
       "max          0.663082  "
      ]
     },
     "execution_count": 186,
     "metadata": {},
     "output_type": "execute_result"
    }
   ],
   "source": [
    "df.describe()"
   ]
  },
  {
   "cell_type": "code",
   "execution_count": 187,
   "id": "90dd74f8-0e0e-4688-8e82-1e829d056928",
   "metadata": {},
   "outputs": [],
   "source": [
    "for var in df.dtypes[df.dtypes == 'int64'].index:\n",
    "    if df[var].isnull().sum()>0:\n",
    "        df[var+'_isnull'] = df[var].isnull().astype(int)\n",
    "        df[var]=df[var].fillna(df[var].mean())\n",
    "\n",
    "for var in df.dtypes[df.dtypes == 'float64'].index:\n",
    "    if df[var].isnull().sum()>0:\n",
    "        df[var+'_isnull'] = df[var].isnull().astype(int)\n",
    "        df[var]=df[var].fillna(df[var].mean())\n",
    "\n",
    "df_dummies = pd.get_dummies(df,dummy_na=True,drop_first=False)"
   ]
  },
  {
   "cell_type": "code",
   "execution_count": 188,
   "id": "f7ccef89-21a6-4c21-8ed0-45c9376ef38f",
   "metadata": {},
   "outputs": [],
   "source": [
    "df_dummies.drop(columns=df_dummies.loc[:,df_dummies.nunique() == 1].columns, inplace=True)"
   ]
  },
  {
   "cell_type": "code",
   "execution_count": 189,
   "id": "657b366e-c857-4938-8975-f43f41189abe",
   "metadata": {},
   "outputs": [],
   "source": [
    "X = df_dummies.drop(columns='SalePrice')\n",
    "\n",
    "y = np.log(df_dummies['SalePrice'])\n",
    "\n",
    "# X['intercept'] = 1"
   ]
  },
  {
   "cell_type": "markdown",
   "id": "c339889e-830b-4f66-90fb-cfaab3ad43f7",
   "metadata": {},
   "source": [
    "## Creating Interaction Terms"
   ]
  },
  {
   "cell_type": "code",
   "execution_count": 15,
   "id": "2767238c-ee28-475e-9c20-b2ab9ebd3e1e",
   "metadata": {},
   "outputs": [
    {
     "data": {
      "text/html": [
       "<style>#sk-container-id-1 {color: black;background-color: white;}#sk-container-id-1 pre{padding: 0;}#sk-container-id-1 div.sk-toggleable {background-color: white;}#sk-container-id-1 label.sk-toggleable__label {cursor: pointer;display: block;width: 100%;margin-bottom: 0;padding: 0.3em;box-sizing: border-box;text-align: center;}#sk-container-id-1 label.sk-toggleable__label-arrow:before {content: \"▸\";float: left;margin-right: 0.25em;color: #696969;}#sk-container-id-1 label.sk-toggleable__label-arrow:hover:before {color: black;}#sk-container-id-1 div.sk-estimator:hover label.sk-toggleable__label-arrow:before {color: black;}#sk-container-id-1 div.sk-toggleable__content {max-height: 0;max-width: 0;overflow: hidden;text-align: left;background-color: #f0f8ff;}#sk-container-id-1 div.sk-toggleable__content pre {margin: 0.2em;color: black;border-radius: 0.25em;background-color: #f0f8ff;}#sk-container-id-1 input.sk-toggleable__control:checked~div.sk-toggleable__content {max-height: 200px;max-width: 100%;overflow: auto;}#sk-container-id-1 input.sk-toggleable__control:checked~label.sk-toggleable__label-arrow:before {content: \"▾\";}#sk-container-id-1 div.sk-estimator input.sk-toggleable__control:checked~label.sk-toggleable__label {background-color: #d4ebff;}#sk-container-id-1 div.sk-label input.sk-toggleable__control:checked~label.sk-toggleable__label {background-color: #d4ebff;}#sk-container-id-1 input.sk-hidden--visually {border: 0;clip: rect(1px 1px 1px 1px);clip: rect(1px, 1px, 1px, 1px);height: 1px;margin: -1px;overflow: hidden;padding: 0;position: absolute;width: 1px;}#sk-container-id-1 div.sk-estimator {font-family: monospace;background-color: #f0f8ff;border: 1px dotted black;border-radius: 0.25em;box-sizing: border-box;margin-bottom: 0.5em;}#sk-container-id-1 div.sk-estimator:hover {background-color: #d4ebff;}#sk-container-id-1 div.sk-parallel-item::after {content: \"\";width: 100%;border-bottom: 1px solid gray;flex-grow: 1;}#sk-container-id-1 div.sk-label:hover label.sk-toggleable__label {background-color: #d4ebff;}#sk-container-id-1 div.sk-serial::before {content: \"\";position: absolute;border-left: 1px solid gray;box-sizing: border-box;top: 0;bottom: 0;left: 50%;z-index: 0;}#sk-container-id-1 div.sk-serial {display: flex;flex-direction: column;align-items: center;background-color: white;padding-right: 0.2em;padding-left: 0.2em;position: relative;}#sk-container-id-1 div.sk-item {position: relative;z-index: 1;}#sk-container-id-1 div.sk-parallel {display: flex;align-items: stretch;justify-content: center;background-color: white;position: relative;}#sk-container-id-1 div.sk-item::before, #sk-container-id-1 div.sk-parallel-item::before {content: \"\";position: absolute;border-left: 1px solid gray;box-sizing: border-box;top: 0;bottom: 0;left: 50%;z-index: -1;}#sk-container-id-1 div.sk-parallel-item {display: flex;flex-direction: column;z-index: 1;position: relative;background-color: white;}#sk-container-id-1 div.sk-parallel-item:first-child::after {align-self: flex-end;width: 50%;}#sk-container-id-1 div.sk-parallel-item:last-child::after {align-self: flex-start;width: 50%;}#sk-container-id-1 div.sk-parallel-item:only-child::after {width: 0;}#sk-container-id-1 div.sk-dashed-wrapped {border: 1px dashed gray;margin: 0 0.4em 0.5em 0.4em;box-sizing: border-box;padding-bottom: 0.4em;background-color: white;}#sk-container-id-1 div.sk-label label {font-family: monospace;font-weight: bold;display: inline-block;line-height: 1.2em;}#sk-container-id-1 div.sk-label-container {text-align: center;}#sk-container-id-1 div.sk-container {/* jupyter's `normalize.less` sets `[hidden] { display: none; }` but bootstrap.min.css set `[hidden] { display: none !important; }` so we also need the `!important` here to be able to override the default hidden behavior on the sphinx rendered scikit-learn.org. See: https://github.com/scikit-learn/scikit-learn/issues/21755 */display: inline-block !important;position: relative;}#sk-container-id-1 div.sk-text-repr-fallback {display: none;}</style><div id=\"sk-container-id-1\" class=\"sk-top-container\"><div class=\"sk-text-repr-fallback\"><pre>PolynomialFeaturesTransformer()</pre><b>In a Jupyter environment, please rerun this cell to show the HTML representation or trust the notebook. <br />On GitHub, the HTML representation is unable to render, please try loading this page with nbviewer.org.</b></div><div class=\"sk-container\" hidden><div class=\"sk-item\"><div class=\"sk-estimator sk-toggleable\"><input class=\"sk-toggleable__control sk-hidden--visually\" id=\"sk-estimator-id-1\" type=\"checkbox\" checked><label for=\"sk-estimator-id-1\" class=\"sk-toggleable__label sk-toggleable__label-arrow\">PolynomialFeaturesTransformer</label><div class=\"sk-toggleable__content\"><pre>PolynomialFeaturesTransformer()</pre></div></div></div></div></div>"
      ],
      "text/plain": [
       "PolynomialFeaturesTransformer()"
      ]
     },
     "execution_count": 15,
     "metadata": {},
     "output_type": "execute_result"
    }
   ],
   "source": [
    "polynomial_features = PolynomialFeatures(degree=2,include_bias=True)\n",
    "test_df = polynomial_features.fit_transform(X)\n",
    "test_df = pd.DataFrame(polynomial_features.fit_transform(X), columns = polynomial_features.get_feature_names_out(X.columns))\n",
    "from sklearn.base import BaseEstimator, TransformerMixin\n",
    "\n",
    "class PolynomialFeaturesTransformer(BaseEstimator, TransformerMixin):\n",
    "    def __init__(self, degree=2, include_bias=True): # no *args or **kargs\n",
    "        self.init = True\n",
    "        self.degree = degree\n",
    "        self.include_bias=include_bias\n",
    "        self.polynomial_features = PolynomialFeatures(degree=degree,include_bias=include_bias)\n",
    "    def fit(self, X, y=None):\n",
    "        return self  # nothing else to do\n",
    "    def transform(self, X, y=None):\n",
    "        test_df = self.polynomial_features.fit_transform(X)\n",
    "        return  pd.DataFrame(self.polynomial_features.fit_transform(X), columns = self.polynomial_features.get_feature_names_out(X.columns))\n",
    "polynomial_features = PolynomialFeaturesTransformer(degree=2,include_bias=True)\n",
    "polynomial_features.fit(X)\n"
   ]
  },
  {
   "cell_type": "markdown",
   "id": "436d227f",
   "metadata": {},
   "source": [
    "### Testing Patsy"
   ]
  },
  {
   "cell_type": "raw",
   "id": "0984ae1b-02a1-4c8a-8c88-18af537d235f",
   "metadata": {},
   "source": [
    "from patsy import dmatrices, dmatrix, demo_data\n",
    "X = df_dummies.drop(columns='SalePrice')\n",
    "\n",
    "y = np.log(df_dummies['SalePrice'])\n",
    "\n",
    "continuous_vars = X.loc[:,X.nunique() > 2].columns\n",
    "continuous_vars = ['Q(\\''+x+'\\')' for x in continuous_vars]\n",
    "binary_vars = X.loc[:,X.nunique() == 2].columns\n",
    "binary_vars = ['Q(\\''+x+'\\')' for x in binary_vars]\n",
    "cont_vars_patsy = ' + '.join(continuous_vars)\n",
    "bin_vars_patsy = ' + '.join(binary_vars)\n",
    "# test_df = dmatrix(\"(\"+ cont_vars_patsy + \"):(\"+bin_vars_patsy +  \") + (\" + cont_vars_patsy + ')**2', X, return_type='dataframe')\n",
    "test_df = dmatrix(\" (\" + cont_vars_patsy + ')**2', X, return_type='dataframe')\n",
    "test_df.columns = test_df.columns.str.replace('Q\\(\\'','').str.replace('\\'\\)','').str.replace(':','')\n",
    "test_df\n",
    "X = test_df"
   ]
  },
  {
   "cell_type": "markdown",
   "id": "abaad1f8-3c81-4ccb-a451-d74cf67d859b",
   "metadata": {},
   "source": [
    "## Creating own scaler\n",
    "\n",
    "Based on taking the log first (adding a 1 so that 0s become 1s), and then centering and dividing out the standard deviation\n",
    "\n",
    "The log standard is incredibly promising for Elastic Net. In fact, it's almost the best performing model yet (only beaten by the stacking regression)\n",
    "\n",
    "Bayesian Ridge also showed improvement"
   ]
  },
  {
   "cell_type": "code",
   "execution_count": 190,
   "id": "94feab4f-a0b4-4f44-a6e8-d4dd47c72a0f",
   "metadata": {},
   "outputs": [],
   "source": [
    "from sklearn.base import BaseEstimator, TransformerMixin\n",
    "\n",
    "class LogStandardScaler(BaseEstimator, TransformerMixin):\n",
    "    def __init__(self): # no *args or **kargs\n",
    "        self.init = True\n",
    "    def fit(self, X, y=None):\n",
    "        return self  # nothing else to do\n",
    "    def transform(self, X, y=None):\n",
    "        temp = np.log(X+1)\n",
    "        X_scaled = (temp - temp.mean())/temp.std()\n",
    "        return X_scaled.fillna(0)\n"
   ]
  },
  {
   "cell_type": "code",
   "execution_count": 191,
   "id": "487b529d-437f-47f0-88e8-867cd5cf6d4d",
   "metadata": {},
   "outputs": [],
   "source": [
    "test_scaler = LogStandardScaler()"
   ]
  },
  {
   "cell_type": "raw",
   "id": "e704ed7f-b80f-4ede-aefe-8d3d178ae9aa",
   "metadata": {},
   "source": [
    "test_scaler.fit(X)\n",
    "test_scaler.transform(X).describe()"
   ]
  },
  {
   "cell_type": "markdown",
   "id": "92abb57a",
   "metadata": {},
   "source": [
    "# Training"
   ]
  },
  {
   "cell_type": "markdown",
   "id": "6ffde3ef-38ae-4abd-a062-8b43d45dcadf",
   "metadata": {},
   "source": [
    "## SKLEARN"
   ]
  },
  {
   "cell_type": "markdown",
   "id": "4d114a85",
   "metadata": {},
   "source": [
    "### Lasso"
   ]
  },
  {
   "cell_type": "code",
   "execution_count": 26,
   "id": "8f4e5e0f-d3b3-40bd-8947-17460bb6ef99",
   "metadata": {},
   "outputs": [],
   "source": [
    "from sklearn.linear_model import LassoCV\n",
    "from sklearn.linear_model import Lasso"
   ]
  },
  {
   "cell_type": "code",
   "execution_count": 27,
   "id": "af9efa08-b31d-4912-af11-86c3fc79f5be",
   "metadata": {},
   "outputs": [],
   "source": [
    "lasso_cv = LassoCV(cv=5, random_state=0,max_iter=20000)"
   ]
  },
  {
   "cell_type": "code",
   "execution_count": 29,
   "id": "c2f75b10-7f03-49c7-944a-693a0fab0c2f",
   "metadata": {},
   "outputs": [
    {
     "name": "stderr",
     "output_type": "stream",
     "text": [
      "c:\\ProgramData\\Anaconda3\\lib\\site-packages\\pandas\\core\\internals\\blocks.py:402: RuntimeWarning: invalid value encountered in log\n",
      "  result = func(self.values, **kwargs)\n"
     ]
    },
    {
     "ename": "KeyboardInterrupt",
     "evalue": "",
     "output_type": "error",
     "traceback": [
      "\u001b[1;31m---------------------------------------------------------------------------\u001b[0m",
      "\u001b[1;31mKeyboardInterrupt\u001b[0m                         Traceback (most recent call last)",
      "\u001b[1;32m~\\AppData\\Local\\Temp\\ipykernel_30488\\989211425.py\u001b[0m in \u001b[0;36m<module>\u001b[1;34m\u001b[0m\n\u001b[0;32m      2\u001b[0m                                 \u001b[1;33m,\u001b[0m\u001b[0mLogStandardScaler\u001b[0m\u001b[1;33m(\u001b[0m\u001b[1;33m)\u001b[0m\u001b[1;33m\u001b[0m\u001b[1;33m\u001b[0m\u001b[0m\n\u001b[0;32m      3\u001b[0m                                ,lasso_cv)\n\u001b[1;32m----> 4\u001b[1;33m \u001b[0mlasso_pipeline\u001b[0m\u001b[1;33m.\u001b[0m\u001b[0mfit\u001b[0m\u001b[1;33m(\u001b[0m\u001b[0mX\u001b[0m\u001b[1;33m=\u001b[0m\u001b[0mX\u001b[0m\u001b[1;33m,\u001b[0m\u001b[0my\u001b[0m\u001b[1;33m=\u001b[0m\u001b[0my\u001b[0m\u001b[1;33m)\u001b[0m\u001b[1;33m\u001b[0m\u001b[1;33m\u001b[0m\u001b[0m\n\u001b[0m\u001b[0;32m      5\u001b[0m \u001b[0mlasso_cv\u001b[0m\u001b[1;33m.\u001b[0m\u001b[0malpha_\u001b[0m\u001b[1;33m\u001b[0m\u001b[1;33m\u001b[0m\u001b[0m\n\u001b[0;32m      6\u001b[0m \u001b[1;31m# test = pd.DataFrame(lasso_pipeline.coef_,index=X.columns)\u001b[0m\u001b[1;33m\u001b[0m\u001b[1;33m\u001b[0m\u001b[0m\n",
      "\u001b[1;32mc:\\ProgramData\\Anaconda3\\lib\\site-packages\\sklearn\\pipeline.py\u001b[0m in \u001b[0;36mfit\u001b[1;34m(self, X, y, **fit_params)\u001b[0m\n\u001b[0;32m    392\u001b[0m             \u001b[1;32mif\u001b[0m \u001b[0mself\u001b[0m\u001b[1;33m.\u001b[0m\u001b[0m_final_estimator\u001b[0m \u001b[1;33m!=\u001b[0m \u001b[1;34m\"passthrough\"\u001b[0m\u001b[1;33m:\u001b[0m\u001b[1;33m\u001b[0m\u001b[1;33m\u001b[0m\u001b[0m\n\u001b[0;32m    393\u001b[0m                 \u001b[0mfit_params_last_step\u001b[0m \u001b[1;33m=\u001b[0m \u001b[0mfit_params_steps\u001b[0m\u001b[1;33m[\u001b[0m\u001b[0mself\u001b[0m\u001b[1;33m.\u001b[0m\u001b[0msteps\u001b[0m\u001b[1;33m[\u001b[0m\u001b[1;33m-\u001b[0m\u001b[1;36m1\u001b[0m\u001b[1;33m]\u001b[0m\u001b[1;33m[\u001b[0m\u001b[1;36m0\u001b[0m\u001b[1;33m]\u001b[0m\u001b[1;33m]\u001b[0m\u001b[1;33m\u001b[0m\u001b[1;33m\u001b[0m\u001b[0m\n\u001b[1;32m--> 394\u001b[1;33m                 \u001b[0mself\u001b[0m\u001b[1;33m.\u001b[0m\u001b[0m_final_estimator\u001b[0m\u001b[1;33m.\u001b[0m\u001b[0mfit\u001b[0m\u001b[1;33m(\u001b[0m\u001b[0mXt\u001b[0m\u001b[1;33m,\u001b[0m \u001b[0my\u001b[0m\u001b[1;33m,\u001b[0m \u001b[1;33m**\u001b[0m\u001b[0mfit_params_last_step\u001b[0m\u001b[1;33m)\u001b[0m\u001b[1;33m\u001b[0m\u001b[1;33m\u001b[0m\u001b[0m\n\u001b[0m\u001b[0;32m    395\u001b[0m \u001b[1;33m\u001b[0m\u001b[0m\n\u001b[0;32m    396\u001b[0m         \u001b[1;32mreturn\u001b[0m \u001b[0mself\u001b[0m\u001b[1;33m\u001b[0m\u001b[1;33m\u001b[0m\u001b[0m\n",
      "\u001b[1;32mc:\\ProgramData\\Anaconda3\\lib\\site-packages\\sklearn\\linear_model\\_coordinate_descent.py\u001b[0m in \u001b[0;36mfit\u001b[1;34m(self, X, y, sample_weight)\u001b[0m\n\u001b[0;32m   1668\u001b[0m             \u001b[1;32mfor\u001b[0m \u001b[0mtrain\u001b[0m\u001b[1;33m,\u001b[0m \u001b[0mtest\u001b[0m \u001b[1;32min\u001b[0m \u001b[0mfolds\u001b[0m\u001b[1;33m\u001b[0m\u001b[1;33m\u001b[0m\u001b[0m\n\u001b[0;32m   1669\u001b[0m         )\n\u001b[1;32m-> 1670\u001b[1;33m         mse_paths = Parallel(\n\u001b[0m\u001b[0;32m   1671\u001b[0m             \u001b[0mn_jobs\u001b[0m\u001b[1;33m=\u001b[0m\u001b[0mself\u001b[0m\u001b[1;33m.\u001b[0m\u001b[0mn_jobs\u001b[0m\u001b[1;33m,\u001b[0m\u001b[1;33m\u001b[0m\u001b[1;33m\u001b[0m\u001b[0m\n\u001b[0;32m   1672\u001b[0m             \u001b[0mverbose\u001b[0m\u001b[1;33m=\u001b[0m\u001b[0mself\u001b[0m\u001b[1;33m.\u001b[0m\u001b[0mverbose\u001b[0m\u001b[1;33m,\u001b[0m\u001b[1;33m\u001b[0m\u001b[1;33m\u001b[0m\u001b[0m\n",
      "\u001b[1;32mc:\\ProgramData\\Anaconda3\\lib\\site-packages\\joblib\\parallel.py\u001b[0m in \u001b[0;36m__call__\u001b[1;34m(self, iterable)\u001b[0m\n\u001b[0;32m   1041\u001b[0m             \u001b[1;31m# remaining jobs.\u001b[0m\u001b[1;33m\u001b[0m\u001b[1;33m\u001b[0m\u001b[0m\n\u001b[0;32m   1042\u001b[0m             \u001b[0mself\u001b[0m\u001b[1;33m.\u001b[0m\u001b[0m_iterating\u001b[0m \u001b[1;33m=\u001b[0m \u001b[1;32mFalse\u001b[0m\u001b[1;33m\u001b[0m\u001b[1;33m\u001b[0m\u001b[0m\n\u001b[1;32m-> 1043\u001b[1;33m             \u001b[1;32mif\u001b[0m \u001b[0mself\u001b[0m\u001b[1;33m.\u001b[0m\u001b[0mdispatch_one_batch\u001b[0m\u001b[1;33m(\u001b[0m\u001b[0miterator\u001b[0m\u001b[1;33m)\u001b[0m\u001b[1;33m:\u001b[0m\u001b[1;33m\u001b[0m\u001b[1;33m\u001b[0m\u001b[0m\n\u001b[0m\u001b[0;32m   1044\u001b[0m                 \u001b[0mself\u001b[0m\u001b[1;33m.\u001b[0m\u001b[0m_iterating\u001b[0m \u001b[1;33m=\u001b[0m \u001b[0mself\u001b[0m\u001b[1;33m.\u001b[0m\u001b[0m_original_iterator\u001b[0m \u001b[1;32mis\u001b[0m \u001b[1;32mnot\u001b[0m \u001b[1;32mNone\u001b[0m\u001b[1;33m\u001b[0m\u001b[1;33m\u001b[0m\u001b[0m\n\u001b[0;32m   1045\u001b[0m \u001b[1;33m\u001b[0m\u001b[0m\n",
      "\u001b[1;32mc:\\ProgramData\\Anaconda3\\lib\\site-packages\\joblib\\parallel.py\u001b[0m in \u001b[0;36mdispatch_one_batch\u001b[1;34m(self, iterator)\u001b[0m\n\u001b[0;32m    859\u001b[0m                 \u001b[1;32mreturn\u001b[0m \u001b[1;32mFalse\u001b[0m\u001b[1;33m\u001b[0m\u001b[1;33m\u001b[0m\u001b[0m\n\u001b[0;32m    860\u001b[0m             \u001b[1;32melse\u001b[0m\u001b[1;33m:\u001b[0m\u001b[1;33m\u001b[0m\u001b[1;33m\u001b[0m\u001b[0m\n\u001b[1;32m--> 861\u001b[1;33m                 \u001b[0mself\u001b[0m\u001b[1;33m.\u001b[0m\u001b[0m_dispatch\u001b[0m\u001b[1;33m(\u001b[0m\u001b[0mtasks\u001b[0m\u001b[1;33m)\u001b[0m\u001b[1;33m\u001b[0m\u001b[1;33m\u001b[0m\u001b[0m\n\u001b[0m\u001b[0;32m    862\u001b[0m                 \u001b[1;32mreturn\u001b[0m \u001b[1;32mTrue\u001b[0m\u001b[1;33m\u001b[0m\u001b[1;33m\u001b[0m\u001b[0m\n\u001b[0;32m    863\u001b[0m \u001b[1;33m\u001b[0m\u001b[0m\n",
      "\u001b[1;32mc:\\ProgramData\\Anaconda3\\lib\\site-packages\\joblib\\parallel.py\u001b[0m in \u001b[0;36m_dispatch\u001b[1;34m(self, batch)\u001b[0m\n\u001b[0;32m    777\u001b[0m         \u001b[1;32mwith\u001b[0m \u001b[0mself\u001b[0m\u001b[1;33m.\u001b[0m\u001b[0m_lock\u001b[0m\u001b[1;33m:\u001b[0m\u001b[1;33m\u001b[0m\u001b[1;33m\u001b[0m\u001b[0m\n\u001b[0;32m    778\u001b[0m             \u001b[0mjob_idx\u001b[0m \u001b[1;33m=\u001b[0m \u001b[0mlen\u001b[0m\u001b[1;33m(\u001b[0m\u001b[0mself\u001b[0m\u001b[1;33m.\u001b[0m\u001b[0m_jobs\u001b[0m\u001b[1;33m)\u001b[0m\u001b[1;33m\u001b[0m\u001b[1;33m\u001b[0m\u001b[0m\n\u001b[1;32m--> 779\u001b[1;33m             \u001b[0mjob\u001b[0m \u001b[1;33m=\u001b[0m \u001b[0mself\u001b[0m\u001b[1;33m.\u001b[0m\u001b[0m_backend\u001b[0m\u001b[1;33m.\u001b[0m\u001b[0mapply_async\u001b[0m\u001b[1;33m(\u001b[0m\u001b[0mbatch\u001b[0m\u001b[1;33m,\u001b[0m \u001b[0mcallback\u001b[0m\u001b[1;33m=\u001b[0m\u001b[0mcb\u001b[0m\u001b[1;33m)\u001b[0m\u001b[1;33m\u001b[0m\u001b[1;33m\u001b[0m\u001b[0m\n\u001b[0m\u001b[0;32m    780\u001b[0m             \u001b[1;31m# A job can complete so quickly than its callback is\u001b[0m\u001b[1;33m\u001b[0m\u001b[1;33m\u001b[0m\u001b[0m\n\u001b[0;32m    781\u001b[0m             \u001b[1;31m# called before we get here, causing self._jobs to\u001b[0m\u001b[1;33m\u001b[0m\u001b[1;33m\u001b[0m\u001b[0m\n",
      "\u001b[1;32mc:\\ProgramData\\Anaconda3\\lib\\site-packages\\joblib\\_parallel_backends.py\u001b[0m in \u001b[0;36mapply_async\u001b[1;34m(self, func, callback)\u001b[0m\n\u001b[0;32m    206\u001b[0m     \u001b[1;32mdef\u001b[0m \u001b[0mapply_async\u001b[0m\u001b[1;33m(\u001b[0m\u001b[0mself\u001b[0m\u001b[1;33m,\u001b[0m \u001b[0mfunc\u001b[0m\u001b[1;33m,\u001b[0m \u001b[0mcallback\u001b[0m\u001b[1;33m=\u001b[0m\u001b[1;32mNone\u001b[0m\u001b[1;33m)\u001b[0m\u001b[1;33m:\u001b[0m\u001b[1;33m\u001b[0m\u001b[1;33m\u001b[0m\u001b[0m\n\u001b[0;32m    207\u001b[0m         \u001b[1;34m\"\"\"Schedule a func to be run\"\"\"\u001b[0m\u001b[1;33m\u001b[0m\u001b[1;33m\u001b[0m\u001b[0m\n\u001b[1;32m--> 208\u001b[1;33m         \u001b[0mresult\u001b[0m \u001b[1;33m=\u001b[0m \u001b[0mImmediateResult\u001b[0m\u001b[1;33m(\u001b[0m\u001b[0mfunc\u001b[0m\u001b[1;33m)\u001b[0m\u001b[1;33m\u001b[0m\u001b[1;33m\u001b[0m\u001b[0m\n\u001b[0m\u001b[0;32m    209\u001b[0m         \u001b[1;32mif\u001b[0m \u001b[0mcallback\u001b[0m\u001b[1;33m:\u001b[0m\u001b[1;33m\u001b[0m\u001b[1;33m\u001b[0m\u001b[0m\n\u001b[0;32m    210\u001b[0m             \u001b[0mcallback\u001b[0m\u001b[1;33m(\u001b[0m\u001b[0mresult\u001b[0m\u001b[1;33m)\u001b[0m\u001b[1;33m\u001b[0m\u001b[1;33m\u001b[0m\u001b[0m\n",
      "\u001b[1;32mc:\\ProgramData\\Anaconda3\\lib\\site-packages\\joblib\\_parallel_backends.py\u001b[0m in \u001b[0;36m__init__\u001b[1;34m(self, batch)\u001b[0m\n\u001b[0;32m    570\u001b[0m         \u001b[1;31m# Don't delay the application, to avoid keeping the input\u001b[0m\u001b[1;33m\u001b[0m\u001b[1;33m\u001b[0m\u001b[0m\n\u001b[0;32m    571\u001b[0m         \u001b[1;31m# arguments in memory\u001b[0m\u001b[1;33m\u001b[0m\u001b[1;33m\u001b[0m\u001b[0m\n\u001b[1;32m--> 572\u001b[1;33m         \u001b[0mself\u001b[0m\u001b[1;33m.\u001b[0m\u001b[0mresults\u001b[0m \u001b[1;33m=\u001b[0m \u001b[0mbatch\u001b[0m\u001b[1;33m(\u001b[0m\u001b[1;33m)\u001b[0m\u001b[1;33m\u001b[0m\u001b[1;33m\u001b[0m\u001b[0m\n\u001b[0m\u001b[0;32m    573\u001b[0m \u001b[1;33m\u001b[0m\u001b[0m\n\u001b[0;32m    574\u001b[0m     \u001b[1;32mdef\u001b[0m \u001b[0mget\u001b[0m\u001b[1;33m(\u001b[0m\u001b[0mself\u001b[0m\u001b[1;33m)\u001b[0m\u001b[1;33m:\u001b[0m\u001b[1;33m\u001b[0m\u001b[1;33m\u001b[0m\u001b[0m\n",
      "\u001b[1;32mc:\\ProgramData\\Anaconda3\\lib\\site-packages\\joblib\\parallel.py\u001b[0m in \u001b[0;36m__call__\u001b[1;34m(self)\u001b[0m\n\u001b[0;32m    260\u001b[0m         \u001b[1;31m# change the default number of processes to -1\u001b[0m\u001b[1;33m\u001b[0m\u001b[1;33m\u001b[0m\u001b[0m\n\u001b[0;32m    261\u001b[0m         \u001b[1;32mwith\u001b[0m \u001b[0mparallel_backend\u001b[0m\u001b[1;33m(\u001b[0m\u001b[0mself\u001b[0m\u001b[1;33m.\u001b[0m\u001b[0m_backend\u001b[0m\u001b[1;33m,\u001b[0m \u001b[0mn_jobs\u001b[0m\u001b[1;33m=\u001b[0m\u001b[0mself\u001b[0m\u001b[1;33m.\u001b[0m\u001b[0m_n_jobs\u001b[0m\u001b[1;33m)\u001b[0m\u001b[1;33m:\u001b[0m\u001b[1;33m\u001b[0m\u001b[1;33m\u001b[0m\u001b[0m\n\u001b[1;32m--> 262\u001b[1;33m             return [func(*args, **kwargs)\n\u001b[0m\u001b[0;32m    263\u001b[0m                     for func, args, kwargs in self.items]\n\u001b[0;32m    264\u001b[0m \u001b[1;33m\u001b[0m\u001b[0m\n",
      "\u001b[1;32mc:\\ProgramData\\Anaconda3\\lib\\site-packages\\joblib\\parallel.py\u001b[0m in \u001b[0;36m<listcomp>\u001b[1;34m(.0)\u001b[0m\n\u001b[0;32m    260\u001b[0m         \u001b[1;31m# change the default number of processes to -1\u001b[0m\u001b[1;33m\u001b[0m\u001b[1;33m\u001b[0m\u001b[0m\n\u001b[0;32m    261\u001b[0m         \u001b[1;32mwith\u001b[0m \u001b[0mparallel_backend\u001b[0m\u001b[1;33m(\u001b[0m\u001b[0mself\u001b[0m\u001b[1;33m.\u001b[0m\u001b[0m_backend\u001b[0m\u001b[1;33m,\u001b[0m \u001b[0mn_jobs\u001b[0m\u001b[1;33m=\u001b[0m\u001b[0mself\u001b[0m\u001b[1;33m.\u001b[0m\u001b[0m_n_jobs\u001b[0m\u001b[1;33m)\u001b[0m\u001b[1;33m:\u001b[0m\u001b[1;33m\u001b[0m\u001b[1;33m\u001b[0m\u001b[0m\n\u001b[1;32m--> 262\u001b[1;33m             return [func(*args, **kwargs)\n\u001b[0m\u001b[0;32m    263\u001b[0m                     for func, args, kwargs in self.items]\n\u001b[0;32m    264\u001b[0m \u001b[1;33m\u001b[0m\u001b[0m\n",
      "\u001b[1;32mc:\\ProgramData\\Anaconda3\\lib\\site-packages\\sklearn\\utils\\fixes.py\u001b[0m in \u001b[0;36m__call__\u001b[1;34m(self, *args, **kwargs)\u001b[0m\n\u001b[0;32m    214\u001b[0m     \u001b[1;32mdef\u001b[0m \u001b[0m__call__\u001b[0m\u001b[1;33m(\u001b[0m\u001b[0mself\u001b[0m\u001b[1;33m,\u001b[0m \u001b[1;33m*\u001b[0m\u001b[0margs\u001b[0m\u001b[1;33m,\u001b[0m \u001b[1;33m**\u001b[0m\u001b[0mkwargs\u001b[0m\u001b[1;33m)\u001b[0m\u001b[1;33m:\u001b[0m\u001b[1;33m\u001b[0m\u001b[1;33m\u001b[0m\u001b[0m\n\u001b[0;32m    215\u001b[0m         \u001b[1;32mwith\u001b[0m \u001b[0mconfig_context\u001b[0m\u001b[1;33m(\u001b[0m\u001b[1;33m**\u001b[0m\u001b[0mself\u001b[0m\u001b[1;33m.\u001b[0m\u001b[0mconfig\u001b[0m\u001b[1;33m)\u001b[0m\u001b[1;33m:\u001b[0m\u001b[1;33m\u001b[0m\u001b[1;33m\u001b[0m\u001b[0m\n\u001b[1;32m--> 216\u001b[1;33m             \u001b[1;32mreturn\u001b[0m \u001b[0mself\u001b[0m\u001b[1;33m.\u001b[0m\u001b[0mfunction\u001b[0m\u001b[1;33m(\u001b[0m\u001b[1;33m*\u001b[0m\u001b[0margs\u001b[0m\u001b[1;33m,\u001b[0m \u001b[1;33m**\u001b[0m\u001b[0mkwargs\u001b[0m\u001b[1;33m)\u001b[0m\u001b[1;33m\u001b[0m\u001b[1;33m\u001b[0m\u001b[0m\n\u001b[0m\u001b[0;32m    217\u001b[0m \u001b[1;33m\u001b[0m\u001b[0m\n\u001b[0;32m    218\u001b[0m \u001b[1;33m\u001b[0m\u001b[0m\n",
      "\u001b[1;32mc:\\ProgramData\\Anaconda3\\lib\\site-packages\\sklearn\\linear_model\\_coordinate_descent.py\u001b[0m in \u001b[0;36m_path_residuals\u001b[1;34m(X, y, sample_weight, train, test, normalize, fit_intercept, path, path_params, alphas, l1_ratio, X_order, dtype)\u001b[0m\n\u001b[0;32m   1400\u001b[0m     \u001b[1;31m# X is copied and a reference is kept here\u001b[0m\u001b[1;33m\u001b[0m\u001b[1;33m\u001b[0m\u001b[0m\n\u001b[0;32m   1401\u001b[0m     \u001b[0mX_train\u001b[0m \u001b[1;33m=\u001b[0m \u001b[0mcheck_array\u001b[0m\u001b[1;33m(\u001b[0m\u001b[0mX_train\u001b[0m\u001b[1;33m,\u001b[0m \u001b[0maccept_sparse\u001b[0m\u001b[1;33m=\u001b[0m\u001b[1;34m\"csc\"\u001b[0m\u001b[1;33m,\u001b[0m \u001b[0mdtype\u001b[0m\u001b[1;33m=\u001b[0m\u001b[0mdtype\u001b[0m\u001b[1;33m,\u001b[0m \u001b[0morder\u001b[0m\u001b[1;33m=\u001b[0m\u001b[0mX_order\u001b[0m\u001b[1;33m)\u001b[0m\u001b[1;33m\u001b[0m\u001b[1;33m\u001b[0m\u001b[0m\n\u001b[1;32m-> 1402\u001b[1;33m     \u001b[0malphas\u001b[0m\u001b[1;33m,\u001b[0m \u001b[0mcoefs\u001b[0m\u001b[1;33m,\u001b[0m \u001b[0m_\u001b[0m \u001b[1;33m=\u001b[0m \u001b[0mpath\u001b[0m\u001b[1;33m(\u001b[0m\u001b[0mX_train\u001b[0m\u001b[1;33m,\u001b[0m \u001b[0my_train\u001b[0m\u001b[1;33m,\u001b[0m \u001b[1;33m**\u001b[0m\u001b[0mpath_params\u001b[0m\u001b[1;33m)\u001b[0m\u001b[1;33m\u001b[0m\u001b[1;33m\u001b[0m\u001b[0m\n\u001b[0m\u001b[0;32m   1403\u001b[0m     \u001b[1;32mdel\u001b[0m \u001b[0mX_train\u001b[0m\u001b[1;33m,\u001b[0m \u001b[0my_train\u001b[0m\u001b[1;33m\u001b[0m\u001b[1;33m\u001b[0m\u001b[0m\n\u001b[0;32m   1404\u001b[0m \u001b[1;33m\u001b[0m\u001b[0m\n",
      "\u001b[1;32mc:\\ProgramData\\Anaconda3\\lib\\site-packages\\sklearn\\linear_model\\_coordinate_descent.py\u001b[0m in \u001b[0;36mlasso_path\u001b[1;34m(X, y, eps, n_alphas, alphas, precompute, Xy, copy_X, coef_init, verbose, return_n_iter, positive, **params)\u001b[0m\n\u001b[0;32m    347\u001b[0m      [0.2159048  0.4425765  0.23668876]]\n\u001b[0;32m    348\u001b[0m     \"\"\"\n\u001b[1;32m--> 349\u001b[1;33m     return enet_path(\n\u001b[0m\u001b[0;32m    350\u001b[0m         \u001b[0mX\u001b[0m\u001b[1;33m,\u001b[0m\u001b[1;33m\u001b[0m\u001b[1;33m\u001b[0m\u001b[0m\n\u001b[0;32m    351\u001b[0m         \u001b[0my\u001b[0m\u001b[1;33m,\u001b[0m\u001b[1;33m\u001b[0m\u001b[1;33m\u001b[0m\u001b[0m\n",
      "\u001b[1;32mc:\\ProgramData\\Anaconda3\\lib\\site-packages\\sklearn\\linear_model\\_coordinate_descent.py\u001b[0m in \u001b[0;36menet_path\u001b[1;34m(X, y, l1_ratio, eps, n_alphas, alphas, precompute, Xy, copy_X, coef_init, verbose, return_n_iter, positive, check_input, **params)\u001b[0m\n\u001b[0;32m    645\u001b[0m             )\n\u001b[0;32m    646\u001b[0m         \u001b[1;32melif\u001b[0m \u001b[0mprecompute\u001b[0m \u001b[1;32mis\u001b[0m \u001b[1;32mFalse\u001b[0m\u001b[1;33m:\u001b[0m\u001b[1;33m\u001b[0m\u001b[1;33m\u001b[0m\u001b[0m\n\u001b[1;32m--> 647\u001b[1;33m             model = cd_fast.enet_coordinate_descent(\n\u001b[0m\u001b[0;32m    648\u001b[0m                 \u001b[0mcoef_\u001b[0m\u001b[1;33m,\u001b[0m \u001b[0ml1_reg\u001b[0m\u001b[1;33m,\u001b[0m \u001b[0ml2_reg\u001b[0m\u001b[1;33m,\u001b[0m \u001b[0mX\u001b[0m\u001b[1;33m,\u001b[0m \u001b[0my\u001b[0m\u001b[1;33m,\u001b[0m \u001b[0mmax_iter\u001b[0m\u001b[1;33m,\u001b[0m \u001b[0mtol\u001b[0m\u001b[1;33m,\u001b[0m \u001b[0mrng\u001b[0m\u001b[1;33m,\u001b[0m \u001b[0mrandom\u001b[0m\u001b[1;33m,\u001b[0m \u001b[0mpositive\u001b[0m\u001b[1;33m\u001b[0m\u001b[1;33m\u001b[0m\u001b[0m\n\u001b[0;32m    649\u001b[0m             )\n",
      "\u001b[1;31mKeyboardInterrupt\u001b[0m: "
     ]
    }
   ],
   "source": [
    "lasso_pipeline = make_pipeline(PolynomialFeaturesTransformer()\n",
    "                                ,LogStandardScaler()\n",
    "                               ,lasso_cv)\n",
    "lasso_pipeline.fit(X=X,y=y)\n",
    "lasso_cv.alpha_\n",
    "# test = pd.DataFrame(lasso_pipeline.coef_,index=X.columns)\n",
    "# test.loc[test[0]>0]"
   ]
  },
  {
   "cell_type": "raw",
   "id": "56c007da",
   "metadata": {},
   "source": [
    "lasso = Lasso()\n",
    "lasso_pipeline = make_pipeline(LogStandardScaler()\n",
    "                               \n",
    "                               ,lasso)\n",
    "lasso_pipeline.fit(X=X,y=y)"
   ]
  },
  {
   "cell_type": "markdown",
   "id": "d5f275f4-cdc3-41f9-a3ce-2cbe9fdbf150",
   "metadata": {},
   "source": [
    "### Elastic Net\n",
    "With all of these interaction variables, fitting the CV for Elastic Net takes much longer (>6 minutes on my comp)\n",
    "I think this has to do with having too many variables compared to observations, creating longer convergence times"
   ]
  },
  {
   "cell_type": "code",
   "execution_count": 24,
   "id": "fe11e3c5-16b9-4f04-85fe-96d7ef707992",
   "metadata": {},
   "outputs": [],
   "source": [
    "from sklearn.linear_model import ElasticNetCV"
   ]
  },
  {
   "cell_type": "code",
   "execution_count": 87,
   "id": "d06bdd62-fbd8-42b4-b09b-21e65e1a3c80",
   "metadata": {},
   "outputs": [],
   "source": [
    "# elastic_net_cv = ElasticNetCV(l1_ratio=[0,.5,1]\n",
    "#                              ,alphas=[0.1,1,10,100]\n",
    "#                              )\n",
    "elastic_net_cv = ElasticNetCV(cv=5, random_state=0, l1_ratio=[0.5,0.7,0.8,0.9,1],max_iter=20000,n_jobs=-1)"
   ]
  },
  {
   "cell_type": "code",
   "execution_count": 88,
   "id": "ca8603cc-df19-4562-abe2-7b5f273f8698",
   "metadata": {},
   "outputs": [],
   "source": [
    "elastic_net_pipeline = make_pipeline(\n",
    "    # PolynomialFeaturesTransformer(),\n",
    "LogStandardScaler(),elastic_net_cv)"
   ]
  },
  {
   "cell_type": "code",
   "execution_count": 89,
   "id": "b1cd4a5f-1e26-45c0-b003-44c6416b2d0f",
   "metadata": {},
   "outputs": [
    {
     "data": {
      "text/plain": [
       "Pipeline(steps=[('logstandardscaler', LogStandardScaler()),\n",
       "                ('elasticnetcv',\n",
       "                 ElasticNetCV(cv=5, l1_ratio=[0.5, 0.7, 0.8, 0.9, 1],\n",
       "                              max_iter=20000, n_jobs=-1, random_state=0))])"
      ]
     },
     "execution_count": 89,
     "metadata": {},
     "output_type": "execute_result"
    }
   ],
   "source": [
    "elastic_net_pipeline.fit(X=X,y=y)"
   ]
  },
  {
   "cell_type": "code",
   "execution_count": 90,
   "id": "6d16dafc-9320-4744-8cfa-8370f3407296",
   "metadata": {},
   "outputs": [
    {
     "data": {
      "text/plain": [
       "0.5"
      ]
     },
     "execution_count": 90,
     "metadata": {},
     "output_type": "execute_result"
    }
   ],
   "source": [
    "elastic_net_cv.l1_ratio_"
   ]
  },
  {
   "cell_type": "code",
   "execution_count": 91,
   "id": "05e7723c-faf6-4cd3-8e59-fc1f6a82ddd1",
   "metadata": {},
   "outputs": [
    {
     "data": {
      "text/plain": [
       "0.00794428509169608"
      ]
     },
     "execution_count": 91,
     "metadata": {},
     "output_type": "execute_result"
    }
   ],
   "source": [
    "elastic_net_cv.alpha_"
   ]
  },
  {
   "cell_type": "code",
   "execution_count": 96,
   "id": "a09b00ec-51bd-44a7-9042-02fbf42568b2",
   "metadata": {},
   "outputs": [
    {
     "data": {
      "text/html": [
       "<div>\n",
       "<style scoped>\n",
       "    .dataframe tbody tr th:only-of-type {\n",
       "        vertical-align: middle;\n",
       "    }\n",
       "\n",
       "    .dataframe tbody tr th {\n",
       "        vertical-align: top;\n",
       "    }\n",
       "\n",
       "    .dataframe thead th {\n",
       "        text-align: right;\n",
       "    }\n",
       "</style>\n",
       "<table border=\"1\" class=\"dataframe\">\n",
       "  <thead>\n",
       "    <tr style=\"text-align: right;\">\n",
       "      <th></th>\n",
       "      <th>0</th>\n",
       "    </tr>\n",
       "  </thead>\n",
       "  <tbody>\n",
       "    <tr>\n",
       "      <th>GrLivArea</th>\n",
       "      <td>0.078381</td>\n",
       "    </tr>\n",
       "    <tr>\n",
       "      <th>TotalSF</th>\n",
       "      <td>0.077419</td>\n",
       "    </tr>\n",
       "    <tr>\n",
       "      <th>OverallQual</th>\n",
       "      <td>0.056143</td>\n",
       "    </tr>\n",
       "    <tr>\n",
       "      <th>LotArea</th>\n",
       "      <td>0.037983</td>\n",
       "    </tr>\n",
       "    <tr>\n",
       "      <th>OverallCond</th>\n",
       "      <td>0.036791</td>\n",
       "    </tr>\n",
       "    <tr>\n",
       "      <th>GarageCars</th>\n",
       "      <td>0.035062</td>\n",
       "    </tr>\n",
       "    <tr>\n",
       "      <th>YearBuilt</th>\n",
       "      <td>0.031387</td>\n",
       "    </tr>\n",
       "    <tr>\n",
       "      <th>BsmtFinSF1</th>\n",
       "      <td>0.019519</td>\n",
       "    </tr>\n",
       "    <tr>\n",
       "      <th>KitchenQual_Ex</th>\n",
       "      <td>0.019459</td>\n",
       "    </tr>\n",
       "    <tr>\n",
       "      <th>Neighborhood_Crawfor</th>\n",
       "      <td>0.018638</td>\n",
       "    </tr>\n",
       "    <tr>\n",
       "      <th>BsmtQual_Ex</th>\n",
       "      <td>0.018398</td>\n",
       "    </tr>\n",
       "    <tr>\n",
       "      <th>YearRemodAdd</th>\n",
       "      <td>0.017909</td>\n",
       "    </tr>\n",
       "    <tr>\n",
       "      <th>Neighborhood_NoRidge</th>\n",
       "      <td>0.016401</td>\n",
       "    </tr>\n",
       "    <tr>\n",
       "      <th>Fireplaces</th>\n",
       "      <td>0.016054</td>\n",
       "    </tr>\n",
       "    <tr>\n",
       "      <th>Neighborhood_StoneBr</th>\n",
       "      <td>0.015097</td>\n",
       "    </tr>\n",
       "    <tr>\n",
       "      <th>Neighborhood_NridgHt</th>\n",
       "      <td>0.015028</td>\n",
       "    </tr>\n",
       "    <tr>\n",
       "      <th>Functional_Typ</th>\n",
       "      <td>0.014439</td>\n",
       "    </tr>\n",
       "    <tr>\n",
       "      <th>BsmtExposure_Gd</th>\n",
       "      <td>0.012890</td>\n",
       "    </tr>\n",
       "    <tr>\n",
       "      <th>BsmtFullBath</th>\n",
       "      <td>0.012291</td>\n",
       "    </tr>\n",
       "    <tr>\n",
       "      <th>Exterior1st_BrkFace</th>\n",
       "      <td>0.010665</td>\n",
       "    </tr>\n",
       "  </tbody>\n",
       "</table>\n",
       "</div>"
      ],
      "text/plain": [
       "                             0\n",
       "GrLivArea             0.078381\n",
       "TotalSF               0.077419\n",
       "OverallQual           0.056143\n",
       "LotArea               0.037983\n",
       "OverallCond           0.036791\n",
       "GarageCars            0.035062\n",
       "YearBuilt             0.031387\n",
       "BsmtFinSF1            0.019519\n",
       "KitchenQual_Ex        0.019459\n",
       "Neighborhood_Crawfor  0.018638\n",
       "BsmtQual_Ex           0.018398\n",
       "YearRemodAdd          0.017909\n",
       "Neighborhood_NoRidge  0.016401\n",
       "Fireplaces            0.016054\n",
       "Neighborhood_StoneBr  0.015097\n",
       "Neighborhood_NridgHt  0.015028\n",
       "Functional_Typ        0.014439\n",
       "BsmtExposure_Gd       0.012890\n",
       "BsmtFullBath          0.012291\n",
       "Exterior1st_BrkFace   0.010665"
      ]
     },
     "execution_count": 96,
     "metadata": {},
     "output_type": "execute_result"
    }
   ],
   "source": [
    "pd.DataFrame(elastic_net_cv.coef_,index=X.columns).sort_values(by=0,ascending=False).head(20)"
   ]
  },
  {
   "cell_type": "code",
   "execution_count": 192,
   "id": "6fedca2b-07f6-4ca9-aa51-2d3fae62dfd3",
   "metadata": {},
   "outputs": [
    {
     "data": {
      "text/html": [
       "<style>#sk-container-id-51 {color: black;background-color: white;}#sk-container-id-51 pre{padding: 0;}#sk-container-id-51 div.sk-toggleable {background-color: white;}#sk-container-id-51 label.sk-toggleable__label {cursor: pointer;display: block;width: 100%;margin-bottom: 0;padding: 0.3em;box-sizing: border-box;text-align: center;}#sk-container-id-51 label.sk-toggleable__label-arrow:before {content: \"▸\";float: left;margin-right: 0.25em;color: #696969;}#sk-container-id-51 label.sk-toggleable__label-arrow:hover:before {color: black;}#sk-container-id-51 div.sk-estimator:hover label.sk-toggleable__label-arrow:before {color: black;}#sk-container-id-51 div.sk-toggleable__content {max-height: 0;max-width: 0;overflow: hidden;text-align: left;background-color: #f0f8ff;}#sk-container-id-51 div.sk-toggleable__content pre {margin: 0.2em;color: black;border-radius: 0.25em;background-color: #f0f8ff;}#sk-container-id-51 input.sk-toggleable__control:checked~div.sk-toggleable__content {max-height: 200px;max-width: 100%;overflow: auto;}#sk-container-id-51 input.sk-toggleable__control:checked~label.sk-toggleable__label-arrow:before {content: \"▾\";}#sk-container-id-51 div.sk-estimator input.sk-toggleable__control:checked~label.sk-toggleable__label {background-color: #d4ebff;}#sk-container-id-51 div.sk-label input.sk-toggleable__control:checked~label.sk-toggleable__label {background-color: #d4ebff;}#sk-container-id-51 input.sk-hidden--visually {border: 0;clip: rect(1px 1px 1px 1px);clip: rect(1px, 1px, 1px, 1px);height: 1px;margin: -1px;overflow: hidden;padding: 0;position: absolute;width: 1px;}#sk-container-id-51 div.sk-estimator {font-family: monospace;background-color: #f0f8ff;border: 1px dotted black;border-radius: 0.25em;box-sizing: border-box;margin-bottom: 0.5em;}#sk-container-id-51 div.sk-estimator:hover {background-color: #d4ebff;}#sk-container-id-51 div.sk-parallel-item::after {content: \"\";width: 100%;border-bottom: 1px solid gray;flex-grow: 1;}#sk-container-id-51 div.sk-label:hover label.sk-toggleable__label {background-color: #d4ebff;}#sk-container-id-51 div.sk-serial::before {content: \"\";position: absolute;border-left: 1px solid gray;box-sizing: border-box;top: 0;bottom: 0;left: 50%;z-index: 0;}#sk-container-id-51 div.sk-serial {display: flex;flex-direction: column;align-items: center;background-color: white;padding-right: 0.2em;padding-left: 0.2em;position: relative;}#sk-container-id-51 div.sk-item {position: relative;z-index: 1;}#sk-container-id-51 div.sk-parallel {display: flex;align-items: stretch;justify-content: center;background-color: white;position: relative;}#sk-container-id-51 div.sk-item::before, #sk-container-id-51 div.sk-parallel-item::before {content: \"\";position: absolute;border-left: 1px solid gray;box-sizing: border-box;top: 0;bottom: 0;left: 50%;z-index: -1;}#sk-container-id-51 div.sk-parallel-item {display: flex;flex-direction: column;z-index: 1;position: relative;background-color: white;}#sk-container-id-51 div.sk-parallel-item:first-child::after {align-self: flex-end;width: 50%;}#sk-container-id-51 div.sk-parallel-item:last-child::after {align-self: flex-start;width: 50%;}#sk-container-id-51 div.sk-parallel-item:only-child::after {width: 0;}#sk-container-id-51 div.sk-dashed-wrapped {border: 1px dashed gray;margin: 0 0.4em 0.5em 0.4em;box-sizing: border-box;padding-bottom: 0.4em;background-color: white;}#sk-container-id-51 div.sk-label label {font-family: monospace;font-weight: bold;display: inline-block;line-height: 1.2em;}#sk-container-id-51 div.sk-label-container {text-align: center;}#sk-container-id-51 div.sk-container {/* jupyter's `normalize.less` sets `[hidden] { display: none; }` but bootstrap.min.css set `[hidden] { display: none !important; }` so we also need the `!important` here to be able to override the default hidden behavior on the sphinx rendered scikit-learn.org. See: https://github.com/scikit-learn/scikit-learn/issues/21755 */display: inline-block !important;position: relative;}#sk-container-id-51 div.sk-text-repr-fallback {display: none;}</style><div id=\"sk-container-id-51\" class=\"sk-top-container\"><div class=\"sk-text-repr-fallback\"><pre>Pipeline(steps=[(&#x27;polynomialfeaturestransformer&#x27;,\n",
       "                 PolynomialFeaturesTransformer()),\n",
       "                (&#x27;logstandardscaler&#x27;, LogStandardScaler()),\n",
       "                (&#x27;elasticnet&#x27;,\n",
       "                 ElasticNet(alpha=0.00794428509169608, max_iter=20000))])</pre><b>In a Jupyter environment, please rerun this cell to show the HTML representation or trust the notebook. <br />On GitHub, the HTML representation is unable to render, please try loading this page with nbviewer.org.</b></div><div class=\"sk-container\" hidden><div class=\"sk-item sk-dashed-wrapped\"><div class=\"sk-label-container\"><div class=\"sk-label sk-toggleable\"><input class=\"sk-toggleable__control sk-hidden--visually\" id=\"sk-estimator-id-190\" type=\"checkbox\" ><label for=\"sk-estimator-id-190\" class=\"sk-toggleable__label sk-toggleable__label-arrow\">Pipeline</label><div class=\"sk-toggleable__content\"><pre>Pipeline(steps=[(&#x27;polynomialfeaturestransformer&#x27;,\n",
       "                 PolynomialFeaturesTransformer()),\n",
       "                (&#x27;logstandardscaler&#x27;, LogStandardScaler()),\n",
       "                (&#x27;elasticnet&#x27;,\n",
       "                 ElasticNet(alpha=0.00794428509169608, max_iter=20000))])</pre></div></div></div><div class=\"sk-serial\"><div class=\"sk-item\"><div class=\"sk-estimator sk-toggleable\"><input class=\"sk-toggleable__control sk-hidden--visually\" id=\"sk-estimator-id-191\" type=\"checkbox\" ><label for=\"sk-estimator-id-191\" class=\"sk-toggleable__label sk-toggleable__label-arrow\">PolynomialFeaturesTransformer</label><div class=\"sk-toggleable__content\"><pre>PolynomialFeaturesTransformer()</pre></div></div></div><div class=\"sk-item\"><div class=\"sk-estimator sk-toggleable\"><input class=\"sk-toggleable__control sk-hidden--visually\" id=\"sk-estimator-id-192\" type=\"checkbox\" ><label for=\"sk-estimator-id-192\" class=\"sk-toggleable__label sk-toggleable__label-arrow\">LogStandardScaler</label><div class=\"sk-toggleable__content\"><pre>LogStandardScaler()</pre></div></div></div><div class=\"sk-item\"><div class=\"sk-estimator sk-toggleable\"><input class=\"sk-toggleable__control sk-hidden--visually\" id=\"sk-estimator-id-193\" type=\"checkbox\" ><label for=\"sk-estimator-id-193\" class=\"sk-toggleable__label sk-toggleable__label-arrow\">ElasticNet</label><div class=\"sk-toggleable__content\"><pre>ElasticNet(alpha=0.00794428509169608, max_iter=20000)</pre></div></div></div></div></div></div></div>"
      ],
      "text/plain": [
       "Pipeline(steps=[('polynomialfeaturestransformer',\n",
       "                 PolynomialFeaturesTransformer()),\n",
       "                ('logstandardscaler', LogStandardScaler()),\n",
       "                ('elasticnet',\n",
       "                 ElasticNet(alpha=0.00794428509169608, max_iter=20000))])"
      ]
     },
     "execution_count": 192,
     "metadata": {},
     "output_type": "execute_result"
    }
   ],
   "source": [
    "from sklearn.linear_model import ElasticNet\n",
    "elastic_net = ElasticNet(l1_ratio=0.5,alpha=0.00794428509169608,max_iter=20000)\n",
    "elastic_net_pipeline = make_pipeline(\n",
    "    PolynomialFeaturesTransformer()\n",
    "                                     ,LogStandardScaler()\n",
    "                                     ,elastic_net)\n",
    "elastic_net_pipeline.fit(X=X,y=y)"
   ]
  },
  {
   "cell_type": "markdown",
   "id": "973aaf8d-576e-4aec-9f9a-cc08965794c0",
   "metadata": {},
   "source": [
    "### Decision Tree"
   ]
  },
  {
   "cell_type": "code",
   "execution_count": null,
   "id": "21aed0f1-3f87-4f1d-9ab9-1e84970cfba7",
   "metadata": {},
   "outputs": [],
   "source": [
    "params_dt={'splitter':['random', 'best']\n",
    "        ,'min_samples_split':[2, 3, 4, 5, 6, 8, 10]\n",
    "        ,'min_samples_leaf':[0.01, 0.02, 0.03, 0.04]\n",
    "        ,'min_impurity_decrease':[0.0, 0.0005, 0.005, 0.05, 0.10, 0.15, 0.2]\n",
    "        ,'max_leaf_nodes':[10, 15, 20, 25, 30, 35, 40, 45, 50, None]\n",
    "        ,'max_features':[ 0.95, 0.90, 0.85, 0.80, 0.75, 0.70]\n",
    "        ,'max_depth':[None, 2,4,6,8]\n",
    "        ,'min_weight_fraction_leaf':[0.0, 0.0025, 0.005, 0.0075, 0.01, 0.05]}\n",
    "        \n",
    "decision_tree = DecisionTreeRegressor()\n",
    "bayes_search_dt = BayesSearchCV(decision_tree,params_dt)"
   ]
  },
  {
   "cell_type": "raw",
   "id": "2ffd00ae-1852-43c8-acf7-494103d1fc39",
   "metadata": {},
   "source": [
    "grid_search_dt = RandomizedSearchCV(decision_tree,params_dt,n_jobs=-1,n_iter=100)"
   ]
  },
  {
   "cell_type": "raw",
   "id": "44f3130d-4c33-47c4-a559-6b0beb7abe12",
   "metadata": {},
   "source": [
    "bayes_search_dt.fit(X,y)"
   ]
  },
  {
   "cell_type": "raw",
   "id": "cde50c99-d45d-4656-96d1-07c8d1ca06b9",
   "metadata": {},
   "source": [
    "bayes_search_dt.best_estimator_"
   ]
  },
  {
   "cell_type": "code",
   "execution_count": 47,
   "id": "4800ca2a-23bc-4d5b-9078-8c873a270e1f",
   "metadata": {},
   "outputs": [],
   "source": [
    "decision_tree = DecisionTreeRegressor(max_depth=6, max_features=0.85, max_leaf_nodes=40,\n",
    "                      min_samples_leaf=0.02, min_samples_split=6,\n",
    "                      min_weight_fraction_leaf=0.0075)"
   ]
  },
  {
   "cell_type": "code",
   "execution_count": 48,
   "id": "4e2277fa-507b-40df-b4b2-f094d52c1f86",
   "metadata": {},
   "outputs": [],
   "source": [
    "decision_tree_pipeline = make_pipeline(LogStandardScaler(),decision_tree)"
   ]
  },
  {
   "cell_type": "code",
   "execution_count": 49,
   "id": "92b05f7f-10bd-471e-bae8-321c3da3799f",
   "metadata": {},
   "outputs": [
    {
     "data": {
      "text/plain": [
       "Pipeline(steps=[('logstandardscaler', LogStandardScaler()),\n",
       "                ('decisiontreeregressor',\n",
       "                 DecisionTreeRegressor(max_depth=6, max_features=0.85,\n",
       "                                       max_leaf_nodes=40, min_samples_leaf=0.02,\n",
       "                                       min_samples_split=6,\n",
       "                                       min_weight_fraction_leaf=0.0075))])"
      ]
     },
     "execution_count": 49,
     "metadata": {},
     "output_type": "execute_result"
    }
   ],
   "source": [
    "decision_tree_pipeline.fit(X,y)"
   ]
  },
  {
   "cell_type": "markdown",
   "id": "f8d29a92-63f4-42cb-9977-7b07cb99a65c",
   "metadata": {},
   "source": [
    "## XGBoost"
   ]
  },
  {
   "cell_type": "code",
   "execution_count": 156,
   "id": "39439d59-b189-4836-b604-8c1ed6050435",
   "metadata": {},
   "outputs": [],
   "source": [
    "xg_boost = xgboost.XGBRegressor(n_estimators=800,learning_rate=0.05)\n",
    "xg_boost_pipeline = make_pipeline(\n",
    "    # LogStandardScaler(),\n",
    "\n",
    "xg_boost)"
   ]
  },
  {
   "cell_type": "code",
   "execution_count": 157,
   "id": "d21e2e83",
   "metadata": {},
   "outputs": [],
   "source": [
    "params_xg = {\n",
    "    # 'xgbregressor__n_estimators':[400,600,800],\n",
    "# 'xgbregressor__learning_rate':[0.01,0.05,0.1]\n",
    "    'xgbregressor__max_depth':[2, 3, 5],\n",
    "    # 'xgbregressor__gamma':[0],\n",
    "    'xgbregressor__min_child_weight':[1, 2, 3, 4],\n",
    "    # 'xgbregressor__subsample':[0.5, 0.7, 0.8, 0.9, 1],\n",
    "    'xgbregressor__colsample_bytree':[0.3 ,0.5, 0.7],\n",
    "}"
   ]
  },
  {
   "cell_type": "code",
   "execution_count": 174,
   "id": "332a97a2",
   "metadata": {},
   "outputs": [],
   "source": [
    "grid_search_xg = GridSearchCV(xg_boost_pipeline,params_xg)"
   ]
  },
  {
   "cell_type": "code",
   "execution_count": 175,
   "id": "8886d674",
   "metadata": {},
   "outputs": [
    {
     "data": {
      "text/plain": [
       "GridSearchCV(estimator=Pipeline(steps=[('logstandardscaler',\n",
       "                                        LogStandardScaler()),\n",
       "                                       ('xgbregressor',\n",
       "                                        XGBRegressor(base_score=None,\n",
       "                                                     booster=None,\n",
       "                                                     callbacks=None,\n",
       "                                                     colsample_bylevel=None,\n",
       "                                                     colsample_bynode=None,\n",
       "                                                     colsample_bytree=None,\n",
       "                                                     early_stopping_rounds=None,\n",
       "                                                     enable_categorical=False,\n",
       "                                                     eval_metric=None,\n",
       "                                                     gamma=None, gpu_id=None,\n",
       "                                                     grow_policy=None,\n",
       "                                                     importance_type=None...\n",
       "                                                     max_depth=None,\n",
       "                                                     max_leaves=None,\n",
       "                                                     min_child_weight=None,\n",
       "                                                     missing=nan,\n",
       "                                                     monotone_constraints=None,\n",
       "                                                     n_estimators=100,\n",
       "                                                     n_jobs=None,\n",
       "                                                     num_parallel_tree=None,\n",
       "                                                     predictor=None,\n",
       "                                                     random_state=None,\n",
       "                                                     reg_alpha=None,\n",
       "                                                     reg_lambda=None, ...))]),\n",
       "             param_grid={'xgbregressor__colsample_bytree': [0.3, 0.5, 0.7],\n",
       "                         'xgbregressor__max_depth': [2, 3, 5],\n",
       "                         'xgbregressor__min_child_weight': [1, 2, 3, 4]})"
      ]
     },
     "execution_count": 175,
     "metadata": {},
     "output_type": "execute_result"
    }
   ],
   "source": [
    "grid_search_xg.fit(X,y)"
   ]
  },
  {
   "cell_type": "code",
   "execution_count": 176,
   "id": "2c551715",
   "metadata": {},
   "outputs": [
    {
     "data": {
      "text/plain": [
       "{'xgbregressor__colsample_bytree': 0.7,\n",
       " 'xgbregressor__max_depth': 3,\n",
       " 'xgbregressor__min_child_weight': 4}"
      ]
     },
     "execution_count": 176,
     "metadata": {},
     "output_type": "execute_result"
    }
   ],
   "source": [
    "grid_search_xg.best_params_"
   ]
  },
  {
   "cell_type": "code",
   "execution_count": 194,
   "id": "673fa0d8-1c62-43a8-a9d2-8bb6e7ece2bc",
   "metadata": {},
   "outputs": [
    {
     "data": {
      "text/html": [
       "<style>#sk-container-id-52 {color: black;background-color: white;}#sk-container-id-52 pre{padding: 0;}#sk-container-id-52 div.sk-toggleable {background-color: white;}#sk-container-id-52 label.sk-toggleable__label {cursor: pointer;display: block;width: 100%;margin-bottom: 0;padding: 0.3em;box-sizing: border-box;text-align: center;}#sk-container-id-52 label.sk-toggleable__label-arrow:before {content: \"▸\";float: left;margin-right: 0.25em;color: #696969;}#sk-container-id-52 label.sk-toggleable__label-arrow:hover:before {color: black;}#sk-container-id-52 div.sk-estimator:hover label.sk-toggleable__label-arrow:before {color: black;}#sk-container-id-52 div.sk-toggleable__content {max-height: 0;max-width: 0;overflow: hidden;text-align: left;background-color: #f0f8ff;}#sk-container-id-52 div.sk-toggleable__content pre {margin: 0.2em;color: black;border-radius: 0.25em;background-color: #f0f8ff;}#sk-container-id-52 input.sk-toggleable__control:checked~div.sk-toggleable__content {max-height: 200px;max-width: 100%;overflow: auto;}#sk-container-id-52 input.sk-toggleable__control:checked~label.sk-toggleable__label-arrow:before {content: \"▾\";}#sk-container-id-52 div.sk-estimator input.sk-toggleable__control:checked~label.sk-toggleable__label {background-color: #d4ebff;}#sk-container-id-52 div.sk-label input.sk-toggleable__control:checked~label.sk-toggleable__label {background-color: #d4ebff;}#sk-container-id-52 input.sk-hidden--visually {border: 0;clip: rect(1px 1px 1px 1px);clip: rect(1px, 1px, 1px, 1px);height: 1px;margin: -1px;overflow: hidden;padding: 0;position: absolute;width: 1px;}#sk-container-id-52 div.sk-estimator {font-family: monospace;background-color: #f0f8ff;border: 1px dotted black;border-radius: 0.25em;box-sizing: border-box;margin-bottom: 0.5em;}#sk-container-id-52 div.sk-estimator:hover {background-color: #d4ebff;}#sk-container-id-52 div.sk-parallel-item::after {content: \"\";width: 100%;border-bottom: 1px solid gray;flex-grow: 1;}#sk-container-id-52 div.sk-label:hover label.sk-toggleable__label {background-color: #d4ebff;}#sk-container-id-52 div.sk-serial::before {content: \"\";position: absolute;border-left: 1px solid gray;box-sizing: border-box;top: 0;bottom: 0;left: 50%;z-index: 0;}#sk-container-id-52 div.sk-serial {display: flex;flex-direction: column;align-items: center;background-color: white;padding-right: 0.2em;padding-left: 0.2em;position: relative;}#sk-container-id-52 div.sk-item {position: relative;z-index: 1;}#sk-container-id-52 div.sk-parallel {display: flex;align-items: stretch;justify-content: center;background-color: white;position: relative;}#sk-container-id-52 div.sk-item::before, #sk-container-id-52 div.sk-parallel-item::before {content: \"\";position: absolute;border-left: 1px solid gray;box-sizing: border-box;top: 0;bottom: 0;left: 50%;z-index: -1;}#sk-container-id-52 div.sk-parallel-item {display: flex;flex-direction: column;z-index: 1;position: relative;background-color: white;}#sk-container-id-52 div.sk-parallel-item:first-child::after {align-self: flex-end;width: 50%;}#sk-container-id-52 div.sk-parallel-item:last-child::after {align-self: flex-start;width: 50%;}#sk-container-id-52 div.sk-parallel-item:only-child::after {width: 0;}#sk-container-id-52 div.sk-dashed-wrapped {border: 1px dashed gray;margin: 0 0.4em 0.5em 0.4em;box-sizing: border-box;padding-bottom: 0.4em;background-color: white;}#sk-container-id-52 div.sk-label label {font-family: monospace;font-weight: bold;display: inline-block;line-height: 1.2em;}#sk-container-id-52 div.sk-label-container {text-align: center;}#sk-container-id-52 div.sk-container {/* jupyter's `normalize.less` sets `[hidden] { display: none; }` but bootstrap.min.css set `[hidden] { display: none !important; }` so we also need the `!important` here to be able to override the default hidden behavior on the sphinx rendered scikit-learn.org. See: https://github.com/scikit-learn/scikit-learn/issues/21755 */display: inline-block !important;position: relative;}#sk-container-id-52 div.sk-text-repr-fallback {display: none;}</style><div id=\"sk-container-id-52\" class=\"sk-top-container\"><div class=\"sk-text-repr-fallback\"><pre>Pipeline(steps=[(&#x27;xgbregressor&#x27;,\n",
       "                 XGBRegressor(base_score=0.5, booster=&#x27;gbtree&#x27;, callbacks=None,\n",
       "                              colsample_bylevel=1, colsample_bynode=1,\n",
       "                              colsample_bytree=0.7, early_stopping_rounds=None,\n",
       "                              enable_categorical=False, eval_metric=None,\n",
       "                              gamma=0, gpu_id=-1, grow_policy=&#x27;depthwise&#x27;,\n",
       "                              importance_type=None, interaction_constraints=&#x27;&#x27;,\n",
       "                              learning_rate=0.05, max_bin=256,\n",
       "                              max_cat_to_onehot=4, max_delta_step=0,\n",
       "                              max_depth=3, max_leaves=0, min_child_weight=4,\n",
       "                              missing=nan, monotone_constraints=&#x27;()&#x27;,\n",
       "                              n_estimators=800, n_jobs=0, num_parallel_tree=1,\n",
       "                              predictor=&#x27;auto&#x27;, random_state=0, reg_alpha=0,\n",
       "                              reg_lambda=1, ...))])</pre><b>In a Jupyter environment, please rerun this cell to show the HTML representation or trust the notebook. <br />On GitHub, the HTML representation is unable to render, please try loading this page with nbviewer.org.</b></div><div class=\"sk-container\" hidden><div class=\"sk-item sk-dashed-wrapped\"><div class=\"sk-label-container\"><div class=\"sk-label sk-toggleable\"><input class=\"sk-toggleable__control sk-hidden--visually\" id=\"sk-estimator-id-194\" type=\"checkbox\" ><label for=\"sk-estimator-id-194\" class=\"sk-toggleable__label sk-toggleable__label-arrow\">Pipeline</label><div class=\"sk-toggleable__content\"><pre>Pipeline(steps=[(&#x27;xgbregressor&#x27;,\n",
       "                 XGBRegressor(base_score=0.5, booster=&#x27;gbtree&#x27;, callbacks=None,\n",
       "                              colsample_bylevel=1, colsample_bynode=1,\n",
       "                              colsample_bytree=0.7, early_stopping_rounds=None,\n",
       "                              enable_categorical=False, eval_metric=None,\n",
       "                              gamma=0, gpu_id=-1, grow_policy=&#x27;depthwise&#x27;,\n",
       "                              importance_type=None, interaction_constraints=&#x27;&#x27;,\n",
       "                              learning_rate=0.05, max_bin=256,\n",
       "                              max_cat_to_onehot=4, max_delta_step=0,\n",
       "                              max_depth=3, max_leaves=0, min_child_weight=4,\n",
       "                              missing=nan, monotone_constraints=&#x27;()&#x27;,\n",
       "                              n_estimators=800, n_jobs=0, num_parallel_tree=1,\n",
       "                              predictor=&#x27;auto&#x27;, random_state=0, reg_alpha=0,\n",
       "                              reg_lambda=1, ...))])</pre></div></div></div><div class=\"sk-serial\"><div class=\"sk-item\"><div class=\"sk-estimator sk-toggleable\"><input class=\"sk-toggleable__control sk-hidden--visually\" id=\"sk-estimator-id-195\" type=\"checkbox\" ><label for=\"sk-estimator-id-195\" class=\"sk-toggleable__label sk-toggleable__label-arrow\">XGBRegressor</label><div class=\"sk-toggleable__content\"><pre>XGBRegressor(base_score=0.5, booster=&#x27;gbtree&#x27;, callbacks=None,\n",
       "             colsample_bylevel=1, colsample_bynode=1, colsample_bytree=0.7,\n",
       "             early_stopping_rounds=None, enable_categorical=False,\n",
       "             eval_metric=None, gamma=0, gpu_id=-1, grow_policy=&#x27;depthwise&#x27;,\n",
       "             importance_type=None, interaction_constraints=&#x27;&#x27;,\n",
       "             learning_rate=0.05, max_bin=256, max_cat_to_onehot=4,\n",
       "             max_delta_step=0, max_depth=3, max_leaves=0, min_child_weight=4,\n",
       "             missing=nan, monotone_constraints=&#x27;()&#x27;, n_estimators=800, n_jobs=0,\n",
       "             num_parallel_tree=1, predictor=&#x27;auto&#x27;, random_state=0, reg_alpha=0,\n",
       "             reg_lambda=1, ...)</pre></div></div></div></div></div></div></div>"
      ],
      "text/plain": [
       "Pipeline(steps=[('xgbregressor',\n",
       "                 XGBRegressor(base_score=0.5, booster='gbtree', callbacks=None,\n",
       "                              colsample_bylevel=1, colsample_bynode=1,\n",
       "                              colsample_bytree=0.7, early_stopping_rounds=None,\n",
       "                              enable_categorical=False, eval_metric=None,\n",
       "                              gamma=0, gpu_id=-1, grow_policy='depthwise',\n",
       "                              importance_type=None, interaction_constraints='',\n",
       "                              learning_rate=0.05, max_bin=256,\n",
       "                              max_cat_to_onehot=4, max_delta_step=0,\n",
       "                              max_depth=3, max_leaves=0, min_child_weight=4,\n",
       "                              missing=nan, monotone_constraints='()',\n",
       "                              n_estimators=800, n_jobs=0, num_parallel_tree=1,\n",
       "                              predictor='auto', random_state=0, reg_alpha=0,\n",
       "                              reg_lambda=1, ...))])"
      ]
     },
     "execution_count": 194,
     "metadata": {},
     "output_type": "execute_result"
    }
   ],
   "source": [
    "xg_boost = xgboost.XGBRegressor(n_estimators=800,learning_rate=0.05, colsample_bytree = 0.7, max_depth = 3, min_child_weight=4)\n",
    "xg_boost_pipeline = make_pipeline(\n",
    "    # LogStandardScaler(),\n",
    "xg_boost)\n",
    "xg_boost_pipeline.fit(X,y)"
   ]
  },
  {
   "cell_type": "markdown",
   "id": "85035ea6-864e-409f-86a9-6d731d87d22e",
   "metadata": {},
   "source": [
    "## Random Forest\n",
    "Fit time for Random Forests also increased drastically"
   ]
  },
  {
   "cell_type": "code",
   "execution_count": 49,
   "id": "624d5310-6e1a-4ff6-bcfc-69e0b9ac258d",
   "metadata": {},
   "outputs": [],
   "source": [
    "from sklearn.ensemble import RandomForestRegressor"
   ]
  },
  {
   "cell_type": "code",
   "execution_count": 202,
   "id": "e8b0cee8-f211-44fe-a887-1cbcf4b3376b",
   "metadata": {},
   "outputs": [],
   "source": [
    "random_forest_initial = RandomForestRegressor(n_estimators=600)"
   ]
  },
  {
   "cell_type": "code",
   "execution_count": 194,
   "id": "1e9bc913-aeff-4733-ae01-5dc51743752d",
   "metadata": {},
   "outputs": [],
   "source": [
    "random_forest_pipeline = make_pipeline(LogStandardScaler(),random_forest_initial)"
   ]
  },
  {
   "cell_type": "code",
   "execution_count": 195,
   "id": "6dc1aafd-6db5-458f-bace-ad6dc92f7661",
   "metadata": {},
   "outputs": [
    {
     "data": {
      "text/plain": [
       "Pipeline(steps=[('logstandardscaler', LogStandardScaler()),\n",
       "                ('randomforestregressor',\n",
       "                 RandomForestRegressor(n_estimators=600, oob_score=True))])"
      ]
     },
     "execution_count": 195,
     "metadata": {},
     "output_type": "execute_result"
    }
   ],
   "source": [
    "random_forest_pipeline.fit(X,y)"
   ]
  },
  {
   "cell_type": "raw",
   "id": "1d4e5bf1-b6cc-4ce0-851d-466390b59092",
   "metadata": {},
   "source": [
    "random_forest.oob_score_"
   ]
  },
  {
   "cell_type": "raw",
   "id": "8b4c1f8b-237f-463a-ace1-0bc69fc0a33a",
   "metadata": {},
   "source": [
    "oob_scores = {}\n",
    "rf = RandomForestRegressor(n_estimators=50, warm_start=True, oob_score=True, n_jobs=-1, random_state=2)\n",
    "rf.fit(X, y)\n",
    "oob_scores[50] = rf.oob_score_\n",
    "est = 50\n",
    "estimators=[est]\n",
    "for i in range(9):\n",
    "    est += 50\n",
    "    estimators.append(est)\n",
    "    rf.set_params(n_estimators=est)\n",
    "    rf.fit(X, y)\n",
    "    oob_scores[est] = rf.oob_score_"
   ]
  },
  {
   "cell_type": "raw",
   "id": "ab9dfcd9-f1ed-497d-9417-d5c2923f3df5",
   "metadata": {},
   "source": [
    "oob_scores"
   ]
  },
  {
   "cell_type": "code",
   "execution_count": 243,
   "id": "c446b924-0444-462f-8bb8-6ee4d706ee6d",
   "metadata": {},
   "outputs": [],
   "source": [
    "params_rf={\n",
    "        ## 'min_weight_fraction_leaf':[0.0, 0.0025, 0.005, 0.0075, 0.01, 0.05],\n",
    "        ##   'min_samples_split': [0.01, 0.02, 0.03, 0.04, 0.06, 0.08, 0.1,2],\n",
    "        ##    'min_samples_leaf':[1,2,4,6,8,10,20,30],\n",
    "        ##   'min_impurity_decrease':[0.0, 0.01, 0.05, 0.10, 0.15, 0.2],\n",
    "        ##   'max_leaf_nodes':[10, 15, 20, 25, 30, 35, 40, 45, 50, None],\n",
    "         #   'max_features':[0.8, 0.7, 0.6, 0.5, 0.4, 'auto'],\n",
    "           'max_depth':[None,2,4,6,8,10,20],\n",
    "           }\n",
    "        "
   ]
  },
  {
   "cell_type": "code",
   "execution_count": 244,
   "id": "b7c66367-f627-4e6c-98f6-21d70bda186d",
   "metadata": {},
   "outputs": [],
   "source": [
    "bayes_search_rf = GridSearchCV(random_forest_initial,params_rf,n_jobs=-1)"
   ]
  },
  {
   "cell_type": "code",
   "execution_count": 245,
   "id": "e5065181-a47f-4170-9557-b2b446da60d9",
   "metadata": {},
   "outputs": [
    {
     "data": {
      "text/plain": [
       "GridSearchCV(estimator=RandomForestRegressor(n_estimators=600), n_jobs=-1,\n",
       "             param_grid={'max_depth': [None, 2, 4, 6, 8, 10, 20]})"
      ]
     },
     "execution_count": 245,
     "metadata": {},
     "output_type": "execute_result"
    }
   ],
   "source": [
    "bayes_search_rf.fit(X,y)"
   ]
  },
  {
   "cell_type": "code",
   "execution_count": 246,
   "id": "6eda444b-0af6-422d-88a4-4c11670902f6",
   "metadata": {},
   "outputs": [
    {
     "data": {
      "text/plain": [
       "{'max_depth': None}"
      ]
     },
     "execution_count": 246,
     "metadata": {},
     "output_type": "execute_result"
    }
   ],
   "source": [
    "## Doesn't seem like I can really get better than just the default parameters\n",
    "bayes_search_rf.best_params_"
   ]
  },
  {
   "cell_type": "raw",
   "id": "7a84e118-824d-450c-9ab5-a80d814bc3d1",
   "metadata": {},
   "source": [
    "params_rf={'min_weight_fraction_leaf': [0.005, 0.0075, 0.01]\n",
    "           ,'min_samples_split': [1, 0.001 ,0.01, 0.02]\n",
    "           ,'min_samples_leaf':[6,7,8,9,10]\n",
    "           # ,'min_impurity_decrease':[0.0, 0.01, 0.05, 0.10, 0.15, 0.2]\n",
    "           # ,'max_leaf_nodes':[10, 15, 20, 25, 30, 35, 40, 45, 50, None]\n",
    "           ,'max_features':[0.55, 0.6, 0.65]\n",
    "           ,'max_depth':[10,20,50,100]}\n",
    "bayes_search_rf = BayesSearchCV(random_forest,params_rf,n_jobs=-1)"
   ]
  },
  {
   "cell_type": "raw",
   "id": "5613ea9b-7955-415c-a6f1-b288de734596",
   "metadata": {},
   "source": [
    "bayes_search_rf.fit(X,y)\n",
    "bayes_search_rf.best_estimator_"
   ]
  },
  {
   "cell_type": "code",
   "execution_count": 50,
   "id": "e4c68f1e-adf9-4cf0-939f-639606603df9",
   "metadata": {},
   "outputs": [],
   "source": [
    "random_forest = RandomForestRegressor(max_depth=None, max_features=0.4, \n",
    "                      n_estimators=600, oob_score=True)"
   ]
  },
  {
   "cell_type": "raw",
   "id": "0e350575-e767-4c02-84b1-a16dd5094f45",
   "metadata": {},
   "source": [
    "random_forest_pipeline = make_pipeline(StandardScaler(),random_forest)"
   ]
  },
  {
   "cell_type": "code",
   "execution_count": 51,
   "id": "ec6811aa-d8c1-4c3b-8b73-d154fbce7dbf",
   "metadata": {},
   "outputs": [
    {
     "data": {
      "text/html": [
       "<style>#sk-container-id-4 {color: black;background-color: white;}#sk-container-id-4 pre{padding: 0;}#sk-container-id-4 div.sk-toggleable {background-color: white;}#sk-container-id-4 label.sk-toggleable__label {cursor: pointer;display: block;width: 100%;margin-bottom: 0;padding: 0.3em;box-sizing: border-box;text-align: center;}#sk-container-id-4 label.sk-toggleable__label-arrow:before {content: \"▸\";float: left;margin-right: 0.25em;color: #696969;}#sk-container-id-4 label.sk-toggleable__label-arrow:hover:before {color: black;}#sk-container-id-4 div.sk-estimator:hover label.sk-toggleable__label-arrow:before {color: black;}#sk-container-id-4 div.sk-toggleable__content {max-height: 0;max-width: 0;overflow: hidden;text-align: left;background-color: #f0f8ff;}#sk-container-id-4 div.sk-toggleable__content pre {margin: 0.2em;color: black;border-radius: 0.25em;background-color: #f0f8ff;}#sk-container-id-4 input.sk-toggleable__control:checked~div.sk-toggleable__content {max-height: 200px;max-width: 100%;overflow: auto;}#sk-container-id-4 input.sk-toggleable__control:checked~label.sk-toggleable__label-arrow:before {content: \"▾\";}#sk-container-id-4 div.sk-estimator input.sk-toggleable__control:checked~label.sk-toggleable__label {background-color: #d4ebff;}#sk-container-id-4 div.sk-label input.sk-toggleable__control:checked~label.sk-toggleable__label {background-color: #d4ebff;}#sk-container-id-4 input.sk-hidden--visually {border: 0;clip: rect(1px 1px 1px 1px);clip: rect(1px, 1px, 1px, 1px);height: 1px;margin: -1px;overflow: hidden;padding: 0;position: absolute;width: 1px;}#sk-container-id-4 div.sk-estimator {font-family: monospace;background-color: #f0f8ff;border: 1px dotted black;border-radius: 0.25em;box-sizing: border-box;margin-bottom: 0.5em;}#sk-container-id-4 div.sk-estimator:hover {background-color: #d4ebff;}#sk-container-id-4 div.sk-parallel-item::after {content: \"\";width: 100%;border-bottom: 1px solid gray;flex-grow: 1;}#sk-container-id-4 div.sk-label:hover label.sk-toggleable__label {background-color: #d4ebff;}#sk-container-id-4 div.sk-serial::before {content: \"\";position: absolute;border-left: 1px solid gray;box-sizing: border-box;top: 0;bottom: 0;left: 50%;z-index: 0;}#sk-container-id-4 div.sk-serial {display: flex;flex-direction: column;align-items: center;background-color: white;padding-right: 0.2em;padding-left: 0.2em;position: relative;}#sk-container-id-4 div.sk-item {position: relative;z-index: 1;}#sk-container-id-4 div.sk-parallel {display: flex;align-items: stretch;justify-content: center;background-color: white;position: relative;}#sk-container-id-4 div.sk-item::before, #sk-container-id-4 div.sk-parallel-item::before {content: \"\";position: absolute;border-left: 1px solid gray;box-sizing: border-box;top: 0;bottom: 0;left: 50%;z-index: -1;}#sk-container-id-4 div.sk-parallel-item {display: flex;flex-direction: column;z-index: 1;position: relative;background-color: white;}#sk-container-id-4 div.sk-parallel-item:first-child::after {align-self: flex-end;width: 50%;}#sk-container-id-4 div.sk-parallel-item:last-child::after {align-self: flex-start;width: 50%;}#sk-container-id-4 div.sk-parallel-item:only-child::after {width: 0;}#sk-container-id-4 div.sk-dashed-wrapped {border: 1px dashed gray;margin: 0 0.4em 0.5em 0.4em;box-sizing: border-box;padding-bottom: 0.4em;background-color: white;}#sk-container-id-4 div.sk-label label {font-family: monospace;font-weight: bold;display: inline-block;line-height: 1.2em;}#sk-container-id-4 div.sk-label-container {text-align: center;}#sk-container-id-4 div.sk-container {/* jupyter's `normalize.less` sets `[hidden] { display: none; }` but bootstrap.min.css set `[hidden] { display: none !important; }` so we also need the `!important` here to be able to override the default hidden behavior on the sphinx rendered scikit-learn.org. See: https://github.com/scikit-learn/scikit-learn/issues/21755 */display: inline-block !important;position: relative;}#sk-container-id-4 div.sk-text-repr-fallback {display: none;}</style><div id=\"sk-container-id-4\" class=\"sk-top-container\"><div class=\"sk-text-repr-fallback\"><pre>RandomForestRegressor(max_features=0.4, n_estimators=600, oob_score=True)</pre><b>In a Jupyter environment, please rerun this cell to show the HTML representation or trust the notebook. <br />On GitHub, the HTML representation is unable to render, please try loading this page with nbviewer.org.</b></div><div class=\"sk-container\" hidden><div class=\"sk-item\"><div class=\"sk-estimator sk-toggleable\"><input class=\"sk-toggleable__control sk-hidden--visually\" id=\"sk-estimator-id-12\" type=\"checkbox\" checked><label for=\"sk-estimator-id-12\" class=\"sk-toggleable__label sk-toggleable__label-arrow\">RandomForestRegressor</label><div class=\"sk-toggleable__content\"><pre>RandomForestRegressor(max_features=0.4, n_estimators=600, oob_score=True)</pre></div></div></div></div></div>"
      ],
      "text/plain": [
       "RandomForestRegressor(max_features=0.4, n_estimators=600, oob_score=True)"
      ]
     },
     "execution_count": 51,
     "metadata": {},
     "output_type": "execute_result"
    }
   ],
   "source": [
    "random_forest.fit(X,y)"
   ]
  },
  {
   "cell_type": "markdown",
   "id": "57674ce0-b002-4a5a-a728-64d858e00f7d",
   "metadata": {},
   "source": [
    "## Adaboost"
   ]
  },
  {
   "cell_type": "code",
   "execution_count": 96,
   "id": "4e80bed0-da3d-46ef-9a5a-473c1d0226b0",
   "metadata": {},
   "outputs": [],
   "source": [
    "from sklearn.ensemble import AdaBoostRegressor"
   ]
  },
  {
   "cell_type": "code",
   "execution_count": 62,
   "id": "55978656-4fef-41cd-8696-8e6021c54e9f",
   "metadata": {},
   "outputs": [],
   "source": [
    "adaboost = AdaBoostRegressor()"
   ]
  },
  {
   "cell_type": "code",
   "execution_count": 63,
   "id": "a7832b52-73d0-43db-a12d-f5ee836400a4",
   "metadata": {},
   "outputs": [],
   "source": [
    "adaboost_pipeline = make_pipeline(LogStandardScaler(),adaboost)"
   ]
  },
  {
   "cell_type": "code",
   "execution_count": 64,
   "id": "db5ed4ff-1c8d-48a7-b491-34b5b4f08f01",
   "metadata": {},
   "outputs": [
    {
     "data": {
      "text/plain": [
       "Pipeline(steps=[('logstandardscaler', LogStandardScaler()),\n",
       "                ('adaboostregressor', AdaBoostRegressor())])"
      ]
     },
     "execution_count": 64,
     "metadata": {},
     "output_type": "execute_result"
    }
   ],
   "source": [
    "adaboost_pipeline.fit(X,y)"
   ]
  },
  {
   "cell_type": "markdown",
   "id": "e34d57a3-7e07-49c0-8f04-19e11dffc0d3",
   "metadata": {},
   "source": [
    "## Light GBM\n",
    "Light GBM breaks because of the Patsy naming convention (creating interactions with : in the middle)"
   ]
  },
  {
   "cell_type": "code",
   "execution_count": 97,
   "id": "83650658-c5c6-4ad0-92d3-0a0c4ea634bb",
   "metadata": {},
   "outputs": [],
   "source": [
    "from lightgbm import LGBMRegressor"
   ]
  },
  {
   "cell_type": "code",
   "execution_count": 160,
   "id": "048f68b5-11fe-46a8-b254-3c36f40d0d9e",
   "metadata": {},
   "outputs": [
    {
     "name": "stdout",
     "output_type": "stream",
     "text": [
      "[LightGBM] [Warning] lambda_l1 is set=0.1, reg_alpha=0.0 will be ignored. Current value: lambda_l1=0.1\n"
     ]
    },
    {
     "data": {
      "text/html": [
       "<style>#sk-container-id-44 {color: black;background-color: white;}#sk-container-id-44 pre{padding: 0;}#sk-container-id-44 div.sk-toggleable {background-color: white;}#sk-container-id-44 label.sk-toggleable__label {cursor: pointer;display: block;width: 100%;margin-bottom: 0;padding: 0.3em;box-sizing: border-box;text-align: center;}#sk-container-id-44 label.sk-toggleable__label-arrow:before {content: \"▸\";float: left;margin-right: 0.25em;color: #696969;}#sk-container-id-44 label.sk-toggleable__label-arrow:hover:before {color: black;}#sk-container-id-44 div.sk-estimator:hover label.sk-toggleable__label-arrow:before {color: black;}#sk-container-id-44 div.sk-toggleable__content {max-height: 0;max-width: 0;overflow: hidden;text-align: left;background-color: #f0f8ff;}#sk-container-id-44 div.sk-toggleable__content pre {margin: 0.2em;color: black;border-radius: 0.25em;background-color: #f0f8ff;}#sk-container-id-44 input.sk-toggleable__control:checked~div.sk-toggleable__content {max-height: 200px;max-width: 100%;overflow: auto;}#sk-container-id-44 input.sk-toggleable__control:checked~label.sk-toggleable__label-arrow:before {content: \"▾\";}#sk-container-id-44 div.sk-estimator input.sk-toggleable__control:checked~label.sk-toggleable__label {background-color: #d4ebff;}#sk-container-id-44 div.sk-label input.sk-toggleable__control:checked~label.sk-toggleable__label {background-color: #d4ebff;}#sk-container-id-44 input.sk-hidden--visually {border: 0;clip: rect(1px 1px 1px 1px);clip: rect(1px, 1px, 1px, 1px);height: 1px;margin: -1px;overflow: hidden;padding: 0;position: absolute;width: 1px;}#sk-container-id-44 div.sk-estimator {font-family: monospace;background-color: #f0f8ff;border: 1px dotted black;border-radius: 0.25em;box-sizing: border-box;margin-bottom: 0.5em;}#sk-container-id-44 div.sk-estimator:hover {background-color: #d4ebff;}#sk-container-id-44 div.sk-parallel-item::after {content: \"\";width: 100%;border-bottom: 1px solid gray;flex-grow: 1;}#sk-container-id-44 div.sk-label:hover label.sk-toggleable__label {background-color: #d4ebff;}#sk-container-id-44 div.sk-serial::before {content: \"\";position: absolute;border-left: 1px solid gray;box-sizing: border-box;top: 0;bottom: 0;left: 50%;z-index: 0;}#sk-container-id-44 div.sk-serial {display: flex;flex-direction: column;align-items: center;background-color: white;padding-right: 0.2em;padding-left: 0.2em;position: relative;}#sk-container-id-44 div.sk-item {position: relative;z-index: 1;}#sk-container-id-44 div.sk-parallel {display: flex;align-items: stretch;justify-content: center;background-color: white;position: relative;}#sk-container-id-44 div.sk-item::before, #sk-container-id-44 div.sk-parallel-item::before {content: \"\";position: absolute;border-left: 1px solid gray;box-sizing: border-box;top: 0;bottom: 0;left: 50%;z-index: -1;}#sk-container-id-44 div.sk-parallel-item {display: flex;flex-direction: column;z-index: 1;position: relative;background-color: white;}#sk-container-id-44 div.sk-parallel-item:first-child::after {align-self: flex-end;width: 50%;}#sk-container-id-44 div.sk-parallel-item:last-child::after {align-self: flex-start;width: 50%;}#sk-container-id-44 div.sk-parallel-item:only-child::after {width: 0;}#sk-container-id-44 div.sk-dashed-wrapped {border: 1px dashed gray;margin: 0 0.4em 0.5em 0.4em;box-sizing: border-box;padding-bottom: 0.4em;background-color: white;}#sk-container-id-44 div.sk-label label {font-family: monospace;font-weight: bold;display: inline-block;line-height: 1.2em;}#sk-container-id-44 div.sk-label-container {text-align: center;}#sk-container-id-44 div.sk-container {/* jupyter's `normalize.less` sets `[hidden] { display: none; }` but bootstrap.min.css set `[hidden] { display: none !important; }` so we also need the `!important` here to be able to override the default hidden behavior on the sphinx rendered scikit-learn.org. See: https://github.com/scikit-learn/scikit-learn/issues/21755 */display: inline-block !important;position: relative;}#sk-container-id-44 div.sk-text-repr-fallback {display: none;}</style><div id=\"sk-container-id-44\" class=\"sk-top-container\"><div class=\"sk-text-repr-fallback\"><pre>Pipeline(steps=[(&#x27;lgbmregressor&#x27;,\n",
       "                 LGBMRegressor(colsample_bytree=0.3, lambda_l1=0.1,\n",
       "                               learning_rate=0.05, max_depth=3,\n",
       "                               min_child_weight=1e-05, n_estimators=800,\n",
       "                               num_leaves=5, subsample=0.3))])</pre><b>In a Jupyter environment, please rerun this cell to show the HTML representation or trust the notebook. <br />On GitHub, the HTML representation is unable to render, please try loading this page with nbviewer.org.</b></div><div class=\"sk-container\" hidden><div class=\"sk-item sk-dashed-wrapped\"><div class=\"sk-label-container\"><div class=\"sk-label sk-toggleable\"><input class=\"sk-toggleable__control sk-hidden--visually\" id=\"sk-estimator-id-175\" type=\"checkbox\" ><label for=\"sk-estimator-id-175\" class=\"sk-toggleable__label sk-toggleable__label-arrow\">Pipeline</label><div class=\"sk-toggleable__content\"><pre>Pipeline(steps=[(&#x27;lgbmregressor&#x27;,\n",
       "                 LGBMRegressor(colsample_bytree=0.3, lambda_l1=0.1,\n",
       "                               learning_rate=0.05, max_depth=3,\n",
       "                               min_child_weight=1e-05, n_estimators=800,\n",
       "                               num_leaves=5, subsample=0.3))])</pre></div></div></div><div class=\"sk-serial\"><div class=\"sk-item\"><div class=\"sk-estimator sk-toggleable\"><input class=\"sk-toggleable__control sk-hidden--visually\" id=\"sk-estimator-id-176\" type=\"checkbox\" ><label for=\"sk-estimator-id-176\" class=\"sk-toggleable__label sk-toggleable__label-arrow\">LGBMRegressor</label><div class=\"sk-toggleable__content\"><pre>LGBMRegressor(colsample_bytree=0.3, lambda_l1=0.1, learning_rate=0.05,\n",
       "              max_depth=3, min_child_weight=1e-05, n_estimators=800,\n",
       "              num_leaves=5, subsample=0.3)</pre></div></div></div></div></div></div></div>"
      ],
      "text/plain": [
       "Pipeline(steps=[('lgbmregressor',\n",
       "                 LGBMRegressor(colsample_bytree=0.3, lambda_l1=0.1,\n",
       "                               learning_rate=0.05, max_depth=3,\n",
       "                               min_child_weight=1e-05, n_estimators=800,\n",
       "                               num_leaves=5, subsample=0.3))])"
      ]
     },
     "execution_count": 160,
     "metadata": {},
     "output_type": "execute_result"
    }
   ],
   "source": [
    "light_gbm = LGBMRegressor(n_estimators=800,learning_rate=0.05 ,max_depth=3, num_leaves=5, min_child_weight=0.00001, subsample=0.3, colsample_bytree = 0.3, lambda_l1 = 0.1)\n",
    "\n",
    "light_gbm_pipeline = make_pipeline(\n",
    "    # LogStandardScaler(),\n",
    "\n",
    "light_gbm)\n",
    "\n",
    "light_gbm_pipeline.fit(X,y)"
   ]
  },
  {
   "cell_type": "code",
   "execution_count": 99,
   "id": "5608ef85",
   "metadata": {},
   "outputs": [
    {
     "data": {
      "text/plain": [
       "[('logstandardscaler', LogStandardScaler()),\n",
       " ('lgbmregressor', LGBMRegressor())]"
      ]
     },
     "execution_count": 99,
     "metadata": {},
     "output_type": "execute_result"
    }
   ],
   "source": [
    "light_gbm_pipeline.steps"
   ]
  },
  {
   "cell_type": "code",
   "execution_count": 137,
   "id": "5ce168f0",
   "metadata": {},
   "outputs": [
    {
     "name": "stdout",
     "output_type": "stream",
     "text": [
      "[LightGBM] [Warning] lambda_l2 is set=0, reg_lambda=0.0 will be ignored. Current value: lambda_l2=0\n",
      "[LightGBM] [Warning] lambda_l2 is set=0, reg_lambda=0.0 will be ignored. Current value: lambda_l2=0\n",
      "[LightGBM] [Warning] lambda_l2 is set=0, reg_lambda=0.0 will be ignored. Current value: lambda_l2=0\n",
      "[LightGBM] [Warning] lambda_l2 is set=0, reg_lambda=0.0 will be ignored. Current value: lambda_l2=0\n",
      "[LightGBM] [Warning] lambda_l2 is set=0.1, reg_lambda=0.0 will be ignored. Current value: lambda_l2=0.1\n",
      "[LightGBM] [Warning] lambda_l2 is set=0.1, reg_lambda=0.0 will be ignored. Current value: lambda_l2=0.1\n",
      "[LightGBM] [Warning] lambda_l2 is set=0.1, reg_lambda=0.0 will be ignored. Current value: lambda_l2=0.1\n",
      "[LightGBM] [Warning] lambda_l2 is set=0.1, reg_lambda=0.0 will be ignored. Current value: lambda_l2=0.1\n",
      "[LightGBM] [Warning] lambda_l2 is set=0.1, reg_lambda=0.0 will be ignored. Current value: lambda_l2=0.1\n",
      "[LightGBM] [Warning] lambda_l2 is set=1, reg_lambda=0.0 will be ignored. Current value: lambda_l2=1\n",
      "[LightGBM] [Warning] lambda_l2 is set=1, reg_lambda=0.0 will be ignored. Current value: lambda_l2=1\n",
      "[LightGBM] [Warning] lambda_l2 is set=1, reg_lambda=0.0 will be ignored. Current value: lambda_l2=1\n",
      "[LightGBM] [Warning] lambda_l2 is set=1, reg_lambda=0.0 will be ignored. Current value: lambda_l2=1\n",
      "[LightGBM] [Warning] lambda_l2 is set=1, reg_lambda=0.0 will be ignored. Current value: lambda_l2=1\n",
      "[LightGBM] [Warning] lambda_l2 is set=10, reg_lambda=0.0 will be ignored. Current value: lambda_l2=10\n",
      "[LightGBM] [Warning] lambda_l2 is set=10, reg_lambda=0.0 will be ignored. Current value: lambda_l2=10\n",
      "[LightGBM] [Warning] lambda_l2 is set=10, reg_lambda=0.0 will be ignored. Current value: lambda_l2=10\n",
      "[LightGBM] [Warning] lambda_l2 is set=10, reg_lambda=0.0 will be ignored. Current value: lambda_l2=10\n",
      "[LightGBM] [Warning] lambda_l2 is set=10, reg_lambda=0.0 will be ignored. Current value: lambda_l2=10\n",
      "[LightGBM] [Warning] lambda_l2 is set=100, reg_lambda=0.0 will be ignored. Current value: lambda_l2=100\n",
      "[LightGBM] [Warning] lambda_l2 is set=100, reg_lambda=0.0 will be ignored. Current value: lambda_l2=100\n",
      "[LightGBM] [Warning] lambda_l2 is set=100, reg_lambda=0.0 will be ignored. Current value: lambda_l2=100\n",
      "[LightGBM] [Warning] lambda_l2 is set=100, reg_lambda=0.0 will be ignored. Current value: lambda_l2=100\n",
      "[LightGBM] [Warning] lambda_l2 is set=100, reg_lambda=0.0 will be ignored. Current value: lambda_l2=100\n",
      "[LightGBM] [Warning] lambda_l2 is set=0.1, reg_lambda=0.0 will be ignored. Current value: lambda_l2=0.1\n"
     ]
    },
    {
     "data": {
      "text/html": [
       "<style>#sk-container-id-38 {color: black;background-color: white;}#sk-container-id-38 pre{padding: 0;}#sk-container-id-38 div.sk-toggleable {background-color: white;}#sk-container-id-38 label.sk-toggleable__label {cursor: pointer;display: block;width: 100%;margin-bottom: 0;padding: 0.3em;box-sizing: border-box;text-align: center;}#sk-container-id-38 label.sk-toggleable__label-arrow:before {content: \"▸\";float: left;margin-right: 0.25em;color: #696969;}#sk-container-id-38 label.sk-toggleable__label-arrow:hover:before {color: black;}#sk-container-id-38 div.sk-estimator:hover label.sk-toggleable__label-arrow:before {color: black;}#sk-container-id-38 div.sk-toggleable__content {max-height: 0;max-width: 0;overflow: hidden;text-align: left;background-color: #f0f8ff;}#sk-container-id-38 div.sk-toggleable__content pre {margin: 0.2em;color: black;border-radius: 0.25em;background-color: #f0f8ff;}#sk-container-id-38 input.sk-toggleable__control:checked~div.sk-toggleable__content {max-height: 200px;max-width: 100%;overflow: auto;}#sk-container-id-38 input.sk-toggleable__control:checked~label.sk-toggleable__label-arrow:before {content: \"▾\";}#sk-container-id-38 div.sk-estimator input.sk-toggleable__control:checked~label.sk-toggleable__label {background-color: #d4ebff;}#sk-container-id-38 div.sk-label input.sk-toggleable__control:checked~label.sk-toggleable__label {background-color: #d4ebff;}#sk-container-id-38 input.sk-hidden--visually {border: 0;clip: rect(1px 1px 1px 1px);clip: rect(1px, 1px, 1px, 1px);height: 1px;margin: -1px;overflow: hidden;padding: 0;position: absolute;width: 1px;}#sk-container-id-38 div.sk-estimator {font-family: monospace;background-color: #f0f8ff;border: 1px dotted black;border-radius: 0.25em;box-sizing: border-box;margin-bottom: 0.5em;}#sk-container-id-38 div.sk-estimator:hover {background-color: #d4ebff;}#sk-container-id-38 div.sk-parallel-item::after {content: \"\";width: 100%;border-bottom: 1px solid gray;flex-grow: 1;}#sk-container-id-38 div.sk-label:hover label.sk-toggleable__label {background-color: #d4ebff;}#sk-container-id-38 div.sk-serial::before {content: \"\";position: absolute;border-left: 1px solid gray;box-sizing: border-box;top: 0;bottom: 0;left: 50%;z-index: 0;}#sk-container-id-38 div.sk-serial {display: flex;flex-direction: column;align-items: center;background-color: white;padding-right: 0.2em;padding-left: 0.2em;position: relative;}#sk-container-id-38 div.sk-item {position: relative;z-index: 1;}#sk-container-id-38 div.sk-parallel {display: flex;align-items: stretch;justify-content: center;background-color: white;position: relative;}#sk-container-id-38 div.sk-item::before, #sk-container-id-38 div.sk-parallel-item::before {content: \"\";position: absolute;border-left: 1px solid gray;box-sizing: border-box;top: 0;bottom: 0;left: 50%;z-index: -1;}#sk-container-id-38 div.sk-parallel-item {display: flex;flex-direction: column;z-index: 1;position: relative;background-color: white;}#sk-container-id-38 div.sk-parallel-item:first-child::after {align-self: flex-end;width: 50%;}#sk-container-id-38 div.sk-parallel-item:last-child::after {align-self: flex-start;width: 50%;}#sk-container-id-38 div.sk-parallel-item:only-child::after {width: 0;}#sk-container-id-38 div.sk-dashed-wrapped {border: 1px dashed gray;margin: 0 0.4em 0.5em 0.4em;box-sizing: border-box;padding-bottom: 0.4em;background-color: white;}#sk-container-id-38 div.sk-label label {font-family: monospace;font-weight: bold;display: inline-block;line-height: 1.2em;}#sk-container-id-38 div.sk-label-container {text-align: center;}#sk-container-id-38 div.sk-container {/* jupyter's `normalize.less` sets `[hidden] { display: none; }` but bootstrap.min.css set `[hidden] { display: none !important; }` so we also need the `!important` here to be able to override the default hidden behavior on the sphinx rendered scikit-learn.org. See: https://github.com/scikit-learn/scikit-learn/issues/21755 */display: inline-block !important;position: relative;}#sk-container-id-38 div.sk-text-repr-fallback {display: none;}</style><div id=\"sk-container-id-38\" class=\"sk-top-container\"><div class=\"sk-text-repr-fallback\"><pre>GridSearchCV(estimator=Pipeline(steps=[(&#x27;logstandardscaler&#x27;,\n",
       "                                        LogStandardScaler()),\n",
       "                                       (&#x27;lgbmregressor&#x27;,\n",
       "                                        LGBMRegressor(colsample_bytree=0.3,\n",
       "                                                      learning_rate=0.05,\n",
       "                                                      max_depth=3,\n",
       "                                                      min_child_weight=1e-05,\n",
       "                                                      n_estimators=800,\n",
       "                                                      num_leaves=5,\n",
       "                                                      subsample=0.3))]),\n",
       "             param_grid={&#x27;lgbmregressor__lambda_l2&#x27;: [0, 0.1, 1, 10, 100]})</pre><b>In a Jupyter environment, please rerun this cell to show the HTML representation or trust the notebook. <br />On GitHub, the HTML representation is unable to render, please try loading this page with nbviewer.org.</b></div><div class=\"sk-container\" hidden><div class=\"sk-item sk-dashed-wrapped\"><div class=\"sk-label-container\"><div class=\"sk-label sk-toggleable\"><input class=\"sk-toggleable__control sk-hidden--visually\" id=\"sk-estimator-id-134\" type=\"checkbox\" ><label for=\"sk-estimator-id-134\" class=\"sk-toggleable__label sk-toggleable__label-arrow\">GridSearchCV</label><div class=\"sk-toggleable__content\"><pre>GridSearchCV(estimator=Pipeline(steps=[(&#x27;logstandardscaler&#x27;,\n",
       "                                        LogStandardScaler()),\n",
       "                                       (&#x27;lgbmregressor&#x27;,\n",
       "                                        LGBMRegressor(colsample_bytree=0.3,\n",
       "                                                      learning_rate=0.05,\n",
       "                                                      max_depth=3,\n",
       "                                                      min_child_weight=1e-05,\n",
       "                                                      n_estimators=800,\n",
       "                                                      num_leaves=5,\n",
       "                                                      subsample=0.3))]),\n",
       "             param_grid={&#x27;lgbmregressor__lambda_l2&#x27;: [0, 0.1, 1, 10, 100]})</pre></div></div></div><div class=\"sk-parallel\"><div class=\"sk-parallel-item\"><div class=\"sk-item\"><div class=\"sk-label-container\"><div class=\"sk-label sk-toggleable\"><input class=\"sk-toggleable__control sk-hidden--visually\" id=\"sk-estimator-id-135\" type=\"checkbox\" ><label for=\"sk-estimator-id-135\" class=\"sk-toggleable__label sk-toggleable__label-arrow\">estimator: Pipeline</label><div class=\"sk-toggleable__content\"><pre>Pipeline(steps=[(&#x27;logstandardscaler&#x27;, LogStandardScaler()),\n",
       "                (&#x27;lgbmregressor&#x27;,\n",
       "                 LGBMRegressor(colsample_bytree=0.3, learning_rate=0.05,\n",
       "                               max_depth=3, min_child_weight=1e-05,\n",
       "                               n_estimators=800, num_leaves=5,\n",
       "                               subsample=0.3))])</pre></div></div></div><div class=\"sk-serial\"><div class=\"sk-item\"><div class=\"sk-serial\"><div class=\"sk-item\"><div class=\"sk-estimator sk-toggleable\"><input class=\"sk-toggleable__control sk-hidden--visually\" id=\"sk-estimator-id-136\" type=\"checkbox\" ><label for=\"sk-estimator-id-136\" class=\"sk-toggleable__label sk-toggleable__label-arrow\">LogStandardScaler</label><div class=\"sk-toggleable__content\"><pre>LogStandardScaler()</pre></div></div></div><div class=\"sk-item\"><div class=\"sk-estimator sk-toggleable\"><input class=\"sk-toggleable__control sk-hidden--visually\" id=\"sk-estimator-id-137\" type=\"checkbox\" ><label for=\"sk-estimator-id-137\" class=\"sk-toggleable__label sk-toggleable__label-arrow\">LGBMRegressor</label><div class=\"sk-toggleable__content\"><pre>LGBMRegressor(colsample_bytree=0.3, learning_rate=0.05, max_depth=3,\n",
       "              min_child_weight=1e-05, n_estimators=800, num_leaves=5,\n",
       "              subsample=0.3)</pre></div></div></div></div></div></div></div></div></div></div></div></div>"
      ],
      "text/plain": [
       "GridSearchCV(estimator=Pipeline(steps=[('logstandardscaler',\n",
       "                                        LogStandardScaler()),\n",
       "                                       ('lgbmregressor',\n",
       "                                        LGBMRegressor(colsample_bytree=0.3,\n",
       "                                                      learning_rate=0.05,\n",
       "                                                      max_depth=3,\n",
       "                                                      min_child_weight=1e-05,\n",
       "                                                      n_estimators=800,\n",
       "                                                      num_leaves=5,\n",
       "                                                      subsample=0.3))]),\n",
       "             param_grid={'lgbmregressor__lambda_l2': [0, 0.1, 1, 10, 100]})"
      ]
     },
     "execution_count": 137,
     "metadata": {},
     "output_type": "execute_result"
    }
   ],
   "source": [
    "params_light = {\n",
    "    # 'lgbmregressor__n_estimators' : [100,200,400,800]\n",
    "                # ,'lgbmregressor__learning_rate' : [0.01,0.05,0.1,0.2]\n",
    "            #  'lgbmregressor__max_depth':[2, 3, 5, -1],\n",
    "            # 'lgbmregressor__num_leaves': [5,11, 21, 31,],\n",
    "            # 'lgbmregressor__min_child_weight':[0.00001, 0.0001,0.001, 0.01, 0.1, 1],\n",
    "            # 'lgbmregressor__subsample':[0.3, 0.4, 0.5, 0.7, 1],\n",
    "            # 'lgbmregressor__colsample_bytree':[0.3 ,0.5, 0.7],\n",
    "            # 'lgbmregressor__lambda_l1': [0,0.1,1,10,100]\n",
    "            # 'lgbmregressor__lambda_l2': [0,0.1,1,10,100]\n",
    "                }\n",
    "light_grid = GridSearchCV(light_gbm_pipeline,params_light)\n",
    "light_grid.fit(X,y)"
   ]
  },
  {
   "cell_type": "code",
   "execution_count": 138,
   "id": "cf160ff0",
   "metadata": {},
   "outputs": [
    {
     "data": {
      "text/plain": [
       "{'lgbmregressor__lambda_l2': 0.1}"
      ]
     },
     "execution_count": 138,
     "metadata": {},
     "output_type": "execute_result"
    }
   ],
   "source": [
    "light_grid.best_params_"
   ]
  },
  {
   "cell_type": "markdown",
   "id": "85836337-15b1-4dd2-ad5d-30251f5559f8",
   "metadata": {},
   "source": [
    "## GradientBoostingRegressor"
   ]
  },
  {
   "cell_type": "code",
   "execution_count": 54,
   "id": "a03055c4-efc7-4813-997b-36453b1eba61",
   "metadata": {},
   "outputs": [],
   "source": [
    "from sklearn.ensemble import GradientBoostingRegressor"
   ]
  },
  {
   "cell_type": "code",
   "execution_count": 162,
   "id": "cca54f3a-82e9-40cf-9175-288e3d094c15",
   "metadata": {},
   "outputs": [
    {
     "data": {
      "text/html": [
       "<style>#sk-container-id-45 {color: black;background-color: white;}#sk-container-id-45 pre{padding: 0;}#sk-container-id-45 div.sk-toggleable {background-color: white;}#sk-container-id-45 label.sk-toggleable__label {cursor: pointer;display: block;width: 100%;margin-bottom: 0;padding: 0.3em;box-sizing: border-box;text-align: center;}#sk-container-id-45 label.sk-toggleable__label-arrow:before {content: \"▸\";float: left;margin-right: 0.25em;color: #696969;}#sk-container-id-45 label.sk-toggleable__label-arrow:hover:before {color: black;}#sk-container-id-45 div.sk-estimator:hover label.sk-toggleable__label-arrow:before {color: black;}#sk-container-id-45 div.sk-toggleable__content {max-height: 0;max-width: 0;overflow: hidden;text-align: left;background-color: #f0f8ff;}#sk-container-id-45 div.sk-toggleable__content pre {margin: 0.2em;color: black;border-radius: 0.25em;background-color: #f0f8ff;}#sk-container-id-45 input.sk-toggleable__control:checked~div.sk-toggleable__content {max-height: 200px;max-width: 100%;overflow: auto;}#sk-container-id-45 input.sk-toggleable__control:checked~label.sk-toggleable__label-arrow:before {content: \"▾\";}#sk-container-id-45 div.sk-estimator input.sk-toggleable__control:checked~label.sk-toggleable__label {background-color: #d4ebff;}#sk-container-id-45 div.sk-label input.sk-toggleable__control:checked~label.sk-toggleable__label {background-color: #d4ebff;}#sk-container-id-45 input.sk-hidden--visually {border: 0;clip: rect(1px 1px 1px 1px);clip: rect(1px, 1px, 1px, 1px);height: 1px;margin: -1px;overflow: hidden;padding: 0;position: absolute;width: 1px;}#sk-container-id-45 div.sk-estimator {font-family: monospace;background-color: #f0f8ff;border: 1px dotted black;border-radius: 0.25em;box-sizing: border-box;margin-bottom: 0.5em;}#sk-container-id-45 div.sk-estimator:hover {background-color: #d4ebff;}#sk-container-id-45 div.sk-parallel-item::after {content: \"\";width: 100%;border-bottom: 1px solid gray;flex-grow: 1;}#sk-container-id-45 div.sk-label:hover label.sk-toggleable__label {background-color: #d4ebff;}#sk-container-id-45 div.sk-serial::before {content: \"\";position: absolute;border-left: 1px solid gray;box-sizing: border-box;top: 0;bottom: 0;left: 50%;z-index: 0;}#sk-container-id-45 div.sk-serial {display: flex;flex-direction: column;align-items: center;background-color: white;padding-right: 0.2em;padding-left: 0.2em;position: relative;}#sk-container-id-45 div.sk-item {position: relative;z-index: 1;}#sk-container-id-45 div.sk-parallel {display: flex;align-items: stretch;justify-content: center;background-color: white;position: relative;}#sk-container-id-45 div.sk-item::before, #sk-container-id-45 div.sk-parallel-item::before {content: \"\";position: absolute;border-left: 1px solid gray;box-sizing: border-box;top: 0;bottom: 0;left: 50%;z-index: -1;}#sk-container-id-45 div.sk-parallel-item {display: flex;flex-direction: column;z-index: 1;position: relative;background-color: white;}#sk-container-id-45 div.sk-parallel-item:first-child::after {align-self: flex-end;width: 50%;}#sk-container-id-45 div.sk-parallel-item:last-child::after {align-self: flex-start;width: 50%;}#sk-container-id-45 div.sk-parallel-item:only-child::after {width: 0;}#sk-container-id-45 div.sk-dashed-wrapped {border: 1px dashed gray;margin: 0 0.4em 0.5em 0.4em;box-sizing: border-box;padding-bottom: 0.4em;background-color: white;}#sk-container-id-45 div.sk-label label {font-family: monospace;font-weight: bold;display: inline-block;line-height: 1.2em;}#sk-container-id-45 div.sk-label-container {text-align: center;}#sk-container-id-45 div.sk-container {/* jupyter's `normalize.less` sets `[hidden] { display: none; }` but bootstrap.min.css set `[hidden] { display: none !important; }` so we also need the `!important` here to be able to override the default hidden behavior on the sphinx rendered scikit-learn.org. See: https://github.com/scikit-learn/scikit-learn/issues/21755 */display: inline-block !important;position: relative;}#sk-container-id-45 div.sk-text-repr-fallback {display: none;}</style><div id=\"sk-container-id-45\" class=\"sk-top-container\"><div class=\"sk-text-repr-fallback\"><pre>GradientBoostingRegressor(learning_rate=0.05, max_features=0.4,\n",
       "                          max_leaf_nodes=30, n_estimators=800, subsample=0.8)</pre><b>In a Jupyter environment, please rerun this cell to show the HTML representation or trust the notebook. <br />On GitHub, the HTML representation is unable to render, please try loading this page with nbviewer.org.</b></div><div class=\"sk-container\" hidden><div class=\"sk-item\"><div class=\"sk-estimator sk-toggleable\"><input class=\"sk-toggleable__control sk-hidden--visually\" id=\"sk-estimator-id-177\" type=\"checkbox\" checked><label for=\"sk-estimator-id-177\" class=\"sk-toggleable__label sk-toggleable__label-arrow\">GradientBoostingRegressor</label><div class=\"sk-toggleable__content\"><pre>GradientBoostingRegressor(learning_rate=0.05, max_features=0.4,\n",
       "                          max_leaf_nodes=30, n_estimators=800, subsample=0.8)</pre></div></div></div></div></div>"
      ],
      "text/plain": [
       "GradientBoostingRegressor(learning_rate=0.05, max_features=0.4,\n",
       "                          max_leaf_nodes=30, n_estimators=800, subsample=0.8)"
      ]
     },
     "execution_count": 162,
     "metadata": {},
     "output_type": "execute_result"
    }
   ],
   "source": [
    "gbr = GradientBoostingRegressor(n_estimators=800, learning_rate=0.05, max_leaf_nodes=30, max_features=0.4, max_depth=3, subsample=0.8)\n",
    "\n",
    "gbr_pipeline = make_pipeline(\n",
    "    # LogStandardScaler(),\n",
    "    gbr)\n",
    "\n",
    "gbr.fit(X,y)"
   ]
  },
  {
   "cell_type": "code",
   "execution_count": 87,
   "id": "abc63e53",
   "metadata": {},
   "outputs": [
    {
     "data": {
      "text/html": [
       "<style>#sk-container-id-16 {color: black;background-color: white;}#sk-container-id-16 pre{padding: 0;}#sk-container-id-16 div.sk-toggleable {background-color: white;}#sk-container-id-16 label.sk-toggleable__label {cursor: pointer;display: block;width: 100%;margin-bottom: 0;padding: 0.3em;box-sizing: border-box;text-align: center;}#sk-container-id-16 label.sk-toggleable__label-arrow:before {content: \"▸\";float: left;margin-right: 0.25em;color: #696969;}#sk-container-id-16 label.sk-toggleable__label-arrow:hover:before {color: black;}#sk-container-id-16 div.sk-estimator:hover label.sk-toggleable__label-arrow:before {color: black;}#sk-container-id-16 div.sk-toggleable__content {max-height: 0;max-width: 0;overflow: hidden;text-align: left;background-color: #f0f8ff;}#sk-container-id-16 div.sk-toggleable__content pre {margin: 0.2em;color: black;border-radius: 0.25em;background-color: #f0f8ff;}#sk-container-id-16 input.sk-toggleable__control:checked~div.sk-toggleable__content {max-height: 200px;max-width: 100%;overflow: auto;}#sk-container-id-16 input.sk-toggleable__control:checked~label.sk-toggleable__label-arrow:before {content: \"▾\";}#sk-container-id-16 div.sk-estimator input.sk-toggleable__control:checked~label.sk-toggleable__label {background-color: #d4ebff;}#sk-container-id-16 div.sk-label input.sk-toggleable__control:checked~label.sk-toggleable__label {background-color: #d4ebff;}#sk-container-id-16 input.sk-hidden--visually {border: 0;clip: rect(1px 1px 1px 1px);clip: rect(1px, 1px, 1px, 1px);height: 1px;margin: -1px;overflow: hidden;padding: 0;position: absolute;width: 1px;}#sk-container-id-16 div.sk-estimator {font-family: monospace;background-color: #f0f8ff;border: 1px dotted black;border-radius: 0.25em;box-sizing: border-box;margin-bottom: 0.5em;}#sk-container-id-16 div.sk-estimator:hover {background-color: #d4ebff;}#sk-container-id-16 div.sk-parallel-item::after {content: \"\";width: 100%;border-bottom: 1px solid gray;flex-grow: 1;}#sk-container-id-16 div.sk-label:hover label.sk-toggleable__label {background-color: #d4ebff;}#sk-container-id-16 div.sk-serial::before {content: \"\";position: absolute;border-left: 1px solid gray;box-sizing: border-box;top: 0;bottom: 0;left: 50%;z-index: 0;}#sk-container-id-16 div.sk-serial {display: flex;flex-direction: column;align-items: center;background-color: white;padding-right: 0.2em;padding-left: 0.2em;position: relative;}#sk-container-id-16 div.sk-item {position: relative;z-index: 1;}#sk-container-id-16 div.sk-parallel {display: flex;align-items: stretch;justify-content: center;background-color: white;position: relative;}#sk-container-id-16 div.sk-item::before, #sk-container-id-16 div.sk-parallel-item::before {content: \"\";position: absolute;border-left: 1px solid gray;box-sizing: border-box;top: 0;bottom: 0;left: 50%;z-index: -1;}#sk-container-id-16 div.sk-parallel-item {display: flex;flex-direction: column;z-index: 1;position: relative;background-color: white;}#sk-container-id-16 div.sk-parallel-item:first-child::after {align-self: flex-end;width: 50%;}#sk-container-id-16 div.sk-parallel-item:last-child::after {align-self: flex-start;width: 50%;}#sk-container-id-16 div.sk-parallel-item:only-child::after {width: 0;}#sk-container-id-16 div.sk-dashed-wrapped {border: 1px dashed gray;margin: 0 0.4em 0.5em 0.4em;box-sizing: border-box;padding-bottom: 0.4em;background-color: white;}#sk-container-id-16 div.sk-label label {font-family: monospace;font-weight: bold;display: inline-block;line-height: 1.2em;}#sk-container-id-16 div.sk-label-container {text-align: center;}#sk-container-id-16 div.sk-container {/* jupyter's `normalize.less` sets `[hidden] { display: none; }` but bootstrap.min.css set `[hidden] { display: none !important; }` so we also need the `!important` here to be able to override the default hidden behavior on the sphinx rendered scikit-learn.org. See: https://github.com/scikit-learn/scikit-learn/issues/21755 */display: inline-block !important;position: relative;}#sk-container-id-16 div.sk-text-repr-fallback {display: none;}</style><div id=\"sk-container-id-16\" class=\"sk-top-container\"><div class=\"sk-text-repr-fallback\"><pre>GridSearchCV(estimator=Pipeline(steps=[(&#x27;logstandardscaler&#x27;,\n",
       "                                        LogStandardScaler()),\n",
       "                                       (&#x27;gradientboostingregressor&#x27;,\n",
       "                                        GradientBoostingRegressor(learning_rate=0.05,\n",
       "                                                                  max_features=0.4,\n",
       "                                                                  max_leaf_nodes=30,\n",
       "                                                                  n_estimators=800))]),\n",
       "             param_grid={&#x27;gradientboostingregressor__subsample&#x27;: [0.5, 0.7, 0.8,\n",
       "                                                                  0.9, 1]})</pre><b>In a Jupyter environment, please rerun this cell to show the HTML representation or trust the notebook. <br />On GitHub, the HTML representation is unable to render, please try loading this page with nbviewer.org.</b></div><div class=\"sk-container\" hidden><div class=\"sk-item sk-dashed-wrapped\"><div class=\"sk-label-container\"><div class=\"sk-label sk-toggleable\"><input class=\"sk-toggleable__control sk-hidden--visually\" id=\"sk-estimator-id-50\" type=\"checkbox\" ><label for=\"sk-estimator-id-50\" class=\"sk-toggleable__label sk-toggleable__label-arrow\">GridSearchCV</label><div class=\"sk-toggleable__content\"><pre>GridSearchCV(estimator=Pipeline(steps=[(&#x27;logstandardscaler&#x27;,\n",
       "                                        LogStandardScaler()),\n",
       "                                       (&#x27;gradientboostingregressor&#x27;,\n",
       "                                        GradientBoostingRegressor(learning_rate=0.05,\n",
       "                                                                  max_features=0.4,\n",
       "                                                                  max_leaf_nodes=30,\n",
       "                                                                  n_estimators=800))]),\n",
       "             param_grid={&#x27;gradientboostingregressor__subsample&#x27;: [0.5, 0.7, 0.8,\n",
       "                                                                  0.9, 1]})</pre></div></div></div><div class=\"sk-parallel\"><div class=\"sk-parallel-item\"><div class=\"sk-item\"><div class=\"sk-label-container\"><div class=\"sk-label sk-toggleable\"><input class=\"sk-toggleable__control sk-hidden--visually\" id=\"sk-estimator-id-51\" type=\"checkbox\" ><label for=\"sk-estimator-id-51\" class=\"sk-toggleable__label sk-toggleable__label-arrow\">estimator: Pipeline</label><div class=\"sk-toggleable__content\"><pre>Pipeline(steps=[(&#x27;logstandardscaler&#x27;, LogStandardScaler()),\n",
       "                (&#x27;gradientboostingregressor&#x27;,\n",
       "                 GradientBoostingRegressor(learning_rate=0.05, max_features=0.4,\n",
       "                                           max_leaf_nodes=30,\n",
       "                                           n_estimators=800))])</pre></div></div></div><div class=\"sk-serial\"><div class=\"sk-item\"><div class=\"sk-serial\"><div class=\"sk-item\"><div class=\"sk-estimator sk-toggleable\"><input class=\"sk-toggleable__control sk-hidden--visually\" id=\"sk-estimator-id-52\" type=\"checkbox\" ><label for=\"sk-estimator-id-52\" class=\"sk-toggleable__label sk-toggleable__label-arrow\">LogStandardScaler</label><div class=\"sk-toggleable__content\"><pre>LogStandardScaler()</pre></div></div></div><div class=\"sk-item\"><div class=\"sk-estimator sk-toggleable\"><input class=\"sk-toggleable__control sk-hidden--visually\" id=\"sk-estimator-id-53\" type=\"checkbox\" ><label for=\"sk-estimator-id-53\" class=\"sk-toggleable__label sk-toggleable__label-arrow\">GradientBoostingRegressor</label><div class=\"sk-toggleable__content\"><pre>GradientBoostingRegressor(learning_rate=0.05, max_features=0.4,\n",
       "                          max_leaf_nodes=30, n_estimators=800)</pre></div></div></div></div></div></div></div></div></div></div></div></div>"
      ],
      "text/plain": [
       "GridSearchCV(estimator=Pipeline(steps=[('logstandardscaler',\n",
       "                                        LogStandardScaler()),\n",
       "                                       ('gradientboostingregressor',\n",
       "                                        GradientBoostingRegressor(learning_rate=0.05,\n",
       "                                                                  max_features=0.4,\n",
       "                                                                  max_leaf_nodes=30,\n",
       "                                                                  n_estimators=800))]),\n",
       "             param_grid={'gradientboostingregressor__subsample': [0.5, 0.7, 0.8,\n",
       "                                                                  0.9, 1]})"
      ]
     },
     "execution_count": 87,
     "metadata": {},
     "output_type": "execute_result"
    }
   ],
   "source": [
    "params_gbr = {\n",
    "    # 'gradientboostingregressor__n_estimators' : [100,200,400,800]\n",
    "                # ,'gradientboostingregressor__learning_rate' : [0.01,0.05,0.1,0.2]\n",
    "                ##'gradientboostingregressor__min_samples_split':[2,10,20,50]\n",
    "                ## 'gradientboostingregressor__min_weight_fraction_leaf':[0.0, 0.0025, 0.005, 0.0075, 0.01, 0.05],\n",
    "        ##    'gradientboostingregressor__min_samples_leaf':[1,2,4,6,8,10,20,30],\n",
    "        ##   'gradientboostingregressor__min_impurity_decrease':[0.0, 0.01, 0.05, 0.10, 0.15, 0.2],\n",
    "        #    'gradientboostingregressor__max_leaf_nodes':[10, 15, 20, 25, 30, 35, 40, 45, 50, None],\n",
    "        #    'gradientboostingregressor__max_features':[0.8, 0.7, 0.6, 0.5, 0.4, 1],\n",
    "            #  'gradientboostingregressor__max_depth':[2, 3, 5],\n",
    "            # 'gradientboostingregressor__subsample':[0.5, 0.7, 0.8, 0.9, 1],\n",
    "                }\n",
    "gbr_grid = GridSearchCV(gbr_pipeline,params_gbr)\n",
    "gbr_grid.fit(X,y)\n"
   ]
  },
  {
   "cell_type": "code",
   "execution_count": 88,
   "id": "6ed02a99",
   "metadata": {},
   "outputs": [
    {
     "data": {
      "text/plain": [
       "{'gradientboostingregressor__subsample': 0.8}"
      ]
     },
     "execution_count": 88,
     "metadata": {},
     "output_type": "execute_result"
    }
   ],
   "source": [
    "gbr_grid.best_params_"
   ]
  },
  {
   "cell_type": "markdown",
   "id": "79cfef73-f8b4-4817-b439-64c9b8d5bff8",
   "metadata": {
    "tags": []
   },
   "source": [
    "## Stochastic Gradient Descent Regression"
   ]
  },
  {
   "cell_type": "code",
   "execution_count": 69,
   "id": "5ce78dac-5539-409b-b5e6-9c4b53a7bd7c",
   "metadata": {},
   "outputs": [],
   "source": [
    "from sklearn.linear_model import SGDRegressor"
   ]
  },
  {
   "cell_type": "code",
   "execution_count": 70,
   "id": "2d6899c9-5c24-42b9-8d6f-37050d697b36",
   "metadata": {},
   "outputs": [
    {
     "data": {
      "text/plain": [
       "Pipeline(steps=[('logstandardscaler', LogStandardScaler()),\n",
       "                ('sgdregressor', SGDRegressor())])"
      ]
     },
     "execution_count": 70,
     "metadata": {},
     "output_type": "execute_result"
    }
   ],
   "source": [
    "SGDR = SGDRegressor()\n",
    "\n",
    "SGDR_pipeline = make_pipeline(LogStandardScaler(),SGDR)\n",
    "\n",
    "SGDR_pipeline.fit(X,y)"
   ]
  },
  {
   "cell_type": "markdown",
   "id": "fe006443-62da-47cb-a86f-88f8afe86514",
   "metadata": {},
   "source": [
    "## from sklearn.svm import SVR\n",
    "Support Vector Machine"
   ]
  },
  {
   "cell_type": "code",
   "execution_count": 71,
   "id": "2d5f06da-5993-46f5-8bed-faefca0f4e58",
   "metadata": {},
   "outputs": [],
   "source": [
    "from sklearn.svm import SVR"
   ]
  },
  {
   "cell_type": "code",
   "execution_count": 72,
   "id": "4bfe9a4c-49dc-4f0d-92b8-f7a4b67da8c4",
   "metadata": {},
   "outputs": [
    {
     "data": {
      "text/plain": [
       "Pipeline(steps=[('logstandardscaler', LogStandardScaler()), ('svr', SVR())])"
      ]
     },
     "execution_count": 72,
     "metadata": {},
     "output_type": "execute_result"
    }
   ],
   "source": [
    "svr = SVR()\n",
    "\n",
    "svr_pipeline = make_pipeline(LogStandardScaler(),svr)\n",
    "\n",
    "svr_pipeline.fit(X,y)"
   ]
  },
  {
   "cell_type": "markdown",
   "id": "c709d868-ce23-4d56-96c0-8a7383d3510c",
   "metadata": {},
   "source": [
    "## from sklearn.linear_model import BayesianRidge"
   ]
  },
  {
   "cell_type": "code",
   "execution_count": 164,
   "id": "849570f6-8fd2-43fa-8276-d1cc8818cc87",
   "metadata": {},
   "outputs": [],
   "source": [
    "from sklearn.linear_model import BayesianRidge"
   ]
  },
  {
   "cell_type": "code",
   "execution_count": 171,
   "id": "643ec142-a9dd-48de-b4a5-d7ba42218f07",
   "metadata": {},
   "outputs": [
    {
     "data": {
      "text/html": [
       "<style>#sk-container-id-49 {color: black;background-color: white;}#sk-container-id-49 pre{padding: 0;}#sk-container-id-49 div.sk-toggleable {background-color: white;}#sk-container-id-49 label.sk-toggleable__label {cursor: pointer;display: block;width: 100%;margin-bottom: 0;padding: 0.3em;box-sizing: border-box;text-align: center;}#sk-container-id-49 label.sk-toggleable__label-arrow:before {content: \"▸\";float: left;margin-right: 0.25em;color: #696969;}#sk-container-id-49 label.sk-toggleable__label-arrow:hover:before {color: black;}#sk-container-id-49 div.sk-estimator:hover label.sk-toggleable__label-arrow:before {color: black;}#sk-container-id-49 div.sk-toggleable__content {max-height: 0;max-width: 0;overflow: hidden;text-align: left;background-color: #f0f8ff;}#sk-container-id-49 div.sk-toggleable__content pre {margin: 0.2em;color: black;border-radius: 0.25em;background-color: #f0f8ff;}#sk-container-id-49 input.sk-toggleable__control:checked~div.sk-toggleable__content {max-height: 200px;max-width: 100%;overflow: auto;}#sk-container-id-49 input.sk-toggleable__control:checked~label.sk-toggleable__label-arrow:before {content: \"▾\";}#sk-container-id-49 div.sk-estimator input.sk-toggleable__control:checked~label.sk-toggleable__label {background-color: #d4ebff;}#sk-container-id-49 div.sk-label input.sk-toggleable__control:checked~label.sk-toggleable__label {background-color: #d4ebff;}#sk-container-id-49 input.sk-hidden--visually {border: 0;clip: rect(1px 1px 1px 1px);clip: rect(1px, 1px, 1px, 1px);height: 1px;margin: -1px;overflow: hidden;padding: 0;position: absolute;width: 1px;}#sk-container-id-49 div.sk-estimator {font-family: monospace;background-color: #f0f8ff;border: 1px dotted black;border-radius: 0.25em;box-sizing: border-box;margin-bottom: 0.5em;}#sk-container-id-49 div.sk-estimator:hover {background-color: #d4ebff;}#sk-container-id-49 div.sk-parallel-item::after {content: \"\";width: 100%;border-bottom: 1px solid gray;flex-grow: 1;}#sk-container-id-49 div.sk-label:hover label.sk-toggleable__label {background-color: #d4ebff;}#sk-container-id-49 div.sk-serial::before {content: \"\";position: absolute;border-left: 1px solid gray;box-sizing: border-box;top: 0;bottom: 0;left: 50%;z-index: 0;}#sk-container-id-49 div.sk-serial {display: flex;flex-direction: column;align-items: center;background-color: white;padding-right: 0.2em;padding-left: 0.2em;position: relative;}#sk-container-id-49 div.sk-item {position: relative;z-index: 1;}#sk-container-id-49 div.sk-parallel {display: flex;align-items: stretch;justify-content: center;background-color: white;position: relative;}#sk-container-id-49 div.sk-item::before, #sk-container-id-49 div.sk-parallel-item::before {content: \"\";position: absolute;border-left: 1px solid gray;box-sizing: border-box;top: 0;bottom: 0;left: 50%;z-index: -1;}#sk-container-id-49 div.sk-parallel-item {display: flex;flex-direction: column;z-index: 1;position: relative;background-color: white;}#sk-container-id-49 div.sk-parallel-item:first-child::after {align-self: flex-end;width: 50%;}#sk-container-id-49 div.sk-parallel-item:last-child::after {align-self: flex-start;width: 50%;}#sk-container-id-49 div.sk-parallel-item:only-child::after {width: 0;}#sk-container-id-49 div.sk-dashed-wrapped {border: 1px dashed gray;margin: 0 0.4em 0.5em 0.4em;box-sizing: border-box;padding-bottom: 0.4em;background-color: white;}#sk-container-id-49 div.sk-label label {font-family: monospace;font-weight: bold;display: inline-block;line-height: 1.2em;}#sk-container-id-49 div.sk-label-container {text-align: center;}#sk-container-id-49 div.sk-container {/* jupyter's `normalize.less` sets `[hidden] { display: none; }` but bootstrap.min.css set `[hidden] { display: none !important; }` so we also need the `!important` here to be able to override the default hidden behavior on the sphinx rendered scikit-learn.org. See: https://github.com/scikit-learn/scikit-learn/issues/21755 */display: inline-block !important;position: relative;}#sk-container-id-49 div.sk-text-repr-fallback {display: none;}</style><div id=\"sk-container-id-49\" class=\"sk-top-container\"><div class=\"sk-text-repr-fallback\"><pre>Pipeline(steps=[(&#x27;logstandardscaler&#x27;, LogStandardScaler()),\n",
       "                (&#x27;bayesianridge&#x27;, BayesianRidge())])</pre><b>In a Jupyter environment, please rerun this cell to show the HTML representation or trust the notebook. <br />On GitHub, the HTML representation is unable to render, please try loading this page with nbviewer.org.</b></div><div class=\"sk-container\" hidden><div class=\"sk-item sk-dashed-wrapped\"><div class=\"sk-label-container\"><div class=\"sk-label sk-toggleable\"><input class=\"sk-toggleable__control sk-hidden--visually\" id=\"sk-estimator-id-186\" type=\"checkbox\" ><label for=\"sk-estimator-id-186\" class=\"sk-toggleable__label sk-toggleable__label-arrow\">Pipeline</label><div class=\"sk-toggleable__content\"><pre>Pipeline(steps=[(&#x27;logstandardscaler&#x27;, LogStandardScaler()),\n",
       "                (&#x27;bayesianridge&#x27;, BayesianRidge())])</pre></div></div></div><div class=\"sk-serial\"><div class=\"sk-item\"><div class=\"sk-estimator sk-toggleable\"><input class=\"sk-toggleable__control sk-hidden--visually\" id=\"sk-estimator-id-187\" type=\"checkbox\" ><label for=\"sk-estimator-id-187\" class=\"sk-toggleable__label sk-toggleable__label-arrow\">LogStandardScaler</label><div class=\"sk-toggleable__content\"><pre>LogStandardScaler()</pre></div></div></div><div class=\"sk-item\"><div class=\"sk-estimator sk-toggleable\"><input class=\"sk-toggleable__control sk-hidden--visually\" id=\"sk-estimator-id-188\" type=\"checkbox\" ><label for=\"sk-estimator-id-188\" class=\"sk-toggleable__label sk-toggleable__label-arrow\">BayesianRidge</label><div class=\"sk-toggleable__content\"><pre>BayesianRidge()</pre></div></div></div></div></div></div></div>"
      ],
      "text/plain": [
       "Pipeline(steps=[('logstandardscaler', LogStandardScaler()),\n",
       "                ('bayesianridge', BayesianRidge())])"
      ]
     },
     "execution_count": 171,
     "metadata": {},
     "output_type": "execute_result"
    }
   ],
   "source": [
    "bayesianr = BayesianRidge()\n",
    "\n",
    "bayesianr_pipeline = make_pipeline(\n",
    "    # PolynomialFeaturesTransformer(),\n",
    "    LogStandardScaler(),\n",
    "    bayesianr)\n",
    "\n",
    "bayesianr_pipeline.fit(X,y)"
   ]
  },
  {
   "cell_type": "code",
   "execution_count": 177,
   "id": "cc404492",
   "metadata": {},
   "outputs": [
    {
     "ename": "SyntaxError",
     "evalue": "invalid syntax (17819437.py, line 1)",
     "output_type": "error",
     "traceback": [
      "\u001b[1;36m  File \u001b[1;32m\"C:\\Users\\Yichen\\AppData\\Local\\Temp\\ipykernel_13484\\17819437.py\"\u001b[1;36m, line \u001b[1;32m1\u001b[0m\n\u001b[1;33m    bayesianr_pipeline['bayesianridge'].\u001b[0m\n\u001b[1;37m                                        ^\u001b[0m\n\u001b[1;31mSyntaxError\u001b[0m\u001b[1;31m:\u001b[0m invalid syntax\n"
     ]
    }
   ],
   "source": [
    "bayesianr_pipeline['bayesianridge']."
   ]
  },
  {
   "cell_type": "code",
   "execution_count": 178,
   "id": "57f2f958",
   "metadata": {},
   "outputs": [
    {
     "data": {
      "text/plain": [
       "96.69951275089076"
      ]
     },
     "execution_count": 178,
     "metadata": {},
     "output_type": "execute_result"
    }
   ],
   "source": [
    "bayesianr.alpha_"
   ]
  },
  {
   "cell_type": "code",
   "execution_count": 179,
   "id": "f0d275e5",
   "metadata": {},
   "outputs": [
    {
     "data": {
      "text/plain": [
       "array([ 7.45914156e-03,  3.77056559e-02,  4.06458071e-02,  3.61110875e-02,\n",
       "        2.30057834e-02,  1.86658576e-02,  5.49125432e-03,  1.94884647e-02,\n",
       "       -1.21363738e-03, -1.00124104e-02,  1.19653052e-02,  3.90666688e-02,\n",
       "        3.06096554e-03, -2.23287602e-04,  4.87727344e-02,  1.29637398e-02,\n",
       "        1.37571865e-03,  1.58681078e-02,  1.35063409e-02, -2.33553989e-03,\n",
       "       -9.45272336e-03,  1.12833791e-02,  1.35021158e-02,  1.36015689e-03,\n",
       "        2.76778728e-02,  1.29687363e-02,  9.11980620e-03,  4.19442535e-03,\n",
       "        2.90634776e-03,  2.16097195e-03,  1.11441898e-02,  5.14792286e-03,\n",
       "       -3.84483158e-03, -7.49958532e-04, -3.40519743e-03, -9.63667953e-03,\n",
       "        2.02211566e-03, -3.31888884e-03,  5.01327087e-02, -1.46343493e-02,\n",
       "        9.39183552e-03, -5.84109579e-04,  4.44644181e-03, -1.54130682e-03,\n",
       "        1.50018742e-03,  1.50018742e-03,  1.16363757e-04, -7.33423031e-03,\n",
       "        3.21245639e-03,  7.20281577e-07,  5.75158288e-03, -6.15518283e-03,\n",
       "       -9.10986724e-04, -4.47779764e-03, -5.52403979e-05,  6.73162291e-04,\n",
       "        5.28519789e-03, -3.30535717e-03, -2.37671905e-03, -6.37397777e-04,\n",
       "       -1.28934991e-03, -3.12040037e-02,  1.05979504e-02,  2.09071846e-03,\n",
       "        6.52453239e-03, -7.00014678e-03, -2.60629491e-03,  2.60629491e-03,\n",
       "       -1.39701481e-03,  4.89996939e-03, -2.29658295e-03, -2.90489615e-03,\n",
       "        1.78944677e-03,  1.60736797e-03,  1.94859190e-03, -3.91110131e-03,\n",
       "        3.16562411e-03, -2.48261807e-03,  1.99675514e-03,  2.79300560e-03,\n",
       "       -2.79300560e-03,  2.66989828e-03,  8.10615504e-03, -6.72474467e-03,\n",
       "       -3.81760738e-03, -3.63152777e-03, -9.33539095e-04,  4.04244276e-03,\n",
       "       -6.64419860e-03,  1.32626379e-03,  2.72992301e-03,  4.57562856e-03,\n",
       "        5.63400272e-03,  2.76042006e-03, -2.13420982e-03,  1.88833860e-02,\n",
       "       -1.85928540e-02, -6.06603556e-03, -3.58639903e-03, -8.78534358e-03,\n",
       "       -8.94989378e-03, -9.94228012e-03,  2.28379096e-03, -7.63617135e-03,\n",
       "        1.82789830e-02,  1.89475766e-02, -8.29122752e-03,  1.93241032e-03,\n",
       "       -4.95069167e-03,  1.80351204e-04,  8.16925809e-03,  1.98143932e-02,\n",
       "        1.50951956e-03,  3.14367443e-03, -9.74259750e-03, -4.60253697e-03,\n",
       "        1.00049500e-02, -7.92538187e-04,  3.17604955e-03, -8.45673315e-03,\n",
       "       -1.64285668e-03, -1.65389858e-03,  1.01351433e-03, -2.17908384e-03,\n",
       "        5.08546573e-03,  3.97717367e-03,  6.89007102e-03, -1.96070959e-02,\n",
       "       -6.37969229e-03, -1.62835809e-03,  2.94514461e-03,  4.41174944e-03,\n",
       "       -2.41322526e-03, -1.28934991e-03, -2.74204087e-03, -2.17984941e-03,\n",
       "        1.54760681e-03,  8.29945706e-03, -2.32463876e-03,  4.97067765e-04,\n",
       "        3.89379963e-03, -2.15060143e-03,  7.90766506e-04,  1.80110420e-03,\n",
       "        7.10201766e-04, -2.05750021e-03, -2.66686449e-03,  1.42858385e-03,\n",
       "        2.39582304e-03,  7.60508596e-03, -4.02120932e-02,  1.59505859e-03,\n",
       "        5.74198029e-03,  2.07519129e-03, -8.56691950e-05, -1.15520106e-03,\n",
       "        7.72409977e-04,  1.08384971e-02,  1.19454727e-03, -1.64601770e-03,\n",
       "       -7.59921008e-03,  1.56280055e-02, -2.23325736e-03, -3.09491203e-05,\n",
       "       -3.67022967e-03, -2.24848077e-04,  4.85726664e-03, -3.20550341e-04,\n",
       "        1.31029772e-03,  1.64955426e-03,  3.52967175e-04, -1.00609797e-02,\n",
       "        1.14985353e-03, -2.53985310e-03,  1.65066982e-03,  2.70780072e-03,\n",
       "       -4.97206761e-03, -2.23325736e-03,  3.83228277e-03, -1.31435456e-03,\n",
       "        1.39701420e-03, -1.39939323e-03, -1.98917697e-03, -3.79537828e-03,\n",
       "       -2.17121654e-03, -1.27551617e-03,  2.07729212e-03,  5.05362356e-03,\n",
       "       -2.67913299e-03, -4.65848939e-03, -4.65852595e-04, -6.60774976e-04,\n",
       "        3.96726264e-03, -1.54201497e-03,  5.62064200e-03,  6.07640087e-03,\n",
       "        1.18448504e-03, -4.51640458e-03,  4.12768555e-03, -3.39252398e-03,\n",
       "       -1.29414448e-03,  6.35951374e-04,  1.98566088e-03, -7.86999274e-03,\n",
       "       -9.95929499e-04,  5.69136763e-03, -5.99406319e-04,  4.33506653e-03,\n",
       "       -3.84357615e-03,  1.37383306e-02,  5.03463886e-04, -2.51868225e-03,\n",
       "       -6.09729647e-03,  2.61980871e-03, -4.80682183e-03,  2.35244114e-04,\n",
       "        4.59014635e-03,  6.61408185e-04,  2.61980871e-03,  2.03374386e-05,\n",
       "        1.33104144e-02, -3.65089913e-04, -7.09413756e-03, -2.35434716e-03,\n",
       "        5.27599225e-04, -1.50932116e-03,  6.50992913e-03, -7.31146583e-03,\n",
       "       -2.62788506e-03, -1.59610214e-03,  2.61980871e-03,  4.31408082e-03,\n",
       "       -4.94151357e-03,  2.40260742e-03, -1.11389849e-03, -1.05294915e-03,\n",
       "       -1.05446714e-04,  2.77136539e-03, -6.37934356e-04, -8.21012082e-04,\n",
       "        8.18308425e-03, -1.07298555e-02, -1.07831558e-03,  3.00932327e-04,\n",
       "        8.27902635e-03, -6.39676402e-04, -1.91055705e-03, -1.46487879e-03,\n",
       "       -7.19691303e-03, -6.72453365e-03,  6.72933346e-03,  2.06406186e-03,\n",
       "        1.79899030e-03, -1.41283360e-03, -2.16572603e-03, -2.34400435e-03,\n",
       "        1.14294401e-03,  1.78973273e-02, -4.05249915e-04, -3.07077760e-03,\n",
       "       -5.89587145e-03, -3.92814129e-04, -1.26540652e-02, -1.27759174e-03,\n",
       "       -4.30478634e-03, -6.21515434e-03, -5.32680705e-03,  9.41305975e-03,\n",
       "        2.25664444e-03, -2.87200310e-03,  1.22782304e-03,  6.64980597e-04,\n",
       "        1.56144580e-03, -2.23692325e-03, -3.97858224e-03, -1.61280922e-03,\n",
       "       -1.44959595e-03,  1.26493447e-03, -2.25288266e-03,  1.68111033e-03,\n",
       "        1.50096675e-03,  2.30136870e-03,  3.09436756e-04, -2.98259276e-03,\n",
       "        1.50096675e-03,  1.40273121e-02, -5.75950155e-03,  2.87757024e-03,\n",
       "        1.82388138e-04, -7.93640832e-04,  1.50096675e-03, -7.49401029e-03,\n",
       "       -5.26996176e-03,  5.66936850e-04,  1.48290285e-03,  2.05482492e-03,\n",
       "        1.50096675e-03, -1.70215726e-03, -2.89562613e-03,  2.98748032e-03,\n",
       "        5.36050734e-03, -2.42461546e-03,  3.15122361e-03, -3.63802176e-03,\n",
       "       -7.03680387e-04, -4.80118689e-03,  1.31508544e-03, -1.89256992e-03,\n",
       "        2.03315468e-03,  1.24798583e-03, -3.43546591e-03,  2.14557614e-03,\n",
       "       -4.23606556e-04, -1.55974643e-03, -1.69978937e-03,  2.22177041e-03,\n",
       "        2.96534110e-03,  7.04689588e-03, -1.63370434e-03,  5.34235858e-04,\n",
       "        7.74722876e-03,  2.16495191e-03, -7.87608122e-03, -1.10520695e-02,\n",
       "        2.80784296e-03,  1.32264754e-03, -4.30357327e-03,  7.51921702e-03,\n",
       "        5.50820458e-04])"
      ]
     },
     "execution_count": 179,
     "metadata": {},
     "output_type": "execute_result"
    }
   ],
   "source": [
    "bayesianr.coef_"
   ]
  },
  {
   "cell_type": "markdown",
   "id": "0e748b41-cf8b-445d-bc7f-f48d3a9a53fb",
   "metadata": {},
   "source": [
    "## from sklearn.kernel_ridge import KernelRidge"
   ]
  },
  {
   "cell_type": "code",
   "execution_count": 75,
   "id": "7c087125-08f8-48b1-8f37-47ce4dc2e76e",
   "metadata": {},
   "outputs": [],
   "source": [
    "from sklearn.kernel_ridge import KernelRidge"
   ]
  },
  {
   "cell_type": "code",
   "execution_count": 76,
   "id": "7d021544-1b14-49d9-a896-2e0c0cb43c22",
   "metadata": {},
   "outputs": [
    {
     "data": {
      "text/plain": [
       "Pipeline(steps=[('logstandardscaler', LogStandardScaler()),\n",
       "                ('kernelridge', KernelRidge())])"
      ]
     },
     "execution_count": 76,
     "metadata": {},
     "output_type": "execute_result"
    }
   ],
   "source": [
    "kernelr = KernelRidge()\n",
    "\n",
    "kernelr_pipeline = make_pipeline(LogStandardScaler(),kernelr)\n",
    "\n",
    "kernelr_pipeline.fit(X,y)"
   ]
  },
  {
   "cell_type": "markdown",
   "id": "c66b8039",
   "metadata": {},
   "source": [
    "## Catboost"
   ]
  },
  {
   "cell_type": "code",
   "execution_count": 196,
   "id": "fd95d541",
   "metadata": {},
   "outputs": [],
   "source": [
    "from catboost import CatBoostRegressor"
   ]
  },
  {
   "cell_type": "code",
   "execution_count": 225,
   "id": "aebe4723",
   "metadata": {},
   "outputs": [],
   "source": [
    "catboost_reg = CatBoostRegressor(n_estimators=400,learning_rate=0.1,logging_level='Silent', subsample= 0.7)"
   ]
  },
  {
   "cell_type": "code",
   "execution_count": 224,
   "id": "9bb8feb4",
   "metadata": {},
   "outputs": [
    {
     "ename": "ValueError",
     "evalue": "\nAll the 15 fits failed.\nIt is very likely that your model is misconfigured.\nYou can try to debug the error by setting error_score='raise'.\n\nBelow are more details about the failures:\n--------------------------------------------------------------------------------\n5 fits failed with the following error:\nTraceback (most recent call last):\n  File \"C:\\Users\\Yichen\\AppData\\Roaming\\Python\\Python39\\site-packages\\sklearn\\model_selection\\_validation.py\", line 686, in _fit_and_score\n    estimator.fit(X_train, y_train, **fit_params)\n  File \"C:\\Users\\Yichen\\AppData\\Roaming\\Python\\Python39\\site-packages\\catboost\\core.py\", line 5730, in fit\n    return self._fit(X, y, cat_features, text_features, embedding_features, None, sample_weight, None, None, None, None, baseline,\n  File \"C:\\Users\\Yichen\\AppData\\Roaming\\Python\\Python39\\site-packages\\catboost\\core.py\", line 2339, in _fit\n    train_params = self._prepare_train_params(\n  File \"C:\\Users\\Yichen\\AppData\\Roaming\\Python\\Python39\\site-packages\\catboost\\core.py\", line 2266, in _prepare_train_params\n    _check_train_params(params)\n  File \"_catboost.pyx\", line 6080, in _catboost._check_train_params\n  File \"_catboost.pyx\", line 6099, in _catboost._check_train_params\n_catboost.CatBoostError: C:/Program Files (x86)/Go Agent/pipelines/BuildMaster/catboost.git/catboost/private/libs/options/plain_options_helper.cpp:511: Unknown option {colsample_bytree} with value \"0.3\"\n\n--------------------------------------------------------------------------------\n5 fits failed with the following error:\nTraceback (most recent call last):\n  File \"C:\\Users\\Yichen\\AppData\\Roaming\\Python\\Python39\\site-packages\\sklearn\\model_selection\\_validation.py\", line 686, in _fit_and_score\n    estimator.fit(X_train, y_train, **fit_params)\n  File \"C:\\Users\\Yichen\\AppData\\Roaming\\Python\\Python39\\site-packages\\catboost\\core.py\", line 5730, in fit\n    return self._fit(X, y, cat_features, text_features, embedding_features, None, sample_weight, None, None, None, None, baseline,\n  File \"C:\\Users\\Yichen\\AppData\\Roaming\\Python\\Python39\\site-packages\\catboost\\core.py\", line 2339, in _fit\n    train_params = self._prepare_train_params(\n  File \"C:\\Users\\Yichen\\AppData\\Roaming\\Python\\Python39\\site-packages\\catboost\\core.py\", line 2266, in _prepare_train_params\n    _check_train_params(params)\n  File \"_catboost.pyx\", line 6080, in _catboost._check_train_params\n  File \"_catboost.pyx\", line 6099, in _catboost._check_train_params\n_catboost.CatBoostError: C:/Program Files (x86)/Go Agent/pipelines/BuildMaster/catboost.git/catboost/private/libs/options/plain_options_helper.cpp:511: Unknown option {colsample_bytree} with value \"0.5\"\n\n--------------------------------------------------------------------------------\n5 fits failed with the following error:\nTraceback (most recent call last):\n  File \"C:\\Users\\Yichen\\AppData\\Roaming\\Python\\Python39\\site-packages\\sklearn\\model_selection\\_validation.py\", line 686, in _fit_and_score\n    estimator.fit(X_train, y_train, **fit_params)\n  File \"C:\\Users\\Yichen\\AppData\\Roaming\\Python\\Python39\\site-packages\\catboost\\core.py\", line 5730, in fit\n    return self._fit(X, y, cat_features, text_features, embedding_features, None, sample_weight, None, None, None, None, baseline,\n  File \"C:\\Users\\Yichen\\AppData\\Roaming\\Python\\Python39\\site-packages\\catboost\\core.py\", line 2339, in _fit\n    train_params = self._prepare_train_params(\n  File \"C:\\Users\\Yichen\\AppData\\Roaming\\Python\\Python39\\site-packages\\catboost\\core.py\", line 2266, in _prepare_train_params\n    _check_train_params(params)\n  File \"_catboost.pyx\", line 6080, in _catboost._check_train_params\n  File \"_catboost.pyx\", line 6099, in _catboost._check_train_params\n_catboost.CatBoostError: C:/Program Files (x86)/Go Agent/pipelines/BuildMaster/catboost.git/catboost/private/libs/options/plain_options_helper.cpp:511: Unknown option {colsample_bytree} with value \"0.7\"\n",
     "output_type": "error",
     "traceback": [
      "\u001b[1;31m---------------------------------------------------------------------------\u001b[0m",
      "\u001b[1;31mValueError\u001b[0m                                Traceback (most recent call last)",
      "\u001b[1;32m~\\AppData\\Local\\Temp\\ipykernel_13484\\1217501668.py\u001b[0m in \u001b[0;36m<module>\u001b[1;34m\u001b[0m\n\u001b[0;32m     11\u001b[0m }\n\u001b[0;32m     12\u001b[0m \u001b[0mgrid_cat\u001b[0m \u001b[1;33m=\u001b[0m \u001b[0mGridSearchCV\u001b[0m\u001b[1;33m(\u001b[0m\u001b[0mcatboost_reg\u001b[0m\u001b[1;33m,\u001b[0m\u001b[0mparams_cat\u001b[0m\u001b[1;33m)\u001b[0m\u001b[1;33m\u001b[0m\u001b[1;33m\u001b[0m\u001b[0m\n\u001b[1;32m---> 13\u001b[1;33m \u001b[0mgrid_cat\u001b[0m\u001b[1;33m.\u001b[0m\u001b[0mfit\u001b[0m\u001b[1;33m(\u001b[0m\u001b[0mX\u001b[0m\u001b[1;33m,\u001b[0m\u001b[0my\u001b[0m\u001b[1;33m)\u001b[0m\u001b[1;33m\u001b[0m\u001b[1;33m\u001b[0m\u001b[0m\n\u001b[0m",
      "\u001b[1;32m~\\AppData\\Roaming\\Python\\Python39\\site-packages\\sklearn\\model_selection\\_search.py\u001b[0m in \u001b[0;36mfit\u001b[1;34m(self, X, y, groups, **fit_params)\u001b[0m\n\u001b[0;32m    873\u001b[0m                 \u001b[1;32mreturn\u001b[0m \u001b[0mresults\u001b[0m\u001b[1;33m\u001b[0m\u001b[1;33m\u001b[0m\u001b[0m\n\u001b[0;32m    874\u001b[0m \u001b[1;33m\u001b[0m\u001b[0m\n\u001b[1;32m--> 875\u001b[1;33m             \u001b[0mself\u001b[0m\u001b[1;33m.\u001b[0m\u001b[0m_run_search\u001b[0m\u001b[1;33m(\u001b[0m\u001b[0mevaluate_candidates\u001b[0m\u001b[1;33m)\u001b[0m\u001b[1;33m\u001b[0m\u001b[1;33m\u001b[0m\u001b[0m\n\u001b[0m\u001b[0;32m    876\u001b[0m \u001b[1;33m\u001b[0m\u001b[0m\n\u001b[0;32m    877\u001b[0m             \u001b[1;31m# multimetric is determined here because in the case of a callable\u001b[0m\u001b[1;33m\u001b[0m\u001b[1;33m\u001b[0m\u001b[0m\n",
      "\u001b[1;32m~\\AppData\\Roaming\\Python\\Python39\\site-packages\\sklearn\\model_selection\\_search.py\u001b[0m in \u001b[0;36m_run_search\u001b[1;34m(self, evaluate_candidates)\u001b[0m\n\u001b[0;32m   1377\u001b[0m     \u001b[1;32mdef\u001b[0m \u001b[0m_run_search\u001b[0m\u001b[1;33m(\u001b[0m\u001b[0mself\u001b[0m\u001b[1;33m,\u001b[0m \u001b[0mevaluate_candidates\u001b[0m\u001b[1;33m)\u001b[0m\u001b[1;33m:\u001b[0m\u001b[1;33m\u001b[0m\u001b[1;33m\u001b[0m\u001b[0m\n\u001b[0;32m   1378\u001b[0m         \u001b[1;34m\"\"\"Search all candidates in param_grid\"\"\"\u001b[0m\u001b[1;33m\u001b[0m\u001b[1;33m\u001b[0m\u001b[0m\n\u001b[1;32m-> 1379\u001b[1;33m         \u001b[0mevaluate_candidates\u001b[0m\u001b[1;33m(\u001b[0m\u001b[0mParameterGrid\u001b[0m\u001b[1;33m(\u001b[0m\u001b[0mself\u001b[0m\u001b[1;33m.\u001b[0m\u001b[0mparam_grid\u001b[0m\u001b[1;33m)\u001b[0m\u001b[1;33m)\u001b[0m\u001b[1;33m\u001b[0m\u001b[1;33m\u001b[0m\u001b[0m\n\u001b[0m\u001b[0;32m   1380\u001b[0m \u001b[1;33m\u001b[0m\u001b[0m\n\u001b[0;32m   1381\u001b[0m \u001b[1;33m\u001b[0m\u001b[0m\n",
      "\u001b[1;32m~\\AppData\\Roaming\\Python\\Python39\\site-packages\\sklearn\\model_selection\\_search.py\u001b[0m in \u001b[0;36mevaluate_candidates\u001b[1;34m(candidate_params, cv, more_results)\u001b[0m\n\u001b[0;32m    850\u001b[0m                     )\n\u001b[0;32m    851\u001b[0m \u001b[1;33m\u001b[0m\u001b[0m\n\u001b[1;32m--> 852\u001b[1;33m                 \u001b[0m_warn_or_raise_about_fit_failures\u001b[0m\u001b[1;33m(\u001b[0m\u001b[0mout\u001b[0m\u001b[1;33m,\u001b[0m \u001b[0mself\u001b[0m\u001b[1;33m.\u001b[0m\u001b[0merror_score\u001b[0m\u001b[1;33m)\u001b[0m\u001b[1;33m\u001b[0m\u001b[1;33m\u001b[0m\u001b[0m\n\u001b[0m\u001b[0;32m    853\u001b[0m \u001b[1;33m\u001b[0m\u001b[0m\n\u001b[0;32m    854\u001b[0m                 \u001b[1;31m# For callable self.scoring, the return type is only know after\u001b[0m\u001b[1;33m\u001b[0m\u001b[1;33m\u001b[0m\u001b[0m\n",
      "\u001b[1;32m~\\AppData\\Roaming\\Python\\Python39\\site-packages\\sklearn\\model_selection\\_validation.py\u001b[0m in \u001b[0;36m_warn_or_raise_about_fit_failures\u001b[1;34m(results, error_score)\u001b[0m\n\u001b[0;32m    365\u001b[0m                 \u001b[1;34mf\"Below are more details about the failures:\\n{fit_errors_summary}\"\u001b[0m\u001b[1;33m\u001b[0m\u001b[1;33m\u001b[0m\u001b[0m\n\u001b[0;32m    366\u001b[0m             )\n\u001b[1;32m--> 367\u001b[1;33m             \u001b[1;32mraise\u001b[0m \u001b[0mValueError\u001b[0m\u001b[1;33m(\u001b[0m\u001b[0mall_fits_failed_message\u001b[0m\u001b[1;33m)\u001b[0m\u001b[1;33m\u001b[0m\u001b[1;33m\u001b[0m\u001b[0m\n\u001b[0m\u001b[0;32m    368\u001b[0m \u001b[1;33m\u001b[0m\u001b[0m\n\u001b[0;32m    369\u001b[0m         \u001b[1;32melse\u001b[0m\u001b[1;33m:\u001b[0m\u001b[1;33m\u001b[0m\u001b[1;33m\u001b[0m\u001b[0m\n",
      "\u001b[1;31mValueError\u001b[0m: \nAll the 15 fits failed.\nIt is very likely that your model is misconfigured.\nYou can try to debug the error by setting error_score='raise'.\n\nBelow are more details about the failures:\n--------------------------------------------------------------------------------\n5 fits failed with the following error:\nTraceback (most recent call last):\n  File \"C:\\Users\\Yichen\\AppData\\Roaming\\Python\\Python39\\site-packages\\sklearn\\model_selection\\_validation.py\", line 686, in _fit_and_score\n    estimator.fit(X_train, y_train, **fit_params)\n  File \"C:\\Users\\Yichen\\AppData\\Roaming\\Python\\Python39\\site-packages\\catboost\\core.py\", line 5730, in fit\n    return self._fit(X, y, cat_features, text_features, embedding_features, None, sample_weight, None, None, None, None, baseline,\n  File \"C:\\Users\\Yichen\\AppData\\Roaming\\Python\\Python39\\site-packages\\catboost\\core.py\", line 2339, in _fit\n    train_params = self._prepare_train_params(\n  File \"C:\\Users\\Yichen\\AppData\\Roaming\\Python\\Python39\\site-packages\\catboost\\core.py\", line 2266, in _prepare_train_params\n    _check_train_params(params)\n  File \"_catboost.pyx\", line 6080, in _catboost._check_train_params\n  File \"_catboost.pyx\", line 6099, in _catboost._check_train_params\n_catboost.CatBoostError: C:/Program Files (x86)/Go Agent/pipelines/BuildMaster/catboost.git/catboost/private/libs/options/plain_options_helper.cpp:511: Unknown option {colsample_bytree} with value \"0.3\"\n\n--------------------------------------------------------------------------------\n5 fits failed with the following error:\nTraceback (most recent call last):\n  File \"C:\\Users\\Yichen\\AppData\\Roaming\\Python\\Python39\\site-packages\\sklearn\\model_selection\\_validation.py\", line 686, in _fit_and_score\n    estimator.fit(X_train, y_train, **fit_params)\n  File \"C:\\Users\\Yichen\\AppData\\Roaming\\Python\\Python39\\site-packages\\catboost\\core.py\", line 5730, in fit\n    return self._fit(X, y, cat_features, text_features, embedding_features, None, sample_weight, None, None, None, None, baseline,\n  File \"C:\\Users\\Yichen\\AppData\\Roaming\\Python\\Python39\\site-packages\\catboost\\core.py\", line 2339, in _fit\n    train_params = self._prepare_train_params(\n  File \"C:\\Users\\Yichen\\AppData\\Roaming\\Python\\Python39\\site-packages\\catboost\\core.py\", line 2266, in _prepare_train_params\n    _check_train_params(params)\n  File \"_catboost.pyx\", line 6080, in _catboost._check_train_params\n  File \"_catboost.pyx\", line 6099, in _catboost._check_train_params\n_catboost.CatBoostError: C:/Program Files (x86)/Go Agent/pipelines/BuildMaster/catboost.git/catboost/private/libs/options/plain_options_helper.cpp:511: Unknown option {colsample_bytree} with value \"0.5\"\n\n--------------------------------------------------------------------------------\n5 fits failed with the following error:\nTraceback (most recent call last):\n  File \"C:\\Users\\Yichen\\AppData\\Roaming\\Python\\Python39\\site-packages\\sklearn\\model_selection\\_validation.py\", line 686, in _fit_and_score\n    estimator.fit(X_train, y_train, **fit_params)\n  File \"C:\\Users\\Yichen\\AppData\\Roaming\\Python\\Python39\\site-packages\\catboost\\core.py\", line 5730, in fit\n    return self._fit(X, y, cat_features, text_features, embedding_features, None, sample_weight, None, None, None, None, baseline,\n  File \"C:\\Users\\Yichen\\AppData\\Roaming\\Python\\Python39\\site-packages\\catboost\\core.py\", line 2339, in _fit\n    train_params = self._prepare_train_params(\n  File \"C:\\Users\\Yichen\\AppData\\Roaming\\Python\\Python39\\site-packages\\catboost\\core.py\", line 2266, in _prepare_train_params\n    _check_train_params(params)\n  File \"_catboost.pyx\", line 6080, in _catboost._check_train_params\n  File \"_catboost.pyx\", line 6099, in _catboost._check_train_params\n_catboost.CatBoostError: C:/Program Files (x86)/Go Agent/pipelines/BuildMaster/catboost.git/catboost/private/libs/options/plain_options_helper.cpp:511: Unknown option {colsample_bytree} with value \"0.7\"\n"
     ]
    }
   ],
   "source": [
    "params_cat = {\n",
    "    # 'n_estimators' : [100,200,400,800]\n",
    "                # ,'learning_rate' : [0.01,0.05,0.1,0.2]\n",
    "            ##  'max_depth':[2, 3, 6, 10],\n",
    "            ## 'num_leaves': [21, 31, 41],\n",
    "            # 'lgbmregressor__min_child_weight':[0.00001, 0.0001,0.001, 0.01, 0.1, 1],\n",
    "            # 'subsample':[0.3, 0.4, 0.5, 0.7, 1],\n",
    "            # 'colsample_bytree':[0.3 ,0.5, 0.7],\n",
    "            # 'lgbmregressor__lambda_l1': [0,0.1,1,10,100]\n",
    "            # 'lgbmregressor__lambda_l2': [0,0.1,1,10,100]\n",
    "}\n",
    "grid_cat = GridSearchCV(catboost_reg,params_cat)\n",
    "grid_cat.fit(X,y)"
   ]
  },
  {
   "cell_type": "code",
   "execution_count": 222,
   "id": "dc568e3b",
   "metadata": {},
   "outputs": [
    {
     "data": {
      "text/plain": [
       "{'subsample': 0.7}"
      ]
     },
     "execution_count": 222,
     "metadata": {},
     "output_type": "execute_result"
    }
   ],
   "source": [
    "grid_cat.best_params_"
   ]
  },
  {
   "cell_type": "markdown",
   "id": "dd52d9d2-ad42-4f80-8b79-fa6cc5f7e815",
   "metadata": {
    "tags": []
   },
   "source": [
    "## Ensemble"
   ]
  },
  {
   "cell_type": "code",
   "execution_count": 33,
   "id": "c35760e3-327e-4967-bd17-c84d8ec5fc82",
   "metadata": {},
   "outputs": [],
   "source": [
    "from sklearn.ensemble import VotingRegressor, StackingRegressor"
   ]
  },
  {
   "cell_type": "code",
   "execution_count": 143,
   "id": "9b5fba34-36aa-42dd-a60d-a3887cf510e1",
   "metadata": {},
   "outputs": [],
   "source": [
    "voting_reg = VotingRegressor([('elastic_net',elastic_net_pipeline)\n",
    "                            #   ,('rf',random_forest_pipeline)\n",
    "                              ,('xg_boost',xg_boost_pipeline)\n",
    "                             # ,('adaboost',adaboost_pipeline)\n",
    "                                  ,('lightgbm',light_gbm_pipeline)\n",
    "                                  ,('gbr',gbr_pipeline)\n",
    "                                #   ,('bayesianRidge',bayesianr_pipeline)\n",
    "                                  # ,('kernelRidge',kernelr)\n",
    "                             ])"
   ]
  },
  {
   "cell_type": "code",
   "execution_count": 144,
   "id": "9b75b6a1-a313-45a2-9bb5-7199b24569d9",
   "metadata": {},
   "outputs": [
    {
     "name": "stdout",
     "output_type": "stream",
     "text": [
      "[LightGBM] [Warning] lambda_l1 is set=0.1, reg_alpha=0.0 will be ignored. Current value: lambda_l1=0.1\n"
     ]
    },
    {
     "data": {
      "text/html": [
       "<style>#sk-container-id-40 {color: black;background-color: white;}#sk-container-id-40 pre{padding: 0;}#sk-container-id-40 div.sk-toggleable {background-color: white;}#sk-container-id-40 label.sk-toggleable__label {cursor: pointer;display: block;width: 100%;margin-bottom: 0;padding: 0.3em;box-sizing: border-box;text-align: center;}#sk-container-id-40 label.sk-toggleable__label-arrow:before {content: \"▸\";float: left;margin-right: 0.25em;color: #696969;}#sk-container-id-40 label.sk-toggleable__label-arrow:hover:before {color: black;}#sk-container-id-40 div.sk-estimator:hover label.sk-toggleable__label-arrow:before {color: black;}#sk-container-id-40 div.sk-toggleable__content {max-height: 0;max-width: 0;overflow: hidden;text-align: left;background-color: #f0f8ff;}#sk-container-id-40 div.sk-toggleable__content pre {margin: 0.2em;color: black;border-radius: 0.25em;background-color: #f0f8ff;}#sk-container-id-40 input.sk-toggleable__control:checked~div.sk-toggleable__content {max-height: 200px;max-width: 100%;overflow: auto;}#sk-container-id-40 input.sk-toggleable__control:checked~label.sk-toggleable__label-arrow:before {content: \"▾\";}#sk-container-id-40 div.sk-estimator input.sk-toggleable__control:checked~label.sk-toggleable__label {background-color: #d4ebff;}#sk-container-id-40 div.sk-label input.sk-toggleable__control:checked~label.sk-toggleable__label {background-color: #d4ebff;}#sk-container-id-40 input.sk-hidden--visually {border: 0;clip: rect(1px 1px 1px 1px);clip: rect(1px, 1px, 1px, 1px);height: 1px;margin: -1px;overflow: hidden;padding: 0;position: absolute;width: 1px;}#sk-container-id-40 div.sk-estimator {font-family: monospace;background-color: #f0f8ff;border: 1px dotted black;border-radius: 0.25em;box-sizing: border-box;margin-bottom: 0.5em;}#sk-container-id-40 div.sk-estimator:hover {background-color: #d4ebff;}#sk-container-id-40 div.sk-parallel-item::after {content: \"\";width: 100%;border-bottom: 1px solid gray;flex-grow: 1;}#sk-container-id-40 div.sk-label:hover label.sk-toggleable__label {background-color: #d4ebff;}#sk-container-id-40 div.sk-serial::before {content: \"\";position: absolute;border-left: 1px solid gray;box-sizing: border-box;top: 0;bottom: 0;left: 50%;z-index: 0;}#sk-container-id-40 div.sk-serial {display: flex;flex-direction: column;align-items: center;background-color: white;padding-right: 0.2em;padding-left: 0.2em;position: relative;}#sk-container-id-40 div.sk-item {position: relative;z-index: 1;}#sk-container-id-40 div.sk-parallel {display: flex;align-items: stretch;justify-content: center;background-color: white;position: relative;}#sk-container-id-40 div.sk-item::before, #sk-container-id-40 div.sk-parallel-item::before {content: \"\";position: absolute;border-left: 1px solid gray;box-sizing: border-box;top: 0;bottom: 0;left: 50%;z-index: -1;}#sk-container-id-40 div.sk-parallel-item {display: flex;flex-direction: column;z-index: 1;position: relative;background-color: white;}#sk-container-id-40 div.sk-parallel-item:first-child::after {align-self: flex-end;width: 50%;}#sk-container-id-40 div.sk-parallel-item:last-child::after {align-self: flex-start;width: 50%;}#sk-container-id-40 div.sk-parallel-item:only-child::after {width: 0;}#sk-container-id-40 div.sk-dashed-wrapped {border: 1px dashed gray;margin: 0 0.4em 0.5em 0.4em;box-sizing: border-box;padding-bottom: 0.4em;background-color: white;}#sk-container-id-40 div.sk-label label {font-family: monospace;font-weight: bold;display: inline-block;line-height: 1.2em;}#sk-container-id-40 div.sk-label-container {text-align: center;}#sk-container-id-40 div.sk-container {/* jupyter's `normalize.less` sets `[hidden] { display: none; }` but bootstrap.min.css set `[hidden] { display: none !important; }` so we also need the `!important` here to be able to override the default hidden behavior on the sphinx rendered scikit-learn.org. See: https://github.com/scikit-learn/scikit-learn/issues/21755 */display: inline-block !important;position: relative;}#sk-container-id-40 div.sk-text-repr-fallback {display: none;}</style><div id=\"sk-container-id-40\" class=\"sk-top-container\"><div class=\"sk-text-repr-fallback\"><pre>VotingRegressor(estimators=[(&#x27;elastic_net&#x27;,\n",
       "                             Pipeline(steps=[(&#x27;polynomialfeaturestransformer&#x27;,\n",
       "                                              PolynomialFeaturesTransformer()),\n",
       "                                             (&#x27;logstandardscaler&#x27;,\n",
       "                                              LogStandardScaler()),\n",
       "                                             (&#x27;elasticnet&#x27;,\n",
       "                                              ElasticNet(alpha=0.00794428509169608,\n",
       "                                                         max_iter=20000))])),\n",
       "                            (&#x27;xg_boost&#x27;,\n",
       "                             Pipeline(steps=[(&#x27;logstandardscaler&#x27;,\n",
       "                                              LogStandardScaler()),\n",
       "                                             (&#x27;xgbregressor&#x27;,\n",
       "                                              XGBRegressor(base_score=0....\n",
       "                                              LGBMRegressor(colsample_bytree=0.3,\n",
       "                                                            lambda_l1=0.1,\n",
       "                                                            learning_rate=0.05,\n",
       "                                                            max_depth=3,\n",
       "                                                            min_child_weight=1e-05,\n",
       "                                                            n_estimators=800,\n",
       "                                                            num_leaves=5,\n",
       "                                                            subsample=0.3))])),\n",
       "                            (&#x27;gbr&#x27;,\n",
       "                             Pipeline(steps=[(&#x27;logstandardscaler&#x27;,\n",
       "                                              LogStandardScaler()),\n",
       "                                             (&#x27;gradientboostingregressor&#x27;,\n",
       "                                              GradientBoostingRegressor(learning_rate=0.05,\n",
       "                                                                        max_features=0.4,\n",
       "                                                                        max_leaf_nodes=30,\n",
       "                                                                        n_estimators=800,\n",
       "                                                                        subsample=0.8))]))])</pre><b>In a Jupyter environment, please rerun this cell to show the HTML representation or trust the notebook. <br />On GitHub, the HTML representation is unable to render, please try loading this page with nbviewer.org.</b></div><div class=\"sk-container\" hidden><div class=\"sk-item sk-dashed-wrapped\"><div class=\"sk-label-container\"><div class=\"sk-label sk-toggleable\"><input class=\"sk-toggleable__control sk-hidden--visually\" id=\"sk-estimator-id-141\" type=\"checkbox\" ><label for=\"sk-estimator-id-141\" class=\"sk-toggleable__label sk-toggleable__label-arrow\">VotingRegressor</label><div class=\"sk-toggleable__content\"><pre>VotingRegressor(estimators=[(&#x27;elastic_net&#x27;,\n",
       "                             Pipeline(steps=[(&#x27;polynomialfeaturestransformer&#x27;,\n",
       "                                              PolynomialFeaturesTransformer()),\n",
       "                                             (&#x27;logstandardscaler&#x27;,\n",
       "                                              LogStandardScaler()),\n",
       "                                             (&#x27;elasticnet&#x27;,\n",
       "                                              ElasticNet(alpha=0.00794428509169608,\n",
       "                                                         max_iter=20000))])),\n",
       "                            (&#x27;xg_boost&#x27;,\n",
       "                             Pipeline(steps=[(&#x27;logstandardscaler&#x27;,\n",
       "                                              LogStandardScaler()),\n",
       "                                             (&#x27;xgbregressor&#x27;,\n",
       "                                              XGBRegressor(base_score=0....\n",
       "                                              LGBMRegressor(colsample_bytree=0.3,\n",
       "                                                            lambda_l1=0.1,\n",
       "                                                            learning_rate=0.05,\n",
       "                                                            max_depth=3,\n",
       "                                                            min_child_weight=1e-05,\n",
       "                                                            n_estimators=800,\n",
       "                                                            num_leaves=5,\n",
       "                                                            subsample=0.3))])),\n",
       "                            (&#x27;gbr&#x27;,\n",
       "                             Pipeline(steps=[(&#x27;logstandardscaler&#x27;,\n",
       "                                              LogStandardScaler()),\n",
       "                                             (&#x27;gradientboostingregressor&#x27;,\n",
       "                                              GradientBoostingRegressor(learning_rate=0.05,\n",
       "                                                                        max_features=0.4,\n",
       "                                                                        max_leaf_nodes=30,\n",
       "                                                                        n_estimators=800,\n",
       "                                                                        subsample=0.8))]))])</pre></div></div></div><div class=\"sk-parallel\"><div class=\"sk-parallel-item\"><div class=\"sk-item\"><div class=\"sk-label-container\"><div class=\"sk-label sk-toggleable\"><label>elastic_net</label></div></div><div class=\"sk-serial\"><div class=\"sk-item\"><div class=\"sk-serial\"><div class=\"sk-item\"><div class=\"sk-estimator sk-toggleable\"><input class=\"sk-toggleable__control sk-hidden--visually\" id=\"sk-estimator-id-142\" type=\"checkbox\" ><label for=\"sk-estimator-id-142\" class=\"sk-toggleable__label sk-toggleable__label-arrow\">PolynomialFeaturesTransformer</label><div class=\"sk-toggleable__content\"><pre>PolynomialFeaturesTransformer()</pre></div></div></div><div class=\"sk-item\"><div class=\"sk-estimator sk-toggleable\"><input class=\"sk-toggleable__control sk-hidden--visually\" id=\"sk-estimator-id-143\" type=\"checkbox\" ><label for=\"sk-estimator-id-143\" class=\"sk-toggleable__label sk-toggleable__label-arrow\">LogStandardScaler</label><div class=\"sk-toggleable__content\"><pre>LogStandardScaler()</pre></div></div></div><div class=\"sk-item\"><div class=\"sk-estimator sk-toggleable\"><input class=\"sk-toggleable__control sk-hidden--visually\" id=\"sk-estimator-id-144\" type=\"checkbox\" ><label for=\"sk-estimator-id-144\" class=\"sk-toggleable__label sk-toggleable__label-arrow\">ElasticNet</label><div class=\"sk-toggleable__content\"><pre>ElasticNet(alpha=0.00794428509169608, max_iter=20000)</pre></div></div></div></div></div></div></div></div><div class=\"sk-parallel-item\"><div class=\"sk-item\"><div class=\"sk-label-container\"><div class=\"sk-label sk-toggleable\"><label>xg_boost</label></div></div><div class=\"sk-serial\"><div class=\"sk-item\"><div class=\"sk-serial\"><div class=\"sk-item\"><div class=\"sk-estimator sk-toggleable\"><input class=\"sk-toggleable__control sk-hidden--visually\" id=\"sk-estimator-id-145\" type=\"checkbox\" ><label for=\"sk-estimator-id-145\" class=\"sk-toggleable__label sk-toggleable__label-arrow\">LogStandardScaler</label><div class=\"sk-toggleable__content\"><pre>LogStandardScaler()</pre></div></div></div><div class=\"sk-item\"><div class=\"sk-estimator sk-toggleable\"><input class=\"sk-toggleable__control sk-hidden--visually\" id=\"sk-estimator-id-146\" type=\"checkbox\" ><label for=\"sk-estimator-id-146\" class=\"sk-toggleable__label sk-toggleable__label-arrow\">XGBRegressor</label><div class=\"sk-toggleable__content\"><pre>XGBRegressor(base_score=0.5, booster=&#x27;gbtree&#x27;, callbacks=None,\n",
       "             colsample_bylevel=1, colsample_bynode=1, colsample_bytree=0.7,\n",
       "             early_stopping_rounds=None, enable_categorical=False,\n",
       "             eval_metric=None, gamma=0, gpu_id=-1, grow_policy=&#x27;depthwise&#x27;,\n",
       "             importance_type=None, interaction_constraints=&#x27;&#x27;,\n",
       "             learning_rate=0.05, max_bin=256, max_cat_to_onehot=4,\n",
       "             max_delta_step=0, max_depth=3, max_leaves=0, min_child_weight=4,\n",
       "             missing=nan, monotone_constraints=&#x27;()&#x27;, n_estimators=800, n_jobs=0,\n",
       "             num_parallel_tree=1, predictor=&#x27;auto&#x27;, random_state=0, reg_alpha=0,\n",
       "             reg_lambda=1, ...)</pre></div></div></div></div></div></div></div></div><div class=\"sk-parallel-item\"><div class=\"sk-item\"><div class=\"sk-label-container\"><div class=\"sk-label sk-toggleable\"><label>lightgbm</label></div></div><div class=\"sk-serial\"><div class=\"sk-item\"><div class=\"sk-serial\"><div class=\"sk-item\"><div class=\"sk-estimator sk-toggleable\"><input class=\"sk-toggleable__control sk-hidden--visually\" id=\"sk-estimator-id-147\" type=\"checkbox\" ><label for=\"sk-estimator-id-147\" class=\"sk-toggleable__label sk-toggleable__label-arrow\">LogStandardScaler</label><div class=\"sk-toggleable__content\"><pre>LogStandardScaler()</pre></div></div></div><div class=\"sk-item\"><div class=\"sk-estimator sk-toggleable\"><input class=\"sk-toggleable__control sk-hidden--visually\" id=\"sk-estimator-id-148\" type=\"checkbox\" ><label for=\"sk-estimator-id-148\" class=\"sk-toggleable__label sk-toggleable__label-arrow\">LGBMRegressor</label><div class=\"sk-toggleable__content\"><pre>LGBMRegressor(colsample_bytree=0.3, lambda_l1=0.1, learning_rate=0.05,\n",
       "              max_depth=3, min_child_weight=1e-05, n_estimators=800,\n",
       "              num_leaves=5, subsample=0.3)</pre></div></div></div></div></div></div></div></div><div class=\"sk-parallel-item\"><div class=\"sk-item\"><div class=\"sk-label-container\"><div class=\"sk-label sk-toggleable\"><label>gbr</label></div></div><div class=\"sk-serial\"><div class=\"sk-item\"><div class=\"sk-serial\"><div class=\"sk-item\"><div class=\"sk-estimator sk-toggleable\"><input class=\"sk-toggleable__control sk-hidden--visually\" id=\"sk-estimator-id-149\" type=\"checkbox\" ><label for=\"sk-estimator-id-149\" class=\"sk-toggleable__label sk-toggleable__label-arrow\">LogStandardScaler</label><div class=\"sk-toggleable__content\"><pre>LogStandardScaler()</pre></div></div></div><div class=\"sk-item\"><div class=\"sk-estimator sk-toggleable\"><input class=\"sk-toggleable__control sk-hidden--visually\" id=\"sk-estimator-id-150\" type=\"checkbox\" ><label for=\"sk-estimator-id-150\" class=\"sk-toggleable__label sk-toggleable__label-arrow\">GradientBoostingRegressor</label><div class=\"sk-toggleable__content\"><pre>GradientBoostingRegressor(learning_rate=0.05, max_features=0.4,\n",
       "                          max_leaf_nodes=30, n_estimators=800, subsample=0.8)</pre></div></div></div></div></div></div></div></div></div></div></div></div>"
      ],
      "text/plain": [
       "VotingRegressor(estimators=[('elastic_net',\n",
       "                             Pipeline(steps=[('polynomialfeaturestransformer',\n",
       "                                              PolynomialFeaturesTransformer()),\n",
       "                                             ('logstandardscaler',\n",
       "                                              LogStandardScaler()),\n",
       "                                             ('elasticnet',\n",
       "                                              ElasticNet(alpha=0.00794428509169608,\n",
       "                                                         max_iter=20000))])),\n",
       "                            ('xg_boost',\n",
       "                             Pipeline(steps=[('logstandardscaler',\n",
       "                                              LogStandardScaler()),\n",
       "                                             ('xgbregressor',\n",
       "                                              XGBRegressor(base_score=0....\n",
       "                                              LGBMRegressor(colsample_bytree=0.3,\n",
       "                                                            lambda_l1=0.1,\n",
       "                                                            learning_rate=0.05,\n",
       "                                                            max_depth=3,\n",
       "                                                            min_child_weight=1e-05,\n",
       "                                                            n_estimators=800,\n",
       "                                                            num_leaves=5,\n",
       "                                                            subsample=0.3))])),\n",
       "                            ('gbr',\n",
       "                             Pipeline(steps=[('logstandardscaler',\n",
       "                                              LogStandardScaler()),\n",
       "                                             ('gradientboostingregressor',\n",
       "                                              GradientBoostingRegressor(learning_rate=0.05,\n",
       "                                                                        max_features=0.4,\n",
       "                                                                        max_leaf_nodes=30,\n",
       "                                                                        n_estimators=800,\n",
       "                                                                        subsample=0.8))]))])"
      ]
     },
     "execution_count": 144,
     "metadata": {},
     "output_type": "execute_result"
    }
   ],
   "source": [
    "voting_reg.fit(X,y)"
   ]
  },
  {
   "cell_type": "code",
   "execution_count": 227,
   "id": "a48a2e9c-5617-470a-aa5d-4ab0c58b5e24",
   "metadata": {},
   "outputs": [],
   "source": [
    "stacking_reg = StackingRegressor([('elastic_net',elastic_net_pipeline)\n",
    "                              # ,('rf',random_forest_pipeline)\n",
    "                              ,('xg_boost',xg_boost_pipeline)\n",
    "                             # ,('adaboost',adaboost_pipeline)\n",
    "                                  ,('lightgbm',light_gbm_pipeline)\n",
    "                                  ,('gbr',gbr_pipeline)\n",
    "                              #     ,('bayesianRidge',bayesianr_pipeline)\n",
    "                                  # ,('kernelRidge',kernelr)\n",
    "                                  ,('catboost',catboost_reg)\n",
    "                             ]\n",
    "                            #  , final_estimator=ElasticNet(alpha=0.1)\n",
    "                             ,cv= 3\n",
    "                             ,final_estimator=catboost_reg\n",
    "                             , passthrough=True)"
   ]
  },
  {
   "cell_type": "code",
   "execution_count": 228,
   "id": "56fbc4da-9dec-4018-8017-73884887d0d5",
   "metadata": {},
   "outputs": [
    {
     "name": "stdout",
     "output_type": "stream",
     "text": [
      "[LightGBM] [Warning] lambda_l1 is set=0.1, reg_alpha=0.0 will be ignored. Current value: lambda_l1=0.1\n",
      "[LightGBM] [Warning] lambda_l1 is set=0.1, reg_alpha=0.0 will be ignored. Current value: lambda_l1=0.1\n",
      "[LightGBM] [Warning] lambda_l1 is set=0.1, reg_alpha=0.0 will be ignored. Current value: lambda_l1=0.1\n"
     ]
    },
    {
     "data": {
      "text/html": [
       "<style>#sk-container-id-60 {color: black;background-color: white;}#sk-container-id-60 pre{padding: 0;}#sk-container-id-60 div.sk-toggleable {background-color: white;}#sk-container-id-60 label.sk-toggleable__label {cursor: pointer;display: block;width: 100%;margin-bottom: 0;padding: 0.3em;box-sizing: border-box;text-align: center;}#sk-container-id-60 label.sk-toggleable__label-arrow:before {content: \"▸\";float: left;margin-right: 0.25em;color: #696969;}#sk-container-id-60 label.sk-toggleable__label-arrow:hover:before {color: black;}#sk-container-id-60 div.sk-estimator:hover label.sk-toggleable__label-arrow:before {color: black;}#sk-container-id-60 div.sk-toggleable__content {max-height: 0;max-width: 0;overflow: hidden;text-align: left;background-color: #f0f8ff;}#sk-container-id-60 div.sk-toggleable__content pre {margin: 0.2em;color: black;border-radius: 0.25em;background-color: #f0f8ff;}#sk-container-id-60 input.sk-toggleable__control:checked~div.sk-toggleable__content {max-height: 200px;max-width: 100%;overflow: auto;}#sk-container-id-60 input.sk-toggleable__control:checked~label.sk-toggleable__label-arrow:before {content: \"▾\";}#sk-container-id-60 div.sk-estimator input.sk-toggleable__control:checked~label.sk-toggleable__label {background-color: #d4ebff;}#sk-container-id-60 div.sk-label input.sk-toggleable__control:checked~label.sk-toggleable__label {background-color: #d4ebff;}#sk-container-id-60 input.sk-hidden--visually {border: 0;clip: rect(1px 1px 1px 1px);clip: rect(1px, 1px, 1px, 1px);height: 1px;margin: -1px;overflow: hidden;padding: 0;position: absolute;width: 1px;}#sk-container-id-60 div.sk-estimator {font-family: monospace;background-color: #f0f8ff;border: 1px dotted black;border-radius: 0.25em;box-sizing: border-box;margin-bottom: 0.5em;}#sk-container-id-60 div.sk-estimator:hover {background-color: #d4ebff;}#sk-container-id-60 div.sk-parallel-item::after {content: \"\";width: 100%;border-bottom: 1px solid gray;flex-grow: 1;}#sk-container-id-60 div.sk-label:hover label.sk-toggleable__label {background-color: #d4ebff;}#sk-container-id-60 div.sk-serial::before {content: \"\";position: absolute;border-left: 1px solid gray;box-sizing: border-box;top: 0;bottom: 0;left: 50%;z-index: 0;}#sk-container-id-60 div.sk-serial {display: flex;flex-direction: column;align-items: center;background-color: white;padding-right: 0.2em;padding-left: 0.2em;position: relative;}#sk-container-id-60 div.sk-item {position: relative;z-index: 1;}#sk-container-id-60 div.sk-parallel {display: flex;align-items: stretch;justify-content: center;background-color: white;position: relative;}#sk-container-id-60 div.sk-item::before, #sk-container-id-60 div.sk-parallel-item::before {content: \"\";position: absolute;border-left: 1px solid gray;box-sizing: border-box;top: 0;bottom: 0;left: 50%;z-index: -1;}#sk-container-id-60 div.sk-parallel-item {display: flex;flex-direction: column;z-index: 1;position: relative;background-color: white;}#sk-container-id-60 div.sk-parallel-item:first-child::after {align-self: flex-end;width: 50%;}#sk-container-id-60 div.sk-parallel-item:last-child::after {align-self: flex-start;width: 50%;}#sk-container-id-60 div.sk-parallel-item:only-child::after {width: 0;}#sk-container-id-60 div.sk-dashed-wrapped {border: 1px dashed gray;margin: 0 0.4em 0.5em 0.4em;box-sizing: border-box;padding-bottom: 0.4em;background-color: white;}#sk-container-id-60 div.sk-label label {font-family: monospace;font-weight: bold;display: inline-block;line-height: 1.2em;}#sk-container-id-60 div.sk-label-container {text-align: center;}#sk-container-id-60 div.sk-container {/* jupyter's `normalize.less` sets `[hidden] { display: none; }` but bootstrap.min.css set `[hidden] { display: none !important; }` so we also need the `!important` here to be able to override the default hidden behavior on the sphinx rendered scikit-learn.org. See: https://github.com/scikit-learn/scikit-learn/issues/21755 */display: inline-block !important;position: relative;}#sk-container-id-60 div.sk-text-repr-fallback {display: none;}</style><div id=\"sk-container-id-60\" class=\"sk-top-container\"><div class=\"sk-text-repr-fallback\"><pre>StackingRegressor(cv=3,\n",
       "                  estimators=[(&#x27;elastic_net&#x27;,\n",
       "                               Pipeline(steps=[(&#x27;polynomialfeaturestransformer&#x27;,\n",
       "                                                PolynomialFeaturesTransformer()),\n",
       "                                               (&#x27;logstandardscaler&#x27;,\n",
       "                                                LogStandardScaler()),\n",
       "                                               (&#x27;elasticnet&#x27;,\n",
       "                                                ElasticNet(alpha=0.00794428509169608,\n",
       "                                                           max_iter=20000))])),\n",
       "                              (&#x27;xg_boost&#x27;,\n",
       "                               Pipeline(steps=[(&#x27;xgbregressor&#x27;,\n",
       "                                                XGBRegressor(base_score=0.5,\n",
       "                                                             booster=&#x27;gbtree&#x27;,\n",
       "                                                             callbacks=None,\n",
       "                                                             c...\n",
       "                                                              subsample=0.3))])),\n",
       "                              (&#x27;gbr&#x27;,\n",
       "                               Pipeline(steps=[(&#x27;gradientboostingregressor&#x27;,\n",
       "                                                GradientBoostingRegressor(learning_rate=0.05,\n",
       "                                                                          max_features=0.4,\n",
       "                                                                          max_leaf_nodes=30,\n",
       "                                                                          n_estimators=800,\n",
       "                                                                          subsample=0.8))])),\n",
       "                              (&#x27;catboost&#x27;,\n",
       "                               &lt;catboost.core.CatBoostRegressor object at 0x000001B72E347400&gt;)],\n",
       "                  final_estimator=&lt;catboost.core.CatBoostRegressor object at 0x000001B72E347400&gt;,\n",
       "                  passthrough=True)</pre><b>In a Jupyter environment, please rerun this cell to show the HTML representation or trust the notebook. <br />On GitHub, the HTML representation is unable to render, please try loading this page with nbviewer.org.</b></div><div class=\"sk-container\" hidden><div class=\"sk-item sk-dashed-wrapped\"><div class=\"sk-label-container\"><div class=\"sk-label sk-toggleable\"><input class=\"sk-toggleable__control sk-hidden--visually\" id=\"sk-estimator-id-217\" type=\"checkbox\" ><label for=\"sk-estimator-id-217\" class=\"sk-toggleable__label sk-toggleable__label-arrow\">StackingRegressor</label><div class=\"sk-toggleable__content\"><pre>StackingRegressor(cv=3,\n",
       "                  estimators=[(&#x27;elastic_net&#x27;,\n",
       "                               Pipeline(steps=[(&#x27;polynomialfeaturestransformer&#x27;,\n",
       "                                                PolynomialFeaturesTransformer()),\n",
       "                                               (&#x27;logstandardscaler&#x27;,\n",
       "                                                LogStandardScaler()),\n",
       "                                               (&#x27;elasticnet&#x27;,\n",
       "                                                ElasticNet(alpha=0.00794428509169608,\n",
       "                                                           max_iter=20000))])),\n",
       "                              (&#x27;xg_boost&#x27;,\n",
       "                               Pipeline(steps=[(&#x27;xgbregressor&#x27;,\n",
       "                                                XGBRegressor(base_score=0.5,\n",
       "                                                             booster=&#x27;gbtree&#x27;,\n",
       "                                                             callbacks=None,\n",
       "                                                             c...\n",
       "                                                              subsample=0.3))])),\n",
       "                              (&#x27;gbr&#x27;,\n",
       "                               Pipeline(steps=[(&#x27;gradientboostingregressor&#x27;,\n",
       "                                                GradientBoostingRegressor(learning_rate=0.05,\n",
       "                                                                          max_features=0.4,\n",
       "                                                                          max_leaf_nodes=30,\n",
       "                                                                          n_estimators=800,\n",
       "                                                                          subsample=0.8))])),\n",
       "                              (&#x27;catboost&#x27;,\n",
       "                               &lt;catboost.core.CatBoostRegressor object at 0x000001B72E347400&gt;)],\n",
       "                  final_estimator=&lt;catboost.core.CatBoostRegressor object at 0x000001B72E347400&gt;,\n",
       "                  passthrough=True)</pre></div></div></div><div class=\"sk-serial\"><div class=\"sk-item\"><div class=\"sk-parallel\"><div class=\"sk-parallel-item\"><div class=\"sk-item\"><div class=\"sk-label-container\"><div class=\"sk-label sk-toggleable\"><label>elastic_net</label></div></div><div class=\"sk-serial\"><div class=\"sk-item\"><div class=\"sk-serial\"><div class=\"sk-item\"><div class=\"sk-estimator sk-toggleable\"><input class=\"sk-toggleable__control sk-hidden--visually\" id=\"sk-estimator-id-218\" type=\"checkbox\" ><label for=\"sk-estimator-id-218\" class=\"sk-toggleable__label sk-toggleable__label-arrow\">PolynomialFeaturesTransformer</label><div class=\"sk-toggleable__content\"><pre>PolynomialFeaturesTransformer()</pre></div></div></div><div class=\"sk-item\"><div class=\"sk-estimator sk-toggleable\"><input class=\"sk-toggleable__control sk-hidden--visually\" id=\"sk-estimator-id-219\" type=\"checkbox\" ><label for=\"sk-estimator-id-219\" class=\"sk-toggleable__label sk-toggleable__label-arrow\">LogStandardScaler</label><div class=\"sk-toggleable__content\"><pre>LogStandardScaler()</pre></div></div></div><div class=\"sk-item\"><div class=\"sk-estimator sk-toggleable\"><input class=\"sk-toggleable__control sk-hidden--visually\" id=\"sk-estimator-id-220\" type=\"checkbox\" ><label for=\"sk-estimator-id-220\" class=\"sk-toggleable__label sk-toggleable__label-arrow\">ElasticNet</label><div class=\"sk-toggleable__content\"><pre>ElasticNet(alpha=0.00794428509169608, max_iter=20000)</pre></div></div></div></div></div></div></div></div><div class=\"sk-parallel-item\"><div class=\"sk-item\"><div class=\"sk-label-container\"><div class=\"sk-label sk-toggleable\"><label>xg_boost</label></div></div><div class=\"sk-serial\"><div class=\"sk-item\"><div class=\"sk-serial\"><div class=\"sk-item\"><div class=\"sk-estimator sk-toggleable\"><input class=\"sk-toggleable__control sk-hidden--visually\" id=\"sk-estimator-id-221\" type=\"checkbox\" ><label for=\"sk-estimator-id-221\" class=\"sk-toggleable__label sk-toggleable__label-arrow\">XGBRegressor</label><div class=\"sk-toggleable__content\"><pre>XGBRegressor(base_score=0.5, booster=&#x27;gbtree&#x27;, callbacks=None,\n",
       "             colsample_bylevel=1, colsample_bynode=1, colsample_bytree=0.7,\n",
       "             early_stopping_rounds=None, enable_categorical=False,\n",
       "             eval_metric=None, gamma=0, gpu_id=-1, grow_policy=&#x27;depthwise&#x27;,\n",
       "             importance_type=None, interaction_constraints=&#x27;&#x27;,\n",
       "             learning_rate=0.05, max_bin=256, max_cat_to_onehot=4,\n",
       "             max_delta_step=0, max_depth=3, max_leaves=0, min_child_weight=4,\n",
       "             missing=nan, monotone_constraints=&#x27;()&#x27;, n_estimators=800, n_jobs=0,\n",
       "             num_parallel_tree=1, predictor=&#x27;auto&#x27;, random_state=0, reg_alpha=0,\n",
       "             reg_lambda=1, ...)</pre></div></div></div></div></div></div></div></div><div class=\"sk-parallel-item\"><div class=\"sk-item\"><div class=\"sk-label-container\"><div class=\"sk-label sk-toggleable\"><label>lightgbm</label></div></div><div class=\"sk-serial\"><div class=\"sk-item\"><div class=\"sk-serial\"><div class=\"sk-item\"><div class=\"sk-estimator sk-toggleable\"><input class=\"sk-toggleable__control sk-hidden--visually\" id=\"sk-estimator-id-222\" type=\"checkbox\" ><label for=\"sk-estimator-id-222\" class=\"sk-toggleable__label sk-toggleable__label-arrow\">LGBMRegressor</label><div class=\"sk-toggleable__content\"><pre>LGBMRegressor(colsample_bytree=0.3, lambda_l1=0.1, learning_rate=0.05,\n",
       "              max_depth=3, min_child_weight=1e-05, n_estimators=800,\n",
       "              num_leaves=5, subsample=0.3)</pre></div></div></div></div></div></div></div></div><div class=\"sk-parallel-item\"><div class=\"sk-item\"><div class=\"sk-label-container\"><div class=\"sk-label sk-toggleable\"><label>gbr</label></div></div><div class=\"sk-serial\"><div class=\"sk-item\"><div class=\"sk-serial\"><div class=\"sk-item\"><div class=\"sk-estimator sk-toggleable\"><input class=\"sk-toggleable__control sk-hidden--visually\" id=\"sk-estimator-id-223\" type=\"checkbox\" ><label for=\"sk-estimator-id-223\" class=\"sk-toggleable__label sk-toggleable__label-arrow\">GradientBoostingRegressor</label><div class=\"sk-toggleable__content\"><pre>GradientBoostingRegressor(learning_rate=0.05, max_features=0.4,\n",
       "                          max_leaf_nodes=30, n_estimators=800, subsample=0.8)</pre></div></div></div></div></div></div></div></div><div class=\"sk-parallel-item\"><div class=\"sk-item\"><div class=\"sk-label-container\"><div class=\"sk-label sk-toggleable\"><label>catboost</label></div></div><div class=\"sk-serial\"><div class=\"sk-item\"><div class=\"sk-estimator sk-toggleable\"><input class=\"sk-toggleable__control sk-hidden--visually\" id=\"sk-estimator-id-224\" type=\"checkbox\" ><label for=\"sk-estimator-id-224\" class=\"sk-toggleable__label sk-toggleable__label-arrow\">CatBoostRegressor</label><div class=\"sk-toggleable__content\"><pre>&lt;catboost.core.CatBoostRegressor object at 0x000001B72E347400&gt;</pre></div></div></div></div></div></div></div></div><div class=\"sk-item\"><div class=\"sk-parallel\"><div class=\"sk-parallel-item\"><div class=\"sk-item\"><div class=\"sk-label-container\"><div class=\"sk-label sk-toggleable\"><label>final_estimator</label></div></div><div class=\"sk-serial\"><div class=\"sk-item\"><div class=\"sk-estimator sk-toggleable\"><input class=\"sk-toggleable__control sk-hidden--visually\" id=\"sk-estimator-id-225\" type=\"checkbox\" ><label for=\"sk-estimator-id-225\" class=\"sk-toggleable__label sk-toggleable__label-arrow\">CatBoostRegressor</label><div class=\"sk-toggleable__content\"><pre>&lt;catboost.core.CatBoostRegressor object at 0x000001B72E347400&gt;</pre></div></div></div></div></div></div></div></div></div></div></div></div>"
      ],
      "text/plain": [
       "StackingRegressor(cv=3,\n",
       "                  estimators=[('elastic_net',\n",
       "                               Pipeline(steps=[('polynomialfeaturestransformer',\n",
       "                                                PolynomialFeaturesTransformer()),\n",
       "                                               ('logstandardscaler',\n",
       "                                                LogStandardScaler()),\n",
       "                                               ('elasticnet',\n",
       "                                                ElasticNet(alpha=0.00794428509169608,\n",
       "                                                           max_iter=20000))])),\n",
       "                              ('xg_boost',\n",
       "                               Pipeline(steps=[('xgbregressor',\n",
       "                                                XGBRegressor(base_score=0.5,\n",
       "                                                             booster='gbtree',\n",
       "                                                             callbacks=None,\n",
       "                                                             c...\n",
       "                                                              subsample=0.3))])),\n",
       "                              ('gbr',\n",
       "                               Pipeline(steps=[('gradientboostingregressor',\n",
       "                                                GradientBoostingRegressor(learning_rate=0.05,\n",
       "                                                                          max_features=0.4,\n",
       "                                                                          max_leaf_nodes=30,\n",
       "                                                                          n_estimators=800,\n",
       "                                                                          subsample=0.8))])),\n",
       "                              ('catboost',\n",
       "                               <catboost.core.CatBoostRegressor object at 0x000001B72E347400>)],\n",
       "                  final_estimator=<catboost.core.CatBoostRegressor object at 0x000001B72E347400>,\n",
       "                  passthrough=True)"
      ]
     },
     "execution_count": 228,
     "metadata": {},
     "output_type": "execute_result"
    }
   ],
   "source": [
    "stacking_reg.fit(X,y)"
   ]
  },
  {
   "cell_type": "markdown",
   "id": "4ee8b72d-45f8-43fd-91f4-efe9aed6e8ad",
   "metadata": {
    "tags": []
   },
   "source": [
    "## Cross Val Score"
   ]
  },
  {
   "cell_type": "code",
   "execution_count": 97,
   "id": "f9ba04dc-b369-4112-9953-c95939758832",
   "metadata": {},
   "outputs": [
    {
     "data": {
      "text/html": [
       "<div>\n",
       "<style scoped>\n",
       "    .dataframe tbody tr th:only-of-type {\n",
       "        vertical-align: middle;\n",
       "    }\n",
       "\n",
       "    .dataframe tbody tr th {\n",
       "        vertical-align: top;\n",
       "    }\n",
       "\n",
       "    .dataframe thead th {\n",
       "        text-align: right;\n",
       "    }\n",
       "</style>\n",
       "<table border=\"1\" class=\"dataframe\">\n",
       "  <thead>\n",
       "    <tr style=\"text-align: right;\">\n",
       "      <th></th>\n",
       "      <th>count</th>\n",
       "      <th>mean</th>\n",
       "      <th>std</th>\n",
       "      <th>min</th>\n",
       "      <th>25%</th>\n",
       "      <th>50%</th>\n",
       "      <th>75%</th>\n",
       "      <th>max</th>\n",
       "    </tr>\n",
       "  </thead>\n",
       "  <tbody>\n",
       "    <tr>\n",
       "      <th>0</th>\n",
       "      <td>5.0</td>\n",
       "      <td>-0.015797</td>\n",
       "      <td>0.003957</td>\n",
       "      <td>-0.020459</td>\n",
       "      <td>-0.018566</td>\n",
       "      <td>-0.015864</td>\n",
       "      <td>-0.013645</td>\n",
       "      <td>-0.01045</td>\n",
       "    </tr>\n",
       "  </tbody>\n",
       "</table>\n",
       "</div>"
      ],
      "text/plain": [
       "   count      mean       std       min       25%       50%       75%      max\n",
       "0    5.0 -0.015797  0.003957 -0.020459 -0.018566 -0.015864 -0.013645 -0.01045"
      ]
     },
     "execution_count": 97,
     "metadata": {},
     "output_type": "execute_result"
    }
   ],
   "source": [
    "val_results = cross_validate(lasso_pipeline,X,y, scoring=['neg_mean_squared_error','r2'], n_jobs=-1)\n",
    "pd.DataFrame(val_results['test_neg_mean_squared_error']).describe().transpose()"
   ]
  },
  {
   "cell_type": "code",
   "execution_count": 193,
   "id": "ed9be753-e2ef-4dfb-905d-3586b82640cd",
   "metadata": {},
   "outputs": [
    {
     "data": {
      "text/html": [
       "<div>\n",
       "<style scoped>\n",
       "    .dataframe tbody tr th:only-of-type {\n",
       "        vertical-align: middle;\n",
       "    }\n",
       "\n",
       "    .dataframe tbody tr th {\n",
       "        vertical-align: top;\n",
       "    }\n",
       "\n",
       "    .dataframe thead th {\n",
       "        text-align: right;\n",
       "    }\n",
       "</style>\n",
       "<table border=\"1\" class=\"dataframe\">\n",
       "  <thead>\n",
       "    <tr style=\"text-align: right;\">\n",
       "      <th></th>\n",
       "      <th>count</th>\n",
       "      <th>mean</th>\n",
       "      <th>std</th>\n",
       "      <th>min</th>\n",
       "      <th>25%</th>\n",
       "      <th>50%</th>\n",
       "      <th>75%</th>\n",
       "      <th>max</th>\n",
       "    </tr>\n",
       "  </thead>\n",
       "  <tbody>\n",
       "    <tr>\n",
       "      <th>0</th>\n",
       "      <td>5.0</td>\n",
       "      <td>-0.016234</td>\n",
       "      <td>0.003941</td>\n",
       "      <td>-0.021535</td>\n",
       "      <td>-0.018135</td>\n",
       "      <td>-0.016469</td>\n",
       "      <td>-0.013681</td>\n",
       "      <td>-0.011352</td>\n",
       "    </tr>\n",
       "  </tbody>\n",
       "</table>\n",
       "</div>"
      ],
      "text/plain": [
       "   count      mean       std       min       25%       50%       75%       max\n",
       "0    5.0 -0.016234  0.003941 -0.021535 -0.018135 -0.016469 -0.013681 -0.011352"
      ]
     },
     "execution_count": 193,
     "metadata": {},
     "output_type": "execute_result"
    }
   ],
   "source": [
    "val_results = cross_validate(elastic_net_pipeline,X,y, scoring=['neg_mean_squared_error','r2'],n_jobs=-1)\n",
    "pd.DataFrame(val_results['test_neg_mean_squared_error']).describe().transpose()"
   ]
  },
  {
   "cell_type": "code",
   "execution_count": 82,
   "id": "337ff990-c6a2-4287-9dfc-7453944c8629",
   "metadata": {},
   "outputs": [
    {
     "data": {
      "text/html": [
       "<div>\n",
       "<style scoped>\n",
       "    .dataframe tbody tr th:only-of-type {\n",
       "        vertical-align: middle;\n",
       "    }\n",
       "\n",
       "    .dataframe tbody tr th {\n",
       "        vertical-align: top;\n",
       "    }\n",
       "\n",
       "    .dataframe thead th {\n",
       "        text-align: right;\n",
       "    }\n",
       "</style>\n",
       "<table border=\"1\" class=\"dataframe\">\n",
       "  <thead>\n",
       "    <tr style=\"text-align: right;\">\n",
       "      <th></th>\n",
       "      <th>count</th>\n",
       "      <th>mean</th>\n",
       "      <th>std</th>\n",
       "      <th>min</th>\n",
       "      <th>25%</th>\n",
       "      <th>50%</th>\n",
       "      <th>75%</th>\n",
       "      <th>max</th>\n",
       "    </tr>\n",
       "  </thead>\n",
       "  <tbody>\n",
       "    <tr>\n",
       "      <th>0</th>\n",
       "      <td>5.0</td>\n",
       "      <td>-0.037759</td>\n",
       "      <td>0.004289</td>\n",
       "      <td>-0.042593</td>\n",
       "      <td>-0.041169</td>\n",
       "      <td>-0.038267</td>\n",
       "      <td>-0.033431</td>\n",
       "      <td>-0.033332</td>\n",
       "    </tr>\n",
       "  </tbody>\n",
       "</table>\n",
       "</div>"
      ],
      "text/plain": [
       "   count      mean       std       min       25%       50%       75%       max\n",
       "0    5.0 -0.037759  0.004289 -0.042593 -0.041169 -0.038267 -0.033431 -0.033332"
      ]
     },
     "execution_count": 82,
     "metadata": {},
     "output_type": "execute_result"
    }
   ],
   "source": [
    "val_results = cross_validate(decision_tree_pipeline,X,y, scoring=['neg_mean_squared_error','r2'])\n",
    "pd.DataFrame(val_results['test_neg_mean_squared_error']).describe().transpose()"
   ]
  },
  {
   "cell_type": "code",
   "execution_count": 195,
   "id": "276aa2df-d0b3-4e78-a4e3-c2c1ca948160",
   "metadata": {},
   "outputs": [
    {
     "data": {
      "text/html": [
       "<div>\n",
       "<style scoped>\n",
       "    .dataframe tbody tr th:only-of-type {\n",
       "        vertical-align: middle;\n",
       "    }\n",
       "\n",
       "    .dataframe tbody tr th {\n",
       "        vertical-align: top;\n",
       "    }\n",
       "\n",
       "    .dataframe thead th {\n",
       "        text-align: right;\n",
       "    }\n",
       "</style>\n",
       "<table border=\"1\" class=\"dataframe\">\n",
       "  <thead>\n",
       "    <tr style=\"text-align: right;\">\n",
       "      <th></th>\n",
       "      <th>count</th>\n",
       "      <th>mean</th>\n",
       "      <th>std</th>\n",
       "      <th>min</th>\n",
       "      <th>25%</th>\n",
       "      <th>50%</th>\n",
       "      <th>75%</th>\n",
       "      <th>max</th>\n",
       "    </tr>\n",
       "  </thead>\n",
       "  <tbody>\n",
       "    <tr>\n",
       "      <th>0</th>\n",
       "      <td>5.0</td>\n",
       "      <td>-0.014892</td>\n",
       "      <td>0.002631</td>\n",
       "      <td>-0.01758</td>\n",
       "      <td>-0.016339</td>\n",
       "      <td>-0.016314</td>\n",
       "      <td>-0.012788</td>\n",
       "      <td>-0.011438</td>\n",
       "    </tr>\n",
       "  </tbody>\n",
       "</table>\n",
       "</div>"
      ],
      "text/plain": [
       "   count      mean       std      min       25%       50%       75%       max\n",
       "0    5.0 -0.014892  0.002631 -0.01758 -0.016339 -0.016314 -0.012788 -0.011438"
      ]
     },
     "execution_count": 195,
     "metadata": {},
     "output_type": "execute_result"
    }
   ],
   "source": [
    "val_results = cross_validate(xg_boost_pipeline,X,y, scoring=['neg_mean_squared_error','r2'])\n",
    "pd.DataFrame(val_results['test_neg_mean_squared_error']).describe().transpose()"
   ]
  },
  {
   "cell_type": "code",
   "execution_count": 196,
   "id": "8fa23837-8325-48e1-8610-67b4fc2315ae",
   "metadata": {},
   "outputs": [
    {
     "data": {
      "text/html": [
       "<div>\n",
       "<style scoped>\n",
       "    .dataframe tbody tr th:only-of-type {\n",
       "        vertical-align: middle;\n",
       "    }\n",
       "\n",
       "    .dataframe tbody tr th {\n",
       "        vertical-align: top;\n",
       "    }\n",
       "\n",
       "    .dataframe thead th {\n",
       "        text-align: right;\n",
       "    }\n",
       "</style>\n",
       "<table border=\"1\" class=\"dataframe\">\n",
       "  <thead>\n",
       "    <tr style=\"text-align: right;\">\n",
       "      <th></th>\n",
       "      <th>count</th>\n",
       "      <th>mean</th>\n",
       "      <th>std</th>\n",
       "      <th>min</th>\n",
       "      <th>25%</th>\n",
       "      <th>50%</th>\n",
       "      <th>75%</th>\n",
       "      <th>max</th>\n",
       "    </tr>\n",
       "  </thead>\n",
       "  <tbody>\n",
       "    <tr>\n",
       "      <th>0</th>\n",
       "      <td>5.0</td>\n",
       "      <td>-0.020707</td>\n",
       "      <td>0.00251</td>\n",
       "      <td>-0.024339</td>\n",
       "      <td>-0.022133</td>\n",
       "      <td>-0.019938</td>\n",
       "      <td>-0.018871</td>\n",
       "      <td>-0.018255</td>\n",
       "    </tr>\n",
       "  </tbody>\n",
       "</table>\n",
       "</div>"
      ],
      "text/plain": [
       "   count      mean      std       min       25%       50%       75%       max\n",
       "0    5.0 -0.020707  0.00251 -0.024339 -0.022133 -0.019938 -0.018871 -0.018255"
      ]
     },
     "execution_count": 196,
     "metadata": {},
     "output_type": "execute_result"
    }
   ],
   "source": [
    "val_results = cross_validate(random_forest_pipeline,X,y, scoring=['neg_mean_squared_error','r2'])\n",
    "pd.DataFrame(val_results['test_neg_mean_squared_error']).describe().transpose()"
   ]
  },
  {
   "cell_type": "code",
   "execution_count": 52,
   "id": "3340e562-c118-4647-aa33-f94b57008e30",
   "metadata": {},
   "outputs": [
    {
     "data": {
      "text/html": [
       "<div>\n",
       "<style scoped>\n",
       "    .dataframe tbody tr th:only-of-type {\n",
       "        vertical-align: middle;\n",
       "    }\n",
       "\n",
       "    .dataframe tbody tr th {\n",
       "        vertical-align: top;\n",
       "    }\n",
       "\n",
       "    .dataframe thead th {\n",
       "        text-align: right;\n",
       "    }\n",
       "</style>\n",
       "<table border=\"1\" class=\"dataframe\">\n",
       "  <thead>\n",
       "    <tr style=\"text-align: right;\">\n",
       "      <th></th>\n",
       "      <th>count</th>\n",
       "      <th>mean</th>\n",
       "      <th>std</th>\n",
       "      <th>min</th>\n",
       "      <th>25%</th>\n",
       "      <th>50%</th>\n",
       "      <th>75%</th>\n",
       "      <th>max</th>\n",
       "    </tr>\n",
       "  </thead>\n",
       "  <tbody>\n",
       "    <tr>\n",
       "      <th>0</th>\n",
       "      <td>5.0</td>\n",
       "      <td>-0.018843</td>\n",
       "      <td>0.002904</td>\n",
       "      <td>-0.022583</td>\n",
       "      <td>-0.020186</td>\n",
       "      <td>-0.019576</td>\n",
       "      <td>-0.01642</td>\n",
       "      <td>-0.015448</td>\n",
       "    </tr>\n",
       "  </tbody>\n",
       "</table>\n",
       "</div>"
      ],
      "text/plain": [
       "   count      mean       std       min       25%       50%      75%       max\n",
       "0    5.0 -0.018843  0.002904 -0.022583 -0.020186 -0.019576 -0.01642 -0.015448"
      ]
     },
     "execution_count": 52,
     "metadata": {},
     "output_type": "execute_result"
    }
   ],
   "source": [
    "val_results = cross_validate(random_forest,X,y, scoring=['neg_mean_squared_error','r2'])\n",
    "pd.DataFrame(val_results['test_neg_mean_squared_error']).describe().transpose()"
   ]
  },
  {
   "cell_type": "code",
   "execution_count": 245,
   "id": "4c7c9918-70a6-4ee9-bec2-95d876d2b6a2",
   "metadata": {},
   "outputs": [
    {
     "data": {
      "text/html": [
       "<div>\n",
       "<style scoped>\n",
       "    .dataframe tbody tr th:only-of-type {\n",
       "        vertical-align: middle;\n",
       "    }\n",
       "\n",
       "    .dataframe tbody tr th {\n",
       "        vertical-align: top;\n",
       "    }\n",
       "\n",
       "    .dataframe thead th {\n",
       "        text-align: right;\n",
       "    }\n",
       "</style>\n",
       "<table border=\"1\" class=\"dataframe\">\n",
       "  <thead>\n",
       "    <tr style=\"text-align: right;\">\n",
       "      <th></th>\n",
       "      <th>count</th>\n",
       "      <th>mean</th>\n",
       "      <th>std</th>\n",
       "      <th>min</th>\n",
       "      <th>25%</th>\n",
       "      <th>50%</th>\n",
       "      <th>75%</th>\n",
       "      <th>max</th>\n",
       "    </tr>\n",
       "  </thead>\n",
       "  <tbody>\n",
       "    <tr>\n",
       "      <th>0</th>\n",
       "      <td>5.0</td>\n",
       "      <td>-0.031226</td>\n",
       "      <td>0.003267</td>\n",
       "      <td>-0.034848</td>\n",
       "      <td>-0.033666</td>\n",
       "      <td>-0.030606</td>\n",
       "      <td>-0.030557</td>\n",
       "      <td>-0.026451</td>\n",
       "    </tr>\n",
       "  </tbody>\n",
       "</table>\n",
       "</div>"
      ],
      "text/plain": [
       "   count      mean       std       min       25%       50%       75%       max\n",
       "0    5.0 -0.031226  0.003267 -0.034848 -0.033666 -0.030606 -0.030557 -0.026451"
      ]
     },
     "execution_count": 245,
     "metadata": {},
     "output_type": "execute_result"
    }
   ],
   "source": [
    "val_results = cross_validate(adaboost_pipeline,X,y, scoring=['neg_mean_squared_error','r2'])\n",
    "pd.DataFrame(val_results['test_neg_mean_squared_error']).describe().transpose()"
   ]
  },
  {
   "cell_type": "code",
   "execution_count": 161,
   "id": "20e9b132-888c-42e8-951a-cb279abed13e",
   "metadata": {},
   "outputs": [
    {
     "name": "stdout",
     "output_type": "stream",
     "text": [
      "[LightGBM] [Warning] lambda_l1 is set=0.1, reg_alpha=0.0 will be ignored. Current value: lambda_l1=0.1\n",
      "[LightGBM] [Warning] lambda_l1 is set=0.1, reg_alpha=0.0 will be ignored. Current value: lambda_l1=0.1\n",
      "[LightGBM] [Warning] lambda_l1 is set=0.1, reg_alpha=0.0 will be ignored. Current value: lambda_l1=0.1\n",
      "[LightGBM] [Warning] lambda_l1 is set=0.1, reg_alpha=0.0 will be ignored. Current value: lambda_l1=0.1\n"
     ]
    },
    {
     "data": {
      "text/html": [
       "<div>\n",
       "<style scoped>\n",
       "    .dataframe tbody tr th:only-of-type {\n",
       "        vertical-align: middle;\n",
       "    }\n",
       "\n",
       "    .dataframe tbody tr th {\n",
       "        vertical-align: top;\n",
       "    }\n",
       "\n",
       "    .dataframe thead th {\n",
       "        text-align: right;\n",
       "    }\n",
       "</style>\n",
       "<table border=\"1\" class=\"dataframe\">\n",
       "  <thead>\n",
       "    <tr style=\"text-align: right;\">\n",
       "      <th></th>\n",
       "      <th>count</th>\n",
       "      <th>mean</th>\n",
       "      <th>std</th>\n",
       "      <th>min</th>\n",
       "      <th>25%</th>\n",
       "      <th>50%</th>\n",
       "      <th>75%</th>\n",
       "      <th>max</th>\n",
       "    </tr>\n",
       "  </thead>\n",
       "  <tbody>\n",
       "    <tr>\n",
       "      <th>0</th>\n",
       "      <td>5.0</td>\n",
       "      <td>-0.015409</td>\n",
       "      <td>0.002265</td>\n",
       "      <td>-0.017502</td>\n",
       "      <td>-0.017197</td>\n",
       "      <td>-0.016411</td>\n",
       "      <td>-0.012971</td>\n",
       "      <td>-0.012962</td>\n",
       "    </tr>\n",
       "  </tbody>\n",
       "</table>\n",
       "</div>"
      ],
      "text/plain": [
       "   count      mean       std       min       25%       50%       75%       max\n",
       "0    5.0 -0.015409  0.002265 -0.017502 -0.017197 -0.016411 -0.012971 -0.012962"
      ]
     },
     "execution_count": 161,
     "metadata": {},
     "output_type": "execute_result"
    }
   ],
   "source": [
    "val_results = cross_validate(light_gbm_pipeline,X,y, scoring=['neg_mean_squared_error','r2'])\n",
    "pd.DataFrame(val_results['test_neg_mean_squared_error']).describe().transpose()"
   ]
  },
  {
   "cell_type": "code",
   "execution_count": 163,
   "id": "02984416-a9c1-4513-899d-80c43433360a",
   "metadata": {},
   "outputs": [
    {
     "data": {
      "text/html": [
       "<div>\n",
       "<style scoped>\n",
       "    .dataframe tbody tr th:only-of-type {\n",
       "        vertical-align: middle;\n",
       "    }\n",
       "\n",
       "    .dataframe tbody tr th {\n",
       "        vertical-align: top;\n",
       "    }\n",
       "\n",
       "    .dataframe thead th {\n",
       "        text-align: right;\n",
       "    }\n",
       "</style>\n",
       "<table border=\"1\" class=\"dataframe\">\n",
       "  <thead>\n",
       "    <tr style=\"text-align: right;\">\n",
       "      <th></th>\n",
       "      <th>count</th>\n",
       "      <th>mean</th>\n",
       "      <th>std</th>\n",
       "      <th>min</th>\n",
       "      <th>25%</th>\n",
       "      <th>50%</th>\n",
       "      <th>75%</th>\n",
       "      <th>max</th>\n",
       "    </tr>\n",
       "  </thead>\n",
       "  <tbody>\n",
       "    <tr>\n",
       "      <th>0</th>\n",
       "      <td>5.0</td>\n",
       "      <td>-0.014691</td>\n",
       "      <td>0.003531</td>\n",
       "      <td>-0.019231</td>\n",
       "      <td>-0.017045</td>\n",
       "      <td>-0.014612</td>\n",
       "      <td>-0.011772</td>\n",
       "      <td>-0.010795</td>\n",
       "    </tr>\n",
       "  </tbody>\n",
       "</table>\n",
       "</div>"
      ],
      "text/plain": [
       "   count      mean       std       min       25%       50%       75%       max\n",
       "0    5.0 -0.014691  0.003531 -0.019231 -0.017045 -0.014612 -0.011772 -0.010795"
      ]
     },
     "execution_count": 163,
     "metadata": {},
     "output_type": "execute_result"
    }
   ],
   "source": [
    "val_results = cross_validate(gbr_pipeline,X,y, scoring=['neg_mean_squared_error','r2'])\n",
    "pd.DataFrame(val_results['test_neg_mean_squared_error']).describe().transpose()"
   ]
  },
  {
   "cell_type": "code",
   "execution_count": 267,
   "id": "c3b3dbbb-b970-4d89-921b-7cab599965af",
   "metadata": {},
   "outputs": [
    {
     "data": {
      "text/html": [
       "<div>\n",
       "<style scoped>\n",
       "    .dataframe tbody tr th:only-of-type {\n",
       "        vertical-align: middle;\n",
       "    }\n",
       "\n",
       "    .dataframe tbody tr th {\n",
       "        vertical-align: top;\n",
       "    }\n",
       "\n",
       "    .dataframe thead th {\n",
       "        text-align: right;\n",
       "    }\n",
       "</style>\n",
       "<table border=\"1\" class=\"dataframe\">\n",
       "  <thead>\n",
       "    <tr style=\"text-align: right;\">\n",
       "      <th></th>\n",
       "      <th>count</th>\n",
       "      <th>mean</th>\n",
       "      <th>std</th>\n",
       "      <th>min</th>\n",
       "      <th>25%</th>\n",
       "      <th>50%</th>\n",
       "      <th>75%</th>\n",
       "      <th>max</th>\n",
       "    </tr>\n",
       "  </thead>\n",
       "  <tbody>\n",
       "    <tr>\n",
       "      <th>0</th>\n",
       "      <td>5.0</td>\n",
       "      <td>-1.904125e+33</td>\n",
       "      <td>1.031940e+33</td>\n",
       "      <td>-3.698560e+33</td>\n",
       "      <td>-1.823122e+33</td>\n",
       "      <td>-1.471204e+33</td>\n",
       "      <td>-1.377371e+33</td>\n",
       "      <td>-1.150367e+33</td>\n",
       "    </tr>\n",
       "  </tbody>\n",
       "</table>\n",
       "</div>"
      ],
      "text/plain": [
       "   count          mean           std           min           25%  \\\n",
       "0    5.0 -1.904125e+33  1.031940e+33 -3.698560e+33 -1.823122e+33   \n",
       "\n",
       "            50%           75%           max  \n",
       "0 -1.471204e+33 -1.377371e+33 -1.150367e+33  "
      ]
     },
     "execution_count": 267,
     "metadata": {},
     "output_type": "execute_result"
    }
   ],
   "source": [
    "val_results = cross_validate(SGDR,X,y, scoring=['neg_mean_squared_error','r2'])\n",
    "pd.DataFrame(val_results['test_neg_mean_squared_error']).describe().transpose()"
   ]
  },
  {
   "cell_type": "code",
   "execution_count": 268,
   "id": "59185868-37ac-49d6-89a5-c5defcc0c9d6",
   "metadata": {},
   "outputs": [
    {
     "data": {
      "text/html": [
       "<div>\n",
       "<style scoped>\n",
       "    .dataframe tbody tr th:only-of-type {\n",
       "        vertical-align: middle;\n",
       "    }\n",
       "\n",
       "    .dataframe tbody tr th {\n",
       "        vertical-align: top;\n",
       "    }\n",
       "\n",
       "    .dataframe thead th {\n",
       "        text-align: right;\n",
       "    }\n",
       "</style>\n",
       "<table border=\"1\" class=\"dataframe\">\n",
       "  <thead>\n",
       "    <tr style=\"text-align: right;\">\n",
       "      <th></th>\n",
       "      <th>count</th>\n",
       "      <th>mean</th>\n",
       "      <th>std</th>\n",
       "      <th>min</th>\n",
       "      <th>25%</th>\n",
       "      <th>50%</th>\n",
       "      <th>75%</th>\n",
       "      <th>max</th>\n",
       "    </tr>\n",
       "  </thead>\n",
       "  <tbody>\n",
       "    <tr>\n",
       "      <th>0</th>\n",
       "      <td>5.0</td>\n",
       "      <td>-0.041612</td>\n",
       "      <td>0.004728</td>\n",
       "      <td>-0.045493</td>\n",
       "      <td>-0.045119</td>\n",
       "      <td>-0.042029</td>\n",
       "      <td>-0.041672</td>\n",
       "      <td>-0.033746</td>\n",
       "    </tr>\n",
       "  </tbody>\n",
       "</table>\n",
       "</div>"
      ],
      "text/plain": [
       "   count      mean       std       min       25%       50%       75%       max\n",
       "0    5.0 -0.041612  0.004728 -0.045493 -0.045119 -0.042029 -0.041672 -0.033746"
      ]
     },
     "execution_count": 268,
     "metadata": {},
     "output_type": "execute_result"
    }
   ],
   "source": [
    "val_results = cross_validate(svr,X,y, scoring=['neg_mean_squared_error','r2'])\n",
    "pd.DataFrame(val_results['test_neg_mean_squared_error']).describe().transpose()"
   ]
  },
  {
   "cell_type": "code",
   "execution_count": 168,
   "id": "61855656-5671-486d-a2b9-4833d6c80998",
   "metadata": {},
   "outputs": [
    {
     "data": {
      "text/html": [
       "<div>\n",
       "<style scoped>\n",
       "    .dataframe tbody tr th:only-of-type {\n",
       "        vertical-align: middle;\n",
       "    }\n",
       "\n",
       "    .dataframe tbody tr th {\n",
       "        vertical-align: top;\n",
       "    }\n",
       "\n",
       "    .dataframe thead th {\n",
       "        text-align: right;\n",
       "    }\n",
       "</style>\n",
       "<table border=\"1\" class=\"dataframe\">\n",
       "  <thead>\n",
       "    <tr style=\"text-align: right;\">\n",
       "      <th></th>\n",
       "      <th>count</th>\n",
       "      <th>mean</th>\n",
       "      <th>std</th>\n",
       "      <th>min</th>\n",
       "      <th>25%</th>\n",
       "      <th>50%</th>\n",
       "      <th>75%</th>\n",
       "      <th>max</th>\n",
       "    </tr>\n",
       "  </thead>\n",
       "  <tbody>\n",
       "    <tr>\n",
       "      <th>0</th>\n",
       "      <td>5.0</td>\n",
       "      <td>-0.020058</td>\n",
       "      <td>0.008451</td>\n",
       "      <td>-0.034016</td>\n",
       "      <td>-0.021742</td>\n",
       "      <td>-0.016922</td>\n",
       "      <td>-0.013957</td>\n",
       "      <td>-0.013655</td>\n",
       "    </tr>\n",
       "  </tbody>\n",
       "</table>\n",
       "</div>"
      ],
      "text/plain": [
       "   count      mean       std       min       25%       50%       75%       max\n",
       "0    5.0 -0.020058  0.008451 -0.034016 -0.021742 -0.016922 -0.013957 -0.013655"
      ]
     },
     "execution_count": 168,
     "metadata": {},
     "output_type": "execute_result"
    }
   ],
   "source": [
    "val_results = cross_validate(bayesianr_pipeline,X,y, scoring=['neg_mean_squared_error','r2'])\n",
    "pd.DataFrame(val_results['test_neg_mean_squared_error']).describe().transpose()"
   ]
  },
  {
   "cell_type": "code",
   "execution_count": 271,
   "id": "fb03df86-2a2e-4ff3-9cfa-890267750f35",
   "metadata": {},
   "outputs": [
    {
     "data": {
      "text/html": [
       "<div>\n",
       "<style scoped>\n",
       "    .dataframe tbody tr th:only-of-type {\n",
       "        vertical-align: middle;\n",
       "    }\n",
       "\n",
       "    .dataframe tbody tr th {\n",
       "        vertical-align: top;\n",
       "    }\n",
       "\n",
       "    .dataframe thead th {\n",
       "        text-align: right;\n",
       "    }\n",
       "</style>\n",
       "<table border=\"1\" class=\"dataframe\">\n",
       "  <thead>\n",
       "    <tr style=\"text-align: right;\">\n",
       "      <th></th>\n",
       "      <th>count</th>\n",
       "      <th>mean</th>\n",
       "      <th>std</th>\n",
       "      <th>min</th>\n",
       "      <th>25%</th>\n",
       "      <th>50%</th>\n",
       "      <th>75%</th>\n",
       "      <th>max</th>\n",
       "    </tr>\n",
       "  </thead>\n",
       "  <tbody>\n",
       "    <tr>\n",
       "      <th>0</th>\n",
       "      <td>5.0</td>\n",
       "      <td>-577.065057</td>\n",
       "      <td>0.720064</td>\n",
       "      <td>-577.531635</td>\n",
       "      <td>-577.427471</td>\n",
       "      <td>-577.374909</td>\n",
       "      <td>-577.195793</td>\n",
       "      <td>-575.795477</td>\n",
       "    </tr>\n",
       "  </tbody>\n",
       "</table>\n",
       "</div>"
      ],
      "text/plain": [
       "   count        mean       std         min         25%         50%  \\\n",
       "0    5.0 -577.065057  0.720064 -577.531635 -577.427471 -577.374909   \n",
       "\n",
       "          75%         max  \n",
       "0 -577.195793 -575.795477  "
      ]
     },
     "execution_count": 271,
     "metadata": {},
     "output_type": "execute_result"
    }
   ],
   "source": [
    "val_results = cross_validate(kernelr_pipeline,X,y, scoring=['neg_mean_squared_error','r2'])\n",
    "pd.DataFrame(val_results['test_neg_mean_squared_error']).describe().transpose()"
   ]
  },
  {
   "cell_type": "code",
   "execution_count": 226,
   "id": "673d69f8",
   "metadata": {},
   "outputs": [
    {
     "data": {
      "text/html": [
       "<div>\n",
       "<style scoped>\n",
       "    .dataframe tbody tr th:only-of-type {\n",
       "        vertical-align: middle;\n",
       "    }\n",
       "\n",
       "    .dataframe tbody tr th {\n",
       "        vertical-align: top;\n",
       "    }\n",
       "\n",
       "    .dataframe thead th {\n",
       "        text-align: right;\n",
       "    }\n",
       "</style>\n",
       "<table border=\"1\" class=\"dataframe\">\n",
       "  <thead>\n",
       "    <tr style=\"text-align: right;\">\n",
       "      <th></th>\n",
       "      <th>count</th>\n",
       "      <th>mean</th>\n",
       "      <th>std</th>\n",
       "      <th>min</th>\n",
       "      <th>25%</th>\n",
       "      <th>50%</th>\n",
       "      <th>75%</th>\n",
       "      <th>max</th>\n",
       "    </tr>\n",
       "  </thead>\n",
       "  <tbody>\n",
       "    <tr>\n",
       "      <th>0</th>\n",
       "      <td>5.0</td>\n",
       "      <td>-0.014059</td>\n",
       "      <td>0.002386</td>\n",
       "      <td>-0.016331</td>\n",
       "      <td>-0.0161</td>\n",
       "      <td>-0.014812</td>\n",
       "      <td>-0.011662</td>\n",
       "      <td>-0.011388</td>\n",
       "    </tr>\n",
       "  </tbody>\n",
       "</table>\n",
       "</div>"
      ],
      "text/plain": [
       "   count      mean       std       min     25%       50%       75%       max\n",
       "0    5.0 -0.014059  0.002386 -0.016331 -0.0161 -0.014812 -0.011662 -0.011388"
      ]
     },
     "execution_count": 226,
     "metadata": {},
     "output_type": "execute_result"
    }
   ],
   "source": [
    "val_results = cross_validate(catboost_reg,X,y, scoring=['neg_mean_squared_error','r2'])\n",
    "pd.DataFrame(val_results['test_neg_mean_squared_error']).describe().transpose()"
   ]
  },
  {
   "cell_type": "code",
   "execution_count": 272,
   "id": "bfec3d20-64c9-4272-8546-f906d83d37c4",
   "metadata": {},
   "outputs": [
    {
     "data": {
      "text/html": [
       "<div>\n",
       "<style scoped>\n",
       "    .dataframe tbody tr th:only-of-type {\n",
       "        vertical-align: middle;\n",
       "    }\n",
       "\n",
       "    .dataframe tbody tr th {\n",
       "        vertical-align: top;\n",
       "    }\n",
       "\n",
       "    .dataframe thead th {\n",
       "        text-align: right;\n",
       "    }\n",
       "</style>\n",
       "<table border=\"1\" class=\"dataframe\">\n",
       "  <thead>\n",
       "    <tr style=\"text-align: right;\">\n",
       "      <th></th>\n",
       "      <th>count</th>\n",
       "      <th>mean</th>\n",
       "      <th>std</th>\n",
       "      <th>min</th>\n",
       "      <th>25%</th>\n",
       "      <th>50%</th>\n",
       "      <th>75%</th>\n",
       "      <th>max</th>\n",
       "    </tr>\n",
       "  </thead>\n",
       "  <tbody>\n",
       "    <tr>\n",
       "      <th>0</th>\n",
       "      <td>5.0</td>\n",
       "      <td>-0.014984</td>\n",
       "      <td>0.002678</td>\n",
       "      <td>-0.018672</td>\n",
       "      <td>-0.016118</td>\n",
       "      <td>-0.015262</td>\n",
       "      <td>-0.013029</td>\n",
       "      <td>-0.011838</td>\n",
       "    </tr>\n",
       "  </tbody>\n",
       "</table>\n",
       "</div>"
      ],
      "text/plain": [
       "   count      mean       std       min       25%       50%       75%       max\n",
       "0    5.0 -0.014984  0.002678 -0.018672 -0.016118 -0.015262 -0.013029 -0.011838"
      ]
     },
     "execution_count": 272,
     "metadata": {},
     "output_type": "execute_result"
    }
   ],
   "source": [
    "val_results = cross_validate(voting_reg,X,y, scoring=['neg_mean_squared_error','r2'])\n",
    "pd.DataFrame(val_results['test_neg_mean_squared_error']).describe().transpose()"
   ]
  },
  {
   "cell_type": "code",
   "execution_count": 229,
   "id": "d7e533ca-9806-4ac1-ab91-e964bcd46a50",
   "metadata": {},
   "outputs": [
    {
     "name": "stdout",
     "output_type": "stream",
     "text": [
      "[LightGBM] [Warning] lambda_l1 is set=0.1, reg_alpha=0.0 will be ignored. Current value: lambda_l1=0.1\n",
      "[LightGBM] [Warning] lambda_l1 is set=0.1, reg_alpha=0.0 will be ignored. Current value: lambda_l1=0.1\n",
      "[LightGBM] [Warning] lambda_l1 is set=0.1, reg_alpha=0.0 will be ignored. Current value: lambda_l1=0.1\n",
      "[LightGBM] [Warning] lambda_l1 is set=0.1, reg_alpha=0.0 will be ignored. Current value: lambda_l1=0.1\n",
      "[LightGBM] [Warning] lambda_l1 is set=0.1, reg_alpha=0.0 will be ignored. Current value: lambda_l1=0.1\n",
      "[LightGBM] [Warning] lambda_l1 is set=0.1, reg_alpha=0.0 will be ignored. Current value: lambda_l1=0.1\n",
      "[LightGBM] [Warning] lambda_l1 is set=0.1, reg_alpha=0.0 will be ignored. Current value: lambda_l1=0.1\n",
      "[LightGBM] [Warning] lambda_l1 is set=0.1, reg_alpha=0.0 will be ignored. Current value: lambda_l1=0.1\n",
      "[LightGBM] [Warning] lambda_l1 is set=0.1, reg_alpha=0.0 will be ignored. Current value: lambda_l1=0.1\n",
      "[LightGBM] [Warning] lambda_l1 is set=0.1, reg_alpha=0.0 will be ignored. Current value: lambda_l1=0.1\n",
      "[LightGBM] [Warning] lambda_l1 is set=0.1, reg_alpha=0.0 will be ignored. Current value: lambda_l1=0.1\n",
      "[LightGBM] [Warning] lambda_l1 is set=0.1, reg_alpha=0.0 will be ignored. Current value: lambda_l1=0.1\n",
      "[LightGBM] [Warning] lambda_l1 is set=0.1, reg_alpha=0.0 will be ignored. Current value: lambda_l1=0.1\n",
      "[LightGBM] [Warning] lambda_l1 is set=0.1, reg_alpha=0.0 will be ignored. Current value: lambda_l1=0.1\n",
      "[LightGBM] [Warning] lambda_l1 is set=0.1, reg_alpha=0.0 will be ignored. Current value: lambda_l1=0.1\n"
     ]
    },
    {
     "data": {
      "text/html": [
       "<div>\n",
       "<style scoped>\n",
       "    .dataframe tbody tr th:only-of-type {\n",
       "        vertical-align: middle;\n",
       "    }\n",
       "\n",
       "    .dataframe tbody tr th {\n",
       "        vertical-align: top;\n",
       "    }\n",
       "\n",
       "    .dataframe thead th {\n",
       "        text-align: right;\n",
       "    }\n",
       "</style>\n",
       "<table border=\"1\" class=\"dataframe\">\n",
       "  <thead>\n",
       "    <tr style=\"text-align: right;\">\n",
       "      <th></th>\n",
       "      <th>count</th>\n",
       "      <th>mean</th>\n",
       "      <th>std</th>\n",
       "      <th>min</th>\n",
       "      <th>25%</th>\n",
       "      <th>50%</th>\n",
       "      <th>75%</th>\n",
       "      <th>max</th>\n",
       "    </tr>\n",
       "  </thead>\n",
       "  <tbody>\n",
       "    <tr>\n",
       "      <th>0</th>\n",
       "      <td>5.0</td>\n",
       "      <td>-0.014305</td>\n",
       "      <td>0.002647</td>\n",
       "      <td>-0.017767</td>\n",
       "      <td>-0.015783</td>\n",
       "      <td>-0.014614</td>\n",
       "      <td>-0.011683</td>\n",
       "      <td>-0.01168</td>\n",
       "    </tr>\n",
       "  </tbody>\n",
       "</table>\n",
       "</div>"
      ],
      "text/plain": [
       "   count      mean       std       min       25%       50%       75%      max\n",
       "0    5.0 -0.014305  0.002647 -0.017767 -0.015783 -0.014614 -0.011683 -0.01168"
      ]
     },
     "execution_count": 229,
     "metadata": {},
     "output_type": "execute_result"
    }
   ],
   "source": [
    "val_results = cross_validate(stacking_reg,X,y, scoring=['neg_mean_squared_error','r2'])\n",
    "pd.DataFrame(val_results['test_neg_mean_squared_error']).describe().transpose()"
   ]
  },
  {
   "cell_type": "markdown",
   "id": "4d821af3-1f49-4f49-ba64-6ee20ad635a6",
   "metadata": {},
   "source": [
    "Scaling seems to have really benefitted the linear regression Elastic Net, but did not affect the tree based formulas much. \n",
    "\n",
    "Somehow kernalr is much worse now. "
   ]
  },
  {
   "cell_type": "markdown",
   "id": "b26fe468-3360-49ac-bbc3-3849e7b9a185",
   "metadata": {},
   "source": [
    "# Prediction"
   ]
  },
  {
   "cell_type": "code",
   "execution_count": 39,
   "id": "c9ffa5e0-dfa2-4350-9246-c19ab0dc8c3a",
   "metadata": {},
   "outputs": [],
   "source": [
    "df_predict_raw = pd.read_csv('test.csv')"
   ]
  },
  {
   "cell_type": "code",
   "execution_count": 40,
   "id": "8b308e6a-549b-4fdf-a875-78038c063496",
   "metadata": {},
   "outputs": [],
   "source": [
    "df_predict = df_predict_raw.copy()"
   ]
  },
  {
   "cell_type": "code",
   "execution_count": 41,
   "id": "225e2309-0e42-4c0e-8de6-4151872f12b7",
   "metadata": {},
   "outputs": [],
   "source": [
    "df_predict['AgeHouseAtSale'] = df_predict['YrSold'] - df_predict['YearBuilt']\n",
    "\n",
    "df_predict['YearsLastRemodelAtSale']  = df_predict['YrSold'] - df_predict['YearRemodAdd']\n",
    "\n",
    "df_predict['YearsGarageBuiltAtSale'] = df_predict['YrSold'] - df_predict['GarageYrBlt'] \n",
    "\n",
    "df_predict.drop(columns=['Id'],inplace=True)\n",
    "\n",
    "df_predict['MSSubClass'] = df_predict['MSSubClass'].astype(str)"
   ]
  },
  {
   "cell_type": "code",
   "execution_count": 42,
   "id": "dd25d323",
   "metadata": {},
   "outputs": [],
   "source": [
    "df_predict[\"TotalSF\"] = df_predict[\"1stFlrSF\"] + df_predict[\"2ndFlrSF\"] + df_predict[\"TotalBsmtSF\"] \n",
    "# df_predict[\"GreenArea\"] = df_predict[\"LotArea\"] - df_predict[\"GrLivArea\"] - df_predict[\"GarageArea\"]\n",
    "for var in ['1stFlrSF','2ndFlrSF','TotalBsmtSF']:\n",
    "    df_predict[var+'Pct'] = df_predict[var]/df_predict['TotalSF']\n",
    "# for var in ['LotArea','GrLivArea','GarageArea']:\n",
    "#     df_predict[var+'Pct'] = df_predict[var]/df_predict['GreenArea']"
   ]
  },
  {
   "cell_type": "code",
   "execution_count": 43,
   "id": "c07171c0-5739-4a9f-a29f-989dcb9ef9d0",
   "metadata": {},
   "outputs": [],
   "source": [
    "df_predict['YearsLastRemodelAtSale'] = np.maximum(df_predict['YearsLastRemodelAtSale'],0)\n",
    "df_predict['AgeHouseAtSale'] = np.maximum(df_predict['AgeHouseAtSale'],0)\n",
    "df_predict['YearsGarageBuiltAtSale'] = np.maximum(df_predict['YearsGarageBuiltAtSale'],0)"
   ]
  },
  {
   "cell_type": "code",
   "execution_count": 44,
   "id": "cc7c18e0-cfca-40d7-bf65-0d18d8a30522",
   "metadata": {},
   "outputs": [],
   "source": [
    "for var in df_predict.dtypes[df_predict.dtypes == 'int64'].index:\n",
    "    if df_predict[var].isnull().sum()>0:\n",
    "        df_predict[var+'_isnull'] = df_predict[var].isnull().astype(int)\n",
    "        df_predict[var]=df_predict[var].fillna(df_predict[var].mean())\n",
    "\n",
    "for var in df_predict.dtypes[df_predict.dtypes == 'float64'].index:\n",
    "    if df_predict[var].isnull().sum()>0:\n",
    "        df_predict[var+'_isnull'] = df_predict[var].isnull().astype(int)\n",
    "        df_predict[var]=df_predict[var].fillna(df_predict[var].mean())\n",
    "\n",
    "df_predict_dummies = pd.get_dummies(df_predict,dummy_na=True,drop_first=False)"
   ]
  },
  {
   "cell_type": "raw",
   "id": "8117a59b",
   "metadata": {},
   "source": [
    "continuous_vars = df_predict_dummies.loc[:,df_predict_dummies.nunique() > 2].columns\n",
    "continuous_vars = ['Q(\\''+x+'\\')' for x in continuous_vars]\n",
    "binary_vars = df_predict_dummies.loc[:,df_predict_dummies.nunique() == 2].columns\n",
    "binary_vars = ['Q(\\''+x+'\\')' for x in binary_vars]\n",
    "cont_vars_patsy = ' + '.join(continuous_vars)\n",
    "bin_vars_patsy = ' + '.join(binary_vars)\n",
    "df_predict_dummies = dmatrix(\" (\"+ cont_vars_patsy + \"):(\"+bin_vars_patsy +  \") + (\" + cont_vars_patsy + ')**2', df_predict_dummies, return_type='dataframe')\n",
    "df_predict_dummies.columns = df_predict_dummies.columns.str.replace('Q\\(\\'','').str.replace('\\'\\)','')\n",
    "df_predict_dummies"
   ]
  },
  {
   "cell_type": "code",
   "execution_count": 45,
   "id": "9947902d-3e69-46de-bd25-af488381a21d",
   "metadata": {},
   "outputs": [],
   "source": [
    "_, df_predict_dummies = X.align(df_predict_dummies, axis=1, fill_value=0)"
   ]
  },
  {
   "cell_type": "code",
   "execution_count": 46,
   "id": "2a690d40-9506-4f18-ad3a-5c91bb92f6e0",
   "metadata": {},
   "outputs": [],
   "source": [
    "df_predict_dummies.drop(columns=df_predict_dummies.columns[~df_predict_dummies.columns.isin(X.columns)],inplace=True)"
   ]
  },
  {
   "cell_type": "code",
   "execution_count": 40,
   "id": "f41cc8db-678e-4273-9775-d6e0461501a3",
   "metadata": {},
   "outputs": [
    {
     "data": {
      "text/html": [
       "<div>\n",
       "<style scoped>\n",
       "    .dataframe tbody tr th:only-of-type {\n",
       "        vertical-align: middle;\n",
       "    }\n",
       "\n",
       "    .dataframe tbody tr th {\n",
       "        vertical-align: top;\n",
       "    }\n",
       "\n",
       "    .dataframe thead th {\n",
       "        text-align: right;\n",
       "    }\n",
       "</style>\n",
       "<table border=\"1\" class=\"dataframe\">\n",
       "  <thead>\n",
       "    <tr style=\"text-align: right;\">\n",
       "      <th></th>\n",
       "      <th>1stFlrSF</th>\n",
       "      <th>1stFlrSFPct</th>\n",
       "      <th>2ndFlrSF</th>\n",
       "      <th>2ndFlrSFPct</th>\n",
       "      <th>3SsnPorch</th>\n",
       "      <th>AgeHouseAtSale</th>\n",
       "      <th>Alley_Grvl</th>\n",
       "      <th>Alley_Pave</th>\n",
       "      <th>Alley_nan</th>\n",
       "      <th>BedroomAbvGr</th>\n",
       "      <th>BldgType_1Fam</th>\n",
       "      <th>BldgType_2fmCon</th>\n",
       "      <th>BldgType_Duplex</th>\n",
       "      <th>BldgType_Twnhs</th>\n",
       "      <th>BldgType_TwnhsE</th>\n",
       "      <th>BsmtCond_Fa</th>\n",
       "      <th>BsmtCond_Gd</th>\n",
       "      <th>BsmtCond_Po</th>\n",
       "      <th>BsmtCond_TA</th>\n",
       "      <th>BsmtCond_nan</th>\n",
       "      <th>BsmtExposure_Av</th>\n",
       "      <th>BsmtExposure_Gd</th>\n",
       "      <th>BsmtExposure_Mn</th>\n",
       "      <th>BsmtExposure_No</th>\n",
       "      <th>BsmtExposure_nan</th>\n",
       "      <th>BsmtFinSF1</th>\n",
       "      <th>BsmtFinSF2</th>\n",
       "      <th>BsmtFinType1_ALQ</th>\n",
       "      <th>BsmtFinType1_BLQ</th>\n",
       "      <th>BsmtFinType1_GLQ</th>\n",
       "      <th>BsmtFinType1_LwQ</th>\n",
       "      <th>BsmtFinType1_Rec</th>\n",
       "      <th>BsmtFinType1_Unf</th>\n",
       "      <th>BsmtFinType1_nan</th>\n",
       "      <th>BsmtFinType2_ALQ</th>\n",
       "      <th>BsmtFinType2_BLQ</th>\n",
       "      <th>BsmtFinType2_GLQ</th>\n",
       "      <th>BsmtFinType2_LwQ</th>\n",
       "      <th>BsmtFinType2_Rec</th>\n",
       "      <th>BsmtFinType2_Unf</th>\n",
       "      <th>BsmtFinType2_nan</th>\n",
       "      <th>BsmtFullBath</th>\n",
       "      <th>BsmtHalfBath</th>\n",
       "      <th>BsmtQual_Ex</th>\n",
       "      <th>BsmtQual_Fa</th>\n",
       "      <th>BsmtQual_Gd</th>\n",
       "      <th>BsmtQual_TA</th>\n",
       "      <th>BsmtQual_nan</th>\n",
       "      <th>BsmtUnfSF</th>\n",
       "      <th>CentralAir_N</th>\n",
       "      <th>...</th>\n",
       "      <th>PoolArea</th>\n",
       "      <th>PoolQC_Ex</th>\n",
       "      <th>PoolQC_Fa</th>\n",
       "      <th>PoolQC_Gd</th>\n",
       "      <th>PoolQC_nan</th>\n",
       "      <th>RoofMatl_ClyTile</th>\n",
       "      <th>RoofMatl_CompShg</th>\n",
       "      <th>RoofMatl_Membran</th>\n",
       "      <th>RoofMatl_Metal</th>\n",
       "      <th>RoofMatl_Roll</th>\n",
       "      <th>RoofMatl_Tar&amp;Grv</th>\n",
       "      <th>RoofMatl_WdShake</th>\n",
       "      <th>RoofMatl_WdShngl</th>\n",
       "      <th>RoofStyle_Flat</th>\n",
       "      <th>RoofStyle_Gable</th>\n",
       "      <th>RoofStyle_Gambrel</th>\n",
       "      <th>RoofStyle_Hip</th>\n",
       "      <th>RoofStyle_Mansard</th>\n",
       "      <th>RoofStyle_Shed</th>\n",
       "      <th>SaleCondition_Abnorml</th>\n",
       "      <th>SaleCondition_AdjLand</th>\n",
       "      <th>SaleCondition_Alloca</th>\n",
       "      <th>SaleCondition_Family</th>\n",
       "      <th>SaleCondition_Normal</th>\n",
       "      <th>SaleCondition_Partial</th>\n",
       "      <th>SaleType_COD</th>\n",
       "      <th>SaleType_CWD</th>\n",
       "      <th>SaleType_Con</th>\n",
       "      <th>SaleType_ConLD</th>\n",
       "      <th>SaleType_ConLI</th>\n",
       "      <th>SaleType_ConLw</th>\n",
       "      <th>SaleType_New</th>\n",
       "      <th>SaleType_Oth</th>\n",
       "      <th>SaleType_WD</th>\n",
       "      <th>ScreenPorch</th>\n",
       "      <th>Street_Grvl</th>\n",
       "      <th>Street_Pave</th>\n",
       "      <th>TotRmsAbvGrd</th>\n",
       "      <th>TotalBsmtSF</th>\n",
       "      <th>TotalBsmtSFPct</th>\n",
       "      <th>TotalSF</th>\n",
       "      <th>Utilities_AllPub</th>\n",
       "      <th>Utilities_NoSeWa</th>\n",
       "      <th>WoodDeckSF</th>\n",
       "      <th>YearBuilt</th>\n",
       "      <th>YearRemodAdd</th>\n",
       "      <th>YearsGarageBuiltAtSale</th>\n",
       "      <th>YearsGarageBuiltAtSale_isnull</th>\n",
       "      <th>YearsLastRemodelAtSale</th>\n",
       "      <th>YrSold</th>\n",
       "    </tr>\n",
       "  </thead>\n",
       "  <tbody>\n",
       "    <tr>\n",
       "      <th>count</th>\n",
       "      <td>1459.000000</td>\n",
       "      <td>1459.000000</td>\n",
       "      <td>1459.000000</td>\n",
       "      <td>1459.000000</td>\n",
       "      <td>1459.000000</td>\n",
       "      <td>1459.000000</td>\n",
       "      <td>1459.000000</td>\n",
       "      <td>1459.000000</td>\n",
       "      <td>1459.000000</td>\n",
       "      <td>1459.000000</td>\n",
       "      <td>1459.000000</td>\n",
       "      <td>1459.000000</td>\n",
       "      <td>1459.000000</td>\n",
       "      <td>1459.000000</td>\n",
       "      <td>1459.000000</td>\n",
       "      <td>1459.000000</td>\n",
       "      <td>1459.000000</td>\n",
       "      <td>1459.000000</td>\n",
       "      <td>1459.000000</td>\n",
       "      <td>1459.000000</td>\n",
       "      <td>1459.000000</td>\n",
       "      <td>1459.000000</td>\n",
       "      <td>1459.000000</td>\n",
       "      <td>1459.000000</td>\n",
       "      <td>1459.000000</td>\n",
       "      <td>1459.000000</td>\n",
       "      <td>1459.000000</td>\n",
       "      <td>1459.000000</td>\n",
       "      <td>1459.000000</td>\n",
       "      <td>1459.000000</td>\n",
       "      <td>1459.000000</td>\n",
       "      <td>1459.000000</td>\n",
       "      <td>1459.000000</td>\n",
       "      <td>1459.000000</td>\n",
       "      <td>1459.000000</td>\n",
       "      <td>1459.000000</td>\n",
       "      <td>1459.000000</td>\n",
       "      <td>1459.000000</td>\n",
       "      <td>1459.000000</td>\n",
       "      <td>1459.000000</td>\n",
       "      <td>1459.000000</td>\n",
       "      <td>1459.000000</td>\n",
       "      <td>1459.000000</td>\n",
       "      <td>1459.000000</td>\n",
       "      <td>1459.000000</td>\n",
       "      <td>1459.000000</td>\n",
       "      <td>1459.000000</td>\n",
       "      <td>1459.000000</td>\n",
       "      <td>1459.000000</td>\n",
       "      <td>1459.000000</td>\n",
       "      <td>...</td>\n",
       "      <td>1459.000000</td>\n",
       "      <td>1459.000000</td>\n",
       "      <td>1459.0</td>\n",
       "      <td>1459.000000</td>\n",
       "      <td>1459.000000</td>\n",
       "      <td>1459.0</td>\n",
       "      <td>1459.000000</td>\n",
       "      <td>1459.0</td>\n",
       "      <td>1459.0</td>\n",
       "      <td>1459.0</td>\n",
       "      <td>1459.000000</td>\n",
       "      <td>1459.000000</td>\n",
       "      <td>1459.000000</td>\n",
       "      <td>1459.000000</td>\n",
       "      <td>1459.000000</td>\n",
       "      <td>1459.000000</td>\n",
       "      <td>1459.000000</td>\n",
       "      <td>1459.000000</td>\n",
       "      <td>1459.000000</td>\n",
       "      <td>1459.000000</td>\n",
       "      <td>1459.000000</td>\n",
       "      <td>1459.000000</td>\n",
       "      <td>1459.000000</td>\n",
       "      <td>1459.000000</td>\n",
       "      <td>1459.000000</td>\n",
       "      <td>1459.000000</td>\n",
       "      <td>1459.000000</td>\n",
       "      <td>1459.000000</td>\n",
       "      <td>1459.000000</td>\n",
       "      <td>1459.000000</td>\n",
       "      <td>1459.000000</td>\n",
       "      <td>1459.000000</td>\n",
       "      <td>1459.000000</td>\n",
       "      <td>1459.000000</td>\n",
       "      <td>1459.000000</td>\n",
       "      <td>1459.000000</td>\n",
       "      <td>1459.000000</td>\n",
       "      <td>1459.000000</td>\n",
       "      <td>1459.000000</td>\n",
       "      <td>1459.000000</td>\n",
       "      <td>1459.000000</td>\n",
       "      <td>1459.000000</td>\n",
       "      <td>1459.0</td>\n",
       "      <td>1459.000000</td>\n",
       "      <td>1459.000000</td>\n",
       "      <td>1459.000000</td>\n",
       "      <td>1459.000000</td>\n",
       "      <td>1459.000000</td>\n",
       "      <td>1459.000000</td>\n",
       "      <td>1459.000000</td>\n",
       "    </tr>\n",
       "    <tr>\n",
       "      <th>mean</th>\n",
       "      <td>1156.534613</td>\n",
       "      <td>0.467215</td>\n",
       "      <td>325.967786</td>\n",
       "      <td>0.126564</td>\n",
       "      <td>1.794380</td>\n",
       "      <td>36.412611</td>\n",
       "      <td>0.047978</td>\n",
       "      <td>0.025360</td>\n",
       "      <td>0.926662</td>\n",
       "      <td>2.854010</td>\n",
       "      <td>0.825908</td>\n",
       "      <td>0.021247</td>\n",
       "      <td>0.039068</td>\n",
       "      <td>0.036326</td>\n",
       "      <td>0.077450</td>\n",
       "      <td>0.040439</td>\n",
       "      <td>0.039068</td>\n",
       "      <td>0.002056</td>\n",
       "      <td>0.887594</td>\n",
       "      <td>0.030843</td>\n",
       "      <td>0.135024</td>\n",
       "      <td>0.097327</td>\n",
       "      <td>0.085675</td>\n",
       "      <td>0.651816</td>\n",
       "      <td>0.030158</td>\n",
       "      <td>439.203704</td>\n",
       "      <td>52.619342</td>\n",
       "      <td>0.143249</td>\n",
       "      <td>0.082934</td>\n",
       "      <td>0.295408</td>\n",
       "      <td>0.054832</td>\n",
       "      <td>0.106237</td>\n",
       "      <td>0.288554</td>\n",
       "      <td>0.028787</td>\n",
       "      <td>0.022618</td>\n",
       "      <td>0.023989</td>\n",
       "      <td>0.013708</td>\n",
       "      <td>0.028101</td>\n",
       "      <td>0.034955</td>\n",
       "      <td>0.847841</td>\n",
       "      <td>0.028787</td>\n",
       "      <td>0.434454</td>\n",
       "      <td>0.065202</td>\n",
       "      <td>0.093900</td>\n",
       "      <td>0.036326</td>\n",
       "      <td>0.405072</td>\n",
       "      <td>0.434544</td>\n",
       "      <td>0.030158</td>\n",
       "      <td>554.294925</td>\n",
       "      <td>0.069225</td>\n",
       "      <td>...</td>\n",
       "      <td>1.744345</td>\n",
       "      <td>0.001371</td>\n",
       "      <td>0.0</td>\n",
       "      <td>0.000685</td>\n",
       "      <td>0.997944</td>\n",
       "      <td>0.0</td>\n",
       "      <td>0.988348</td>\n",
       "      <td>0.0</td>\n",
       "      <td>0.0</td>\n",
       "      <td>0.0</td>\n",
       "      <td>0.008225</td>\n",
       "      <td>0.002742</td>\n",
       "      <td>0.000685</td>\n",
       "      <td>0.004798</td>\n",
       "      <td>0.801234</td>\n",
       "      <td>0.007539</td>\n",
       "      <td>0.181631</td>\n",
       "      <td>0.002742</td>\n",
       "      <td>0.002056</td>\n",
       "      <td>0.061001</td>\n",
       "      <td>0.005483</td>\n",
       "      <td>0.008225</td>\n",
       "      <td>0.017820</td>\n",
       "      <td>0.825223</td>\n",
       "      <td>0.082248</td>\n",
       "      <td>0.030158</td>\n",
       "      <td>0.005483</td>\n",
       "      <td>0.002056</td>\n",
       "      <td>0.011652</td>\n",
       "      <td>0.002742</td>\n",
       "      <td>0.002056</td>\n",
       "      <td>0.080192</td>\n",
       "      <td>0.002742</td>\n",
       "      <td>0.862234</td>\n",
       "      <td>17.064428</td>\n",
       "      <td>0.004112</td>\n",
       "      <td>0.995888</td>\n",
       "      <td>6.385195</td>\n",
       "      <td>1046.117970</td>\n",
       "      <td>0.406221</td>\n",
       "      <td>2529.022634</td>\n",
       "      <td>0.998629</td>\n",
       "      <td>0.0</td>\n",
       "      <td>93.174777</td>\n",
       "      <td>1971.357779</td>\n",
       "      <td>1983.662783</td>\n",
       "      <td>30.191166</td>\n",
       "      <td>0.053461</td>\n",
       "      <td>24.108979</td>\n",
       "      <td>2007.769705</td>\n",
       "    </tr>\n",
       "    <tr>\n",
       "      <th>std</th>\n",
       "      <td>398.165820</td>\n",
       "      <td>0.120260</td>\n",
       "      <td>420.610226</td>\n",
       "      <td>0.153944</td>\n",
       "      <td>20.207842</td>\n",
       "      <td>30.431416</td>\n",
       "      <td>0.213793</td>\n",
       "      <td>0.157269</td>\n",
       "      <td>0.260780</td>\n",
       "      <td>0.829788</td>\n",
       "      <td>0.379318</td>\n",
       "      <td>0.144258</td>\n",
       "      <td>0.193823</td>\n",
       "      <td>0.187165</td>\n",
       "      <td>0.267396</td>\n",
       "      <td>0.197053</td>\n",
       "      <td>0.193823</td>\n",
       "      <td>0.045314</td>\n",
       "      <td>0.315973</td>\n",
       "      <td>0.172952</td>\n",
       "      <td>0.341866</td>\n",
       "      <td>0.296504</td>\n",
       "      <td>0.279980</td>\n",
       "      <td>0.476558</td>\n",
       "      <td>0.171080</td>\n",
       "      <td>455.111888</td>\n",
       "      <td>176.693301</td>\n",
       "      <td>0.350447</td>\n",
       "      <td>0.275876</td>\n",
       "      <td>0.456382</td>\n",
       "      <td>0.227730</td>\n",
       "      <td>0.308247</td>\n",
       "      <td>0.453245</td>\n",
       "      <td>0.167264</td>\n",
       "      <td>0.148734</td>\n",
       "      <td>0.153067</td>\n",
       "      <td>0.116316</td>\n",
       "      <td>0.165319</td>\n",
       "      <td>0.183730</td>\n",
       "      <td>0.359298</td>\n",
       "      <td>0.167264</td>\n",
       "      <td>0.530283</td>\n",
       "      <td>0.252295</td>\n",
       "      <td>0.291789</td>\n",
       "      <td>0.187165</td>\n",
       "      <td>0.491074</td>\n",
       "      <td>0.495867</td>\n",
       "      <td>0.171080</td>\n",
       "      <td>437.110508</td>\n",
       "      <td>0.253924</td>\n",
       "      <td>...</td>\n",
       "      <td>30.491646</td>\n",
       "      <td>0.037012</td>\n",
       "      <td>0.0</td>\n",
       "      <td>0.026180</td>\n",
       "      <td>0.045314</td>\n",
       "      <td>0.0</td>\n",
       "      <td>0.107350</td>\n",
       "      <td>0.0</td>\n",
       "      <td>0.0</td>\n",
       "      <td>0.0</td>\n",
       "      <td>0.090348</td>\n",
       "      <td>0.052306</td>\n",
       "      <td>0.026180</td>\n",
       "      <td>0.069124</td>\n",
       "      <td>0.399209</td>\n",
       "      <td>0.086531</td>\n",
       "      <td>0.385673</td>\n",
       "      <td>0.052306</td>\n",
       "      <td>0.045314</td>\n",
       "      <td>0.239414</td>\n",
       "      <td>0.073871</td>\n",
       "      <td>0.090348</td>\n",
       "      <td>0.132344</td>\n",
       "      <td>0.379907</td>\n",
       "      <td>0.274837</td>\n",
       "      <td>0.171080</td>\n",
       "      <td>0.073871</td>\n",
       "      <td>0.045314</td>\n",
       "      <td>0.107350</td>\n",
       "      <td>0.052306</td>\n",
       "      <td>0.045314</td>\n",
       "      <td>0.271683</td>\n",
       "      <td>0.052306</td>\n",
       "      <td>0.344772</td>\n",
       "      <td>56.609763</td>\n",
       "      <td>0.064018</td>\n",
       "      <td>0.064018</td>\n",
       "      <td>1.508895</td>\n",
       "      <td>442.746712</td>\n",
       "      <td>0.111002</td>\n",
       "      <td>786.801028</td>\n",
       "      <td>0.037012</td>\n",
       "      <td>0.0</td>\n",
       "      <td>127.744882</td>\n",
       "      <td>30.390071</td>\n",
       "      <td>21.130467</td>\n",
       "      <td>25.052613</td>\n",
       "      <td>0.225029</td>\n",
       "      <td>21.129454</td>\n",
       "      <td>1.301740</td>\n",
       "    </tr>\n",
       "    <tr>\n",
       "      <th>min</th>\n",
       "      <td>407.000000</td>\n",
       "      <td>0.280905</td>\n",
       "      <td>0.000000</td>\n",
       "      <td>0.000000</td>\n",
       "      <td>0.000000</td>\n",
       "      <td>0.000000</td>\n",
       "      <td>0.000000</td>\n",
       "      <td>0.000000</td>\n",
       "      <td>0.000000</td>\n",
       "      <td>0.000000</td>\n",
       "      <td>0.000000</td>\n",
       "      <td>0.000000</td>\n",
       "      <td>0.000000</td>\n",
       "      <td>0.000000</td>\n",
       "      <td>0.000000</td>\n",
       "      <td>0.000000</td>\n",
       "      <td>0.000000</td>\n",
       "      <td>0.000000</td>\n",
       "      <td>0.000000</td>\n",
       "      <td>0.000000</td>\n",
       "      <td>0.000000</td>\n",
       "      <td>0.000000</td>\n",
       "      <td>0.000000</td>\n",
       "      <td>0.000000</td>\n",
       "      <td>0.000000</td>\n",
       "      <td>0.000000</td>\n",
       "      <td>0.000000</td>\n",
       "      <td>0.000000</td>\n",
       "      <td>0.000000</td>\n",
       "      <td>0.000000</td>\n",
       "      <td>0.000000</td>\n",
       "      <td>0.000000</td>\n",
       "      <td>0.000000</td>\n",
       "      <td>0.000000</td>\n",
       "      <td>0.000000</td>\n",
       "      <td>0.000000</td>\n",
       "      <td>0.000000</td>\n",
       "      <td>0.000000</td>\n",
       "      <td>0.000000</td>\n",
       "      <td>0.000000</td>\n",
       "      <td>0.000000</td>\n",
       "      <td>0.000000</td>\n",
       "      <td>0.000000</td>\n",
       "      <td>0.000000</td>\n",
       "      <td>0.000000</td>\n",
       "      <td>0.000000</td>\n",
       "      <td>0.000000</td>\n",
       "      <td>0.000000</td>\n",
       "      <td>0.000000</td>\n",
       "      <td>0.000000</td>\n",
       "      <td>...</td>\n",
       "      <td>0.000000</td>\n",
       "      <td>0.000000</td>\n",
       "      <td>0.0</td>\n",
       "      <td>0.000000</td>\n",
       "      <td>0.000000</td>\n",
       "      <td>0.0</td>\n",
       "      <td>0.000000</td>\n",
       "      <td>0.0</td>\n",
       "      <td>0.0</td>\n",
       "      <td>0.0</td>\n",
       "      <td>0.000000</td>\n",
       "      <td>0.000000</td>\n",
       "      <td>0.000000</td>\n",
       "      <td>0.000000</td>\n",
       "      <td>0.000000</td>\n",
       "      <td>0.000000</td>\n",
       "      <td>0.000000</td>\n",
       "      <td>0.000000</td>\n",
       "      <td>0.000000</td>\n",
       "      <td>0.000000</td>\n",
       "      <td>0.000000</td>\n",
       "      <td>0.000000</td>\n",
       "      <td>0.000000</td>\n",
       "      <td>0.000000</td>\n",
       "      <td>0.000000</td>\n",
       "      <td>0.000000</td>\n",
       "      <td>0.000000</td>\n",
       "      <td>0.000000</td>\n",
       "      <td>0.000000</td>\n",
       "      <td>0.000000</td>\n",
       "      <td>0.000000</td>\n",
       "      <td>0.000000</td>\n",
       "      <td>0.000000</td>\n",
       "      <td>0.000000</td>\n",
       "      <td>0.000000</td>\n",
       "      <td>0.000000</td>\n",
       "      <td>0.000000</td>\n",
       "      <td>3.000000</td>\n",
       "      <td>0.000000</td>\n",
       "      <td>0.000000</td>\n",
       "      <td>612.000000</td>\n",
       "      <td>0.000000</td>\n",
       "      <td>0.0</td>\n",
       "      <td>0.000000</td>\n",
       "      <td>1879.000000</td>\n",
       "      <td>1950.000000</td>\n",
       "      <td>0.000000</td>\n",
       "      <td>0.000000</td>\n",
       "      <td>0.000000</td>\n",
       "      <td>2006.000000</td>\n",
       "    </tr>\n",
       "    <tr>\n",
       "      <th>25%</th>\n",
       "      <td>873.500000</td>\n",
       "      <td>0.368902</td>\n",
       "      <td>0.000000</td>\n",
       "      <td>0.000000</td>\n",
       "      <td>0.000000</td>\n",
       "      <td>7.000000</td>\n",
       "      <td>0.000000</td>\n",
       "      <td>0.000000</td>\n",
       "      <td>1.000000</td>\n",
       "      <td>2.000000</td>\n",
       "      <td>1.000000</td>\n",
       "      <td>0.000000</td>\n",
       "      <td>0.000000</td>\n",
       "      <td>0.000000</td>\n",
       "      <td>0.000000</td>\n",
       "      <td>0.000000</td>\n",
       "      <td>0.000000</td>\n",
       "      <td>0.000000</td>\n",
       "      <td>1.000000</td>\n",
       "      <td>0.000000</td>\n",
       "      <td>0.000000</td>\n",
       "      <td>0.000000</td>\n",
       "      <td>0.000000</td>\n",
       "      <td>0.000000</td>\n",
       "      <td>0.000000</td>\n",
       "      <td>0.000000</td>\n",
       "      <td>0.000000</td>\n",
       "      <td>0.000000</td>\n",
       "      <td>0.000000</td>\n",
       "      <td>0.000000</td>\n",
       "      <td>0.000000</td>\n",
       "      <td>0.000000</td>\n",
       "      <td>0.000000</td>\n",
       "      <td>0.000000</td>\n",
       "      <td>0.000000</td>\n",
       "      <td>0.000000</td>\n",
       "      <td>0.000000</td>\n",
       "      <td>0.000000</td>\n",
       "      <td>0.000000</td>\n",
       "      <td>1.000000</td>\n",
       "      <td>0.000000</td>\n",
       "      <td>0.000000</td>\n",
       "      <td>0.000000</td>\n",
       "      <td>0.000000</td>\n",
       "      <td>0.000000</td>\n",
       "      <td>0.000000</td>\n",
       "      <td>0.000000</td>\n",
       "      <td>0.000000</td>\n",
       "      <td>219.500000</td>\n",
       "      <td>0.000000</td>\n",
       "      <td>...</td>\n",
       "      <td>0.000000</td>\n",
       "      <td>0.000000</td>\n",
       "      <td>0.0</td>\n",
       "      <td>0.000000</td>\n",
       "      <td>1.000000</td>\n",
       "      <td>0.0</td>\n",
       "      <td>1.000000</td>\n",
       "      <td>0.0</td>\n",
       "      <td>0.0</td>\n",
       "      <td>0.0</td>\n",
       "      <td>0.000000</td>\n",
       "      <td>0.000000</td>\n",
       "      <td>0.000000</td>\n",
       "      <td>0.000000</td>\n",
       "      <td>1.000000</td>\n",
       "      <td>0.000000</td>\n",
       "      <td>0.000000</td>\n",
       "      <td>0.000000</td>\n",
       "      <td>0.000000</td>\n",
       "      <td>0.000000</td>\n",
       "      <td>0.000000</td>\n",
       "      <td>0.000000</td>\n",
       "      <td>0.000000</td>\n",
       "      <td>1.000000</td>\n",
       "      <td>0.000000</td>\n",
       "      <td>0.000000</td>\n",
       "      <td>0.000000</td>\n",
       "      <td>0.000000</td>\n",
       "      <td>0.000000</td>\n",
       "      <td>0.000000</td>\n",
       "      <td>0.000000</td>\n",
       "      <td>0.000000</td>\n",
       "      <td>0.000000</td>\n",
       "      <td>1.000000</td>\n",
       "      <td>0.000000</td>\n",
       "      <td>0.000000</td>\n",
       "      <td>1.000000</td>\n",
       "      <td>5.000000</td>\n",
       "      <td>784.000000</td>\n",
       "      <td>0.333333</td>\n",
       "      <td>1987.000000</td>\n",
       "      <td>1.000000</td>\n",
       "      <td>0.0</td>\n",
       "      <td>0.000000</td>\n",
       "      <td>1953.000000</td>\n",
       "      <td>1963.000000</td>\n",
       "      <td>7.000000</td>\n",
       "      <td>0.000000</td>\n",
       "      <td>4.000000</td>\n",
       "      <td>2007.000000</td>\n",
       "    </tr>\n",
       "    <tr>\n",
       "      <th>50%</th>\n",
       "      <td>1079.000000</td>\n",
       "      <td>0.500000</td>\n",
       "      <td>0.000000</td>\n",
       "      <td>0.000000</td>\n",
       "      <td>0.000000</td>\n",
       "      <td>34.000000</td>\n",
       "      <td>0.000000</td>\n",
       "      <td>0.000000</td>\n",
       "      <td>1.000000</td>\n",
       "      <td>3.000000</td>\n",
       "      <td>1.000000</td>\n",
       "      <td>0.000000</td>\n",
       "      <td>0.000000</td>\n",
       "      <td>0.000000</td>\n",
       "      <td>0.000000</td>\n",
       "      <td>0.000000</td>\n",
       "      <td>0.000000</td>\n",
       "      <td>0.000000</td>\n",
       "      <td>1.000000</td>\n",
       "      <td>0.000000</td>\n",
       "      <td>0.000000</td>\n",
       "      <td>0.000000</td>\n",
       "      <td>0.000000</td>\n",
       "      <td>1.000000</td>\n",
       "      <td>0.000000</td>\n",
       "      <td>351.000000</td>\n",
       "      <td>0.000000</td>\n",
       "      <td>0.000000</td>\n",
       "      <td>0.000000</td>\n",
       "      <td>0.000000</td>\n",
       "      <td>0.000000</td>\n",
       "      <td>0.000000</td>\n",
       "      <td>0.000000</td>\n",
       "      <td>0.000000</td>\n",
       "      <td>0.000000</td>\n",
       "      <td>0.000000</td>\n",
       "      <td>0.000000</td>\n",
       "      <td>0.000000</td>\n",
       "      <td>0.000000</td>\n",
       "      <td>1.000000</td>\n",
       "      <td>0.000000</td>\n",
       "      <td>0.000000</td>\n",
       "      <td>0.000000</td>\n",
       "      <td>0.000000</td>\n",
       "      <td>0.000000</td>\n",
       "      <td>0.000000</td>\n",
       "      <td>0.000000</td>\n",
       "      <td>0.000000</td>\n",
       "      <td>460.000000</td>\n",
       "      <td>0.000000</td>\n",
       "      <td>...</td>\n",
       "      <td>0.000000</td>\n",
       "      <td>0.000000</td>\n",
       "      <td>0.0</td>\n",
       "      <td>0.000000</td>\n",
       "      <td>1.000000</td>\n",
       "      <td>0.0</td>\n",
       "      <td>1.000000</td>\n",
       "      <td>0.0</td>\n",
       "      <td>0.0</td>\n",
       "      <td>0.0</td>\n",
       "      <td>0.000000</td>\n",
       "      <td>0.000000</td>\n",
       "      <td>0.000000</td>\n",
       "      <td>0.000000</td>\n",
       "      <td>1.000000</td>\n",
       "      <td>0.000000</td>\n",
       "      <td>0.000000</td>\n",
       "      <td>0.000000</td>\n",
       "      <td>0.000000</td>\n",
       "      <td>0.000000</td>\n",
       "      <td>0.000000</td>\n",
       "      <td>0.000000</td>\n",
       "      <td>0.000000</td>\n",
       "      <td>1.000000</td>\n",
       "      <td>0.000000</td>\n",
       "      <td>0.000000</td>\n",
       "      <td>0.000000</td>\n",
       "      <td>0.000000</td>\n",
       "      <td>0.000000</td>\n",
       "      <td>0.000000</td>\n",
       "      <td>0.000000</td>\n",
       "      <td>0.000000</td>\n",
       "      <td>0.000000</td>\n",
       "      <td>1.000000</td>\n",
       "      <td>0.000000</td>\n",
       "      <td>0.000000</td>\n",
       "      <td>1.000000</td>\n",
       "      <td>6.000000</td>\n",
       "      <td>988.000000</td>\n",
       "      <td>0.440510</td>\n",
       "      <td>2430.000000</td>\n",
       "      <td>1.000000</td>\n",
       "      <td>0.0</td>\n",
       "      <td>0.000000</td>\n",
       "      <td>1973.000000</td>\n",
       "      <td>1992.000000</td>\n",
       "      <td>30.191166</td>\n",
       "      <td>0.000000</td>\n",
       "      <td>16.000000</td>\n",
       "      <td>2008.000000</td>\n",
       "    </tr>\n",
       "    <tr>\n",
       "      <th>75%</th>\n",
       "      <td>1382.500000</td>\n",
       "      <td>0.501477</td>\n",
       "      <td>676.000000</td>\n",
       "      <td>0.300938</td>\n",
       "      <td>0.000000</td>\n",
       "      <td>55.000000</td>\n",
       "      <td>0.000000</td>\n",
       "      <td>0.000000</td>\n",
       "      <td>1.000000</td>\n",
       "      <td>3.000000</td>\n",
       "      <td>1.000000</td>\n",
       "      <td>0.000000</td>\n",
       "      <td>0.000000</td>\n",
       "      <td>0.000000</td>\n",
       "      <td>0.000000</td>\n",
       "      <td>0.000000</td>\n",
       "      <td>0.000000</td>\n",
       "      <td>0.000000</td>\n",
       "      <td>1.000000</td>\n",
       "      <td>0.000000</td>\n",
       "      <td>0.000000</td>\n",
       "      <td>0.000000</td>\n",
       "      <td>0.000000</td>\n",
       "      <td>1.000000</td>\n",
       "      <td>0.000000</td>\n",
       "      <td>752.000000</td>\n",
       "      <td>0.000000</td>\n",
       "      <td>0.000000</td>\n",
       "      <td>0.000000</td>\n",
       "      <td>1.000000</td>\n",
       "      <td>0.000000</td>\n",
       "      <td>0.000000</td>\n",
       "      <td>1.000000</td>\n",
       "      <td>0.000000</td>\n",
       "      <td>0.000000</td>\n",
       "      <td>0.000000</td>\n",
       "      <td>0.000000</td>\n",
       "      <td>0.000000</td>\n",
       "      <td>0.000000</td>\n",
       "      <td>1.000000</td>\n",
       "      <td>0.000000</td>\n",
       "      <td>1.000000</td>\n",
       "      <td>0.000000</td>\n",
       "      <td>0.000000</td>\n",
       "      <td>0.000000</td>\n",
       "      <td>1.000000</td>\n",
       "      <td>1.000000</td>\n",
       "      <td>0.000000</td>\n",
       "      <td>797.500000</td>\n",
       "      <td>0.000000</td>\n",
       "      <td>...</td>\n",
       "      <td>0.000000</td>\n",
       "      <td>0.000000</td>\n",
       "      <td>0.0</td>\n",
       "      <td>0.000000</td>\n",
       "      <td>1.000000</td>\n",
       "      <td>0.0</td>\n",
       "      <td>1.000000</td>\n",
       "      <td>0.0</td>\n",
       "      <td>0.0</td>\n",
       "      <td>0.0</td>\n",
       "      <td>0.000000</td>\n",
       "      <td>0.000000</td>\n",
       "      <td>0.000000</td>\n",
       "      <td>0.000000</td>\n",
       "      <td>1.000000</td>\n",
       "      <td>0.000000</td>\n",
       "      <td>0.000000</td>\n",
       "      <td>0.000000</td>\n",
       "      <td>0.000000</td>\n",
       "      <td>0.000000</td>\n",
       "      <td>0.000000</td>\n",
       "      <td>0.000000</td>\n",
       "      <td>0.000000</td>\n",
       "      <td>1.000000</td>\n",
       "      <td>0.000000</td>\n",
       "      <td>0.000000</td>\n",
       "      <td>0.000000</td>\n",
       "      <td>0.000000</td>\n",
       "      <td>0.000000</td>\n",
       "      <td>0.000000</td>\n",
       "      <td>0.000000</td>\n",
       "      <td>0.000000</td>\n",
       "      <td>0.000000</td>\n",
       "      <td>1.000000</td>\n",
       "      <td>0.000000</td>\n",
       "      <td>0.000000</td>\n",
       "      <td>1.000000</td>\n",
       "      <td>7.000000</td>\n",
       "      <td>1304.000000</td>\n",
       "      <td>0.500000</td>\n",
       "      <td>2976.000000</td>\n",
       "      <td>1.000000</td>\n",
       "      <td>0.0</td>\n",
       "      <td>168.000000</td>\n",
       "      <td>2001.000000</td>\n",
       "      <td>2004.000000</td>\n",
       "      <td>48.000000</td>\n",
       "      <td>0.000000</td>\n",
       "      <td>44.000000</td>\n",
       "      <td>2009.000000</td>\n",
       "    </tr>\n",
       "    <tr>\n",
       "      <th>max</th>\n",
       "      <td>5095.000000</td>\n",
       "      <td>1.000000</td>\n",
       "      <td>1862.000000</td>\n",
       "      <td>0.674717</td>\n",
       "      <td>360.000000</td>\n",
       "      <td>129.000000</td>\n",
       "      <td>1.000000</td>\n",
       "      <td>1.000000</td>\n",
       "      <td>1.000000</td>\n",
       "      <td>6.000000</td>\n",
       "      <td>1.000000</td>\n",
       "      <td>1.000000</td>\n",
       "      <td>1.000000</td>\n",
       "      <td>1.000000</td>\n",
       "      <td>1.000000</td>\n",
       "      <td>1.000000</td>\n",
       "      <td>1.000000</td>\n",
       "      <td>1.000000</td>\n",
       "      <td>1.000000</td>\n",
       "      <td>1.000000</td>\n",
       "      <td>1.000000</td>\n",
       "      <td>1.000000</td>\n",
       "      <td>1.000000</td>\n",
       "      <td>1.000000</td>\n",
       "      <td>1.000000</td>\n",
       "      <td>4010.000000</td>\n",
       "      <td>1526.000000</td>\n",
       "      <td>1.000000</td>\n",
       "      <td>1.000000</td>\n",
       "      <td>1.000000</td>\n",
       "      <td>1.000000</td>\n",
       "      <td>1.000000</td>\n",
       "      <td>1.000000</td>\n",
       "      <td>1.000000</td>\n",
       "      <td>1.000000</td>\n",
       "      <td>1.000000</td>\n",
       "      <td>1.000000</td>\n",
       "      <td>1.000000</td>\n",
       "      <td>1.000000</td>\n",
       "      <td>1.000000</td>\n",
       "      <td>1.000000</td>\n",
       "      <td>3.000000</td>\n",
       "      <td>2.000000</td>\n",
       "      <td>1.000000</td>\n",
       "      <td>1.000000</td>\n",
       "      <td>1.000000</td>\n",
       "      <td>1.000000</td>\n",
       "      <td>1.000000</td>\n",
       "      <td>2140.000000</td>\n",
       "      <td>1.000000</td>\n",
       "      <td>...</td>\n",
       "      <td>800.000000</td>\n",
       "      <td>1.000000</td>\n",
       "      <td>0.0</td>\n",
       "      <td>1.000000</td>\n",
       "      <td>1.000000</td>\n",
       "      <td>0.0</td>\n",
       "      <td>1.000000</td>\n",
       "      <td>0.0</td>\n",
       "      <td>0.0</td>\n",
       "      <td>0.0</td>\n",
       "      <td>1.000000</td>\n",
       "      <td>1.000000</td>\n",
       "      <td>1.000000</td>\n",
       "      <td>1.000000</td>\n",
       "      <td>1.000000</td>\n",
       "      <td>1.000000</td>\n",
       "      <td>1.000000</td>\n",
       "      <td>1.000000</td>\n",
       "      <td>1.000000</td>\n",
       "      <td>1.000000</td>\n",
       "      <td>1.000000</td>\n",
       "      <td>1.000000</td>\n",
       "      <td>1.000000</td>\n",
       "      <td>1.000000</td>\n",
       "      <td>1.000000</td>\n",
       "      <td>1.000000</td>\n",
       "      <td>1.000000</td>\n",
       "      <td>1.000000</td>\n",
       "      <td>1.000000</td>\n",
       "      <td>1.000000</td>\n",
       "      <td>1.000000</td>\n",
       "      <td>1.000000</td>\n",
       "      <td>1.000000</td>\n",
       "      <td>1.000000</td>\n",
       "      <td>576.000000</td>\n",
       "      <td>1.000000</td>\n",
       "      <td>1.000000</td>\n",
       "      <td>15.000000</td>\n",
       "      <td>5095.000000</td>\n",
       "      <td>0.571178</td>\n",
       "      <td>10190.000000</td>\n",
       "      <td>1.000000</td>\n",
       "      <td>0.0</td>\n",
       "      <td>1424.000000</td>\n",
       "      <td>2010.000000</td>\n",
       "      <td>2010.000000</td>\n",
       "      <td>114.000000</td>\n",
       "      <td>1.000000</td>\n",
       "      <td>60.000000</td>\n",
       "      <td>2010.000000</td>\n",
       "    </tr>\n",
       "  </tbody>\n",
       "</table>\n",
       "<p>8 rows × 329 columns</p>\n",
       "</div>"
      ],
      "text/plain": [
       "          1stFlrSF  1stFlrSFPct     2ndFlrSF  2ndFlrSFPct    3SsnPorch  \\\n",
       "count  1459.000000  1459.000000  1459.000000  1459.000000  1459.000000   \n",
       "mean   1156.534613     0.467215   325.967786     0.126564     1.794380   \n",
       "std     398.165820     0.120260   420.610226     0.153944    20.207842   \n",
       "min     407.000000     0.280905     0.000000     0.000000     0.000000   \n",
       "25%     873.500000     0.368902     0.000000     0.000000     0.000000   \n",
       "50%    1079.000000     0.500000     0.000000     0.000000     0.000000   \n",
       "75%    1382.500000     0.501477   676.000000     0.300938     0.000000   \n",
       "max    5095.000000     1.000000  1862.000000     0.674717   360.000000   \n",
       "\n",
       "       AgeHouseAtSale   Alley_Grvl   Alley_Pave    Alley_nan  BedroomAbvGr  \\\n",
       "count     1459.000000  1459.000000  1459.000000  1459.000000   1459.000000   \n",
       "mean        36.412611     0.047978     0.025360     0.926662      2.854010   \n",
       "std         30.431416     0.213793     0.157269     0.260780      0.829788   \n",
       "min          0.000000     0.000000     0.000000     0.000000      0.000000   \n",
       "25%          7.000000     0.000000     0.000000     1.000000      2.000000   \n",
       "50%         34.000000     0.000000     0.000000     1.000000      3.000000   \n",
       "75%         55.000000     0.000000     0.000000     1.000000      3.000000   \n",
       "max        129.000000     1.000000     1.000000     1.000000      6.000000   \n",
       "\n",
       "       BldgType_1Fam  BldgType_2fmCon  BldgType_Duplex  BldgType_Twnhs  \\\n",
       "count    1459.000000      1459.000000      1459.000000     1459.000000   \n",
       "mean        0.825908         0.021247         0.039068        0.036326   \n",
       "std         0.379318         0.144258         0.193823        0.187165   \n",
       "min         0.000000         0.000000         0.000000        0.000000   \n",
       "25%         1.000000         0.000000         0.000000        0.000000   \n",
       "50%         1.000000         0.000000         0.000000        0.000000   \n",
       "75%         1.000000         0.000000         0.000000        0.000000   \n",
       "max         1.000000         1.000000         1.000000        1.000000   \n",
       "\n",
       "       BldgType_TwnhsE  BsmtCond_Fa  BsmtCond_Gd  BsmtCond_Po  BsmtCond_TA  \\\n",
       "count      1459.000000  1459.000000  1459.000000  1459.000000  1459.000000   \n",
       "mean          0.077450     0.040439     0.039068     0.002056     0.887594   \n",
       "std           0.267396     0.197053     0.193823     0.045314     0.315973   \n",
       "min           0.000000     0.000000     0.000000     0.000000     0.000000   \n",
       "25%           0.000000     0.000000     0.000000     0.000000     1.000000   \n",
       "50%           0.000000     0.000000     0.000000     0.000000     1.000000   \n",
       "75%           0.000000     0.000000     0.000000     0.000000     1.000000   \n",
       "max           1.000000     1.000000     1.000000     1.000000     1.000000   \n",
       "\n",
       "       BsmtCond_nan  BsmtExposure_Av  BsmtExposure_Gd  BsmtExposure_Mn  \\\n",
       "count   1459.000000      1459.000000      1459.000000      1459.000000   \n",
       "mean       0.030843         0.135024         0.097327         0.085675   \n",
       "std        0.172952         0.341866         0.296504         0.279980   \n",
       "min        0.000000         0.000000         0.000000         0.000000   \n",
       "25%        0.000000         0.000000         0.000000         0.000000   \n",
       "50%        0.000000         0.000000         0.000000         0.000000   \n",
       "75%        0.000000         0.000000         0.000000         0.000000   \n",
       "max        1.000000         1.000000         1.000000         1.000000   \n",
       "\n",
       "       BsmtExposure_No  BsmtExposure_nan   BsmtFinSF1   BsmtFinSF2  \\\n",
       "count      1459.000000       1459.000000  1459.000000  1459.000000   \n",
       "mean          0.651816          0.030158   439.203704    52.619342   \n",
       "std           0.476558          0.171080   455.111888   176.693301   \n",
       "min           0.000000          0.000000     0.000000     0.000000   \n",
       "25%           0.000000          0.000000     0.000000     0.000000   \n",
       "50%           1.000000          0.000000   351.000000     0.000000   \n",
       "75%           1.000000          0.000000   752.000000     0.000000   \n",
       "max           1.000000          1.000000  4010.000000  1526.000000   \n",
       "\n",
       "       BsmtFinType1_ALQ  BsmtFinType1_BLQ  BsmtFinType1_GLQ  BsmtFinType1_LwQ  \\\n",
       "count       1459.000000       1459.000000       1459.000000       1459.000000   \n",
       "mean           0.143249          0.082934          0.295408          0.054832   \n",
       "std            0.350447          0.275876          0.456382          0.227730   \n",
       "min            0.000000          0.000000          0.000000          0.000000   \n",
       "25%            0.000000          0.000000          0.000000          0.000000   \n",
       "50%            0.000000          0.000000          0.000000          0.000000   \n",
       "75%            0.000000          0.000000          1.000000          0.000000   \n",
       "max            1.000000          1.000000          1.000000          1.000000   \n",
       "\n",
       "       BsmtFinType1_Rec  BsmtFinType1_Unf  BsmtFinType1_nan  BsmtFinType2_ALQ  \\\n",
       "count       1459.000000       1459.000000       1459.000000       1459.000000   \n",
       "mean           0.106237          0.288554          0.028787          0.022618   \n",
       "std            0.308247          0.453245          0.167264          0.148734   \n",
       "min            0.000000          0.000000          0.000000          0.000000   \n",
       "25%            0.000000          0.000000          0.000000          0.000000   \n",
       "50%            0.000000          0.000000          0.000000          0.000000   \n",
       "75%            0.000000          1.000000          0.000000          0.000000   \n",
       "max            1.000000          1.000000          1.000000          1.000000   \n",
       "\n",
       "       BsmtFinType2_BLQ  BsmtFinType2_GLQ  BsmtFinType2_LwQ  BsmtFinType2_Rec  \\\n",
       "count       1459.000000       1459.000000       1459.000000       1459.000000   \n",
       "mean           0.023989          0.013708          0.028101          0.034955   \n",
       "std            0.153067          0.116316          0.165319          0.183730   \n",
       "min            0.000000          0.000000          0.000000          0.000000   \n",
       "25%            0.000000          0.000000          0.000000          0.000000   \n",
       "50%            0.000000          0.000000          0.000000          0.000000   \n",
       "75%            0.000000          0.000000          0.000000          0.000000   \n",
       "max            1.000000          1.000000          1.000000          1.000000   \n",
       "\n",
       "       BsmtFinType2_Unf  BsmtFinType2_nan  BsmtFullBath  BsmtHalfBath  \\\n",
       "count       1459.000000       1459.000000   1459.000000   1459.000000   \n",
       "mean           0.847841          0.028787      0.434454      0.065202   \n",
       "std            0.359298          0.167264      0.530283      0.252295   \n",
       "min            0.000000          0.000000      0.000000      0.000000   \n",
       "25%            1.000000          0.000000      0.000000      0.000000   \n",
       "50%            1.000000          0.000000      0.000000      0.000000   \n",
       "75%            1.000000          0.000000      1.000000      0.000000   \n",
       "max            1.000000          1.000000      3.000000      2.000000   \n",
       "\n",
       "       BsmtQual_Ex  BsmtQual_Fa  BsmtQual_Gd  BsmtQual_TA  BsmtQual_nan  \\\n",
       "count  1459.000000  1459.000000  1459.000000  1459.000000   1459.000000   \n",
       "mean      0.093900     0.036326     0.405072     0.434544      0.030158   \n",
       "std       0.291789     0.187165     0.491074     0.495867      0.171080   \n",
       "min       0.000000     0.000000     0.000000     0.000000      0.000000   \n",
       "25%       0.000000     0.000000     0.000000     0.000000      0.000000   \n",
       "50%       0.000000     0.000000     0.000000     0.000000      0.000000   \n",
       "75%       0.000000     0.000000     1.000000     1.000000      0.000000   \n",
       "max       1.000000     1.000000     1.000000     1.000000      1.000000   \n",
       "\n",
       "         BsmtUnfSF  CentralAir_N  ...     PoolArea    PoolQC_Ex  PoolQC_Fa  \\\n",
       "count  1459.000000   1459.000000  ...  1459.000000  1459.000000     1459.0   \n",
       "mean    554.294925      0.069225  ...     1.744345     0.001371        0.0   \n",
       "std     437.110508      0.253924  ...    30.491646     0.037012        0.0   \n",
       "min       0.000000      0.000000  ...     0.000000     0.000000        0.0   \n",
       "25%     219.500000      0.000000  ...     0.000000     0.000000        0.0   \n",
       "50%     460.000000      0.000000  ...     0.000000     0.000000        0.0   \n",
       "75%     797.500000      0.000000  ...     0.000000     0.000000        0.0   \n",
       "max    2140.000000      1.000000  ...   800.000000     1.000000        0.0   \n",
       "\n",
       "         PoolQC_Gd   PoolQC_nan  RoofMatl_ClyTile  RoofMatl_CompShg  \\\n",
       "count  1459.000000  1459.000000            1459.0       1459.000000   \n",
       "mean      0.000685     0.997944               0.0          0.988348   \n",
       "std       0.026180     0.045314               0.0          0.107350   \n",
       "min       0.000000     0.000000               0.0          0.000000   \n",
       "25%       0.000000     1.000000               0.0          1.000000   \n",
       "50%       0.000000     1.000000               0.0          1.000000   \n",
       "75%       0.000000     1.000000               0.0          1.000000   \n",
       "max       1.000000     1.000000               0.0          1.000000   \n",
       "\n",
       "       RoofMatl_Membran  RoofMatl_Metal  RoofMatl_Roll  RoofMatl_Tar&Grv  \\\n",
       "count            1459.0          1459.0         1459.0       1459.000000   \n",
       "mean                0.0             0.0            0.0          0.008225   \n",
       "std                 0.0             0.0            0.0          0.090348   \n",
       "min                 0.0             0.0            0.0          0.000000   \n",
       "25%                 0.0             0.0            0.0          0.000000   \n",
       "50%                 0.0             0.0            0.0          0.000000   \n",
       "75%                 0.0             0.0            0.0          0.000000   \n",
       "max                 0.0             0.0            0.0          1.000000   \n",
       "\n",
       "       RoofMatl_WdShake  RoofMatl_WdShngl  RoofStyle_Flat  RoofStyle_Gable  \\\n",
       "count       1459.000000       1459.000000     1459.000000      1459.000000   \n",
       "mean           0.002742          0.000685        0.004798         0.801234   \n",
       "std            0.052306          0.026180        0.069124         0.399209   \n",
       "min            0.000000          0.000000        0.000000         0.000000   \n",
       "25%            0.000000          0.000000        0.000000         1.000000   \n",
       "50%            0.000000          0.000000        0.000000         1.000000   \n",
       "75%            0.000000          0.000000        0.000000         1.000000   \n",
       "max            1.000000          1.000000        1.000000         1.000000   \n",
       "\n",
       "       RoofStyle_Gambrel  RoofStyle_Hip  RoofStyle_Mansard  RoofStyle_Shed  \\\n",
       "count        1459.000000    1459.000000        1459.000000     1459.000000   \n",
       "mean            0.007539       0.181631           0.002742        0.002056   \n",
       "std             0.086531       0.385673           0.052306        0.045314   \n",
       "min             0.000000       0.000000           0.000000        0.000000   \n",
       "25%             0.000000       0.000000           0.000000        0.000000   \n",
       "50%             0.000000       0.000000           0.000000        0.000000   \n",
       "75%             0.000000       0.000000           0.000000        0.000000   \n",
       "max             1.000000       1.000000           1.000000        1.000000   \n",
       "\n",
       "       SaleCondition_Abnorml  SaleCondition_AdjLand  SaleCondition_Alloca  \\\n",
       "count            1459.000000            1459.000000           1459.000000   \n",
       "mean                0.061001               0.005483              0.008225   \n",
       "std                 0.239414               0.073871              0.090348   \n",
       "min                 0.000000               0.000000              0.000000   \n",
       "25%                 0.000000               0.000000              0.000000   \n",
       "50%                 0.000000               0.000000              0.000000   \n",
       "75%                 0.000000               0.000000              0.000000   \n",
       "max                 1.000000               1.000000              1.000000   \n",
       "\n",
       "       SaleCondition_Family  SaleCondition_Normal  SaleCondition_Partial  \\\n",
       "count           1459.000000           1459.000000            1459.000000   \n",
       "mean               0.017820              0.825223               0.082248   \n",
       "std                0.132344              0.379907               0.274837   \n",
       "min                0.000000              0.000000               0.000000   \n",
       "25%                0.000000              1.000000               0.000000   \n",
       "50%                0.000000              1.000000               0.000000   \n",
       "75%                0.000000              1.000000               0.000000   \n",
       "max                1.000000              1.000000               1.000000   \n",
       "\n",
       "       SaleType_COD  SaleType_CWD  SaleType_Con  SaleType_ConLD  \\\n",
       "count   1459.000000   1459.000000   1459.000000     1459.000000   \n",
       "mean       0.030158      0.005483      0.002056        0.011652   \n",
       "std        0.171080      0.073871      0.045314        0.107350   \n",
       "min        0.000000      0.000000      0.000000        0.000000   \n",
       "25%        0.000000      0.000000      0.000000        0.000000   \n",
       "50%        0.000000      0.000000      0.000000        0.000000   \n",
       "75%        0.000000      0.000000      0.000000        0.000000   \n",
       "max        1.000000      1.000000      1.000000        1.000000   \n",
       "\n",
       "       SaleType_ConLI  SaleType_ConLw  SaleType_New  SaleType_Oth  \\\n",
       "count     1459.000000     1459.000000   1459.000000   1459.000000   \n",
       "mean         0.002742        0.002056      0.080192      0.002742   \n",
       "std          0.052306        0.045314      0.271683      0.052306   \n",
       "min          0.000000        0.000000      0.000000      0.000000   \n",
       "25%          0.000000        0.000000      0.000000      0.000000   \n",
       "50%          0.000000        0.000000      0.000000      0.000000   \n",
       "75%          0.000000        0.000000      0.000000      0.000000   \n",
       "max          1.000000        1.000000      1.000000      1.000000   \n",
       "\n",
       "       SaleType_WD  ScreenPorch  Street_Grvl  Street_Pave  TotRmsAbvGrd  \\\n",
       "count  1459.000000  1459.000000  1459.000000  1459.000000   1459.000000   \n",
       "mean      0.862234    17.064428     0.004112     0.995888      6.385195   \n",
       "std       0.344772    56.609763     0.064018     0.064018      1.508895   \n",
       "min       0.000000     0.000000     0.000000     0.000000      3.000000   \n",
       "25%       1.000000     0.000000     0.000000     1.000000      5.000000   \n",
       "50%       1.000000     0.000000     0.000000     1.000000      6.000000   \n",
       "75%       1.000000     0.000000     0.000000     1.000000      7.000000   \n",
       "max       1.000000   576.000000     1.000000     1.000000     15.000000   \n",
       "\n",
       "       TotalBsmtSF  TotalBsmtSFPct       TotalSF  Utilities_AllPub  \\\n",
       "count  1459.000000     1459.000000   1459.000000       1459.000000   \n",
       "mean   1046.117970        0.406221   2529.022634          0.998629   \n",
       "std     442.746712        0.111002    786.801028          0.037012   \n",
       "min       0.000000        0.000000    612.000000          0.000000   \n",
       "25%     784.000000        0.333333   1987.000000          1.000000   \n",
       "50%     988.000000        0.440510   2430.000000          1.000000   \n",
       "75%    1304.000000        0.500000   2976.000000          1.000000   \n",
       "max    5095.000000        0.571178  10190.000000          1.000000   \n",
       "\n",
       "       Utilities_NoSeWa   WoodDeckSF    YearBuilt  YearRemodAdd  \\\n",
       "count            1459.0  1459.000000  1459.000000   1459.000000   \n",
       "mean                0.0    93.174777  1971.357779   1983.662783   \n",
       "std                 0.0   127.744882    30.390071     21.130467   \n",
       "min                 0.0     0.000000  1879.000000   1950.000000   \n",
       "25%                 0.0     0.000000  1953.000000   1963.000000   \n",
       "50%                 0.0     0.000000  1973.000000   1992.000000   \n",
       "75%                 0.0   168.000000  2001.000000   2004.000000   \n",
       "max                 0.0  1424.000000  2010.000000   2010.000000   \n",
       "\n",
       "       YearsGarageBuiltAtSale  YearsGarageBuiltAtSale_isnull  \\\n",
       "count             1459.000000                    1459.000000   \n",
       "mean                30.191166                       0.053461   \n",
       "std                 25.052613                       0.225029   \n",
       "min                  0.000000                       0.000000   \n",
       "25%                  7.000000                       0.000000   \n",
       "50%                 30.191166                       0.000000   \n",
       "75%                 48.000000                       0.000000   \n",
       "max                114.000000                       1.000000   \n",
       "\n",
       "       YearsLastRemodelAtSale       YrSold  \n",
       "count             1459.000000  1459.000000  \n",
       "mean                24.108979  2007.769705  \n",
       "std                 21.129454     1.301740  \n",
       "min                  0.000000  2006.000000  \n",
       "25%                  4.000000  2007.000000  \n",
       "50%                 16.000000  2008.000000  \n",
       "75%                 44.000000  2009.000000  \n",
       "max                 60.000000  2010.000000  \n",
       "\n",
       "[8 rows x 329 columns]"
      ]
     },
     "execution_count": 40,
     "metadata": {},
     "output_type": "execute_result"
    }
   ],
   "source": [
    "df_predict_dummies.describe()"
   ]
  },
  {
   "cell_type": "markdown",
   "id": "81f082fa-cb07-434d-8799-c3cd8dc1a738",
   "metadata": {},
   "source": [
    "## Predictions"
   ]
  },
  {
   "cell_type": "markdown",
   "id": "a7b361fc-7234-4c2f-9b60-013c59e71468",
   "metadata": {},
   "source": [
    "### Lasso"
   ]
  },
  {
   "cell_type": "code",
   "execution_count": 124,
   "id": "19f0f220-9d4e-46be-8798-b06171d4abaa",
   "metadata": {},
   "outputs": [
    {
     "name": "stderr",
     "output_type": "stream",
     "text": [
      "c:\\ProgramData\\Anaconda3\\lib\\site-packages\\pandas\\core\\internals\\blocks.py:402: RuntimeWarning: divide by zero encountered in log\n",
      "  result = func(self.values, **kwargs)\n",
      "c:\\ProgramData\\Anaconda3\\lib\\site-packages\\pandas\\core\\internals\\blocks.py:402: RuntimeWarning: invalid value encountered in log\n",
      "  result = func(self.values, **kwargs)\n"
     ]
    }
   ],
   "source": [
    "df_predict_raw['SalePrice'] = np.exp(lasso_pipeline.predict(df_predict_dummies[X.columns]))\n",
    "\n",
    "df_predict_raw[['Id','SalePrice']].to_csv('predictions_lasso_p7.csv',index=False)"
   ]
  },
  {
   "cell_type": "markdown",
   "id": "2f71ab16-1234-49d6-8b28-f13b3c0d1d42",
   "metadata": {},
   "source": [
    "### Elastic Net"
   ]
  },
  {
   "cell_type": "code",
   "execution_count": 102,
   "id": "1a5091f5-8b35-463c-8137-106f48e9fc97",
   "metadata": {},
   "outputs": [],
   "source": [
    "df_predict_raw['SalePrice'] =  np.exp(elastic_net_pipeline.predict(df_predict_dummies[X.columns]))\n",
    "\n",
    "df_predict_raw[['Id','SalePrice']].to_csv('predictions_elasticnet_log_standardized_interaction.csv',index=False)"
   ]
  },
  {
   "cell_type": "markdown",
   "id": "373bcf1e-4bdd-4a44-926a-6cb5b3344680",
   "metadata": {},
   "source": [
    "### Decision Tree"
   ]
  },
  {
   "cell_type": "code",
   "execution_count": 236,
   "id": "75af0f5d-1b42-426e-ac19-87bd55bf6831",
   "metadata": {},
   "outputs": [],
   "source": [
    "df_predict_raw['SalePrice'] =  np.exp(decision_tree_pipeline.predict(df_predict_dummies[X.columns]))\n",
    "\n",
    "df_predict_raw[['Id','SalePrice']].to_csv('predictions_decisiontree_logstandard.csv',index=False)"
   ]
  },
  {
   "cell_type": "markdown",
   "id": "769b2f2a-a54f-4e15-b1cf-d9e57ebf4f4d",
   "metadata": {
    "tags": []
   },
   "source": [
    "### XG Boost"
   ]
  },
  {
   "cell_type": "code",
   "execution_count": 189,
   "id": "be9d5337-b1ce-4f7a-901d-b8f14fbc42d9",
   "metadata": {},
   "outputs": [],
   "source": [
    "df_predict_raw['SalePrice'] =  np.exp(xg_boost_pipeline.predict(df_predict_dummies[X.columns]))\n",
    "\n",
    "df_predict_raw[['Id','SalePrice']].to_csv('predictions_xgboost_logstandard_tuned.csv',index=False)"
   ]
  },
  {
   "cell_type": "markdown",
   "id": "0e50ce30-520b-4598-a72a-38a29d711d46",
   "metadata": {},
   "source": [
    "### Random Forest"
   ]
  },
  {
   "cell_type": "code",
   "execution_count": 53,
   "id": "3f4d1d78-d504-4949-b91f-e8f5391e5fe4",
   "metadata": {},
   "outputs": [],
   "source": [
    "df_predict_raw['SalePrice'] =  np.exp(random_forest.predict(df_predict_dummies[X.columns]))\n",
    "\n",
    "df_predict_raw[['Id','SalePrice']].to_csv('predictions_rf_tuned.csv',index=False)"
   ]
  },
  {
   "cell_type": "code",
   "execution_count": 201,
   "id": "db251399-5540-43e2-9595-aaf3964f928c",
   "metadata": {},
   "outputs": [],
   "source": [
    "df_predict_raw['SalePrice'] =  np.exp(random_forest_initial.predict(df_predict_dummies[X.columns]))\n",
    "\n",
    "df_predict_raw[['Id','SalePrice']].to_csv('predictions_rf_logstandard.csv',index=False)"
   ]
  },
  {
   "cell_type": "markdown",
   "id": "c1b359c1-d704-44fc-bd76-868d098570c5",
   "metadata": {},
   "source": [
    "### Light GBM"
   ]
  },
  {
   "cell_type": "code",
   "execution_count": 142,
   "id": "4cf677aa-0b3d-4c48-b2ab-9b08072a39e9",
   "metadata": {},
   "outputs": [],
   "source": [
    "df_predict_raw['SalePrice'] =  np.exp(light_gbm_pipeline.predict(df_predict_dummies[X.columns]))\n",
    "\n",
    "df_predict_raw[['Id','SalePrice']].to_csv('predictions_light_gbm_tuned.csv',index=False)"
   ]
  },
  {
   "cell_type": "markdown",
   "id": "8e40e1e4-0426-4310-b40e-3caf5188ccc7",
   "metadata": {
    "tags": []
   },
   "source": [
    "### Gradient Boosting Regression"
   ]
  },
  {
   "cell_type": "code",
   "execution_count": 92,
   "id": "cefcf1d1-041b-4435-a5dd-1e0062d6528f",
   "metadata": {},
   "outputs": [],
   "source": [
    "df_predict_raw['SalePrice'] =  np.exp(gbr.predict(df_predict_dummies[X.columns]))\n",
    "\n",
    "df_predict_raw[['Id','SalePrice']].to_csv('predictions_gbr_tuned.csv',index=False)"
   ]
  },
  {
   "cell_type": "markdown",
   "id": "40262fac-067d-43ad-8ffa-2ff4c512bb17",
   "metadata": {},
   "source": [
    "### Voting Regression"
   ]
  },
  {
   "cell_type": "code",
   "execution_count": 145,
   "id": "809976e0-81f9-4db8-9530-c48622d16200",
   "metadata": {},
   "outputs": [],
   "source": [
    "df_predict_raw['SalePrice'] =  np.exp(voting_reg.predict(df_predict_dummies[X.columns]))\n",
    "\n",
    "df_predict_raw[['Id','SalePrice']].to_csv('predictions_voting_reg_stand_tuned.csv',index=False)"
   ]
  },
  {
   "cell_type": "markdown",
   "id": "d7030a2b-6181-4de7-86c9-bcc8eac72457",
   "metadata": {},
   "source": [
    "### Stacking Regression"
   ]
  },
  {
   "cell_type": "code",
   "execution_count": 151,
   "id": "ec480380-0a3e-4465-92a3-c30ed4ec1768",
   "metadata": {},
   "outputs": [],
   "source": [
    "df_predict_raw['SalePrice'] =  np.exp(stacking_reg.predict(df_predict_dummies[X.columns]))\n",
    "\n",
    "df_predict_raw[['Id','SalePrice']].to_csv('predictions_stacking_reg_tuned.csv',index=False)"
   ]
  },
  {
   "cell_type": "code",
   "execution_count": null,
   "id": "20e8657c-82ec-41d4-a5ad-6bc75d0918ef",
   "metadata": {},
   "outputs": [],
   "source": []
  }
 ],
 "metadata": {
  "kernelspec": {
   "display_name": "Python 3.9.13 ('base')",
   "language": "python",
   "name": "python3"
  },
  "language_info": {
   "codemirror_mode": {
    "name": "ipython",
    "version": 3
   },
   "file_extension": ".py",
   "mimetype": "text/x-python",
   "name": "python",
   "nbconvert_exporter": "python",
   "pygments_lexer": "ipython3",
   "version": "3.9.13"
  },
  "toc-autonumbering": true,
  "vscode": {
   "interpreter": {
    "hash": "ad2bdc8ecc057115af97d19610ffacc2b4e99fae6737bb82f5d7fb13d2f2c186"
   }
  }
 },
 "nbformat": 4,
 "nbformat_minor": 5
}
